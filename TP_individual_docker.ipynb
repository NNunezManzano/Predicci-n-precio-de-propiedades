{
 "cells": [
  {
   "cell_type": "code",
   "execution_count": 1,
   "metadata": {
    "id": "A7BBykw5oQNl"
   },
   "outputs": [],
   "source": [
    "# https://www.properati.com.ar/data\n",
    "! wget -O ar_properties.csv.gz -q https://storage.googleapis.com/properati-data-public/ar_properties.csv.gz\n",
    "! gzip -d -f ./ar_properties.csv.gz"
   ]
  },
  {
   "cell_type": "code",
   "execution_count": 1,
   "metadata": {
    "id": "jw8ogMDOpvKP"
   },
   "outputs": [],
   "source": [
    "import pandas as pd\n",
    "import numpy as np\n",
    "\n",
    "import matplotlib.pyplot as plt\n",
    "\n",
    "import sklearn as sk\n",
    "from sklearn import model_selection\n",
    "from sklearn import ensemble\n",
    "from sklearn import metrics\n",
    "\n",
    "import datetime"
   ]
  },
  {
   "cell_type": "markdown",
   "metadata": {
    "id": "20D-m6GPyefp",
    "tags": []
   },
   "source": [
    "# Lectura de datos"
   ]
  },
  {
   "cell_type": "code",
   "execution_count": 2,
   "metadata": {
    "id": "CtV0wOGsqJLC"
   },
   "outputs": [],
   "source": [
    "df_properties = pd.read_csv('./ar_properties.csv', index_col=\"id\")\n",
    "df_apred = pd.read_csv('./a_predecir.csv', index_col=\"id\")"
   ]
  },
  {
   "cell_type": "code",
   "execution_count": 3,
   "metadata": {},
   "outputs": [],
   "source": [
    "df = df_properties.copy()\n",
    "df_pred = df_apred.copy()"
   ]
  },
  {
   "cell_type": "code",
   "execution_count": null,
   "metadata": {
    "collapsed": true,
    "id": "thKYxfNuulgB",
    "jupyter": {
     "outputs_hidden": true
    },
    "tags": []
   },
   "outputs": [],
   "source": [
    "df.head()"
   ]
  },
  {
   "cell_type": "code",
   "execution_count": null,
   "metadata": {
    "collapsed": true,
    "jupyter": {
     "outputs_hidden": true
    },
    "tags": []
   },
   "outputs": [],
   "source": [
    "df_pred.info()"
   ]
  },
  {
   "cell_type": "code",
   "execution_count": null,
   "metadata": {
    "collapsed": true,
    "jupyter": {
     "outputs_hidden": true
    },
    "tags": []
   },
   "outputs": [],
   "source": [
    "df.info()"
   ]
  },
  {
   "cell_type": "markdown",
   "metadata": {
    "id": "byV0dQi-yiEd",
    "tags": []
   },
   "source": [
    "# Análisis del conjunto de datos"
   ]
  },
  {
   "cell_type": "code",
   "execution_count": 5,
   "metadata": {
    "collapsed": true,
    "jupyter": {
     "outputs_hidden": true
    },
    "tags": []
   },
   "outputs": [
    {
     "data": {
      "text/html": [
       "<div>\n",
       "<style scoped>\n",
       "    .dataframe tbody tr th:only-of-type {\n",
       "        vertical-align: middle;\n",
       "    }\n",
       "\n",
       "    .dataframe tbody tr th {\n",
       "        vertical-align: top;\n",
       "    }\n",
       "\n",
       "    .dataframe thead th {\n",
       "        text-align: right;\n",
       "    }\n",
       "</style>\n",
       "<table border=\"1\" class=\"dataframe\">\n",
       "  <thead>\n",
       "    <tr style=\"text-align: right;\">\n",
       "      <th></th>\n",
       "      <th>price</th>\n",
       "    </tr>\n",
       "    <tr>\n",
       "      <th>l3</th>\n",
       "      <th></th>\n",
       "    </tr>\n",
       "  </thead>\n",
       "  <tbody>\n",
       "    <tr>\n",
       "      <th>9 de Julio</th>\n",
       "      <td>693000.000000</td>\n",
       "    </tr>\n",
       "    <tr>\n",
       "      <th>Abasto</th>\n",
       "      <td>182737.768485</td>\n",
       "    </tr>\n",
       "    <tr>\n",
       "      <th>Acceso Norte</th>\n",
       "      <td>72750.000000</td>\n",
       "    </tr>\n",
       "    <tr>\n",
       "      <th>Acebal</th>\n",
       "      <td>161818.181818</td>\n",
       "    </tr>\n",
       "    <tr>\n",
       "      <th>Achiras</th>\n",
       "      <td>46166.666667</td>\n",
       "    </tr>\n",
       "    <tr>\n",
       "      <th>...</th>\n",
       "      <td>...</td>\n",
       "    </tr>\n",
       "    <tr>\n",
       "      <th>Zárate</th>\n",
       "      <td>183007.457627</td>\n",
       "    </tr>\n",
       "    <tr>\n",
       "      <th>orquincó</th>\n",
       "      <td>250000.000000</td>\n",
       "    </tr>\n",
       "    <tr>\n",
       "      <th>Álvarez</th>\n",
       "      <td>163650.000000</td>\n",
       "    </tr>\n",
       "    <tr>\n",
       "      <th>Ámbul</th>\n",
       "      <td>117666.666667</td>\n",
       "    </tr>\n",
       "    <tr>\n",
       "      <th>Ángel Gallardo</th>\n",
       "      <td>58500.000000</td>\n",
       "    </tr>\n",
       "  </tbody>\n",
       "</table>\n",
       "<p>1367 rows × 1 columns</p>\n",
       "</div>"
      ],
      "text/plain": [
       "                        price\n",
       "l3                           \n",
       "9 de Julio      693000.000000\n",
       "Abasto          182737.768485\n",
       "Acceso Norte     72750.000000\n",
       "Acebal          161818.181818\n",
       "Achiras          46166.666667\n",
       "...                       ...\n",
       "Zárate          183007.457627\n",
       "orquincó        250000.000000\n",
       "Álvarez         163650.000000\n",
       "Ámbul           117666.666667\n",
       "Ángel Gallardo   58500.000000\n",
       "\n",
       "[1367 rows x 1 columns]"
      ]
     },
     "execution_count": 5,
     "metadata": {},
     "output_type": "execute_result"
    }
   ],
   "source": [
    "#analizamos los valores de las distintas variables\n",
    "df[[\"l3\",\"price\"]].groupby(['l3']).mean()"
   ]
  },
  {
   "cell_type": "code",
   "execution_count": 427,
   "metadata": {
    "tags": []
   },
   "outputs": [
    {
     "data": {
      "text/plain": [
       "34.819"
      ]
     },
     "execution_count": 427,
     "metadata": {},
     "output_type": "execute_result"
    }
   ],
   "source": [
    "df_pred.l4.max()"
   ]
  },
  {
   "cell_type": "code",
   "execution_count": 428,
   "metadata": {
    "colab": {
     "base_uri": "https://localhost:8080/"
    },
    "id": "ckXCv9f-uia0",
    "outputId": "53090f8c-214a-4036-a498-96bfeb30020c"
   },
   "outputs": [
    {
     "data": {
      "text/plain": [
       "-38.0152022"
      ]
     },
     "execution_count": 428,
     "metadata": {},
     "output_type": "execute_result"
    }
   ],
   "source": [
    "df_pred.l4.min()"
   ]
  },
  {
   "cell_type": "markdown",
   "metadata": {
    "tags": []
   },
   "source": [
    "# Tratamiento de nulls y outliers"
   ]
  },
  {
   "cell_type": "markdown",
   "metadata": {
    "jp-MarkdownHeadingCollapsed": true,
    "tags": []
   },
   "source": [
    "## Longitud y Latitud"
   ]
  },
  {
   "cell_type": "code",
   "execution_count": 6,
   "metadata": {},
   "outputs": [],
   "source": [
    "df = df.loc[df[\"l1\"] == \"Argentina\"]"
   ]
  },
  {
   "cell_type": "code",
   "execution_count": 7,
   "metadata": {},
   "outputs": [],
   "source": [
    "df = df.loc[df[\"l2\"] == \"Capital Federal\"]"
   ]
  },
  {
   "cell_type": "markdown",
   "metadata": {
    "tags": []
   },
   "source": [
    "Coordenadas maximas CABA: \\\n",
    "Norte - (-34.531639, -58.464800)\\\n",
    "Este - (-34.62073349940953, -58.338011418419356)\\\n",
    "Oeste - (-34.61568853226109, -58.532674897063565)\\\n",
    "Sur - (-34.7058110012102, -58.4602477739537)\\\n",
    "\\\n",
    "Limites:\\\n",
    "Longitud - (-58.532674897063565, -58.338011418419356 )\\\n",
    "Latitud - (-34.7058110012102, -34.531639)"
   ]
  },
  {
   "cell_type": "code",
   "execution_count": 8,
   "metadata": {},
   "outputs": [],
   "source": [
    "lon_min_max = (-58.532674897063565, -58.338011418419356 )\n",
    "lat_min_max = (-34.7058110012102, -34.531639)"
   ]
  },
  {
   "cell_type": "code",
   "execution_count": 9,
   "metadata": {},
   "outputs": [],
   "source": [
    "df_lon_lat = df.loc[df[\"l2\"] == \"Capital Federal\"]"
   ]
  },
  {
   "cell_type": "code",
   "execution_count": 10,
   "metadata": {},
   "outputs": [],
   "source": [
    "df_lon_lat.drop(df_lon_lat.loc[df_lon_lat[\"lat\"].isnull() & df_lon_lat[\"lon\"].isnull() & df_lon_lat[\"l3\"].isnull()].index, inplace = True)\n",
    "df_lon_lat = df_lon_lat[[\"lat\", \"lon\", \"l3\"]]\n",
    "df_lon_lat[\"lat_outlier\"] = df_lon_lat.lat.apply(lambda x: 0 if (x > lat_min_max[0]) & (x < lat_min_max[1]) else 1  )\n",
    "df_lon_lat[\"lon_outlier\"] = df_lon_lat.lon.apply(lambda x: 0 if (x > lon_min_max[0]) & (x < lon_min_max[1]) else 1 )"
   ]
  },
  {
   "cell_type": "code",
   "execution_count": 11,
   "metadata": {},
   "outputs": [],
   "source": [
    "df_lon_lat.drop(df_lon_lat.loc[(df_lon_lat.lat_outlier == 1) & (df_lon_lat.l3.isnull())].index, inplace = True)\n",
    "out_lon_lat_ind = df_lon_lat.loc[(df_lon_lat.lat_outlier == 1) | (df_lon_lat.lon_outlier == 1)].index\n",
    "df_lon_lat_out = df_lon_lat.loc[(df_lon_lat.lat_outlier == 1) | (df_lon_lat.lon_outlier == 1)]\n",
    "df_lon_lat = df_lon_lat.loc[(df_lon_lat.lat_outlier == 0) & (df_lon_lat.lon_outlier == 0)]"
   ]
  },
  {
   "cell_type": "code",
   "execution_count": 12,
   "metadata": {},
   "outputs": [],
   "source": [
    "l3_list = list(df_lon_lat.l3.unique())\n",
    "l3_dict_lat = {}\n",
    "l3_dict_lon = {}\n",
    "for i in l3_list:\n",
    "    l3_dict_lon[i] = df_lon_lat.loc[df_lon_lat.l3 == i, \"lon\"].mean()\n",
    "    l3_dict_lat[i] = df_lon_lat.loc[df_lon_lat.l3 == i, \"lat\"].mean()\n",
    "\n",
    "df_lon_lat_out[\"lon\"] = df_lon_lat_out.l3.apply(lambda x:l3_dict_lon[x])\n",
    "df_lon_lat_out[\"lat\"] = df_lon_lat_out.l3.apply(lambda x:l3_dict_lat[x])"
   ]
  },
  {
   "cell_type": "code",
   "execution_count": 13,
   "metadata": {
    "collapsed": true,
    "jupyter": {
     "outputs_hidden": true
    },
    "tags": []
   },
   "outputs": [
    {
     "name": "stderr",
     "output_type": "stream",
     "text": [
      "/tmp/ipykernel_78192/3971525020.py:2: SettingWithCopyWarning: \n",
      "A value is trying to be set on a copy of a slice from a DataFrame\n",
      "\n",
      "See the caveats in the documentation: https://pandas.pydata.org/pandas-docs/stable/user_guide/indexing.html#returning-a-view-versus-a-copy\n",
      "  df[\"lon\"].loc[ind] = df_lon_lat_out[\"lon\"].loc[ind]\n",
      "/tmp/ipykernel_78192/3971525020.py:3: SettingWithCopyWarning: \n",
      "A value is trying to be set on a copy of a slice from a DataFrame\n",
      "\n",
      "See the caveats in the documentation: https://pandas.pydata.org/pandas-docs/stable/user_guide/indexing.html#returning-a-view-versus-a-copy\n",
      "  df[\"lat\"].loc[ind] = df_lon_lat_out[\"lat\"].loc[ind]\n"
     ]
    },
    {
     "ename": "KeyboardInterrupt",
     "evalue": "",
     "output_type": "error",
     "traceback": [
      "\u001b[0;31m---------------------------------------------------------------------------\u001b[0m",
      "\u001b[0;31mKeyboardInterrupt\u001b[0m                         Traceback (most recent call last)",
      "\u001b[1;32m/home/nnm/Documents/Facu-/1-Maestria/Data_Mining/Predicci-n-precio-de-propiedades/TP_individual_docker.ipynb Cell 23'\u001b[0m in \u001b[0;36m<cell line: 1>\u001b[0;34m()\u001b[0m\n\u001b[1;32m      <a href='vscode-notebook-cell:/home/nnm/Documents/Facu-/1-Maestria/Data_Mining/Predicci-n-precio-de-propiedades/TP_individual_docker.ipynb#ch0000022?line=0'>1</a>\u001b[0m \u001b[39mfor\u001b[39;00m ind \u001b[39min\u001b[39;00m out_lon_lat_ind:\n\u001b[1;32m      <a href='vscode-notebook-cell:/home/nnm/Documents/Facu-/1-Maestria/Data_Mining/Predicci-n-precio-de-propiedades/TP_individual_docker.ipynb#ch0000022?line=1'>2</a>\u001b[0m     df[\u001b[39m\"\u001b[39m\u001b[39mlon\u001b[39m\u001b[39m\"\u001b[39m]\u001b[39m.\u001b[39mloc[ind] \u001b[39m=\u001b[39m df_lon_lat_out[\u001b[39m\"\u001b[39m\u001b[39mlon\u001b[39m\u001b[39m\"\u001b[39m]\u001b[39m.\u001b[39mloc[ind]\n\u001b[0;32m----> <a href='vscode-notebook-cell:/home/nnm/Documents/Facu-/1-Maestria/Data_Mining/Predicci-n-precio-de-propiedades/TP_individual_docker.ipynb#ch0000022?line=2'>3</a>\u001b[0m     df[\u001b[39m\"\u001b[39m\u001b[39mlat\u001b[39m\u001b[39m\"\u001b[39m]\u001b[39m.\u001b[39mloc[ind] \u001b[39m=\u001b[39m df_lon_lat_out[\u001b[39m\"\u001b[39m\u001b[39mlat\u001b[39m\u001b[39m\"\u001b[39m]\u001b[39m.\u001b[39mloc[ind]\n",
      "File \u001b[0;32m~/Documents/Facu-/1-Maestria/Data_Mining/Predicci-n-precio-de-propiedades/preciosenv/lib/python3.10/site-packages/pandas/core/indexing.py:716\u001b[0m, in \u001b[0;36m_LocationIndexer.__setitem__\u001b[0;34m(self, key, value)\u001b[0m\n\u001b[1;32m    <a href='file:///home/nnm/Documents/Facu-/1-Maestria/Data_Mining/Predicci-n-precio-de-propiedades/preciosenv/lib/python3.10/site-packages/pandas/core/indexing.py?line=712'>713</a>\u001b[0m \u001b[39mself\u001b[39m\u001b[39m.\u001b[39m_has_valid_setitem_indexer(key)\n\u001b[1;32m    <a href='file:///home/nnm/Documents/Facu-/1-Maestria/Data_Mining/Predicci-n-precio-de-propiedades/preciosenv/lib/python3.10/site-packages/pandas/core/indexing.py?line=714'>715</a>\u001b[0m iloc \u001b[39m=\u001b[39m \u001b[39mself\u001b[39m \u001b[39mif\u001b[39;00m \u001b[39mself\u001b[39m\u001b[39m.\u001b[39mname \u001b[39m==\u001b[39m \u001b[39m\"\u001b[39m\u001b[39miloc\u001b[39m\u001b[39m\"\u001b[39m \u001b[39melse\u001b[39;00m \u001b[39mself\u001b[39m\u001b[39m.\u001b[39mobj\u001b[39m.\u001b[39miloc\n\u001b[0;32m--> <a href='file:///home/nnm/Documents/Facu-/1-Maestria/Data_Mining/Predicci-n-precio-de-propiedades/preciosenv/lib/python3.10/site-packages/pandas/core/indexing.py?line=715'>716</a>\u001b[0m iloc\u001b[39m.\u001b[39;49m_setitem_with_indexer(indexer, value, \u001b[39mself\u001b[39;49m\u001b[39m.\u001b[39;49mname)\n",
      "File \u001b[0;32m~/Documents/Facu-/1-Maestria/Data_Mining/Predicci-n-precio-de-propiedades/preciosenv/lib/python3.10/site-packages/pandas/core/indexing.py:1690\u001b[0m, in \u001b[0;36m_iLocIndexer._setitem_with_indexer\u001b[0;34m(self, indexer, value, name)\u001b[0m\n\u001b[1;32m   <a href='file:///home/nnm/Documents/Facu-/1-Maestria/Data_Mining/Predicci-n-precio-de-propiedades/preciosenv/lib/python3.10/site-packages/pandas/core/indexing.py?line=1687'>1688</a>\u001b[0m     \u001b[39mself\u001b[39m\u001b[39m.\u001b[39m_setitem_with_indexer_split_path(indexer, value, name)\n\u001b[1;32m   <a href='file:///home/nnm/Documents/Facu-/1-Maestria/Data_Mining/Predicci-n-precio-de-propiedades/preciosenv/lib/python3.10/site-packages/pandas/core/indexing.py?line=1688'>1689</a>\u001b[0m \u001b[39melse\u001b[39;00m:\n\u001b[0;32m-> <a href='file:///home/nnm/Documents/Facu-/1-Maestria/Data_Mining/Predicci-n-precio-de-propiedades/preciosenv/lib/python3.10/site-packages/pandas/core/indexing.py?line=1689'>1690</a>\u001b[0m     \u001b[39mself\u001b[39;49m\u001b[39m.\u001b[39;49m_setitem_single_block(indexer, value, name)\n",
      "File \u001b[0;32m~/Documents/Facu-/1-Maestria/Data_Mining/Predicci-n-precio-de-propiedades/preciosenv/lib/python3.10/site-packages/pandas/core/indexing.py:1939\u001b[0m, in \u001b[0;36m_iLocIndexer._setitem_single_block\u001b[0;34m(self, indexer, value, name)\u001b[0m\n\u001b[1;32m   <a href='file:///home/nnm/Documents/Facu-/1-Maestria/Data_Mining/Predicci-n-precio-de-propiedades/preciosenv/lib/python3.10/site-packages/pandas/core/indexing.py?line=1936'>1937</a>\u001b[0m \u001b[39m# actually do the set\u001b[39;00m\n\u001b[1;32m   <a href='file:///home/nnm/Documents/Facu-/1-Maestria/Data_Mining/Predicci-n-precio-de-propiedades/preciosenv/lib/python3.10/site-packages/pandas/core/indexing.py?line=1937'>1938</a>\u001b[0m \u001b[39mself\u001b[39m\u001b[39m.\u001b[39mobj\u001b[39m.\u001b[39m_mgr \u001b[39m=\u001b[39m \u001b[39mself\u001b[39m\u001b[39m.\u001b[39mobj\u001b[39m.\u001b[39m_mgr\u001b[39m.\u001b[39msetitem(indexer\u001b[39m=\u001b[39mindexer, value\u001b[39m=\u001b[39mvalue)\n\u001b[0;32m-> <a href='file:///home/nnm/Documents/Facu-/1-Maestria/Data_Mining/Predicci-n-precio-de-propiedades/preciosenv/lib/python3.10/site-packages/pandas/core/indexing.py?line=1938'>1939</a>\u001b[0m \u001b[39mself\u001b[39;49m\u001b[39m.\u001b[39;49mobj\u001b[39m.\u001b[39;49m_maybe_update_cacher(clear\u001b[39m=\u001b[39;49m\u001b[39mTrue\u001b[39;49;00m, inplace\u001b[39m=\u001b[39;49m\u001b[39mTrue\u001b[39;49;00m)\n",
      "File \u001b[0;32m~/Documents/Facu-/1-Maestria/Data_Mining/Predicci-n-precio-de-propiedades/preciosenv/lib/python3.10/site-packages/pandas/core/series.py:1279\u001b[0m, in \u001b[0;36mSeries._maybe_update_cacher\u001b[0;34m(self, clear, verify_is_copy, inplace)\u001b[0m\n\u001b[1;32m   <a href='file:///home/nnm/Documents/Facu-/1-Maestria/Data_Mining/Predicci-n-precio-de-propiedades/preciosenv/lib/python3.10/site-packages/pandas/core/series.py?line=1273'>1274</a>\u001b[0m     \u001b[39mdel\u001b[39;00m \u001b[39mself\u001b[39m\u001b[39m.\u001b[39m_cacher\n\u001b[1;32m   <a href='file:///home/nnm/Documents/Facu-/1-Maestria/Data_Mining/Predicci-n-precio-de-propiedades/preciosenv/lib/python3.10/site-packages/pandas/core/series.py?line=1274'>1275</a>\u001b[0m \u001b[39melif\u001b[39;00m \u001b[39mlen\u001b[39m(\u001b[39mself\u001b[39m) \u001b[39m==\u001b[39m \u001b[39mlen\u001b[39m(ref) \u001b[39mand\u001b[39;00m \u001b[39mself\u001b[39m\u001b[39m.\u001b[39mname \u001b[39min\u001b[39;00m ref\u001b[39m.\u001b[39mcolumns:\n\u001b[1;32m   <a href='file:///home/nnm/Documents/Facu-/1-Maestria/Data_Mining/Predicci-n-precio-de-propiedades/preciosenv/lib/python3.10/site-packages/pandas/core/series.py?line=1275'>1276</a>\u001b[0m     \u001b[39m# GH#42530 self.name must be in ref.columns\u001b[39;00m\n\u001b[1;32m   <a href='file:///home/nnm/Documents/Facu-/1-Maestria/Data_Mining/Predicci-n-precio-de-propiedades/preciosenv/lib/python3.10/site-packages/pandas/core/series.py?line=1276'>1277</a>\u001b[0m     \u001b[39m# to ensure column still in dataframe\u001b[39;00m\n\u001b[1;32m   <a href='file:///home/nnm/Documents/Facu-/1-Maestria/Data_Mining/Predicci-n-precio-de-propiedades/preciosenv/lib/python3.10/site-packages/pandas/core/series.py?line=1277'>1278</a>\u001b[0m     \u001b[39m# otherwise, either self or ref has swapped in new arrays\u001b[39;00m\n\u001b[0;32m-> <a href='file:///home/nnm/Documents/Facu-/1-Maestria/Data_Mining/Predicci-n-precio-de-propiedades/preciosenv/lib/python3.10/site-packages/pandas/core/series.py?line=1278'>1279</a>\u001b[0m     ref\u001b[39m.\u001b[39;49m_maybe_cache_changed(cacher[\u001b[39m0\u001b[39;49m], \u001b[39mself\u001b[39;49m, inplace\u001b[39m=\u001b[39;49minplace)\n\u001b[1;32m   <a href='file:///home/nnm/Documents/Facu-/1-Maestria/Data_Mining/Predicci-n-precio-de-propiedades/preciosenv/lib/python3.10/site-packages/pandas/core/series.py?line=1279'>1280</a>\u001b[0m \u001b[39melse\u001b[39;00m:\n\u001b[1;32m   <a href='file:///home/nnm/Documents/Facu-/1-Maestria/Data_Mining/Predicci-n-precio-de-propiedades/preciosenv/lib/python3.10/site-packages/pandas/core/series.py?line=1280'>1281</a>\u001b[0m     \u001b[39m# GH#33675 we have swapped in a new array, so parent\u001b[39;00m\n\u001b[1;32m   <a href='file:///home/nnm/Documents/Facu-/1-Maestria/Data_Mining/Predicci-n-precio-de-propiedades/preciosenv/lib/python3.10/site-packages/pandas/core/series.py?line=1281'>1282</a>\u001b[0m     \u001b[39m#  reference to self is now invalid\u001b[39;00m\n\u001b[1;32m   <a href='file:///home/nnm/Documents/Facu-/1-Maestria/Data_Mining/Predicci-n-precio-de-propiedades/preciosenv/lib/python3.10/site-packages/pandas/core/series.py?line=1282'>1283</a>\u001b[0m     ref\u001b[39m.\u001b[39m_item_cache\u001b[39m.\u001b[39mpop(cacher[\u001b[39m0\u001b[39m], \u001b[39mNone\u001b[39;00m)\n",
      "File \u001b[0;32m~/Documents/Facu-/1-Maestria/Data_Mining/Predicci-n-precio-de-propiedades/preciosenv/lib/python3.10/site-packages/pandas/core/frame.py:3951\u001b[0m, in \u001b[0;36mDataFrame._maybe_cache_changed\u001b[0;34m(self, item, value, inplace)\u001b[0m\n\u001b[1;32m   <a href='file:///home/nnm/Documents/Facu-/1-Maestria/Data_Mining/Predicci-n-precio-de-propiedades/preciosenv/lib/python3.10/site-packages/pandas/core/frame.py?line=3947'>3948</a>\u001b[0m loc \u001b[39m=\u001b[39m \u001b[39mself\u001b[39m\u001b[39m.\u001b[39m_info_axis\u001b[39m.\u001b[39mget_loc(item)\n\u001b[1;32m   <a href='file:///home/nnm/Documents/Facu-/1-Maestria/Data_Mining/Predicci-n-precio-de-propiedades/preciosenv/lib/python3.10/site-packages/pandas/core/frame.py?line=3948'>3949</a>\u001b[0m arraylike \u001b[39m=\u001b[39m value\u001b[39m.\u001b[39m_values\n\u001b[0;32m-> <a href='file:///home/nnm/Documents/Facu-/1-Maestria/Data_Mining/Predicci-n-precio-de-propiedades/preciosenv/lib/python3.10/site-packages/pandas/core/frame.py?line=3950'>3951</a>\u001b[0m old \u001b[39m=\u001b[39m \u001b[39mself\u001b[39;49m\u001b[39m.\u001b[39;49m_ixs(loc, axis\u001b[39m=\u001b[39;49m\u001b[39m1\u001b[39;49m)\n\u001b[1;32m   <a href='file:///home/nnm/Documents/Facu-/1-Maestria/Data_Mining/Predicci-n-precio-de-propiedades/preciosenv/lib/python3.10/site-packages/pandas/core/frame.py?line=3951'>3952</a>\u001b[0m \u001b[39mif\u001b[39;00m old\u001b[39m.\u001b[39m_values \u001b[39mis\u001b[39;00m value\u001b[39m.\u001b[39m_values \u001b[39mand\u001b[39;00m inplace:\n\u001b[1;32m   <a href='file:///home/nnm/Documents/Facu-/1-Maestria/Data_Mining/Predicci-n-precio-de-propiedades/preciosenv/lib/python3.10/site-packages/pandas/core/frame.py?line=3952'>3953</a>\u001b[0m     \u001b[39m# GH#46149 avoid making unnecessary copies/block-splitting\u001b[39;00m\n\u001b[1;32m   <a href='file:///home/nnm/Documents/Facu-/1-Maestria/Data_Mining/Predicci-n-precio-de-propiedades/preciosenv/lib/python3.10/site-packages/pandas/core/frame.py?line=3953'>3954</a>\u001b[0m     \u001b[39mreturn\u001b[39;00m\n",
      "File \u001b[0;32m~/Documents/Facu-/1-Maestria/Data_Mining/Predicci-n-precio-de-propiedades/preciosenv/lib/python3.10/site-packages/pandas/core/frame.py:3442\u001b[0m, in \u001b[0;36mDataFrame._ixs\u001b[0;34m(self, i, axis)\u001b[0m\n\u001b[1;32m   <a href='file:///home/nnm/Documents/Facu-/1-Maestria/Data_Mining/Predicci-n-precio-de-propiedades/preciosenv/lib/python3.10/site-packages/pandas/core/frame.py?line=3438'>3439</a>\u001b[0m label \u001b[39m=\u001b[39m \u001b[39mself\u001b[39m\u001b[39m.\u001b[39mcolumns[i]\n\u001b[1;32m   <a href='file:///home/nnm/Documents/Facu-/1-Maestria/Data_Mining/Predicci-n-precio-de-propiedades/preciosenv/lib/python3.10/site-packages/pandas/core/frame.py?line=3440'>3441</a>\u001b[0m col_mgr \u001b[39m=\u001b[39m \u001b[39mself\u001b[39m\u001b[39m.\u001b[39m_mgr\u001b[39m.\u001b[39miget(i)\n\u001b[0;32m-> <a href='file:///home/nnm/Documents/Facu-/1-Maestria/Data_Mining/Predicci-n-precio-de-propiedades/preciosenv/lib/python3.10/site-packages/pandas/core/frame.py?line=3441'>3442</a>\u001b[0m result \u001b[39m=\u001b[39m \u001b[39mself\u001b[39;49m\u001b[39m.\u001b[39;49m_box_col_values(col_mgr, i)\n\u001b[1;32m   <a href='file:///home/nnm/Documents/Facu-/1-Maestria/Data_Mining/Predicci-n-precio-de-propiedades/preciosenv/lib/python3.10/site-packages/pandas/core/frame.py?line=3443'>3444</a>\u001b[0m \u001b[39m# this is a cached value, mark it so\u001b[39;00m\n\u001b[1;32m   <a href='file:///home/nnm/Documents/Facu-/1-Maestria/Data_Mining/Predicci-n-precio-de-propiedades/preciosenv/lib/python3.10/site-packages/pandas/core/frame.py?line=3444'>3445</a>\u001b[0m result\u001b[39m.\u001b[39m_set_as_cached(label, \u001b[39mself\u001b[39m)\n",
      "File \u001b[0;32m~/Documents/Facu-/1-Maestria/Data_Mining/Predicci-n-precio-de-propiedades/preciosenv/lib/python3.10/site-packages/pandas/core/frame.py:3915\u001b[0m, in \u001b[0;36mDataFrame._box_col_values\u001b[0;34m(self, values, loc)\u001b[0m\n\u001b[1;32m   <a href='file:///home/nnm/Documents/Facu-/1-Maestria/Data_Mining/Predicci-n-precio-de-propiedades/preciosenv/lib/python3.10/site-packages/pandas/core/frame.py?line=3912'>3913</a>\u001b[0m klass \u001b[39m=\u001b[39m \u001b[39mself\u001b[39m\u001b[39m.\u001b[39m_constructor_sliced\n\u001b[1;32m   <a href='file:///home/nnm/Documents/Facu-/1-Maestria/Data_Mining/Predicci-n-precio-de-propiedades/preciosenv/lib/python3.10/site-packages/pandas/core/frame.py?line=3913'>3914</a>\u001b[0m \u001b[39m# We get index=self.index bc values is a SingleDataManager\u001b[39;00m\n\u001b[0;32m-> <a href='file:///home/nnm/Documents/Facu-/1-Maestria/Data_Mining/Predicci-n-precio-de-propiedades/preciosenv/lib/python3.10/site-packages/pandas/core/frame.py?line=3914'>3915</a>\u001b[0m \u001b[39mreturn\u001b[39;00m klass(values, name\u001b[39m=\u001b[39;49mname, fastpath\u001b[39m=\u001b[39;49m\u001b[39mTrue\u001b[39;49;00m)\u001b[39m.\u001b[39m__finalize__(\u001b[39mself\u001b[39m)\n",
      "File \u001b[0;32m~/Documents/Facu-/1-Maestria/Data_Mining/Predicci-n-precio-de-propiedades/preciosenv/lib/python3.10/site-packages/pandas/core/series.py:323\u001b[0m, in \u001b[0;36mSeries.__init__\u001b[0;34m(self, data, index, dtype, name, copy, fastpath)\u001b[0m\n\u001b[1;32m    <a href='file:///home/nnm/Documents/Facu-/1-Maestria/Data_Mining/Predicci-n-precio-de-propiedades/preciosenv/lib/python3.10/site-packages/pandas/core/series.py?line=317'>318</a>\u001b[0m rdiv: Callable[[Series, Any], Series]\n\u001b[1;32m    <a href='file:///home/nnm/Documents/Facu-/1-Maestria/Data_Mining/Predicci-n-precio-de-propiedades/preciosenv/lib/python3.10/site-packages/pandas/core/series.py?line=319'>320</a>\u001b[0m \u001b[39m# ----------------------------------------------------------------------\u001b[39;00m\n\u001b[1;32m    <a href='file:///home/nnm/Documents/Facu-/1-Maestria/Data_Mining/Predicci-n-precio-de-propiedades/preciosenv/lib/python3.10/site-packages/pandas/core/series.py?line=320'>321</a>\u001b[0m \u001b[39m# Constructors\u001b[39;00m\n\u001b[0;32m--> <a href='file:///home/nnm/Documents/Facu-/1-Maestria/Data_Mining/Predicci-n-precio-de-propiedades/preciosenv/lib/python3.10/site-packages/pandas/core/series.py?line=322'>323</a>\u001b[0m \u001b[39mdef\u001b[39;00m \u001b[39m__init__\u001b[39m(\n\u001b[1;32m    <a href='file:///home/nnm/Documents/Facu-/1-Maestria/Data_Mining/Predicci-n-precio-de-propiedades/preciosenv/lib/python3.10/site-packages/pandas/core/series.py?line=323'>324</a>\u001b[0m     \u001b[39mself\u001b[39m,\n\u001b[1;32m    <a href='file:///home/nnm/Documents/Facu-/1-Maestria/Data_Mining/Predicci-n-precio-de-propiedades/preciosenv/lib/python3.10/site-packages/pandas/core/series.py?line=324'>325</a>\u001b[0m     data\u001b[39m=\u001b[39m\u001b[39mNone\u001b[39;00m,\n\u001b[1;32m    <a href='file:///home/nnm/Documents/Facu-/1-Maestria/Data_Mining/Predicci-n-precio-de-propiedades/preciosenv/lib/python3.10/site-packages/pandas/core/series.py?line=325'>326</a>\u001b[0m     index\u001b[39m=\u001b[39m\u001b[39mNone\u001b[39;00m,\n\u001b[1;32m    <a href='file:///home/nnm/Documents/Facu-/1-Maestria/Data_Mining/Predicci-n-precio-de-propiedades/preciosenv/lib/python3.10/site-packages/pandas/core/series.py?line=326'>327</a>\u001b[0m     dtype: Dtype \u001b[39m|\u001b[39m \u001b[39mNone\u001b[39;00m \u001b[39m=\u001b[39m \u001b[39mNone\u001b[39;00m,\n\u001b[1;32m    <a href='file:///home/nnm/Documents/Facu-/1-Maestria/Data_Mining/Predicci-n-precio-de-propiedades/preciosenv/lib/python3.10/site-packages/pandas/core/series.py?line=327'>328</a>\u001b[0m     name\u001b[39m=\u001b[39m\u001b[39mNone\u001b[39;00m,\n\u001b[1;32m    <a href='file:///home/nnm/Documents/Facu-/1-Maestria/Data_Mining/Predicci-n-precio-de-propiedades/preciosenv/lib/python3.10/site-packages/pandas/core/series.py?line=328'>329</a>\u001b[0m     copy: \u001b[39mbool\u001b[39m \u001b[39m=\u001b[39m \u001b[39mFalse\u001b[39;00m,\n\u001b[1;32m    <a href='file:///home/nnm/Documents/Facu-/1-Maestria/Data_Mining/Predicci-n-precio-de-propiedades/preciosenv/lib/python3.10/site-packages/pandas/core/series.py?line=329'>330</a>\u001b[0m     fastpath: \u001b[39mbool\u001b[39m \u001b[39m=\u001b[39m \u001b[39mFalse\u001b[39;00m,\n\u001b[1;32m    <a href='file:///home/nnm/Documents/Facu-/1-Maestria/Data_Mining/Predicci-n-precio-de-propiedades/preciosenv/lib/python3.10/site-packages/pandas/core/series.py?line=330'>331</a>\u001b[0m ):\n\u001b[1;32m    <a href='file:///home/nnm/Documents/Facu-/1-Maestria/Data_Mining/Predicci-n-precio-de-propiedades/preciosenv/lib/python3.10/site-packages/pandas/core/series.py?line=332'>333</a>\u001b[0m     \u001b[39mif\u001b[39;00m (\n\u001b[1;32m    <a href='file:///home/nnm/Documents/Facu-/1-Maestria/Data_Mining/Predicci-n-precio-de-propiedades/preciosenv/lib/python3.10/site-packages/pandas/core/series.py?line=333'>334</a>\u001b[0m         \u001b[39misinstance\u001b[39m(data, (SingleBlockManager, SingleArrayManager))\n\u001b[1;32m    <a href='file:///home/nnm/Documents/Facu-/1-Maestria/Data_Mining/Predicci-n-precio-de-propiedades/preciosenv/lib/python3.10/site-packages/pandas/core/series.py?line=334'>335</a>\u001b[0m         \u001b[39mand\u001b[39;00m index \u001b[39mis\u001b[39;00m \u001b[39mNone\u001b[39;00m\n\u001b[0;32m   (...)\u001b[0m\n\u001b[1;32m    <a href='file:///home/nnm/Documents/Facu-/1-Maestria/Data_Mining/Predicci-n-precio-de-propiedades/preciosenv/lib/python3.10/site-packages/pandas/core/series.py?line=337'>338</a>\u001b[0m     ):\n\u001b[1;32m    <a href='file:///home/nnm/Documents/Facu-/1-Maestria/Data_Mining/Predicci-n-precio-de-propiedades/preciosenv/lib/python3.10/site-packages/pandas/core/series.py?line=338'>339</a>\u001b[0m         \u001b[39m# GH#33357 called with just the SingleBlockManager\u001b[39;00m\n\u001b[1;32m    <a href='file:///home/nnm/Documents/Facu-/1-Maestria/Data_Mining/Predicci-n-precio-de-propiedades/preciosenv/lib/python3.10/site-packages/pandas/core/series.py?line=339'>340</a>\u001b[0m         NDFrame\u001b[39m.\u001b[39m\u001b[39m__init__\u001b[39m(\u001b[39mself\u001b[39m, data)\n",
      "\u001b[0;31mKeyboardInterrupt\u001b[0m: "
     ]
    }
   ],
   "source": [
    "for ind in out_lon_lat_ind:\n",
    "    df[\"lon\"].loc[ind] = df_lon_lat_out[\"lon\"].loc[ind]\n",
    "    df[\"lat\"].loc[ind] = df_lon_lat_out[\"lat\"].loc[ind]   "
   ]
  },
  {
   "cell_type": "markdown",
   "metadata": {
    "jp-MarkdownHeadingCollapsed": true,
    "tags": []
   },
   "source": [
    "## l3 - Barrio"
   ]
  },
  {
   "cell_type": "markdown",
   "metadata": {},
   "source": [
    "Corregidas las longitudes y latitudes generamos un knn para predecir los barrios y completar l3"
   ]
  },
  {
   "cell_type": "code",
   "execution_count": 16,
   "metadata": {
    "collapsed": true,
    "jupyter": {
     "outputs_hidden": true
    },
    "tags": []
   },
   "outputs": [
    {
     "name": "stderr",
     "output_type": "stream",
     "text": [
      "/tmp/ipykernel_92/2478595951.py:3: SettingWithCopyWarning: \n",
      "A value is trying to be set on a copy of a slice from a DataFrame\n",
      "\n",
      "See the caveats in the documentation: https://pandas.pydata.org/pandas-docs/stable/user_guide/indexing.html#returning-a-view-versus-a-copy\n",
      "  df_l3.drop(df_l3.loc[df_l3[\"lon\"].isnull()].index,inplace = True)\n",
      "/tmp/ipykernel_92/2478595951.py:4: SettingWithCopyWarning: \n",
      "A value is trying to be set on a copy of a slice from a DataFrame\n",
      "\n",
      "See the caveats in the documentation: https://pandas.pydata.org/pandas-docs/stable/user_guide/indexing.html#returning-a-view-versus-a-copy\n",
      "  df_l3.drop(df_l3.loc[df_l3[\"lat\"].isnull()].index,inplace = True)\n"
     ]
    }
   ],
   "source": [
    "df_l3 = df[[\"lon\",\"lat\",\"l3\"]]\n",
    "\n",
    "df_l3.drop(df_l3.loc[df_l3[\"lon\"].isnull()].index,inplace = True)\n",
    "df_l3.drop(df_l3.loc[df_l3[\"lat\"].isnull()].index,inplace = True)\n",
    "\n",
    "df_test_l3 = df_l3.loc[df_l3[\"l3\"].isnull()]\n",
    "\n",
    "df_train_l3 = df_l3.loc[df_l3[\"l3\"].notnull()]"
   ]
  },
  {
   "cell_type": "code",
   "execution_count": 17,
   "metadata": {},
   "outputs": [
    {
     "name": "stdout",
     "output_type": "stream",
     "text": [
      "n_1 0.8380804193175351\n",
      "n_3 0.8383278341978697\n",
      "n_5 0.8398275092636194\n",
      "n_7 0.8394354615245071\n",
      "n_9 0.8387389094042674\n",
      "n_11 0.8381451235140739\n"
     ]
    }
   ],
   "source": [
    "X_l3 = df_train_l3[df_train_l3.columns.drop('l3')]\n",
    "y_l3 = df_train_l3['l3']\n",
    "\n",
    "# Partimos en entrenamiento y prueba \n",
    "\n",
    "for i in [1,3,5,7,9,11]:\n",
    "    # Creamos el objeto del modelo\n",
    "    neigh = sk.neighbors.KNeighborsClassifier(n_neighbors=i, n_jobs = -1)\n",
    "    \n",
    "    kf = sk.model_selection.KFold(n_splits=10, shuffle=True, random_state=42)\n",
    "    \n",
    "    scores = []\n",
    "    \n",
    "    for train, test in kf.split(X_l3):\n",
    "        \n",
    "        X_train, X_test, y_train, y_test = X_l3.iloc[train], X_l3.iloc[test], y_l3[train], y_l3[test]\n",
    "    \n",
    "        # Entrenamos el modelo\n",
    "        neigh.fit(X_train, y_train)\n",
    "    \n",
    "        # Predecimos\n",
    "        y_pred_l3 = neigh.predict(X_test)\n",
    "    \n",
    "        # Medimos la performance de la predicción\n",
    "        score = sk.metrics.accuracy_score(y_test, y_pred_l3)\n",
    "        scores.append(score)\n",
    "        #print(score)\n",
    "    print(f\"n_{i} {np.mean(scores)}\")\n"
   ]
  },
  {
   "cell_type": "code",
   "execution_count": 18,
   "metadata": {
    "collapsed": true,
    "jupyter": {
     "outputs_hidden": true
    },
    "tags": []
   },
   "outputs": [
    {
     "name": "stderr",
     "output_type": "stream",
     "text": [
      "/tmp/ipykernel_92/599255535.py:10: SettingWithCopyWarning: \n",
      "A value is trying to be set on a copy of a slice from a DataFrame.\n",
      "Try using .loc[row_indexer,col_indexer] = value instead\n",
      "\n",
      "See the caveats in the documentation: https://pandas.pydata.org/pandas-docs/stable/user_guide/indexing.html#returning-a-view-versus-a-copy\n",
      "  df_test_l3[\"l3\"] = neigh.predict(X_pred_l3)\n"
     ]
    }
   ],
   "source": [
    "X_pred_l3 = df_test_l3[df_test_l3.columns.drop('l3')]\n",
    "\n",
    "# Entrenamiento\n",
    "neigh = sk.neighbors.KNeighborsClassifier(n_neighbors = 5, n_jobs = -1)\n",
    "\n",
    "# Entrenamos el modelo\n",
    "neigh.fit(X_train, y_train)\n",
    "\n",
    "# predicción\n",
    "df_test_l3[\"l3\"] = neigh.predict(X_pred_l3)"
   ]
  },
  {
   "cell_type": "code",
   "execution_count": 19,
   "metadata": {
    "scrolled": true
   },
   "outputs": [],
   "source": [
    "df[\"l3\"].loc[df[\"l3\"].isnull()] = df_test_l3[\"l3\"]"
   ]
  },
  {
   "cell_type": "markdown",
   "metadata": {
    "jp-MarkdownHeadingCollapsed": true,
    "tags": []
   },
   "source": [
    "## Limpieza de otras columnas y lineas"
   ]
  },
  {
   "cell_type": "code",
   "execution_count": 20,
   "metadata": {},
   "outputs": [],
   "source": [
    "df.drop(columns = [\"ad_type\",\"l4\",\"l5\", \"l6\", \"created_on\",\"start_date\", \"end_date\",\"l1\",\"l2\",\"price_period\",\"operation_type\"], inplace = True )"
   ]
  },
  {
   "cell_type": "code",
   "execution_count": 21,
   "metadata": {
    "id": "yg8qNxuNrzQp"
   },
   "outputs": [],
   "source": [
    "df.dropna(subset=[\"price\"], inplace = True)\n",
    "\n",
    "df.dropna(subset=[\"currency\"], inplace = True)"
   ]
  },
  {
   "cell_type": "code",
   "execution_count": 22,
   "metadata": {},
   "outputs": [
    {
     "name": "stderr",
     "output_type": "stream",
     "text": [
      "/tmp/ipykernel_92/3524703153.py:3: SettingWithCopyWarning: \n",
      "A value is trying to be set on a copy of a slice from a DataFrame\n",
      "\n",
      "See the caveats in the documentation: https://pandas.pydata.org/pandas-docs/stable/user_guide/indexing.html#returning-a-view-versus-a-copy\n",
      "  df.drop(columns = [\"currency\"], inplace = True )\n"
     ]
    }
   ],
   "source": [
    "df = df.loc[df[\"currency\"] == \"USD\"]\n",
    "\n",
    "df.drop(columns = [\"currency\"], inplace = True )"
   ]
  },
  {
   "cell_type": "code",
   "execution_count": 23,
   "metadata": {},
   "outputs": [
    {
     "name": "stderr",
     "output_type": "stream",
     "text": [
      "/tmp/ipykernel_92/354315104.py:1: SettingWithCopyWarning: \n",
      "A value is trying to be set on a copy of a slice from a DataFrame.\n",
      "Try using .loc[row_indexer,col_indexer] = value instead\n",
      "\n",
      "See the caveats in the documentation: https://pandas.pydata.org/pandas-docs/stable/user_guide/indexing.html#returning-a-view-versus-a-copy\n",
      "  df[\"property_type_check\"] = df.property_type.apply(lambda x: 1 if x in (\"Departamento\",\"PH\") else 0)\n",
      "/tmp/ipykernel_92/354315104.py:5: SettingWithCopyWarning: \n",
      "A value is trying to be set on a copy of a slice from a DataFrame\n",
      "\n",
      "See the caveats in the documentation: https://pandas.pydata.org/pandas-docs/stable/user_guide/indexing.html#returning-a-view-versus-a-copy\n",
      "  df.drop(columns = \"property_type_check\", inplace = True)\n"
     ]
    }
   ],
   "source": [
    "df[\"property_type_check\"] = df.property_type.apply(lambda x: 1 if x in (\"Departamento\",\"PH\") else 0)\n",
    "\n",
    "df = df.loc[df[\"property_type_check\"] == 1]\n",
    "\n",
    "df.drop(columns = \"property_type_check\", inplace = True)"
   ]
  },
  {
   "cell_type": "code",
   "execution_count": 24,
   "metadata": {},
   "outputs": [],
   "source": [
    "df.drop(df.loc[df[\"rooms\"].isnull() & df[\"bedrooms\"].isnull() & df[\"bathrooms\"].isnull() & df[\"surface_total\"].isnull() & df[\"surface_covered\"].isnull()].index, inplace = True)"
   ]
  },
  {
   "cell_type": "code",
   "execution_count": 25,
   "metadata": {},
   "outputs": [],
   "source": [
    "df_pred[\"rooms\"].fillna(0, inplace = True)\n",
    "df_pred[\"bedrooms\"].fillna(0, inplace = True)\n",
    "df_pred[\"bathrooms\"].fillna(0, inplace = True)"
   ]
  },
  {
   "cell_type": "code",
   "execution_count": 26,
   "metadata": {},
   "outputs": [],
   "source": [
    "df[\"rooms\"].fillna(0, inplace = True)\n",
    "df[\"bedrooms\"].fillna(0, inplace = True)\n",
    "df[\"bathrooms\"].fillna(0, inplace = True)"
   ]
  },
  {
   "cell_type": "code",
   "execution_count": 27,
   "metadata": {},
   "outputs": [
    {
     "name": "stderr",
     "output_type": "stream",
     "text": [
      "/tmp/ipykernel_92/3354645445.py:1: SettingWithCopyWarning: \n",
      "A value is trying to be set on a copy of a slice from a DataFrame\n",
      "\n",
      "See the caveats in the documentation: https://pandas.pydata.org/pandas-docs/stable/user_guide/indexing.html#returning-a-view-versus-a-copy\n",
      "  df[\"surface_total\"].loc[df[\"surface_total\"].isnull() & df[\"surface_covered\"] > 0] = df[\"surface_covered\"].loc[df[\"surface_total\"].isnull() & df[\"surface_covered\"] > 0]\n"
     ]
    }
   ],
   "source": [
    "df[\"surface_total\"].loc[df[\"surface_total\"].isnull() & df[\"surface_covered\"] > 0] = df[\"surface_covered\"].loc[df[\"surface_total\"].isnull() & df[\"surface_covered\"] > 0]\n",
    "\n",
    "df[\"surface_total\"].fillna(0, inplace = True)\n",
    "df[\"surface_covered\"].fillna(0, inplace = True)"
   ]
  },
  {
   "cell_type": "code",
   "execution_count": 28,
   "metadata": {
    "scrolled": true
   },
   "outputs": [
    {
     "name": "stderr",
     "output_type": "stream",
     "text": [
      "/tmp/ipykernel_92/3611823614.py:1: SettingWithCopyWarning: \n",
      "A value is trying to be set on a copy of a slice from a DataFrame\n",
      "\n",
      "See the caveats in the documentation: https://pandas.pydata.org/pandas-docs/stable/user_guide/indexing.html#returning-a-view-versus-a-copy\n",
      "  df[\"bedrooms\"].loc[df[\"bedrooms\"] < 0 ] = abs(df[\"bedrooms\"].loc[df[\"bedrooms\"] < 0 ])\n"
     ]
    }
   ],
   "source": [
    "df[\"bedrooms\"].loc[df[\"bedrooms\"] < 0 ] = abs(df[\"bedrooms\"].loc[df[\"bedrooms\"] < 0 ])"
   ]
  },
  {
   "cell_type": "code",
   "execution_count": 29,
   "metadata": {
    "scrolled": true
   },
   "outputs": [
    {
     "name": "stderr",
     "output_type": "stream",
     "text": [
      "/tmp/ipykernel_92/3583135774.py:1: SettingWithCopyWarning: \n",
      "A value is trying to be set on a copy of a slice from a DataFrame\n",
      "\n",
      "See the caveats in the documentation: https://pandas.pydata.org/pandas-docs/stable/user_guide/indexing.html#returning-a-view-versus-a-copy\n",
      "  df[\"surface_total\"].loc[df[\"surface_total\"] < 0 ] = abs(df[\"surface_total\"].loc[df[\"surface_total\"] < 0 ])\n"
     ]
    }
   ],
   "source": [
    "df[\"surface_total\"].loc[df[\"surface_total\"] < 0 ] = abs(df[\"surface_total\"].loc[df[\"surface_total\"] < 0 ])"
   ]
  },
  {
   "cell_type": "code",
   "execution_count": 30,
   "metadata": {
    "scrolled": true
   },
   "outputs": [
    {
     "name": "stderr",
     "output_type": "stream",
     "text": [
      "/tmp/ipykernel_92/3604395483.py:1: SettingWithCopyWarning: \n",
      "A value is trying to be set on a copy of a slice from a DataFrame\n",
      "\n",
      "See the caveats in the documentation: https://pandas.pydata.org/pandas-docs/stable/user_guide/indexing.html#returning-a-view-versus-a-copy\n",
      "  df[\"surface_covered\"].loc[df[\"surface_covered\"] < 0 ] = abs(df[\"surface_covered\"].loc[df[\"surface_covered\"] < 0 ])\n"
     ]
    }
   ],
   "source": [
    "df[\"surface_covered\"].loc[df[\"surface_covered\"] < 0 ] = abs(df[\"surface_covered\"].loc[df[\"surface_covered\"] < 0 ])"
   ]
  },
  {
   "cell_type": "code",
   "execution_count": 31,
   "metadata": {},
   "outputs": [],
   "source": [
    "df.drop(columns = [\"title\"], inplace = True)"
   ]
  },
  {
   "cell_type": "code",
   "execution_count": 32,
   "metadata": {},
   "outputs": [],
   "source": [
    "df.drop(columns = [\"lat\",\"lon\"], inplace = True)"
   ]
  },
  {
   "cell_type": "code",
   "execution_count": 33,
   "metadata": {},
   "outputs": [],
   "source": [
    "df.drop(df.loc[df[\"price\"]> 6000000].index, inplace=True)"
   ]
  },
  {
   "cell_type": "code",
   "execution_count": 34,
   "metadata": {},
   "outputs": [],
   "source": [
    "df.drop(df[df.price < 15000.0].index,inplace = True)"
   ]
  },
  {
   "cell_type": "code",
   "execution_count": 35,
   "metadata": {},
   "outputs": [],
   "source": [
    "df.drop_duplicates(inplace = True)"
   ]
  },
  {
   "cell_type": "markdown",
   "metadata": {
    "jp-MarkdownHeadingCollapsed": true,
    "tags": []
   },
   "source": [
    "## Modifico el df_pred"
   ]
  },
  {
   "cell_type": "code",
   "execution_count": 36,
   "metadata": {
    "tags": []
   },
   "outputs": [],
   "source": [
    "df_pred.drop(columns = [\"ad_type\",\"l4\",\"l5\", \"l6\", \"created_on\"], inplace = True )\n",
    "df_pred.drop(columns = [\"l1\",\"l2\"], inplace = True )\n",
    "df_pred.drop(columns = [\"currency\"], inplace = True )\n",
    "df_pred.drop(columns = [\"price_period\"], inplace = True)\n",
    "df_pred.drop(columns = \"operation_type\", inplace = True)\n",
    "df_pred.drop(columns = [\"start_date\",\"end_date\",\"services\"], inplace = True)\n",
    "df_pred.drop(columns = [\"title\",\"details\"], inplace = True)"
   ]
  },
  {
   "cell_type": "code",
   "execution_count": 37,
   "metadata": {},
   "outputs": [],
   "source": [
    "df_pred.drop(columns = [\"lat\",\"lon\"], inplace = True)"
   ]
  },
  {
   "cell_type": "markdown",
   "metadata": {
    "id": "i2jRJmQ-tD4Z",
    "tags": []
   },
   "source": [
    "# Feature Engineering"
   ]
  },
  {
   "cell_type": "markdown",
   "metadata": {},
   "source": [
    "Concateno los dataframes para que tengan las mismas columnas y las variables categoricas esten alineadas"
   ]
  },
  {
   "cell_type": "code",
   "execution_count": 38,
   "metadata": {},
   "outputs": [],
   "source": [
    "df_total = pd.concat([df,df_pred], axis=0)"
   ]
  },
  {
   "cell_type": "markdown",
   "metadata": {
    "tags": []
   },
   "source": [
    "## Additionals"
   ]
  },
  {
   "cell_type": "markdown",
   "metadata": {},
   "source": [
    "Genero dummies con los additionals y lo agrego en el df"
   ]
  },
  {
   "cell_type": "code",
   "execution_count": 39,
   "metadata": {
    "collapsed": true,
    "jupyter": {
     "outputs_hidden": true
    },
    "tags": []
   },
   "outputs": [
    {
     "name": "stderr",
     "output_type": "stream",
     "text": [
      "/tmp/ipykernel_92/910923671.py:2: UserWarning: Pandas doesn't allow columns to be created via a new attribute name - see https://pandas.pydata.org/pandas-docs/stable/indexing.html#attribute-access\n",
      "  df_pred.additionals_split = df_pred.additionals.apply(lambda x: x.split(\",\"))\n"
     ]
    }
   ],
   "source": [
    "df_pred.additionals.fillna(\"zxzyzjz\", inplace = True)\n",
    "df_pred.additionals_split = df_pred.additionals.apply(lambda x: x.split(\",\"))"
   ]
  },
  {
   "cell_type": "code",
   "execution_count": 40,
   "metadata": {},
   "outputs": [],
   "source": [
    "additionals_list = df_pred.additionals_split.explode().unique()\n",
    "additionals_list = [x.strip() for x in additionals_list]\n",
    "additionals_list = list(dict.fromkeys(additionals_list))"
   ]
  },
  {
   "cell_type": "code",
   "execution_count": 41,
   "metadata": {},
   "outputs": [],
   "source": [
    "df_total.description.fillna(\"sin_descripcion\", inplace = True)"
   ]
  },
  {
   "cell_type": "code",
   "execution_count": 42,
   "metadata": {},
   "outputs": [],
   "source": [
    "for additional in additionals_list:\n",
    "    df_total[additional] = df_total.description.apply(lambda x: 1 if additional.lower() in x.lower() else 0)"
   ]
  },
  {
   "cell_type": "code",
   "execution_count": 43,
   "metadata": {},
   "outputs": [],
   "source": [
    "df_total.drop(columns = \"zxzyzjz\", inplace = True)\n",
    "df_total.drop(columns = \"additionals\", inplace = True)\n",
    "df_total.drop(columns = \"description\", inplace = True)"
   ]
  },
  {
   "cell_type": "markdown",
   "metadata": {
    "jp-MarkdownHeadingCollapsed": true,
    "tags": []
   },
   "source": [
    "## logaritmicas"
   ]
  },
  {
   "cell_type": "code",
   "execution_count": 44,
   "metadata": {},
   "outputs": [],
   "source": [
    "df_total[\"lnrooms\"] = df_total.rooms.apply(lambda x: x if x == 0 else np.log(x))"
   ]
  },
  {
   "cell_type": "code",
   "execution_count": 45,
   "metadata": {},
   "outputs": [],
   "source": [
    "df_total[\"lnbedrooms\"] = df_total.bedrooms.apply(lambda x: x if x == 0 else np.log(x))"
   ]
  },
  {
   "cell_type": "code",
   "execution_count": 46,
   "metadata": {},
   "outputs": [],
   "source": [
    "df_total[\"lnsurface_covered\"] = df_total.surface_covered.apply(lambda x: x if x == 0 else np.log(x))"
   ]
  },
  {
   "cell_type": "code",
   "execution_count": 47,
   "metadata": {},
   "outputs": [],
   "source": [
    "df_total[\"lnsurface_total\"] = df_total.surface_total.apply(lambda x: x if x == 0 else np.log(x))"
   ]
  },
  {
   "cell_type": "markdown",
   "metadata": {
    "jp-MarkdownHeadingCollapsed": true,
    "tags": []
   },
   "source": [
    "## Dummies"
   ]
  },
  {
   "cell_type": "code",
   "execution_count": 49,
   "metadata": {},
   "outputs": [],
   "source": [
    "df_total = pd.get_dummies(df_total, columns = [\"l3\", \"property_type\"])"
   ]
  },
  {
   "cell_type": "markdown",
   "metadata": {
    "tags": []
   },
   "source": [
    "## Separo el dataframe nuevamente en df_pred y df"
   ]
  },
  {
   "cell_type": "code",
   "execution_count": 58,
   "metadata": {},
   "outputs": [],
   "source": [
    "df = df_total[df_total.index.isin(df.index)]\n",
    "df_pred = df_total[df_total.index.isin(df_pred.index)]"
   ]
  },
  {
   "cell_type": "code",
   "execution_count": 59,
   "metadata": {
    "collapsed": true,
    "jupyter": {
     "outputs_hidden": true
    },
    "tags": []
   },
   "outputs": [
    {
     "name": "stdout",
     "output_type": "stream",
     "text": [
      "<class 'pandas.core.frame.DataFrame'>\n",
      "Index: 121464 entries, U3qdJMKXnOJm0Y1tWpnnfg== to No3is+HhwUGlfgQfzsZbdg==\n",
      "Data columns (total 89 columns):\n",
      " #   Column                      Non-Null Count   Dtype  \n",
      "---  ------                      --------------   -----  \n",
      " 0   rooms                       121464 non-null  float64\n",
      " 1   bedrooms                    121464 non-null  float64\n",
      " 2   bathrooms                   121464 non-null  float64\n",
      " 3   surface_total               121464 non-null  float64\n",
      " 4   surface_covered             121464 non-null  float64\n",
      " 5   price                       121464 non-null  float64\n",
      " 6   Aceptan Mascotas            121464 non-null  int64  \n",
      " 7   Terraza                     121464 non-null  int64  \n",
      " 8   Pileta                      121464 non-null  int64  \n",
      " 9   Seguridad                   121464 non-null  int64  \n",
      " 10  SUM                         121464 non-null  int64  \n",
      " 11  Laundry                     121464 non-null  int64  \n",
      " 12  Balcón                      121464 non-null  int64  \n",
      " 13  Gimnasio                    121464 non-null  int64  \n",
      " 14  Aire Acondicionado          121464 non-null  int64  \n",
      " 15  Patio                       121464 non-null  int64  \n",
      " 16  Calefacción                 121464 non-null  int64  \n",
      " 17  Family Room                 121464 non-null  int64  \n",
      " 18  Alarma                      121464 non-null  int64  \n",
      " 19  Roof Garden                 121464 non-null  int64  \n",
      " 20  Aire Centralizado           121464 non-null  int64  \n",
      " 21  lnrooms                     121464 non-null  float64\n",
      " 22  lnbedrooms                  121464 non-null  float64\n",
      " 23  lnsurface_covered           121464 non-null  float64\n",
      " 24  lnsurface_total             121464 non-null  float64\n",
      " 25  l3_2 Ambientes              121464 non-null  uint8  \n",
      " 26  l3_Abasto                   121464 non-null  uint8  \n",
      " 27  l3_Agronomía                121464 non-null  uint8  \n",
      " 28  l3_Almagro                  121464 non-null  uint8  \n",
      " 29  l3_Balvanera                121464 non-null  uint8  \n",
      " 30  l3_Barracas                 121464 non-null  uint8  \n",
      " 31  l3_Barrio Norte             121464 non-null  uint8  \n",
      " 32  l3_Belgrano                 121464 non-null  uint8  \n",
      " 33  l3_Boca                     121464 non-null  uint8  \n",
      " 34  l3_Boedo                    121464 non-null  uint8  \n",
      " 35  l3_Caballito                121464 non-null  uint8  \n",
      " 36  l3_Catalinas                121464 non-null  uint8  \n",
      " 37  l3_Centro / Microcentro     121464 non-null  uint8  \n",
      " 38  l3_Chacarita                121464 non-null  uint8  \n",
      " 39  l3_Coghlan                  121464 non-null  uint8  \n",
      " 40  l3_Colegiales               121464 non-null  uint8  \n",
      " 41  l3_Congreso                 121464 non-null  uint8  \n",
      " 42  l3_Constitución             121464 non-null  uint8  \n",
      " 43  l3_Flores                   121464 non-null  uint8  \n",
      " 44  l3_Floresta                 121464 non-null  uint8  \n",
      " 45  l3_GBA Norte                121464 non-null  uint8  \n",
      " 46  l3_Las Cañitas              121464 non-null  uint8  \n",
      " 47  l3_Liniers                  121464 non-null  uint8  \n",
      " 48  l3_Mataderos                121464 non-null  uint8  \n",
      " 49  l3_Monserrat                121464 non-null  uint8  \n",
      " 50  l3_Monte Castro             121464 non-null  uint8  \n",
      " 51  l3_Nueva Pompeya            121464 non-null  uint8  \n",
      " 52  l3_Nuñez                    121464 non-null  uint8  \n",
      " 53  l3_Once                     121464 non-null  uint8  \n",
      " 54  l3_Palermo                  121464 non-null  uint8  \n",
      " 55  l3_Parque Avellaneda        121464 non-null  uint8  \n",
      " 56  l3_Parque Centenario        121464 non-null  uint8  \n",
      " 57  l3_Parque Chacabuco         121464 non-null  uint8  \n",
      " 58  l3_Parque Chas              121464 non-null  uint8  \n",
      " 59  l3_Parque Patricios         121464 non-null  uint8  \n",
      " 60  l3_Paternal                 121464 non-null  uint8  \n",
      " 61  l3_Pompeya                  121464 non-null  uint8  \n",
      " 62  l3_Puerto Madero            121464 non-null  uint8  \n",
      " 63  l3_Recoleta                 121464 non-null  uint8  \n",
      " 64  l3_Retiro                   121464 non-null  uint8  \n",
      " 65  l3_Saavedra                 121464 non-null  uint8  \n",
      " 66  l3_San Cristobal            121464 non-null  uint8  \n",
      " 67  l3_San Nicolás              121464 non-null  uint8  \n",
      " 68  l3_San Telmo                121464 non-null  uint8  \n",
      " 69  l3_Tribunales               121464 non-null  uint8  \n",
      " 70  l3_Velez Sarsfield          121464 non-null  uint8  \n",
      " 71  l3_Versalles                121464 non-null  uint8  \n",
      " 72  l3_Villa Crespo             121464 non-null  uint8  \n",
      " 73  l3_Villa Devoto             121464 non-null  uint8  \n",
      " 74  l3_Villa General Mitre      121464 non-null  uint8  \n",
      " 75  l3_Villa Lugano             121464 non-null  uint8  \n",
      " 76  l3_Villa Luro               121464 non-null  uint8  \n",
      " 77  l3_Villa Ortuzar            121464 non-null  uint8  \n",
      " 78  l3_Villa Pueyrredon         121464 non-null  uint8  \n",
      " 79  l3_Villa Pueyrredón         121464 non-null  uint8  \n",
      " 80  l3_Villa Real               121464 non-null  uint8  \n",
      " 81  l3_Villa Riachuelo          121464 non-null  uint8  \n",
      " 82  l3_Villa Santa Rita         121464 non-null  uint8  \n",
      " 83  l3_Villa Soldati            121464 non-null  uint8  \n",
      " 84  l3_Villa Urquiza            121464 non-null  uint8  \n",
      " 85  l3_Villa del Parque         121464 non-null  uint8  \n",
      " 86  l3_Vélez Sarsfield          121464 non-null  uint8  \n",
      " 87  property_type_Departamento  121464 non-null  uint8  \n",
      " 88  property_type_PH            121464 non-null  uint8  \n",
      "dtypes: float64(10), int64(15), uint8(64)\n",
      "memory usage: 31.5+ MB\n"
     ]
    }
   ],
   "source": [
    "df.info()"
   ]
  },
  {
   "cell_type": "markdown",
   "metadata": {
    "tags": []
   },
   "source": [
    "# Modelización"
   ]
  },
  {
   "cell_type": "code",
   "execution_count": null,
   "metadata": {
    "id": "PoAhfAjlr-rp"
   },
   "outputs": [
    {
     "name": "stdout",
     "output_type": "stream",
     "text": [
      "max_depth:3 - mean: 28278338890.081745 sd: 1522247345.1356525\n",
      "max_depth:5 - mean: 20711437457.662857 sd: 1245440238.8766038\n",
      "max_depth:10 - mean: 13644715934.301756 sd: 1354335380.2441008\n"
     ]
    }
   ],
   "source": [
    "X = df[df.columns.drop('price')]\n",
    "y = df['price']\n",
    "\n",
    "for n_estimators in [100, 300, 500, 700, 1000]:\n",
    "    for max_depth in [3,5,10]:     \n",
    "\n",
    "## Tienen que usar RandomForestRegressor si o si o si. Pueden cambiar los parámetros\n",
    "#n_estimators = 5000\n",
    "#max_depth = 5\n",
    "\n",
    "        reg = sk.ensemble.RandomForestRegressor(n_estimators=n_estimators, max_depth=max_depth, n_jobs=-1, random_state=42)\n",
    "\n",
    "        scores = []\n",
    "        kf = sk.model_selection.KFold(n_splits=10, shuffle=True, random_state=42)\n",
    "        for train, test in kf.split(X):\n",
    "            X_train, X_test, y_train, y_test = X.iloc[train], X.iloc[test], y[train], y[test]\n",
    "        \n",
    "            # Entrenamos el modelo\n",
    "            reg.fit(X_train, y_train)\n",
    "        \n",
    "            # Predecimos\n",
    "            y_pred = reg.predict(X_test)\n",
    "        \n",
    "            # Medimos la performance de la predicción\n",
    "            score = sk.metrics.mean_squared_error(y_test, y_pred)\n",
    "            scores.append(score)\n",
    "        print(f\"max_depth:{max_depth} - mean: {np.mean(scores)} sd: {np.std(scores)}\")\n",
    "        \n",
    "    #print(f\"n_{n_estimators} - mean: {np.mean(scores)} sd: {np.std(scores)}\")"
   ]
  },
  {
   "cell_type": "markdown",
   "metadata": {
    "id": "sqVkTPzj3kV0"
   },
   "source": [
    "## Predicción para Kaggle\n"
   ]
  },
  {
   "cell_type": "code",
   "execution_count": 570,
   "metadata": {
    "id": "xzAwUNRA1Fzb"
   },
   "outputs": [],
   "source": [
    "# quedate con las mismas columnas que ar_properties\n",
    "X_pred = df_pred[X.columns]"
   ]
  },
  {
   "cell_type": "code",
   "execution_count": 571,
   "metadata": {
    "id": "81dOh5WvAPMa"
   },
   "outputs": [
    {
     "name": "stderr",
     "output_type": "stream",
     "text": [
      "/tmp/ipykernel_17351/3404264150.py:12: SettingWithCopyWarning: \n",
      "A value is trying to be set on a copy of a slice from a DataFrame.\n",
      "Try using .loc[row_indexer,col_indexer] = value instead\n",
      "\n",
      "See the caveats in the documentation: https://pandas.pydata.org/pandas-docs/stable/user_guide/indexing.html#returning-a-view-versus-a-copy\n",
      "  df_pred[\"price\"] = reg.predict(X_pred)\n"
     ]
    }
   ],
   "source": [
    "# los mejores hiperparámetros encontrados antes\n",
    "n_estimators = 4000\n",
    "max_depth = 10\n",
    "\n",
    "# Entrenamiento\n",
    "reg = sk.ensemble.RandomForestRegressor(n_estimators=n_estimators, max_depth=max_depth, random_state=42, n_jobs=-1)\n",
    "\n",
    "# Entrenamos el modelo\n",
    "reg.fit(X_train, y_train)\n",
    "\n",
    "# predicción\n",
    "df_pred[\"price\"] = reg.predict(X_pred)"
   ]
  },
  {
   "cell_type": "code",
   "execution_count": 572,
   "metadata": {
    "id": "mU9iV6cuBwKB"
   },
   "outputs": [],
   "source": [
    "# Grabo la solución\n",
    "df_pred[[\"price\"]].to_csv(\"solucion.csv\")"
   ]
  }
 ],
 "metadata": {
  "colab": {
   "collapsed_sections": [
    "sqVkTPzj3kV0"
   ],
   "name": "TP individual.ipynb",
   "provenance": []
  },
  "interpreter": {
   "hash": "9998b1f78d09a7fe585743e8f827dd3c677aba6bb7552e7f0475b4917d6f6753"
  },
  "kernelspec": {
   "display_name": "Python 3.10.4 ('preciosenv': venv)",
   "language": "python",
   "name": "python3"
  },
  "language_info": {
   "codemirror_mode": {
    "name": "ipython",
    "version": 3
   },
   "file_extension": ".py",
   "mimetype": "text/x-python",
   "name": "python",
   "nbconvert_exporter": "python",
   "pygments_lexer": "ipython3",
   "version": "3.10.4"
  }
 },
 "nbformat": 4,
 "nbformat_minor": 4
}
