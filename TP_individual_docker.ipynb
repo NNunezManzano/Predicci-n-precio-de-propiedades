{
 "cells": [
  {
   "cell_type": "code",
   "execution_count": 1,
   "metadata": {
    "id": "A7BBykw5oQNl"
   },
   "outputs": [],
   "source": [
    "# https://www.properati.com.ar/data\n",
    "! wget -O ar_properties.csv.gz -q https://storage.googleapis.com/properati-data-public/ar_properties.csv.gz\n",
    "! gzip -d -f ./ar_properties.csv.gz"
   ]
  },
  {
   "cell_type": "code",
   "execution_count": 5,
   "metadata": {
    "id": "jw8ogMDOpvKP"
   },
   "outputs": [],
   "source": [
    "import pandas as pd\n",
    "import numpy as np\n",
    "\n",
    "import matplotlib.pyplot as plt\n",
    "\n",
    "import sklearn as sk\n",
    "from sklearn import model_selection\n",
    "from sklearn import ensemble\n",
    "from sklearn import metrics\n",
    "\n",
    "import datetime"
   ]
  },
  {
   "cell_type": "markdown",
   "metadata": {
    "id": "20D-m6GPyefp",
    "jp-MarkdownHeadingCollapsed": true,
    "tags": []
   },
   "source": [
    "# Lectura de datos"
   ]
  },
  {
   "cell_type": "code",
   "execution_count": 6,
   "metadata": {
    "id": "CtV0wOGsqJLC"
   },
   "outputs": [],
   "source": [
    "df_properties = pd.read_csv('./ar_properties.csv', index_col=\"id\")\n",
    "df_apred = pd.read_csv('./a_predecir.csv', index_col=\"id\")"
   ]
  },
  {
   "cell_type": "code",
   "execution_count": 7,
   "metadata": {},
   "outputs": [],
   "source": [
    "df = df_properties.copy()\n",
    "df_pred = df_apred.copy()"
   ]
  },
  {
   "cell_type": "code",
   "execution_count": 31,
   "metadata": {
    "collapsed": true,
    "id": "thKYxfNuulgB",
    "jupyter": {
     "outputs_hidden": true
    },
    "tags": []
   },
   "outputs": [
    {
     "data": {
      "text/html": [
       "<div>\n",
       "<style scoped>\n",
       "    .dataframe tbody tr th:only-of-type {\n",
       "        vertical-align: middle;\n",
       "    }\n",
       "\n",
       "    .dataframe tbody tr th {\n",
       "        vertical-align: top;\n",
       "    }\n",
       "\n",
       "    .dataframe thead th {\n",
       "        text-align: right;\n",
       "    }\n",
       "</style>\n",
       "<table border=\"1\" class=\"dataframe\">\n",
       "  <thead>\n",
       "    <tr style=\"text-align: right;\">\n",
       "      <th></th>\n",
       "      <th>start_date</th>\n",
       "      <th>end_date</th>\n",
       "      <th>created_on</th>\n",
       "      <th>l2</th>\n",
       "      <th>l3</th>\n",
       "      <th>l4</th>\n",
       "      <th>l5</th>\n",
       "      <th>rooms</th>\n",
       "      <th>bedrooms</th>\n",
       "      <th>bathrooms</th>\n",
       "      <th>surface_total</th>\n",
       "      <th>surface_covered</th>\n",
       "      <th>price</th>\n",
       "      <th>currency</th>\n",
       "      <th>price_period</th>\n",
       "      <th>title</th>\n",
       "      <th>description</th>\n",
       "      <th>property_type</th>\n",
       "      <th>operation_type</th>\n",
       "      <th>bath_rooms</th>\n",
       "    </tr>\n",
       "    <tr>\n",
       "      <th>id</th>\n",
       "      <th></th>\n",
       "      <th></th>\n",
       "      <th></th>\n",
       "      <th></th>\n",
       "      <th></th>\n",
       "      <th></th>\n",
       "      <th></th>\n",
       "      <th></th>\n",
       "      <th></th>\n",
       "      <th></th>\n",
       "      <th></th>\n",
       "      <th></th>\n",
       "      <th></th>\n",
       "      <th></th>\n",
       "      <th></th>\n",
       "      <th></th>\n",
       "      <th></th>\n",
       "      <th></th>\n",
       "      <th></th>\n",
       "      <th></th>\n",
       "    </tr>\n",
       "  </thead>\n",
       "  <tbody>\n",
       "    <tr>\n",
       "      <th>LrDZTDP9vyylLQ3SmazY1A==</th>\n",
       "      <td>2020-08-22</td>\n",
       "      <td>2020-09-04</td>\n",
       "      <td>2020-08-22</td>\n",
       "      <td>Capital Federal</td>\n",
       "      <td>Boedo</td>\n",
       "      <td>NaN</td>\n",
       "      <td>NaN</td>\n",
       "      <td>0.0</td>\n",
       "      <td>0.0</td>\n",
       "      <td>0.0</td>\n",
       "      <td>520.0</td>\n",
       "      <td>520.0</td>\n",
       "      <td>70000.0</td>\n",
       "      <td>ARS</td>\n",
       "      <td>Mensual</td>\n",
       "      <td>Depósito con Oficina en  Boedo</td>\n",
       "      <td>Depósito con  amplias y cómodas  oficinas  y c...</td>\n",
       "      <td>Oficina</td>\n",
       "      <td>Alquiler</td>\n",
       "      <td>0</td>\n",
       "    </tr>\n",
       "    <tr>\n",
       "      <th>taiJHW87e1CmCPpuSgCbBA==</th>\n",
       "      <td>2020-08-22</td>\n",
       "      <td>2020-09-04</td>\n",
       "      <td>2020-08-22</td>\n",
       "      <td>Bs.As. G.B.A. Zona Norte</td>\n",
       "      <td>Tigre</td>\n",
       "      <td>Nordelta</td>\n",
       "      <td>NaN</td>\n",
       "      <td>0.0</td>\n",
       "      <td>0.0</td>\n",
       "      <td>2.0</td>\n",
       "      <td>95.0</td>\n",
       "      <td>0.0</td>\n",
       "      <td>35000.0</td>\n",
       "      <td>ARS</td>\n",
       "      <td>Mensual</td>\n",
       "      <td>Oficina - Paseo de la Bahia - Studios I</td>\n",
       "      <td>Excelente oportunidad! Oficina de 95 mts2 con ...</td>\n",
       "      <td>Oficina</td>\n",
       "      <td>Alquiler</td>\n",
       "      <td>1</td>\n",
       "    </tr>\n",
       "    <tr>\n",
       "      <th>RqacGyDGe/sKe4TYtuLLtg==</th>\n",
       "      <td>2020-08-22</td>\n",
       "      <td>2020-09-04</td>\n",
       "      <td>2020-08-22</td>\n",
       "      <td>Bs.As. G.B.A. Zona Norte</td>\n",
       "      <td>Tigre</td>\n",
       "      <td>Nordelta</td>\n",
       "      <td>NaN</td>\n",
       "      <td>0.0</td>\n",
       "      <td>0.0</td>\n",
       "      <td>2.0</td>\n",
       "      <td>90.0</td>\n",
       "      <td>0.0</td>\n",
       "      <td>27000.0</td>\n",
       "      <td>ARS</td>\n",
       "      <td>Mensual</td>\n",
       "      <td>Oficina - Paseo de la Bahia - Studios I</td>\n",
       "      <td>Excelente oportunidad! Oficina de 90 mts2 con ...</td>\n",
       "      <td>Oficina</td>\n",
       "      <td>Alquiler</td>\n",
       "      <td>1</td>\n",
       "    </tr>\n",
       "    <tr>\n",
       "      <th>hbIvfOetTyeiCcFPM4FATA==</th>\n",
       "      <td>2020-08-22</td>\n",
       "      <td>2020-09-04</td>\n",
       "      <td>2020-08-22</td>\n",
       "      <td>Capital Federal</td>\n",
       "      <td>Recoleta</td>\n",
       "      <td>NaN</td>\n",
       "      <td>NaN</td>\n",
       "      <td>0.0</td>\n",
       "      <td>0.0</td>\n",
       "      <td>3.0</td>\n",
       "      <td>265.0</td>\n",
       "      <td>265.0</td>\n",
       "      <td>65000.0</td>\n",
       "      <td>ARS</td>\n",
       "      <td>Mensual</td>\n",
       "      <td>Oficina comercial · 265m² · 2 Cochera</td>\n",
       "      <td>Gran Oportunidad! Unica piso de oficinas de 26...</td>\n",
       "      <td>Oficina</td>\n",
       "      <td>Alquiler</td>\n",
       "      <td>1</td>\n",
       "    </tr>\n",
       "    <tr>\n",
       "      <th>srXXAu7Fb8/Kng0/cxUe7g==</th>\n",
       "      <td>2020-08-22</td>\n",
       "      <td>2020-09-04</td>\n",
       "      <td>2020-08-22</td>\n",
       "      <td>Capital Federal</td>\n",
       "      <td>Balvanera</td>\n",
       "      <td>NaN</td>\n",
       "      <td>NaN</td>\n",
       "      <td>0.0</td>\n",
       "      <td>0.0</td>\n",
       "      <td>1.0</td>\n",
       "      <td>80.0</td>\n",
       "      <td>80.0</td>\n",
       "      <td>60000.0</td>\n",
       "      <td>ARS</td>\n",
       "      <td>Mensual</td>\n",
       "      <td>Oficina - Balvanera | Vista al pasaje Discépolo</td>\n",
       "      <td>Edificio de oficinas desarrollado en Subsuelo,...</td>\n",
       "      <td>Oficina</td>\n",
       "      <td>Alquiler</td>\n",
       "      <td>1</td>\n",
       "    </tr>\n",
       "  </tbody>\n",
       "</table>\n",
       "</div>"
      ],
      "text/plain": [
       "                          start_date    end_date  created_on  \\\n",
       "id                                                             \n",
       "LrDZTDP9vyylLQ3SmazY1A==  2020-08-22  2020-09-04  2020-08-22   \n",
       "taiJHW87e1CmCPpuSgCbBA==  2020-08-22  2020-09-04  2020-08-22   \n",
       "RqacGyDGe/sKe4TYtuLLtg==  2020-08-22  2020-09-04  2020-08-22   \n",
       "hbIvfOetTyeiCcFPM4FATA==  2020-08-22  2020-09-04  2020-08-22   \n",
       "srXXAu7Fb8/Kng0/cxUe7g==  2020-08-22  2020-09-04  2020-08-22   \n",
       "\n",
       "                                                l2         l3        l4   l5  \\\n",
       "id                                                                             \n",
       "LrDZTDP9vyylLQ3SmazY1A==           Capital Federal      Boedo       NaN  NaN   \n",
       "taiJHW87e1CmCPpuSgCbBA==  Bs.As. G.B.A. Zona Norte      Tigre  Nordelta  NaN   \n",
       "RqacGyDGe/sKe4TYtuLLtg==  Bs.As. G.B.A. Zona Norte      Tigre  Nordelta  NaN   \n",
       "hbIvfOetTyeiCcFPM4FATA==           Capital Federal   Recoleta       NaN  NaN   \n",
       "srXXAu7Fb8/Kng0/cxUe7g==           Capital Federal  Balvanera       NaN  NaN   \n",
       "\n",
       "                          rooms  bedrooms  bathrooms  surface_total  \\\n",
       "id                                                                    \n",
       "LrDZTDP9vyylLQ3SmazY1A==    0.0       0.0        0.0          520.0   \n",
       "taiJHW87e1CmCPpuSgCbBA==    0.0       0.0        2.0           95.0   \n",
       "RqacGyDGe/sKe4TYtuLLtg==    0.0       0.0        2.0           90.0   \n",
       "hbIvfOetTyeiCcFPM4FATA==    0.0       0.0        3.0          265.0   \n",
       "srXXAu7Fb8/Kng0/cxUe7g==    0.0       0.0        1.0           80.0   \n",
       "\n",
       "                          surface_covered    price currency price_period  \\\n",
       "id                                                                         \n",
       "LrDZTDP9vyylLQ3SmazY1A==            520.0  70000.0      ARS      Mensual   \n",
       "taiJHW87e1CmCPpuSgCbBA==              0.0  35000.0      ARS      Mensual   \n",
       "RqacGyDGe/sKe4TYtuLLtg==              0.0  27000.0      ARS      Mensual   \n",
       "hbIvfOetTyeiCcFPM4FATA==            265.0  65000.0      ARS      Mensual   \n",
       "srXXAu7Fb8/Kng0/cxUe7g==             80.0  60000.0      ARS      Mensual   \n",
       "\n",
       "                                                                    title  \\\n",
       "id                                                                          \n",
       "LrDZTDP9vyylLQ3SmazY1A==                   Depósito con Oficina en  Boedo   \n",
       "taiJHW87e1CmCPpuSgCbBA==          Oficina - Paseo de la Bahia - Studios I   \n",
       "RqacGyDGe/sKe4TYtuLLtg==          Oficina - Paseo de la Bahia - Studios I   \n",
       "hbIvfOetTyeiCcFPM4FATA==            Oficina comercial · 265m² · 2 Cochera   \n",
       "srXXAu7Fb8/Kng0/cxUe7g==  Oficina - Balvanera | Vista al pasaje Discépolo   \n",
       "\n",
       "                                                                description  \\\n",
       "id                                                                            \n",
       "LrDZTDP9vyylLQ3SmazY1A==  Depósito con  amplias y cómodas  oficinas  y c...   \n",
       "taiJHW87e1CmCPpuSgCbBA==  Excelente oportunidad! Oficina de 95 mts2 con ...   \n",
       "RqacGyDGe/sKe4TYtuLLtg==  Excelente oportunidad! Oficina de 90 mts2 con ...   \n",
       "hbIvfOetTyeiCcFPM4FATA==  Gran Oportunidad! Unica piso de oficinas de 26...   \n",
       "srXXAu7Fb8/Kng0/cxUe7g==  Edificio de oficinas desarrollado en Subsuelo,...   \n",
       "\n",
       "                         property_type operation_type  bath_rooms  \n",
       "id                                                                 \n",
       "LrDZTDP9vyylLQ3SmazY1A==       Oficina       Alquiler           0  \n",
       "taiJHW87e1CmCPpuSgCbBA==       Oficina       Alquiler           1  \n",
       "RqacGyDGe/sKe4TYtuLLtg==       Oficina       Alquiler           1  \n",
       "hbIvfOetTyeiCcFPM4FATA==       Oficina       Alquiler           1  \n",
       "srXXAu7Fb8/Kng0/cxUe7g==       Oficina       Alquiler           1  "
      ]
     },
     "execution_count": 31,
     "metadata": {},
     "output_type": "execute_result"
    }
   ],
   "source": [
    "df.head()"
   ]
  },
  {
   "cell_type": "code",
   "execution_count": 565,
   "metadata": {
    "collapsed": true,
    "jupyter": {
     "outputs_hidden": true
    },
    "tags": []
   },
   "outputs": [
    {
     "name": "stdout",
     "output_type": "stream",
     "text": [
      "<class 'pandas.core.frame.DataFrame'>\n",
      "Index: 1087 entries, 1 to 1087\n",
      "Data columns (total 76 columns):\n",
      " #   Column                      Non-Null Count  Dtype  \n",
      "---  ------                      --------------  -----  \n",
      " 0   rooms                       1087 non-null   float64\n",
      " 1   bedrooms                    1087 non-null   float64\n",
      " 2   bathrooms                   1087 non-null   float64\n",
      " 3   surface_total               1087 non-null   float64\n",
      " 4   surface_covered             1087 non-null   float64\n",
      " 5   price                       1087 non-null   float64\n",
      " 6   lnrooms                     1087 non-null   float64\n",
      " 7   lnbedrooms                  1087 non-null   float64\n",
      " 8   l3_2 Ambientes              1087 non-null   uint8  \n",
      " 9   l3_Abasto                   1087 non-null   uint8  \n",
      " 10  l3_Agronomía                1087 non-null   uint8  \n",
      " 11  l3_Almagro                  1087 non-null   uint8  \n",
      " 12  l3_Balvanera                1087 non-null   uint8  \n",
      " 13  l3_Barracas                 1087 non-null   uint8  \n",
      " 14  l3_Barrio Norte             1087 non-null   uint8  \n",
      " 15  l3_Belgrano                 1087 non-null   uint8  \n",
      " 16  l3_Boca                     1087 non-null   uint8  \n",
      " 17  l3_Boedo                    1087 non-null   uint8  \n",
      " 18  l3_Caballito                1087 non-null   uint8  \n",
      " 19  l3_Catalinas                1087 non-null   uint8  \n",
      " 20  l3_Centro / Microcentro     1087 non-null   uint8  \n",
      " 21  l3_Chacarita                1087 non-null   uint8  \n",
      " 22  l3_Coghlan                  1087 non-null   uint8  \n",
      " 23  l3_Colegiales               1087 non-null   uint8  \n",
      " 24  l3_Congreso                 1087 non-null   uint8  \n",
      " 25  l3_Constitución             1087 non-null   uint8  \n",
      " 26  l3_Flores                   1087 non-null   uint8  \n",
      " 27  l3_Floresta                 1087 non-null   uint8  \n",
      " 28  l3_GBA Norte                1087 non-null   uint8  \n",
      " 29  l3_Las Cañitas              1087 non-null   uint8  \n",
      " 30  l3_Liniers                  1087 non-null   uint8  \n",
      " 31  l3_Mataderos                1087 non-null   uint8  \n",
      " 32  l3_Monserrat                1087 non-null   uint8  \n",
      " 33  l3_Monte Castro             1087 non-null   uint8  \n",
      " 34  l3_Nueva Pompeya            1087 non-null   uint8  \n",
      " 35  l3_Nuñez                    1087 non-null   uint8  \n",
      " 36  l3_Once                     1087 non-null   uint8  \n",
      " 37  l3_Palermo                  1087 non-null   uint8  \n",
      " 38  l3_Parque Avellaneda        1087 non-null   uint8  \n",
      " 39  l3_Parque Centenario        1087 non-null   uint8  \n",
      " 40  l3_Parque Chacabuco         1087 non-null   uint8  \n",
      " 41  l3_Parque Chas              1087 non-null   uint8  \n",
      " 42  l3_Parque Patricios         1087 non-null   uint8  \n",
      " 43  l3_Paternal                 1087 non-null   uint8  \n",
      " 44  l3_Pompeya                  1087 non-null   uint8  \n",
      " 45  l3_Puerto Madero            1087 non-null   uint8  \n",
      " 46  l3_Recoleta                 1087 non-null   uint8  \n",
      " 47  l3_Retiro                   1087 non-null   uint8  \n",
      " 48  l3_Saavedra                 1087 non-null   uint8  \n",
      " 49  l3_San Cristobal            1087 non-null   uint8  \n",
      " 50  l3_San Nicolás              1087 non-null   uint8  \n",
      " 51  l3_San Telmo                1087 non-null   uint8  \n",
      " 52  l3_Tribunales               1087 non-null   uint8  \n",
      " 53  l3_Velez Sarsfield          1087 non-null   uint8  \n",
      " 54  l3_Versalles                1087 non-null   uint8  \n",
      " 55  l3_Villa Crespo             1087 non-null   uint8  \n",
      " 56  l3_Villa Devoto             1087 non-null   uint8  \n",
      " 57  l3_Villa General Mitre      1087 non-null   uint8  \n",
      " 58  l3_Villa Lugano             1087 non-null   uint8  \n",
      " 59  l3_Villa Luro               1087 non-null   uint8  \n",
      " 60  l3_Villa Ortuzar            1087 non-null   uint8  \n",
      " 61  l3_Villa Pueyrredon         1087 non-null   uint8  \n",
      " 62  l3_Villa Pueyrredón         1087 non-null   uint8  \n",
      " 63  l3_Villa Real               1087 non-null   uint8  \n",
      " 64  l3_Villa Riachuelo          1087 non-null   uint8  \n",
      " 65  l3_Villa Santa Rita         1087 non-null   uint8  \n",
      " 66  l3_Villa Soldati            1087 non-null   uint8  \n",
      " 67  l3_Villa Urquiza            1087 non-null   uint8  \n",
      " 68  l3_Villa del Parque         1087 non-null   uint8  \n",
      " 69  l3_Vélez Sarsfield          1087 non-null   uint8  \n",
      " 70  property_type_Departamento  1087 non-null   uint8  \n",
      " 71  property_type_PH            1087 non-null   uint8  \n",
      " 72  lat                         1087 non-null   float64\n",
      " 73  lon                         1087 non-null   float64\n",
      " 74  lnsurface_covered           1087 non-null   float64\n",
      " 75  lnsurface_total             1087 non-null   float64\n",
      "dtypes: float64(12), uint8(64)\n",
      "memory usage: 178.3+ KB\n"
     ]
    }
   ],
   "source": [
    "df_pred.info()"
   ]
  },
  {
   "cell_type": "code",
   "execution_count": 564,
   "metadata": {
    "collapsed": true,
    "jupyter": {
     "outputs_hidden": true
    },
    "tags": []
   },
   "outputs": [
    {
     "name": "stdout",
     "output_type": "stream",
     "text": [
      "<class 'pandas.core.frame.DataFrame'>\n",
      "Index: 102419 entries, U3qdJMKXnOJm0Y1tWpnnfg== to No3is+HhwUGlfgQfzsZbdg==\n",
      "Data columns (total 76 columns):\n",
      " #   Column                      Non-Null Count   Dtype  \n",
      "---  ------                      --------------   -----  \n",
      " 0   rooms                       102419 non-null  float64\n",
      " 1   bedrooms                    102419 non-null  float64\n",
      " 2   bathrooms                   102419 non-null  float64\n",
      " 3   surface_total               102419 non-null  float64\n",
      " 4   surface_covered             102419 non-null  float64\n",
      " 5   price                       102419 non-null  float64\n",
      " 6   lnrooms                     102419 non-null  float64\n",
      " 7   lnbedrooms                  102419 non-null  float64\n",
      " 8   l3_2 Ambientes              102419 non-null  uint8  \n",
      " 9   l3_Abasto                   102419 non-null  uint8  \n",
      " 10  l3_Agronomía                102419 non-null  uint8  \n",
      " 11  l3_Almagro                  102419 non-null  uint8  \n",
      " 12  l3_Balvanera                102419 non-null  uint8  \n",
      " 13  l3_Barracas                 102419 non-null  uint8  \n",
      " 14  l3_Barrio Norte             102419 non-null  uint8  \n",
      " 15  l3_Belgrano                 102419 non-null  uint8  \n",
      " 16  l3_Boca                     102419 non-null  uint8  \n",
      " 17  l3_Boedo                    102419 non-null  uint8  \n",
      " 18  l3_Caballito                102419 non-null  uint8  \n",
      " 19  l3_Catalinas                102419 non-null  uint8  \n",
      " 20  l3_Centro / Microcentro     102419 non-null  uint8  \n",
      " 21  l3_Chacarita                102419 non-null  uint8  \n",
      " 22  l3_Coghlan                  102419 non-null  uint8  \n",
      " 23  l3_Colegiales               102419 non-null  uint8  \n",
      " 24  l3_Congreso                 102419 non-null  uint8  \n",
      " 25  l3_Constitución             102419 non-null  uint8  \n",
      " 26  l3_Flores                   102419 non-null  uint8  \n",
      " 27  l3_Floresta                 102419 non-null  uint8  \n",
      " 28  l3_GBA Norte                102419 non-null  uint8  \n",
      " 29  l3_Las Cañitas              102419 non-null  uint8  \n",
      " 30  l3_Liniers                  102419 non-null  uint8  \n",
      " 31  l3_Mataderos                102419 non-null  uint8  \n",
      " 32  l3_Monserrat                102419 non-null  uint8  \n",
      " 33  l3_Monte Castro             102419 non-null  uint8  \n",
      " 34  l3_Nueva Pompeya            102419 non-null  uint8  \n",
      " 35  l3_Nuñez                    102419 non-null  uint8  \n",
      " 36  l3_Once                     102419 non-null  uint8  \n",
      " 37  l3_Palermo                  102419 non-null  uint8  \n",
      " 38  l3_Parque Avellaneda        102419 non-null  uint8  \n",
      " 39  l3_Parque Centenario        102419 non-null  uint8  \n",
      " 40  l3_Parque Chacabuco         102419 non-null  uint8  \n",
      " 41  l3_Parque Chas              102419 non-null  uint8  \n",
      " 42  l3_Parque Patricios         102419 non-null  uint8  \n",
      " 43  l3_Paternal                 102419 non-null  uint8  \n",
      " 44  l3_Pompeya                  102419 non-null  uint8  \n",
      " 45  l3_Puerto Madero            102419 non-null  uint8  \n",
      " 46  l3_Recoleta                 102419 non-null  uint8  \n",
      " 47  l3_Retiro                   102419 non-null  uint8  \n",
      " 48  l3_Saavedra                 102419 non-null  uint8  \n",
      " 49  l3_San Cristobal            102419 non-null  uint8  \n",
      " 50  l3_San Nicolás              102419 non-null  uint8  \n",
      " 51  l3_San Telmo                102419 non-null  uint8  \n",
      " 52  l3_Tribunales               102419 non-null  uint8  \n",
      " 53  l3_Velez Sarsfield          102419 non-null  uint8  \n",
      " 54  l3_Versalles                102419 non-null  uint8  \n",
      " 55  l3_Villa Crespo             102419 non-null  uint8  \n",
      " 56  l3_Villa Devoto             102419 non-null  uint8  \n",
      " 57  l3_Villa General Mitre      102419 non-null  uint8  \n",
      " 58  l3_Villa Lugano             102419 non-null  uint8  \n",
      " 59  l3_Villa Luro               102419 non-null  uint8  \n",
      " 60  l3_Villa Ortuzar            102419 non-null  uint8  \n",
      " 61  l3_Villa Pueyrredon         102419 non-null  uint8  \n",
      " 62  l3_Villa Pueyrredón         102419 non-null  uint8  \n",
      " 63  l3_Villa Real               102419 non-null  uint8  \n",
      " 64  l3_Villa Riachuelo          102419 non-null  uint8  \n",
      " 65  l3_Villa Santa Rita         102419 non-null  uint8  \n",
      " 66  l3_Villa Soldati            102419 non-null  uint8  \n",
      " 67  l3_Villa Urquiza            102419 non-null  uint8  \n",
      " 68  l3_Villa del Parque         102419 non-null  uint8  \n",
      " 69  l3_Vélez Sarsfield          102419 non-null  uint8  \n",
      " 70  property_type_Departamento  102419 non-null  uint8  \n",
      " 71  property_type_PH            102419 non-null  uint8  \n",
      " 72  lat                         0 non-null       float64\n",
      " 73  lon                         0 non-null       float64\n",
      " 74  lnsurface_covered           102419 non-null  float64\n",
      " 75  lnsurface_total             102419 non-null  float64\n",
      "dtypes: float64(12), uint8(64)\n",
      "memory usage: 16.4+ MB\n"
     ]
    }
   ],
   "source": [
    "df.info()"
   ]
  },
  {
   "cell_type": "code",
   "execution_count": 396,
   "metadata": {
    "collapsed": true,
    "jupyter": {
     "outputs_hidden": true
    },
    "tags": []
   },
   "outputs": [
    {
     "name": "stdout",
     "output_type": "stream",
     "text": [
      "<class 'pandas.core.frame.DataFrame'>\n",
      "Index: 151918 entries, U3qdJMKXnOJm0Y1tWpnnfg== to RYlWKNYAOPbDbHGoYD/PAA==\n",
      "Data columns (total 8 columns):\n",
      " #   Column           Non-Null Count   Dtype  \n",
      "---  ------           --------------   -----  \n",
      " 0   l3               151342 non-null  object \n",
      " 1   rooms            151918 non-null  float64\n",
      " 2   bedrooms         151918 non-null  float64\n",
      " 3   bathrooms        151918 non-null  float64\n",
      " 4   surface_total    151918 non-null  float64\n",
      " 5   surface_covered  151918 non-null  float64\n",
      " 6   price            151918 non-null  float64\n",
      " 7   property_type    151918 non-null  object \n",
      "dtypes: float64(6), object(2)\n",
      "memory usage: 10.4+ MB\n"
     ]
    }
   ],
   "source": [
    "df.info()"
   ]
  },
  {
   "cell_type": "markdown",
   "metadata": {
    "id": "byV0dQi-yiEd",
    "jp-MarkdownHeadingCollapsed": true,
    "tags": []
   },
   "source": [
    "# Análisis del conjunto de datos"
   ]
  },
  {
   "cell_type": "code",
   "execution_count": 445,
   "metadata": {},
   "outputs": [
    {
     "data": {
      "text/plain": [
       "Palermo                 41131\n",
       "Belgrano                29278\n",
       "Recoleta                17910\n",
       "Caballito               14567\n",
       "Almagro                 10869\n",
       "Villa Urquiza           10524\n",
       "Villa Crespo            10518\n",
       "Barrio Norte             8843\n",
       "Nuñez                    7427\n",
       "Puerto Madero            7050\n",
       "San Nicolás              6780\n",
       "Flores                   6694\n",
       "Balvanera                6538\n",
       "Colegiales               5018\n",
       "Retiro                   4958\n",
       "San Telmo                4401\n",
       "San Cristobal            4180\n",
       "Villa Devoto             4055\n",
       "Monserrat                4012\n",
       "Saavedra                 3825\n",
       "Villa del Parque         3394\n",
       "Floresta                 3064\n",
       "Boedo                    3048\n",
       "Barracas                 3021\n",
       "Mataderos                2811\n",
       "Liniers                  2615\n",
       "Congreso                 2249\n",
       "Parque Chacabuco         2240\n",
       "Villa Pueyrredón         2110\n",
       "Villa Luro               2020\n",
       "Centro / Microcentro     2015\n",
       "Coghlan                  1972\n",
       "Chacarita                1882\n",
       "Parque Patricios         1871\n",
       "Once                     1681\n",
       "Tribunales               1583\n",
       "Paternal                 1526\n",
       "Villa Lugano             1480\n",
       "Constitución             1464\n",
       "Villa Ortuzar            1219\n",
       "Boca                     1090\n",
       "Las Cañitas              1065\n",
       "Monte Castro              912\n",
       "Villa General Mitre       871\n",
       "Abasto                    851\n",
       "Villa Santa Rita          809\n",
       "Parque Avellaneda         738\n",
       "Pompeya                   729\n",
       "Parque Centenario         703\n",
       "Velez Sarsfield           573\n",
       "Versalles                 550\n",
       "Agronomía                 503\n",
       "Parque Chas               490\n",
       "Catalinas                 426\n",
       "Villa Real                277\n",
       "Villa Soldati             237\n",
       "Villa Riachuelo            56\n",
       "Name: l3, dtype: int64"
      ]
     },
     "execution_count": 445,
     "metadata": {},
     "output_type": "execute_result"
    }
   ],
   "source": [
    "#analizamos los valores de las distintas variables\n",
    "df.l3.value_counts()"
   ]
  },
  {
   "cell_type": "code",
   "execution_count": 427,
   "metadata": {},
   "outputs": [
    {
     "data": {
      "text/plain": [
       "34.819"
      ]
     },
     "execution_count": 427,
     "metadata": {},
     "output_type": "execute_result"
    }
   ],
   "source": [
    "df_pred.l4.max()"
   ]
  },
  {
   "cell_type": "code",
   "execution_count": 428,
   "metadata": {
    "colab": {
     "base_uri": "https://localhost:8080/"
    },
    "id": "ckXCv9f-uia0",
    "outputId": "53090f8c-214a-4036-a498-96bfeb30020c"
   },
   "outputs": [
    {
     "data": {
      "text/plain": [
       "-38.0152022"
      ]
     },
     "execution_count": 428,
     "metadata": {},
     "output_type": "execute_result"
    }
   ],
   "source": [
    "df_pred.l4.min()"
   ]
  },
  {
   "cell_type": "markdown",
   "metadata": {
    "tags": []
   },
   "source": [
    "# Tratamiento de nulls y outliers"
   ]
  },
  {
   "cell_type": "markdown",
   "metadata": {
    "jp-MarkdownHeadingCollapsed": true,
    "tags": []
   },
   "source": [
    "## Longitud y Latitud"
   ]
  },
  {
   "cell_type": "code",
   "execution_count": 8,
   "metadata": {},
   "outputs": [],
   "source": [
    "df = df.loc[df[\"l1\"] == \"Argentina\"]"
   ]
  },
  {
   "cell_type": "code",
   "execution_count": 9,
   "metadata": {},
   "outputs": [],
   "source": [
    "df = df.loc[df[\"l2\"] == \"Capital Federal\"]"
   ]
  },
  {
   "cell_type": "markdown",
   "metadata": {
    "tags": []
   },
   "source": [
    "Coordenadas maximas CABA: \\\n",
    "Norte - (-34.531639, -58.464800)\\\n",
    "Este - (-34.62073349940953, -58.338011418419356)\\\n",
    "Oeste - (-34.61568853226109, -58.532674897063565)\\\n",
    "Sur - (-34.7058110012102, -58.4602477739537)\\\n",
    "\\\n",
    "Limites:\\\n",
    "Longitud - (-58.532674897063565, -58.338011418419356 )\\\n",
    "Latitud - (-34.7058110012102, -34.531639)"
   ]
  },
  {
   "cell_type": "code",
   "execution_count": 10,
   "metadata": {},
   "outputs": [],
   "source": [
    "lon_min_max = (-58.532674897063565, -58.338011418419356 )\n",
    "lat_min_max = (-34.7058110012102, -34.531639)"
   ]
  },
  {
   "cell_type": "code",
   "execution_count": 11,
   "metadata": {},
   "outputs": [],
   "source": [
    "df_lon_lat = df.loc[df[\"l2\"] == \"Capital Federal\"]"
   ]
  },
  {
   "cell_type": "code",
   "execution_count": 12,
   "metadata": {},
   "outputs": [],
   "source": [
    "df_lon_lat.drop(df_lon_lat.loc[df_lon_lat[\"lat\"].isnull() & df_lon_lat[\"lon\"].isnull() & df_lon_lat[\"l3\"].isnull()].index, inplace = True)\n",
    "df_lon_lat = df_lon_lat[[\"lat\", \"lon\", \"l3\"]]\n",
    "df_lon_lat[\"lat_outlier\"] = df_lon_lat.lat.apply(lambda x: 0 if (x > lat_min_max[0]) & (x < lat_min_max[1]) else 1  )\n",
    "df_lon_lat[\"lon_outlier\"] = df_lon_lat.lon.apply(lambda x: 0 if (x > lon_min_max[0]) & (x < lon_min_max[1]) else 1 )"
   ]
  },
  {
   "cell_type": "code",
   "execution_count": 13,
   "metadata": {},
   "outputs": [],
   "source": [
    "df_lon_lat.drop(df_lon_lat.loc[(df_lon_lat.lat_outlier == 1) & (df_lon_lat.l3.isnull())].index, inplace = True)\n",
    "out_lon_lat_ind = df_lon_lat.loc[(df_lon_lat.lat_outlier == 1) | (df_lon_lat.lon_outlier == 1)].index\n",
    "df_lon_lat_out = df_lon_lat.loc[(df_lon_lat.lat_outlier == 1) | (df_lon_lat.lon_outlier == 1)]\n",
    "df_lon_lat = df_lon_lat.loc[(df_lon_lat.lat_outlier == 0) & (df_lon_lat.lon_outlier == 0)]"
   ]
  },
  {
   "cell_type": "code",
   "execution_count": 14,
   "metadata": {},
   "outputs": [],
   "source": [
    "l3_list = list(df_lon_lat.l3.unique())\n",
    "l3_dict_lat = {}\n",
    "l3_dict_lon = {}\n",
    "for i in l3_list:\n",
    "    l3_dict_lon[i] = df_lon_lat.loc[df_lon_lat.l3 == i, \"lon\"].mean()\n",
    "    l3_dict_lat[i] = df_lon_lat.loc[df_lon_lat.l3 == i, \"lat\"].mean()\n",
    "\n",
    "df_lon_lat_out[\"lon\"] = df_lon_lat_out.l3.apply(lambda x:l3_dict_lon[x])\n",
    "df_lon_lat_out[\"lat\"] = df_lon_lat_out.l3.apply(lambda x:l3_dict_lat[x])"
   ]
  },
  {
   "cell_type": "code",
   "execution_count": 15,
   "metadata": {
    "collapsed": true,
    "jupyter": {
     "outputs_hidden": true
    },
    "tags": []
   },
   "outputs": [
    {
     "name": "stderr",
     "output_type": "stream",
     "text": [
      "/tmp/ipykernel_92/3971525020.py:2: SettingWithCopyWarning: \n",
      "A value is trying to be set on a copy of a slice from a DataFrame\n",
      "\n",
      "See the caveats in the documentation: https://pandas.pydata.org/pandas-docs/stable/user_guide/indexing.html#returning-a-view-versus-a-copy\n",
      "  df[\"lon\"].loc[ind] = df_lon_lat_out[\"lon\"].loc[ind]\n",
      "/tmp/ipykernel_92/3971525020.py:3: SettingWithCopyWarning: \n",
      "A value is trying to be set on a copy of a slice from a DataFrame\n",
      "\n",
      "See the caveats in the documentation: https://pandas.pydata.org/pandas-docs/stable/user_guide/indexing.html#returning-a-view-versus-a-copy\n",
      "  df[\"lat\"].loc[ind] = df_lon_lat_out[\"lat\"].loc[ind]\n"
     ]
    }
   ],
   "source": [
    "for ind in out_lon_lat_ind:\n",
    "    df[\"lon\"].loc[ind] = df_lon_lat_out[\"lon\"].loc[ind]\n",
    "    df[\"lat\"].loc[ind] = df_lon_lat_out[\"lat\"].loc[ind]   "
   ]
  },
  {
   "cell_type": "markdown",
   "metadata": {
    "jp-MarkdownHeadingCollapsed": true,
    "tags": []
   },
   "source": [
    "## l3 - Barrio"
   ]
  },
  {
   "cell_type": "markdown",
   "metadata": {},
   "source": [
    "Corregidas las longitudes y latitudes generamos un knn para predecir los barrios y completar l3"
   ]
  },
  {
   "cell_type": "code",
   "execution_count": 16,
   "metadata": {
    "collapsed": true,
    "jupyter": {
     "outputs_hidden": true
    },
    "tags": []
   },
   "outputs": [
    {
     "name": "stderr",
     "output_type": "stream",
     "text": [
      "/tmp/ipykernel_92/2478595951.py:3: SettingWithCopyWarning: \n",
      "A value is trying to be set on a copy of a slice from a DataFrame\n",
      "\n",
      "See the caveats in the documentation: https://pandas.pydata.org/pandas-docs/stable/user_guide/indexing.html#returning-a-view-versus-a-copy\n",
      "  df_l3.drop(df_l3.loc[df_l3[\"lon\"].isnull()].index,inplace = True)\n",
      "/tmp/ipykernel_92/2478595951.py:4: SettingWithCopyWarning: \n",
      "A value is trying to be set on a copy of a slice from a DataFrame\n",
      "\n",
      "See the caveats in the documentation: https://pandas.pydata.org/pandas-docs/stable/user_guide/indexing.html#returning-a-view-versus-a-copy\n",
      "  df_l3.drop(df_l3.loc[df_l3[\"lat\"].isnull()].index,inplace = True)\n"
     ]
    }
   ],
   "source": [
    "df_l3 = df[[\"lon\",\"lat\",\"l3\"]]\n",
    "\n",
    "df_l3.drop(df_l3.loc[df_l3[\"lon\"].isnull()].index,inplace = True)\n",
    "df_l3.drop(df_l3.loc[df_l3[\"lat\"].isnull()].index,inplace = True)\n",
    "\n",
    "df_test_l3 = df_l3.loc[df_l3[\"l3\"].isnull()]\n",
    "\n",
    "df_train_l3 = df_l3.loc[df_l3[\"l3\"].notnull()]"
   ]
  },
  {
   "cell_type": "code",
   "execution_count": 17,
   "metadata": {},
   "outputs": [
    {
     "name": "stdout",
     "output_type": "stream",
     "text": [
      "n_1 0.8380804193175351\n",
      "n_3 0.8383278341978697\n",
      "n_5 0.8398275092636194\n",
      "n_7 0.8394354615245071\n",
      "n_9 0.8387389094042674\n",
      "n_11 0.8381451235140739\n"
     ]
    }
   ],
   "source": [
    "X_l3 = df_train_l3[df_train_l3.columns.drop('l3')]\n",
    "y_l3 = df_train_l3['l3']\n",
    "\n",
    "# Partimos en entrenamiento y prueba \n",
    "\n",
    "for i in [1,3,5,7,9,11]:\n",
    "    # Creamos el objeto del modelo\n",
    "    neigh = sk.neighbors.KNeighborsClassifier(n_neighbors=i, n_jobs = -1)\n",
    "    \n",
    "    kf = sk.model_selection.KFold(n_splits=10, shuffle=True, random_state=42)\n",
    "    \n",
    "    scores = []\n",
    "    \n",
    "    for train, test in kf.split(X_l3):\n",
    "        \n",
    "        X_train, X_test, y_train, y_test = X_l3.iloc[train], X_l3.iloc[test], y_l3[train], y_l3[test]\n",
    "    \n",
    "        # Entrenamos el modelo\n",
    "        neigh.fit(X_train, y_train)\n",
    "    \n",
    "        # Predecimos\n",
    "        y_pred_l3 = neigh.predict(X_test)\n",
    "    \n",
    "        # Medimos la performance de la predicción\n",
    "        score = sk.metrics.accuracy_score(y_test, y_pred_l3)\n",
    "        scores.append(score)\n",
    "        #print(score)\n",
    "    print(f\"n_{i} {np.mean(scores)}\")\n"
   ]
  },
  {
   "cell_type": "code",
   "execution_count": 18,
   "metadata": {
    "collapsed": true,
    "jupyter": {
     "outputs_hidden": true
    },
    "tags": []
   },
   "outputs": [
    {
     "name": "stderr",
     "output_type": "stream",
     "text": [
      "/tmp/ipykernel_92/599255535.py:10: SettingWithCopyWarning: \n",
      "A value is trying to be set on a copy of a slice from a DataFrame.\n",
      "Try using .loc[row_indexer,col_indexer] = value instead\n",
      "\n",
      "See the caveats in the documentation: https://pandas.pydata.org/pandas-docs/stable/user_guide/indexing.html#returning-a-view-versus-a-copy\n",
      "  df_test_l3[\"l3\"] = neigh.predict(X_pred_l3)\n"
     ]
    }
   ],
   "source": [
    "X_pred_l3 = df_test_l3[df_test_l3.columns.drop('l3')]\n",
    "\n",
    "# Entrenamiento\n",
    "neigh = sk.neighbors.KNeighborsClassifier(n_neighbors = 5, n_jobs = -1)\n",
    "\n",
    "# Entrenamos el modelo\n",
    "neigh.fit(X_train, y_train)\n",
    "\n",
    "# predicción\n",
    "df_test_l3[\"l3\"] = neigh.predict(X_pred_l3)"
   ]
  },
  {
   "cell_type": "code",
   "execution_count": 19,
   "metadata": {
    "scrolled": true
   },
   "outputs": [],
   "source": [
    "df[\"l3\"].loc[df[\"l3\"].isnull()] = df_test_l3[\"l3\"]"
   ]
  },
  {
   "cell_type": "markdown",
   "metadata": {
    "jp-MarkdownHeadingCollapsed": true,
    "tags": []
   },
   "source": [
    "## Limpieza de otras columnas y lineas"
   ]
  },
  {
   "cell_type": "code",
   "execution_count": 20,
   "metadata": {},
   "outputs": [],
   "source": [
    "df.drop(columns = [\"ad_type\",\"l4\",\"l5\", \"l6\", \"created_on\",\"start_date\", \"end_date\",\"l1\",\"l2\",\"price_period\",\"operation_type\"], inplace = True )"
   ]
  },
  {
   "cell_type": "code",
   "execution_count": 21,
   "metadata": {
    "id": "yg8qNxuNrzQp"
   },
   "outputs": [],
   "source": [
    "df.dropna(subset=[\"price\"], inplace = True)\n",
    "\n",
    "df.dropna(subset=[\"currency\"], inplace = True)"
   ]
  },
  {
   "cell_type": "code",
   "execution_count": 22,
   "metadata": {},
   "outputs": [
    {
     "name": "stderr",
     "output_type": "stream",
     "text": [
      "/tmp/ipykernel_92/3524703153.py:3: SettingWithCopyWarning: \n",
      "A value is trying to be set on a copy of a slice from a DataFrame\n",
      "\n",
      "See the caveats in the documentation: https://pandas.pydata.org/pandas-docs/stable/user_guide/indexing.html#returning-a-view-versus-a-copy\n",
      "  df.drop(columns = [\"currency\"], inplace = True )\n"
     ]
    }
   ],
   "source": [
    "df = df.loc[df[\"currency\"] == \"USD\"]\n",
    "\n",
    "df.drop(columns = [\"currency\"], inplace = True )"
   ]
  },
  {
   "cell_type": "code",
   "execution_count": 23,
   "metadata": {},
   "outputs": [
    {
     "name": "stderr",
     "output_type": "stream",
     "text": [
      "/tmp/ipykernel_92/354315104.py:1: SettingWithCopyWarning: \n",
      "A value is trying to be set on a copy of a slice from a DataFrame.\n",
      "Try using .loc[row_indexer,col_indexer] = value instead\n",
      "\n",
      "See the caveats in the documentation: https://pandas.pydata.org/pandas-docs/stable/user_guide/indexing.html#returning-a-view-versus-a-copy\n",
      "  df[\"property_type_check\"] = df.property_type.apply(lambda x: 1 if x in (\"Departamento\",\"PH\") else 0)\n",
      "/tmp/ipykernel_92/354315104.py:5: SettingWithCopyWarning: \n",
      "A value is trying to be set on a copy of a slice from a DataFrame\n",
      "\n",
      "See the caveats in the documentation: https://pandas.pydata.org/pandas-docs/stable/user_guide/indexing.html#returning-a-view-versus-a-copy\n",
      "  df.drop(columns = \"property_type_check\", inplace = True)\n"
     ]
    }
   ],
   "source": [
    "df[\"property_type_check\"] = df.property_type.apply(lambda x: 1 if x in (\"Departamento\",\"PH\") else 0)\n",
    "\n",
    "df = df.loc[df[\"property_type_check\"] == 1]\n",
    "\n",
    "df.drop(columns = \"property_type_check\", inplace = True)"
   ]
  },
  {
   "cell_type": "code",
   "execution_count": 24,
   "metadata": {},
   "outputs": [],
   "source": [
    "df.drop(df.loc[df[\"rooms\"].isnull() & df[\"bedrooms\"].isnull() & df[\"bathrooms\"].isnull() & df[\"surface_total\"].isnull() & df[\"surface_covered\"].isnull()].index, inplace = True)"
   ]
  },
  {
   "cell_type": "code",
   "execution_count": 25,
   "metadata": {},
   "outputs": [],
   "source": [
    "df_pred[\"rooms\"].fillna(0, inplace = True)\n",
    "df_pred[\"bedrooms\"].fillna(0, inplace = True)\n",
    "df_pred[\"bathrooms\"].fillna(0, inplace = True)"
   ]
  },
  {
   "cell_type": "code",
   "execution_count": 26,
   "metadata": {},
   "outputs": [],
   "source": [
    "df[\"rooms\"].fillna(0, inplace = True)\n",
    "df[\"bedrooms\"].fillna(0, inplace = True)\n",
    "df[\"bathrooms\"].fillna(0, inplace = True)"
   ]
  },
  {
   "cell_type": "code",
   "execution_count": 27,
   "metadata": {},
   "outputs": [
    {
     "name": "stderr",
     "output_type": "stream",
     "text": [
      "/tmp/ipykernel_92/3354645445.py:1: SettingWithCopyWarning: \n",
      "A value is trying to be set on a copy of a slice from a DataFrame\n",
      "\n",
      "See the caveats in the documentation: https://pandas.pydata.org/pandas-docs/stable/user_guide/indexing.html#returning-a-view-versus-a-copy\n",
      "  df[\"surface_total\"].loc[df[\"surface_total\"].isnull() & df[\"surface_covered\"] > 0] = df[\"surface_covered\"].loc[df[\"surface_total\"].isnull() & df[\"surface_covered\"] > 0]\n"
     ]
    }
   ],
   "source": [
    "df[\"surface_total\"].loc[df[\"surface_total\"].isnull() & df[\"surface_covered\"] > 0] = df[\"surface_covered\"].loc[df[\"surface_total\"].isnull() & df[\"surface_covered\"] > 0]\n",
    "\n",
    "df[\"surface_total\"].fillna(0, inplace = True)\n",
    "df[\"surface_covered\"].fillna(0, inplace = True)"
   ]
  },
  {
   "cell_type": "code",
   "execution_count": 28,
   "metadata": {
    "scrolled": true
   },
   "outputs": [
    {
     "name": "stderr",
     "output_type": "stream",
     "text": [
      "/tmp/ipykernel_92/3611823614.py:1: SettingWithCopyWarning: \n",
      "A value is trying to be set on a copy of a slice from a DataFrame\n",
      "\n",
      "See the caveats in the documentation: https://pandas.pydata.org/pandas-docs/stable/user_guide/indexing.html#returning-a-view-versus-a-copy\n",
      "  df[\"bedrooms\"].loc[df[\"bedrooms\"] < 0 ] = abs(df[\"bedrooms\"].loc[df[\"bedrooms\"] < 0 ])\n"
     ]
    }
   ],
   "source": [
    "df[\"bedrooms\"].loc[df[\"bedrooms\"] < 0 ] = abs(df[\"bedrooms\"].loc[df[\"bedrooms\"] < 0 ])"
   ]
  },
  {
   "cell_type": "code",
   "execution_count": 29,
   "metadata": {
    "scrolled": true
   },
   "outputs": [
    {
     "name": "stderr",
     "output_type": "stream",
     "text": [
      "/tmp/ipykernel_92/3583135774.py:1: SettingWithCopyWarning: \n",
      "A value is trying to be set on a copy of a slice from a DataFrame\n",
      "\n",
      "See the caveats in the documentation: https://pandas.pydata.org/pandas-docs/stable/user_guide/indexing.html#returning-a-view-versus-a-copy\n",
      "  df[\"surface_total\"].loc[df[\"surface_total\"] < 0 ] = abs(df[\"surface_total\"].loc[df[\"surface_total\"] < 0 ])\n"
     ]
    }
   ],
   "source": [
    "df[\"surface_total\"].loc[df[\"surface_total\"] < 0 ] = abs(df[\"surface_total\"].loc[df[\"surface_total\"] < 0 ])"
   ]
  },
  {
   "cell_type": "code",
   "execution_count": 30,
   "metadata": {
    "scrolled": true
   },
   "outputs": [
    {
     "name": "stderr",
     "output_type": "stream",
     "text": [
      "/tmp/ipykernel_92/3604395483.py:1: SettingWithCopyWarning: \n",
      "A value is trying to be set on a copy of a slice from a DataFrame\n",
      "\n",
      "See the caveats in the documentation: https://pandas.pydata.org/pandas-docs/stable/user_guide/indexing.html#returning-a-view-versus-a-copy\n",
      "  df[\"surface_covered\"].loc[df[\"surface_covered\"] < 0 ] = abs(df[\"surface_covered\"].loc[df[\"surface_covered\"] < 0 ])\n"
     ]
    }
   ],
   "source": [
    "df[\"surface_covered\"].loc[df[\"surface_covered\"] < 0 ] = abs(df[\"surface_covered\"].loc[df[\"surface_covered\"] < 0 ])"
   ]
  },
  {
   "cell_type": "code",
   "execution_count": 31,
   "metadata": {},
   "outputs": [],
   "source": [
    "df.drop(columns = [\"title\"], inplace = True)"
   ]
  },
  {
   "cell_type": "code",
   "execution_count": 32,
   "metadata": {},
   "outputs": [],
   "source": [
    "df.drop(columns = [\"lat\",\"lon\"], inplace = True)"
   ]
  },
  {
   "cell_type": "code",
   "execution_count": 33,
   "metadata": {},
   "outputs": [],
   "source": [
    "df.drop(df.loc[df[\"price\"]> 6000000].index, inplace=True)"
   ]
  },
  {
   "cell_type": "code",
   "execution_count": 34,
   "metadata": {},
   "outputs": [],
   "source": [
    "df.drop(df[df.price < 15000.0].index,inplace = True)"
   ]
  },
  {
   "cell_type": "code",
   "execution_count": 35,
   "metadata": {},
   "outputs": [],
   "source": [
    "df.drop_duplicates(inplace = True)"
   ]
  },
  {
   "cell_type": "markdown",
   "metadata": {
    "jp-MarkdownHeadingCollapsed": true,
    "tags": []
   },
   "source": [
    "## Modifico el df_pred"
   ]
  },
  {
   "cell_type": "code",
   "execution_count": 36,
   "metadata": {
    "tags": []
   },
   "outputs": [],
   "source": [
    "df_pred.drop(columns = [\"ad_type\",\"l4\",\"l5\", \"l6\", \"created_on\"], inplace = True )\n",
    "df_pred.drop(columns = [\"l1\",\"l2\"], inplace = True )\n",
    "df_pred.drop(columns = [\"currency\"], inplace = True )\n",
    "df_pred.drop(columns = [\"price_period\"], inplace = True)\n",
    "df_pred.drop(columns = \"operation_type\", inplace = True)\n",
    "df_pred.drop(columns = [\"start_date\",\"end_date\",\"services\"], inplace = True)\n",
    "df_pred.drop(columns = [\"title\",\"details\"], inplace = True)"
   ]
  },
  {
   "cell_type": "code",
   "execution_count": 37,
   "metadata": {},
   "outputs": [],
   "source": [
    "df_pred.drop(columns = [\"lat\",\"lon\"], inplace = True)"
   ]
  },
  {
   "cell_type": "markdown",
   "metadata": {
    "id": "i2jRJmQ-tD4Z",
    "tags": []
   },
   "source": [
    "# Feature Engineering"
   ]
  },
  {
   "cell_type": "markdown",
   "metadata": {},
   "source": [
    "Concateno los dataframes para que tengan las mismas columnas y las variables categoricas esten alineadas"
   ]
  },
  {
   "cell_type": "code",
   "execution_count": 38,
   "metadata": {},
   "outputs": [],
   "source": [
    "df_total = pd.concat([df,df_pred], axis=0)"
   ]
  },
  {
   "cell_type": "markdown",
   "metadata": {
    "tags": []
   },
   "source": [
    "## Additionals"
   ]
  },
  {
   "cell_type": "markdown",
   "metadata": {},
   "source": [
    "Genero dummies con los additionals y lo agrego en el df"
   ]
  },
  {
   "cell_type": "code",
   "execution_count": 39,
   "metadata": {
    "collapsed": true,
    "jupyter": {
     "outputs_hidden": true
    },
    "tags": []
   },
   "outputs": [
    {
     "name": "stderr",
     "output_type": "stream",
     "text": [
      "/tmp/ipykernel_92/910923671.py:2: UserWarning: Pandas doesn't allow columns to be created via a new attribute name - see https://pandas.pydata.org/pandas-docs/stable/indexing.html#attribute-access\n",
      "  df_pred.additionals_split = df_pred.additionals.apply(lambda x: x.split(\",\"))\n"
     ]
    }
   ],
   "source": [
    "df_pred.additionals.fillna(\"zxzyzjz\", inplace = True)\n",
    "df_pred.additionals_split = df_pred.additionals.apply(lambda x: x.split(\",\"))"
   ]
  },
  {
   "cell_type": "code",
   "execution_count": 40,
   "metadata": {},
   "outputs": [],
   "source": [
    "additionals_list = df_pred.additionals_split.explode().unique()\n",
    "additionals_list = [x.strip() for x in additionals_list]\n",
    "additionals_list = list(dict.fromkeys(additionals_list))"
   ]
  },
  {
   "cell_type": "code",
   "execution_count": 41,
   "metadata": {},
   "outputs": [],
   "source": [
    "df_total.description.fillna(\"sin_descripcion\", inplace = True)"
   ]
  },
  {
   "cell_type": "code",
   "execution_count": 42,
   "metadata": {},
   "outputs": [],
   "source": [
    "for additional in additionals_list:\n",
    "    df_total[additional] = df_total.description.apply(lambda x: 1 if additional.lower() in x.lower() else 0)"
   ]
  },
  {
   "cell_type": "code",
   "execution_count": 43,
   "metadata": {},
   "outputs": [],
   "source": [
    "df_total.drop(columns = \"zxzyzjz\", inplace = True)\n",
    "df_total.drop(columns = \"additionals\", inplace = True)\n",
    "df_total.drop(columns = \"description\", inplace = True)"
   ]
  },
  {
   "cell_type": "markdown",
   "metadata": {
    "jp-MarkdownHeadingCollapsed": true,
    "tags": []
   },
   "source": [
    "## logaritmicas"
   ]
  },
  {
   "cell_type": "code",
   "execution_count": 44,
   "metadata": {},
   "outputs": [],
   "source": [
    "df_total[\"lnrooms\"] = df_total.rooms.apply(lambda x: x if x == 0 else np.log(x))"
   ]
  },
  {
   "cell_type": "code",
   "execution_count": 45,
   "metadata": {},
   "outputs": [],
   "source": [
    "df_total[\"lnbedrooms\"] = df_total.bedrooms.apply(lambda x: x if x == 0 else np.log(x))"
   ]
  },
  {
   "cell_type": "code",
   "execution_count": 46,
   "metadata": {},
   "outputs": [],
   "source": [
    "df_total[\"lnsurface_covered\"] = df_total.surface_covered.apply(lambda x: x if x == 0 else np.log(x))"
   ]
  },
  {
   "cell_type": "code",
   "execution_count": 47,
   "metadata": {},
   "outputs": [],
   "source": [
    "df_total[\"lnsurface_total\"] = df_total.surface_total.apply(lambda x: x if x == 0 else np.log(x))"
   ]
  },
  {
   "cell_type": "markdown",
   "metadata": {
    "jp-MarkdownHeadingCollapsed": true,
    "tags": []
   },
   "source": [
    "## Dummies"
   ]
  },
  {
   "cell_type": "code",
   "execution_count": 49,
   "metadata": {},
   "outputs": [],
   "source": [
    "df_total = pd.get_dummies(df_total, columns = [\"l3\", \"property_type\"])"
   ]
  },
  {
   "cell_type": "markdown",
   "metadata": {
    "tags": []
   },
   "source": [
    "## Separo el dataframe nuevamente en df_pred y df"
   ]
  },
  {
   "cell_type": "code",
   "execution_count": 58,
   "metadata": {},
   "outputs": [],
   "source": [
    "df = df_total[df_total.index.isin(df.index)]\n",
    "df_pred = df_total[df_total.index.isin(df_pred.index)]"
   ]
  },
  {
   "cell_type": "code",
   "execution_count": 59,
   "metadata": {
    "collapsed": true,
    "jupyter": {
     "outputs_hidden": true
    },
    "tags": []
   },
   "outputs": [
    {
     "name": "stdout",
     "output_type": "stream",
     "text": [
      "<class 'pandas.core.frame.DataFrame'>\n",
      "Index: 121464 entries, U3qdJMKXnOJm0Y1tWpnnfg== to No3is+HhwUGlfgQfzsZbdg==\n",
      "Data columns (total 89 columns):\n",
      " #   Column                      Non-Null Count   Dtype  \n",
      "---  ------                      --------------   -----  \n",
      " 0   rooms                       121464 non-null  float64\n",
      " 1   bedrooms                    121464 non-null  float64\n",
      " 2   bathrooms                   121464 non-null  float64\n",
      " 3   surface_total               121464 non-null  float64\n",
      " 4   surface_covered             121464 non-null  float64\n",
      " 5   price                       121464 non-null  float64\n",
      " 6   Aceptan Mascotas            121464 non-null  int64  \n",
      " 7   Terraza                     121464 non-null  int64  \n",
      " 8   Pileta                      121464 non-null  int64  \n",
      " 9   Seguridad                   121464 non-null  int64  \n",
      " 10  SUM                         121464 non-null  int64  \n",
      " 11  Laundry                     121464 non-null  int64  \n",
      " 12  Balcón                      121464 non-null  int64  \n",
      " 13  Gimnasio                    121464 non-null  int64  \n",
      " 14  Aire Acondicionado          121464 non-null  int64  \n",
      " 15  Patio                       121464 non-null  int64  \n",
      " 16  Calefacción                 121464 non-null  int64  \n",
      " 17  Family Room                 121464 non-null  int64  \n",
      " 18  Alarma                      121464 non-null  int64  \n",
      " 19  Roof Garden                 121464 non-null  int64  \n",
      " 20  Aire Centralizado           121464 non-null  int64  \n",
      " 21  lnrooms                     121464 non-null  float64\n",
      " 22  lnbedrooms                  121464 non-null  float64\n",
      " 23  lnsurface_covered           121464 non-null  float64\n",
      " 24  lnsurface_total             121464 non-null  float64\n",
      " 25  l3_2 Ambientes              121464 non-null  uint8  \n",
      " 26  l3_Abasto                   121464 non-null  uint8  \n",
      " 27  l3_Agronomía                121464 non-null  uint8  \n",
      " 28  l3_Almagro                  121464 non-null  uint8  \n",
      " 29  l3_Balvanera                121464 non-null  uint8  \n",
      " 30  l3_Barracas                 121464 non-null  uint8  \n",
      " 31  l3_Barrio Norte             121464 non-null  uint8  \n",
      " 32  l3_Belgrano                 121464 non-null  uint8  \n",
      " 33  l3_Boca                     121464 non-null  uint8  \n",
      " 34  l3_Boedo                    121464 non-null  uint8  \n",
      " 35  l3_Caballito                121464 non-null  uint8  \n",
      " 36  l3_Catalinas                121464 non-null  uint8  \n",
      " 37  l3_Centro / Microcentro     121464 non-null  uint8  \n",
      " 38  l3_Chacarita                121464 non-null  uint8  \n",
      " 39  l3_Coghlan                  121464 non-null  uint8  \n",
      " 40  l3_Colegiales               121464 non-null  uint8  \n",
      " 41  l3_Congreso                 121464 non-null  uint8  \n",
      " 42  l3_Constitución             121464 non-null  uint8  \n",
      " 43  l3_Flores                   121464 non-null  uint8  \n",
      " 44  l3_Floresta                 121464 non-null  uint8  \n",
      " 45  l3_GBA Norte                121464 non-null  uint8  \n",
      " 46  l3_Las Cañitas              121464 non-null  uint8  \n",
      " 47  l3_Liniers                  121464 non-null  uint8  \n",
      " 48  l3_Mataderos                121464 non-null  uint8  \n",
      " 49  l3_Monserrat                121464 non-null  uint8  \n",
      " 50  l3_Monte Castro             121464 non-null  uint8  \n",
      " 51  l3_Nueva Pompeya            121464 non-null  uint8  \n",
      " 52  l3_Nuñez                    121464 non-null  uint8  \n",
      " 53  l3_Once                     121464 non-null  uint8  \n",
      " 54  l3_Palermo                  121464 non-null  uint8  \n",
      " 55  l3_Parque Avellaneda        121464 non-null  uint8  \n",
      " 56  l3_Parque Centenario        121464 non-null  uint8  \n",
      " 57  l3_Parque Chacabuco         121464 non-null  uint8  \n",
      " 58  l3_Parque Chas              121464 non-null  uint8  \n",
      " 59  l3_Parque Patricios         121464 non-null  uint8  \n",
      " 60  l3_Paternal                 121464 non-null  uint8  \n",
      " 61  l3_Pompeya                  121464 non-null  uint8  \n",
      " 62  l3_Puerto Madero            121464 non-null  uint8  \n",
      " 63  l3_Recoleta                 121464 non-null  uint8  \n",
      " 64  l3_Retiro                   121464 non-null  uint8  \n",
      " 65  l3_Saavedra                 121464 non-null  uint8  \n",
      " 66  l3_San Cristobal            121464 non-null  uint8  \n",
      " 67  l3_San Nicolás              121464 non-null  uint8  \n",
      " 68  l3_San Telmo                121464 non-null  uint8  \n",
      " 69  l3_Tribunales               121464 non-null  uint8  \n",
      " 70  l3_Velez Sarsfield          121464 non-null  uint8  \n",
      " 71  l3_Versalles                121464 non-null  uint8  \n",
      " 72  l3_Villa Crespo             121464 non-null  uint8  \n",
      " 73  l3_Villa Devoto             121464 non-null  uint8  \n",
      " 74  l3_Villa General Mitre      121464 non-null  uint8  \n",
      " 75  l3_Villa Lugano             121464 non-null  uint8  \n",
      " 76  l3_Villa Luro               121464 non-null  uint8  \n",
      " 77  l3_Villa Ortuzar            121464 non-null  uint8  \n",
      " 78  l3_Villa Pueyrredon         121464 non-null  uint8  \n",
      " 79  l3_Villa Pueyrredón         121464 non-null  uint8  \n",
      " 80  l3_Villa Real               121464 non-null  uint8  \n",
      " 81  l3_Villa Riachuelo          121464 non-null  uint8  \n",
      " 82  l3_Villa Santa Rita         121464 non-null  uint8  \n",
      " 83  l3_Villa Soldati            121464 non-null  uint8  \n",
      " 84  l3_Villa Urquiza            121464 non-null  uint8  \n",
      " 85  l3_Villa del Parque         121464 non-null  uint8  \n",
      " 86  l3_Vélez Sarsfield          121464 non-null  uint8  \n",
      " 87  property_type_Departamento  121464 non-null  uint8  \n",
      " 88  property_type_PH            121464 non-null  uint8  \n",
      "dtypes: float64(10), int64(15), uint8(64)\n",
      "memory usage: 31.5+ MB\n"
     ]
    }
   ],
   "source": [
    "df.info()"
   ]
  },
  {
   "cell_type": "markdown",
   "metadata": {
    "tags": []
   },
   "source": [
    "# Modelización"
   ]
  },
  {
   "cell_type": "code",
   "execution_count": null,
   "metadata": {
    "id": "PoAhfAjlr-rp"
   },
   "outputs": [
    {
     "name": "stdout",
     "output_type": "stream",
     "text": [
      "max_depth:3 - mean: 28278338890.081745 sd: 1522247345.1356525\n",
      "max_depth:5 - mean: 20711437457.662857 sd: 1245440238.8766038\n",
      "max_depth:10 - mean: 13644715934.301756 sd: 1354335380.2441008\n"
     ]
    }
   ],
   "source": [
    "X = df[df.columns.drop('price')]\n",
    "y = df['price']\n",
    "\n",
    "for n_estimators in [100, 300, 500, 700, 1000]:\n",
    "    for max_depth in [3,5,10]:     \n",
    "\n",
    "## Tienen que usar RandomForestRegressor si o si o si. Pueden cambiar los parámetros\n",
    "#n_estimators = 5000\n",
    "#max_depth = 5\n",
    "\n",
    "        reg = sk.ensemble.RandomForestRegressor(n_estimators=n_estimators, max_depth=max_depth, n_jobs=-1, random_state=42)\n",
    "\n",
    "        scores = []\n",
    "        kf = sk.model_selection.KFold(n_splits=10, shuffle=True, random_state=42)\n",
    "        for train, test in kf.split(X):\n",
    "            X_train, X_test, y_train, y_test = X.iloc[train], X.iloc[test], y[train], y[test]\n",
    "        \n",
    "            # Entrenamos el modelo\n",
    "            reg.fit(X_train, y_train)\n",
    "        \n",
    "            # Predecimos\n",
    "            y_pred = reg.predict(X_test)\n",
    "        \n",
    "            # Medimos la performance de la predicción\n",
    "            score = sk.metrics.mean_squared_error(y_test, y_pred)\n",
    "            scores.append(score)\n",
    "        print(f\"max_depth:{max_depth} - mean: {np.mean(scores)} sd: {np.std(scores)}\")\n",
    "        \n",
    "    #print(f\"n_{n_estimators} - mean: {np.mean(scores)} sd: {np.std(scores)}\")"
   ]
  },
  {
   "cell_type": "markdown",
   "metadata": {
    "id": "sqVkTPzj3kV0"
   },
   "source": [
    "## Predicción para Kaggle\n"
   ]
  },
  {
   "cell_type": "code",
   "execution_count": 570,
   "metadata": {
    "id": "xzAwUNRA1Fzb"
   },
   "outputs": [],
   "source": [
    "# quedate con las mismas columnas que ar_properties\n",
    "X_pred = df_pred[X.columns]"
   ]
  },
  {
   "cell_type": "code",
   "execution_count": 571,
   "metadata": {
    "id": "81dOh5WvAPMa"
   },
   "outputs": [
    {
     "name": "stderr",
     "output_type": "stream",
     "text": [
      "/tmp/ipykernel_17351/3404264150.py:12: SettingWithCopyWarning: \n",
      "A value is trying to be set on a copy of a slice from a DataFrame.\n",
      "Try using .loc[row_indexer,col_indexer] = value instead\n",
      "\n",
      "See the caveats in the documentation: https://pandas.pydata.org/pandas-docs/stable/user_guide/indexing.html#returning-a-view-versus-a-copy\n",
      "  df_pred[\"price\"] = reg.predict(X_pred)\n"
     ]
    }
   ],
   "source": [
    "# los mejores hiperparámetros encontrados antes\n",
    "n_estimators = 4000\n",
    "max_depth = 10\n",
    "\n",
    "# Entrenamiento\n",
    "reg = sk.ensemble.RandomForestRegressor(n_estimators=n_estimators, max_depth=max_depth, random_state=42, n_jobs=-1)\n",
    "\n",
    "# Entrenamos el modelo\n",
    "reg.fit(X_train, y_train)\n",
    "\n",
    "# predicción\n",
    "df_pred[\"price\"] = reg.predict(X_pred)"
   ]
  },
  {
   "cell_type": "code",
   "execution_count": 572,
   "metadata": {
    "id": "mU9iV6cuBwKB"
   },
   "outputs": [],
   "source": [
    "# Grabo la solución\n",
    "df_pred[[\"price\"]].to_csv(\"solucion.csv\")"
   ]
  }
 ],
 "metadata": {
  "colab": {
   "collapsed_sections": [
    "sqVkTPzj3kV0"
   ],
   "name": "TP individual.ipynb",
   "provenance": []
  },
  "interpreter": {
   "hash": "916dbcbb3f70747c44a77c7bcd40155683ae19c65e1c03b4aa3499c5328201f1"
  },
  "kernelspec": {
   "display_name": "Python 3 (ipykernel)",
   "language": "python",
   "name": "python3"
  },
  "language_info": {
   "codemirror_mode": {
    "name": "ipython",
    "version": 3
   },
   "file_extension": ".py",
   "mimetype": "text/x-python",
   "name": "python",
   "nbconvert_exporter": "python",
   "pygments_lexer": "ipython3",
   "version": "3.9.10"
  }
 },
 "nbformat": 4,
 "nbformat_minor": 4
}
