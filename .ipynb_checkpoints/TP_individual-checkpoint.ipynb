{
 "cells": [
  {
   "cell_type": "code",
   "execution_count": 2,
   "metadata": {
    "id": "A7BBykw5oQNl"
   },
   "outputs": [],
   "source": [
    "# https://www.properati.com.ar/data\n",
    "! wget -O ar_properties.csv.gz -q https://storage.googleapis.com/properati-data-public/ar_properties.csv.gz\n",
    "! gzip -d -f ./ar_properties.csv.gz"
   ]
  },
  {
   "cell_type": "code",
   "execution_count": 1,
   "metadata": {
    "id": "jw8ogMDOpvKP"
   },
   "outputs": [],
   "source": [
    "import pandas as pd\n",
    "import numpy as np\n",
    "\n",
    "import sklearn as sk\n",
    "from sklearn import model_selection\n",
    "from sklearn import ensemble\n",
    "from sklearn import metrics"
   ]
  },
  {
   "cell_type": "markdown",
   "metadata": {
    "id": "20D-m6GPyefp"
   },
   "source": [
    "# Lectura de datos"
   ]
  },
  {
   "cell_type": "code",
   "execution_count": 4,
   "metadata": {
    "id": "CtV0wOGsqJLC"
   },
   "outputs": [],
   "source": [
    "df = pd.read_csv('./ar_properties.csv', index_col=\"id\")  "
   ]
  },
  {
   "cell_type": "code",
   "execution_count": 5,
   "metadata": {
    "id": "thKYxfNuulgB"
   },
   "outputs": [
    {
     "data": {
      "text/html": [
       "<div>\n",
       "<style scoped>\n",
       "    .dataframe tbody tr th:only-of-type {\n",
       "        vertical-align: middle;\n",
       "    }\n",
       "\n",
       "    .dataframe tbody tr th {\n",
       "        vertical-align: top;\n",
       "    }\n",
       "\n",
       "    .dataframe thead th {\n",
       "        text-align: right;\n",
       "    }\n",
       "</style>\n",
       "<table border=\"1\" class=\"dataframe\">\n",
       "  <thead>\n",
       "    <tr style=\"text-align: right;\">\n",
       "      <th></th>\n",
       "      <th>ad_type</th>\n",
       "      <th>start_date</th>\n",
       "      <th>end_date</th>\n",
       "      <th>created_on</th>\n",
       "      <th>lat</th>\n",
       "      <th>lon</th>\n",
       "      <th>l1</th>\n",
       "      <th>l2</th>\n",
       "      <th>l3</th>\n",
       "      <th>l4</th>\n",
       "      <th>...</th>\n",
       "      <th>bathrooms</th>\n",
       "      <th>surface_total</th>\n",
       "      <th>surface_covered</th>\n",
       "      <th>price</th>\n",
       "      <th>currency</th>\n",
       "      <th>price_period</th>\n",
       "      <th>title</th>\n",
       "      <th>description</th>\n",
       "      <th>property_type</th>\n",
       "      <th>operation_type</th>\n",
       "    </tr>\n",
       "    <tr>\n",
       "      <th>id</th>\n",
       "      <th></th>\n",
       "      <th></th>\n",
       "      <th></th>\n",
       "      <th></th>\n",
       "      <th></th>\n",
       "      <th></th>\n",
       "      <th></th>\n",
       "      <th></th>\n",
       "      <th></th>\n",
       "      <th></th>\n",
       "      <th></th>\n",
       "      <th></th>\n",
       "      <th></th>\n",
       "      <th></th>\n",
       "      <th></th>\n",
       "      <th></th>\n",
       "      <th></th>\n",
       "      <th></th>\n",
       "      <th></th>\n",
       "      <th></th>\n",
       "      <th></th>\n",
       "    </tr>\n",
       "  </thead>\n",
       "  <tbody>\n",
       "    <tr>\n",
       "      <th>DyVXfkpKygVBKuUk5olH+A==</th>\n",
       "      <td>Propiedad</td>\n",
       "      <td>2020-08-22</td>\n",
       "      <td>2020-09-03</td>\n",
       "      <td>2020-08-22</td>\n",
       "      <td>-34.407468</td>\n",
       "      <td>-58.957367</td>\n",
       "      <td>Argentina</td>\n",
       "      <td>Bs.As. G.B.A. Zona Norte</td>\n",
       "      <td>Pilar</td>\n",
       "      <td>NaN</td>\n",
       "      <td>...</td>\n",
       "      <td>NaN</td>\n",
       "      <td>133139.0</td>\n",
       "      <td>NaN</td>\n",
       "      <td>NaN</td>\n",
       "      <td>NaN</td>\n",
       "      <td>Mensual</td>\n",
       "      <td>VENTA - Lote Industrial 130.000m2 - Parque Ind...</td>\n",
       "      <td>Lote (Nro.50) mide 133.139 m2\\n&lt;br&gt;Valor: U$S ...</td>\n",
       "      <td>Lote</td>\n",
       "      <td>Venta</td>\n",
       "    </tr>\n",
       "    <tr>\n",
       "      <th>9naojilaMecJN4jlQiTkGg==</th>\n",
       "      <td>Propiedad</td>\n",
       "      <td>2020-08-22</td>\n",
       "      <td>2020-09-04</td>\n",
       "      <td>2020-08-22</td>\n",
       "      <td>-37.996039</td>\n",
       "      <td>-57.542509</td>\n",
       "      <td>Argentina</td>\n",
       "      <td>Buenos Aires Costa Atlántica</td>\n",
       "      <td>Mar del Plata</td>\n",
       "      <td>NaN</td>\n",
       "      <td>...</td>\n",
       "      <td>NaN</td>\n",
       "      <td>687.0</td>\n",
       "      <td>687.0</td>\n",
       "      <td>NaN</td>\n",
       "      <td>NaN</td>\n",
       "      <td>Mensual</td>\n",
       "      <td>Casa - Santa Cecilia</td>\n",
       "      <td>Conjunto edilicio de casa y departamentos en b...</td>\n",
       "      <td>Otro</td>\n",
       "      <td>Venta</td>\n",
       "    </tr>\n",
       "    <tr>\n",
       "      <th>tlCPRJPjoDEUzuuCelemAQ==</th>\n",
       "      <td>Propiedad</td>\n",
       "      <td>2020-08-22</td>\n",
       "      <td>2020-08-31</td>\n",
       "      <td>2020-08-22</td>\n",
       "      <td>-31.380187</td>\n",
       "      <td>-58.009182</td>\n",
       "      <td>Argentina</td>\n",
       "      <td>Entre Ríos</td>\n",
       "      <td>Concordia</td>\n",
       "      <td>NaN</td>\n",
       "      <td>...</td>\n",
       "      <td>1.0</td>\n",
       "      <td>80.0</td>\n",
       "      <td>80.0</td>\n",
       "      <td>NaN</td>\n",
       "      <td>NaN</td>\n",
       "      <td>Mensual</td>\n",
       "      <td>Casa - Concordia</td>\n",
       "      <td>Casa de un dormitorio, cocina, baño, living co...</td>\n",
       "      <td>Casa</td>\n",
       "      <td>Alquiler</td>\n",
       "    </tr>\n",
       "    <tr>\n",
       "      <th>Zw3b91glQUO3HNrM5fPYlQ==</th>\n",
       "      <td>Propiedad</td>\n",
       "      <td>2020-08-22</td>\n",
       "      <td>2020-09-04</td>\n",
       "      <td>2020-08-22</td>\n",
       "      <td>-27.494106</td>\n",
       "      <td>-55.123455</td>\n",
       "      <td>Argentina</td>\n",
       "      <td>Misiones</td>\n",
       "      <td>Oberá</td>\n",
       "      <td>NaN</td>\n",
       "      <td>...</td>\n",
       "      <td>1.0</td>\n",
       "      <td>NaN</td>\n",
       "      <td>NaN</td>\n",
       "      <td>NaN</td>\n",
       "      <td>NaN</td>\n",
       "      <td>Mensual</td>\n",
       "      <td>Terreno - Obera</td>\n",
       "      <td>IMPORTANTE PROPIEDAD EN VENTA EN OBERA MISIONE...</td>\n",
       "      <td>Lote</td>\n",
       "      <td>Venta</td>\n",
       "    </tr>\n",
       "    <tr>\n",
       "      <th>bsU81gm9JEgtZCbTYgvykg==</th>\n",
       "      <td>Propiedad</td>\n",
       "      <td>2020-08-22</td>\n",
       "      <td>2020-09-04</td>\n",
       "      <td>2020-08-22</td>\n",
       "      <td>-32.948856</td>\n",
       "      <td>-60.630464</td>\n",
       "      <td>Argentina</td>\n",
       "      <td>Santa Fe</td>\n",
       "      <td>Rosario</td>\n",
       "      <td>NaN</td>\n",
       "      <td>...</td>\n",
       "      <td>1.0</td>\n",
       "      <td>76.0</td>\n",
       "      <td>66.0</td>\n",
       "      <td>NaN</td>\n",
       "      <td>NaN</td>\n",
       "      <td>Mensual</td>\n",
       "      <td>Departamento - Rosario</td>\n",
       "      <td>PORTAL DE LOS MARINOS&lt;br&gt;Es un complejo de viv...</td>\n",
       "      <td>Departamento</td>\n",
       "      <td>Venta</td>\n",
       "    </tr>\n",
       "  </tbody>\n",
       "</table>\n",
       "<p>5 rows × 24 columns</p>\n",
       "</div>"
      ],
      "text/plain": [
       "                            ad_type  start_date    end_date  created_on  \\\n",
       "id                                                                        \n",
       "DyVXfkpKygVBKuUk5olH+A==  Propiedad  2020-08-22  2020-09-03  2020-08-22   \n",
       "9naojilaMecJN4jlQiTkGg==  Propiedad  2020-08-22  2020-09-04  2020-08-22   \n",
       "tlCPRJPjoDEUzuuCelemAQ==  Propiedad  2020-08-22  2020-08-31  2020-08-22   \n",
       "Zw3b91glQUO3HNrM5fPYlQ==  Propiedad  2020-08-22  2020-09-04  2020-08-22   \n",
       "bsU81gm9JEgtZCbTYgvykg==  Propiedad  2020-08-22  2020-09-04  2020-08-22   \n",
       "\n",
       "                                lat        lon         l1  \\\n",
       "id                                                          \n",
       "DyVXfkpKygVBKuUk5olH+A== -34.407468 -58.957367  Argentina   \n",
       "9naojilaMecJN4jlQiTkGg== -37.996039 -57.542509  Argentina   \n",
       "tlCPRJPjoDEUzuuCelemAQ== -31.380187 -58.009182  Argentina   \n",
       "Zw3b91glQUO3HNrM5fPYlQ== -27.494106 -55.123455  Argentina   \n",
       "bsU81gm9JEgtZCbTYgvykg== -32.948856 -60.630464  Argentina   \n",
       "\n",
       "                                                    l2             l3   l4  \\\n",
       "id                                                                           \n",
       "DyVXfkpKygVBKuUk5olH+A==      Bs.As. G.B.A. Zona Norte          Pilar  NaN   \n",
       "9naojilaMecJN4jlQiTkGg==  Buenos Aires Costa Atlántica  Mar del Plata  NaN   \n",
       "tlCPRJPjoDEUzuuCelemAQ==                    Entre Ríos      Concordia  NaN   \n",
       "Zw3b91glQUO3HNrM5fPYlQ==                      Misiones          Oberá  NaN   \n",
       "bsU81gm9JEgtZCbTYgvykg==                      Santa Fe        Rosario  NaN   \n",
       "\n",
       "                          ... bathrooms  surface_total  surface_covered  \\\n",
       "id                        ...                                             \n",
       "DyVXfkpKygVBKuUk5olH+A==  ...       NaN       133139.0              NaN   \n",
       "9naojilaMecJN4jlQiTkGg==  ...       NaN          687.0            687.0   \n",
       "tlCPRJPjoDEUzuuCelemAQ==  ...       1.0           80.0             80.0   \n",
       "Zw3b91glQUO3HNrM5fPYlQ==  ...       1.0            NaN              NaN   \n",
       "bsU81gm9JEgtZCbTYgvykg==  ...       1.0           76.0             66.0   \n",
       "\n",
       "                          price  currency  price_period  \\\n",
       "id                                                        \n",
       "DyVXfkpKygVBKuUk5olH+A==    NaN       NaN       Mensual   \n",
       "9naojilaMecJN4jlQiTkGg==    NaN       NaN       Mensual   \n",
       "tlCPRJPjoDEUzuuCelemAQ==    NaN       NaN       Mensual   \n",
       "Zw3b91glQUO3HNrM5fPYlQ==    NaN       NaN       Mensual   \n",
       "bsU81gm9JEgtZCbTYgvykg==    NaN       NaN       Mensual   \n",
       "\n",
       "                                                                      title  \\\n",
       "id                                                                            \n",
       "DyVXfkpKygVBKuUk5olH+A==  VENTA - Lote Industrial 130.000m2 - Parque Ind...   \n",
       "9naojilaMecJN4jlQiTkGg==                               Casa - Santa Cecilia   \n",
       "tlCPRJPjoDEUzuuCelemAQ==                                   Casa - Concordia   \n",
       "Zw3b91glQUO3HNrM5fPYlQ==                                    Terreno - Obera   \n",
       "bsU81gm9JEgtZCbTYgvykg==                             Departamento - Rosario   \n",
       "\n",
       "                                                                description  \\\n",
       "id                                                                            \n",
       "DyVXfkpKygVBKuUk5olH+A==  Lote (Nro.50) mide 133.139 m2\\n<br>Valor: U$S ...   \n",
       "9naojilaMecJN4jlQiTkGg==  Conjunto edilicio de casa y departamentos en b...   \n",
       "tlCPRJPjoDEUzuuCelemAQ==  Casa de un dormitorio, cocina, baño, living co...   \n",
       "Zw3b91glQUO3HNrM5fPYlQ==  IMPORTANTE PROPIEDAD EN VENTA EN OBERA MISIONE...   \n",
       "bsU81gm9JEgtZCbTYgvykg==  PORTAL DE LOS MARINOS<br>Es un complejo de viv...   \n",
       "\n",
       "                         property_type operation_type  \n",
       "id                                                     \n",
       "DyVXfkpKygVBKuUk5olH+A==          Lote          Venta  \n",
       "9naojilaMecJN4jlQiTkGg==          Otro          Venta  \n",
       "tlCPRJPjoDEUzuuCelemAQ==          Casa       Alquiler  \n",
       "Zw3b91glQUO3HNrM5fPYlQ==          Lote          Venta  \n",
       "bsU81gm9JEgtZCbTYgvykg==  Departamento          Venta  \n",
       "\n",
       "[5 rows x 24 columns]"
      ]
     },
     "execution_count": 5,
     "metadata": {},
     "output_type": "execute_result"
    }
   ],
   "source": [
    "df.head()"
   ]
  },
  {
   "cell_type": "code",
   "execution_count": 6,
   "metadata": {},
   "outputs": [
    {
     "name": "stdout",
     "output_type": "stream",
     "text": [
      "<class 'pandas.core.frame.DataFrame'>\n",
      "Index: 1000000 entries, DyVXfkpKygVBKuUk5olH+A== to rEynGyGrrsxNeG0ib5vUBA==\n",
      "Data columns (total 24 columns):\n",
      " #   Column           Non-Null Count    Dtype  \n",
      "---  ------           --------------    -----  \n",
      " 0   ad_type          1000000 non-null  object \n",
      " 1   start_date       1000000 non-null  object \n",
      " 2   end_date         1000000 non-null  object \n",
      " 3   created_on       1000000 non-null  object \n",
      " 4   lat              894233 non-null   float64\n",
      " 5   lon              894191 non-null   float64\n",
      " 6   l1               1000000 non-null  object \n",
      " 7   l2               1000000 non-null  object \n",
      " 8   l3               965273 non-null   object \n",
      " 9   l4               306162 non-null   object \n",
      " 10  l5               5530 non-null     object \n",
      " 11  l6               0 non-null        float64\n",
      " 12  rooms            714179 non-null   float64\n",
      " 13  bedrooms         649933 non-null   float64\n",
      " 14  bathrooms        765122 non-null   float64\n",
      " 15  surface_total    477831 non-null   float64\n",
      " 16  surface_covered  487756 non-null   float64\n",
      " 17  price            958243 non-null   float64\n",
      " 18  currency         955491 non-null   object \n",
      " 19  price_period     429870 non-null   object \n",
      " 20  title            999999 non-null   object \n",
      " 21  description      999958 non-null   object \n",
      " 22  property_type    1000000 non-null  object \n",
      " 23  operation_type   1000000 non-null  object \n",
      "dtypes: float64(9), object(15)\n",
      "memory usage: 190.7+ MB\n"
     ]
    }
   ],
   "source": [
    "df.info()"
   ]
  },
  {
   "cell_type": "code",
   "execution_count": 7,
   "metadata": {},
   "outputs": [
    {
     "data": {
      "text/plain": [
       "(1000000, 24)"
      ]
     },
     "execution_count": 7,
     "metadata": {},
     "output_type": "execute_result"
    }
   ],
   "source": [
    "df.shape"
   ]
  },
  {
   "cell_type": "markdown",
   "metadata": {
    "id": "byV0dQi-yiEd"
   },
   "source": [
    "# Análisis del conjunto de datos"
   ]
  },
  {
   "cell_type": "markdown",
   "metadata": {
    "id": "zjaTnfxkyvo8"
   },
   "source": [
    "# Tratamiento de los datos"
   ]
  },
  {
   "cell_type": "code",
   "execution_count": null,
   "metadata": {
    "colab": {
     "base_uri": "https://localhost:8080/"
    },
    "id": "ckXCv9f-uia0",
    "outputId": "53090f8c-214a-4036-a498-96bfeb30020c"
   },
   "outputs": [
    {
     "data": {
      "text/plain": [
       "(17972, 24)"
      ]
     },
     "execution_count": 9,
     "metadata": {},
     "output_type": "execute_result"
    }
   ],
   "source": [
    "# seleccion de datos de demostración. cambiar\n",
    "d"
   ]
  },
  {
   "cell_type": "code",
   "execution_count": 3,
   "metadata": {
    "id": "yg8qNxuNrzQp"
   },
   "outputs": [],
   "source": [
    "df = df.select_dtypes(include=['float64', 'int64'])\n",
    "df.fillna(0, inplace=True, downcast= \"infer\") ## esto tiene que hacerse antes y mejor"
   ]
  },
  {
   "cell_type": "markdown",
   "metadata": {
    "id": "i2jRJmQ-tD4Z"
   },
   "source": [
    "# Modelización"
   ]
  },
  {
   "cell_type": "code",
   "execution_count": 7,
   "metadata": {
    "id": "PoAhfAjlr-rp"
   },
   "outputs": [],
   "source": [
    "X = df[df.columns.drop('price')]\n",
    "y = df['price']\n",
    "\n",
    "# for n_estimators in [100, 500, 1000]:     \n",
    "#     for max_depth in [3, 7, 11]:     \n",
    "\n",
    "## Tienen que usar RandomForestRegressor si o si o si. Pueden cambiar los parámetros\n",
    "n_estimators = 5000\n",
    "max_depth = 5\n",
    "\n",
    "reg = sk.ensemble.RandomForestRegressor(n_estimators=n_estimators, max_depth=max_depth, n_jobs=-1, random_state=42)\n",
    "\n",
    "scores = []\n",
    "kf = sk.model_selection.KFold(n_splits=2, shuffle=True, random_state=42)\n",
    "for train, test in kf.split(X):\n",
    "    X_train, X_test, y_train, y_test = X.iloc[train], X.iloc[test], y[train], y[test]\n",
    "\n",
    "    # Entrenamos el modelo\n",
    "    reg.fit(X_train, y_train)\n",
    "\n",
    "    # Predecimos\n",
    "    y_pred = reg.predict(X_test)\n",
    "\n",
    "    # Medimos la performance de la predicción\n",
    "    score = sk.metrics.mean_squared_error(y_test, y_pred)\n",
    "    print(score)\n",
    "    scores.append(score)\n",
    "\n",
    "print(np.mean(scores), np.std(scores))"
   ]
  },
  {
   "cell_type": "markdown",
   "metadata": {
    "id": "sqVkTPzj3kV0"
   },
   "source": [
    "## Predicción para Kaggle\n"
   ]
  },
  {
   "cell_type": "code",
   "execution_count": null,
   "metadata": {
    "id": "01697gx81F5Z"
   },
   "outputs": [],
   "source": [
    "df_pred = pd.read_csv('./a_predecir.csv', index_col=\"id\")\n",
    "df_pred.fillna(0, inplace=True)"
   ]
  },
  {
   "cell_type": "code",
   "execution_count": null,
   "metadata": {
    "id": "xzAwUNRA1Fzb"
   },
   "outputs": [],
   "source": [
    "# quedate con las mismas columnas que ar_properties\n",
    "X_pred = df_pred[X.columns]"
   ]
  },
  {
   "cell_type": "code",
   "execution_count": null,
   "metadata": {
    "id": "81dOh5WvAPMa"
   },
   "outputs": [],
   "source": [
    "# los mejores hiperparámetros encontrados antes\n",
    "n_estimators = 5000\n",
    "max_depth = 5\n",
    "\n",
    "# Entrenamiento\n",
    "reg = sk.ensemble.RandomForestRegressor(n_estimators=n_estimators, max_depth=max_depth, random_state=42, n_jobs=-1)\n",
    "\n",
    "# Entrenamos el modelo\n",
    "reg.fit(X_train, y_train)\n",
    "\n",
    "# predicción\n",
    "df_pred[\"price\"] = reg.predict(X_pred)"
   ]
  },
  {
   "cell_type": "code",
   "execution_count": null,
   "metadata": {
    "id": "mU9iV6cuBwKB"
   },
   "outputs": [],
   "source": [
    "# Grabo la solución\n",
    "df_pred[[\"price\"]].to_csv(\"solucion.csv\")"
   ]
  }
 ],
 "metadata": {
  "colab": {
   "collapsed_sections": [
    "sqVkTPzj3kV0"
   ],
   "name": "TP individual.ipynb",
   "provenance": []
  },
  "interpreter": {
   "hash": "916dbcbb3f70747c44a77c7bcd40155683ae19c65e1c03b4aa3499c5328201f1"
  },
  "kernelspec": {
   "display_name": "Python 3 (ipykernel)",
   "language": "python",
   "name": "python3"
  },
  "language_info": {
   "codemirror_mode": {
    "name": "ipython",
    "version": 3
   },
   "file_extension": ".py",
   "mimetype": "text/x-python",
   "name": "python",
   "nbconvert_exporter": "python",
   "pygments_lexer": "ipython3",
   "version": "3.8.10"
  }
 },
 "nbformat": 4,
 "nbformat_minor": 1
}
