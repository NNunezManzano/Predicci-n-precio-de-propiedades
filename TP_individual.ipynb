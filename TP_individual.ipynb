{
 "cells": [
  {
   "cell_type": "code",
   "execution_count": null,
   "metadata": {
    "id": "A7BBykw5oQNl"
   },
   "outputs": [],
   "source": [
    "# https://www.properati.com.ar/data\n",
    "! wget -O ar_properties.csv.gz -q https://storage.googleapis.com/properati-data-public/ar_properties.csv.gz\n",
    "! gzip -d -f ./ar_properties.csv.gz"
   ]
  },
  {
   "cell_type": "code",
   "execution_count": 33,
   "metadata": {
    "id": "jw8ogMDOpvKP"
   },
   "outputs": [],
   "source": [
    "import pandas as pd\n",
    "import numpy as np\n",
    "\n",
    "import matplotlib.pyplot as plt\n",
    "\n",
    "import sklearn as sk\n",
    "from sklearn import model_selection\n",
    "from sklearn import ensemble\n",
    "from sklearn import metrics\n",
    "\n",
    "import datetime"
   ]
  },
  {
   "cell_type": "markdown",
   "metadata": {
    "id": "20D-m6GPyefp"
   },
   "source": [
    "# Lectura de datos"
   ]
  },
  {
   "cell_type": "code",
   "execution_count": 351,
   "metadata": {
    "id": "CtV0wOGsqJLC"
   },
   "outputs": [],
   "source": [
    "df_properties = pd.read_csv('./ar_properties.csv', index_col=\"id\")\n",
    "df_apred = pd.read_csv('./a_predecir.csv', index_col=\"id\")"
   ]
  },
  {
   "cell_type": "code",
   "execution_count": 373,
   "metadata": {},
   "outputs": [],
   "source": [
    "df = df_properties.copy()\n",
    "df_pred = df_apred.copy()"
   ]
  },
  {
   "cell_type": "code",
   "execution_count": 31,
   "metadata": {
    "id": "thKYxfNuulgB"
   },
   "outputs": [
    {
     "data": {
      "text/html": [
       "<div>\n",
       "<style scoped>\n",
       "    .dataframe tbody tr th:only-of-type {\n",
       "        vertical-align: middle;\n",
       "    }\n",
       "\n",
       "    .dataframe tbody tr th {\n",
       "        vertical-align: top;\n",
       "    }\n",
       "\n",
       "    .dataframe thead th {\n",
       "        text-align: right;\n",
       "    }\n",
       "</style>\n",
       "<table border=\"1\" class=\"dataframe\">\n",
       "  <thead>\n",
       "    <tr style=\"text-align: right;\">\n",
       "      <th></th>\n",
       "      <th>start_date</th>\n",
       "      <th>end_date</th>\n",
       "      <th>created_on</th>\n",
       "      <th>l2</th>\n",
       "      <th>l3</th>\n",
       "      <th>l4</th>\n",
       "      <th>l5</th>\n",
       "      <th>rooms</th>\n",
       "      <th>bedrooms</th>\n",
       "      <th>bathrooms</th>\n",
       "      <th>surface_total</th>\n",
       "      <th>surface_covered</th>\n",
       "      <th>price</th>\n",
       "      <th>currency</th>\n",
       "      <th>price_period</th>\n",
       "      <th>title</th>\n",
       "      <th>description</th>\n",
       "      <th>property_type</th>\n",
       "      <th>operation_type</th>\n",
       "      <th>bath_rooms</th>\n",
       "    </tr>\n",
       "    <tr>\n",
       "      <th>id</th>\n",
       "      <th></th>\n",
       "      <th></th>\n",
       "      <th></th>\n",
       "      <th></th>\n",
       "      <th></th>\n",
       "      <th></th>\n",
       "      <th></th>\n",
       "      <th></th>\n",
       "      <th></th>\n",
       "      <th></th>\n",
       "      <th></th>\n",
       "      <th></th>\n",
       "      <th></th>\n",
       "      <th></th>\n",
       "      <th></th>\n",
       "      <th></th>\n",
       "      <th></th>\n",
       "      <th></th>\n",
       "      <th></th>\n",
       "      <th></th>\n",
       "    </tr>\n",
       "  </thead>\n",
       "  <tbody>\n",
       "    <tr>\n",
       "      <th>LrDZTDP9vyylLQ3SmazY1A==</th>\n",
       "      <td>2020-08-22</td>\n",
       "      <td>2020-09-04</td>\n",
       "      <td>2020-08-22</td>\n",
       "      <td>Capital Federal</td>\n",
       "      <td>Boedo</td>\n",
       "      <td>NaN</td>\n",
       "      <td>NaN</td>\n",
       "      <td>0.0</td>\n",
       "      <td>0.0</td>\n",
       "      <td>0.0</td>\n",
       "      <td>520.0</td>\n",
       "      <td>520.0</td>\n",
       "      <td>70000.0</td>\n",
       "      <td>ARS</td>\n",
       "      <td>Mensual</td>\n",
       "      <td>Depósito con Oficina en  Boedo</td>\n",
       "      <td>Depósito con  amplias y cómodas  oficinas  y c...</td>\n",
       "      <td>Oficina</td>\n",
       "      <td>Alquiler</td>\n",
       "      <td>0</td>\n",
       "    </tr>\n",
       "    <tr>\n",
       "      <th>taiJHW87e1CmCPpuSgCbBA==</th>\n",
       "      <td>2020-08-22</td>\n",
       "      <td>2020-09-04</td>\n",
       "      <td>2020-08-22</td>\n",
       "      <td>Bs.As. G.B.A. Zona Norte</td>\n",
       "      <td>Tigre</td>\n",
       "      <td>Nordelta</td>\n",
       "      <td>NaN</td>\n",
       "      <td>0.0</td>\n",
       "      <td>0.0</td>\n",
       "      <td>2.0</td>\n",
       "      <td>95.0</td>\n",
       "      <td>0.0</td>\n",
       "      <td>35000.0</td>\n",
       "      <td>ARS</td>\n",
       "      <td>Mensual</td>\n",
       "      <td>Oficina - Paseo de la Bahia - Studios I</td>\n",
       "      <td>Excelente oportunidad! Oficina de 95 mts2 con ...</td>\n",
       "      <td>Oficina</td>\n",
       "      <td>Alquiler</td>\n",
       "      <td>1</td>\n",
       "    </tr>\n",
       "    <tr>\n",
       "      <th>RqacGyDGe/sKe4TYtuLLtg==</th>\n",
       "      <td>2020-08-22</td>\n",
       "      <td>2020-09-04</td>\n",
       "      <td>2020-08-22</td>\n",
       "      <td>Bs.As. G.B.A. Zona Norte</td>\n",
       "      <td>Tigre</td>\n",
       "      <td>Nordelta</td>\n",
       "      <td>NaN</td>\n",
       "      <td>0.0</td>\n",
       "      <td>0.0</td>\n",
       "      <td>2.0</td>\n",
       "      <td>90.0</td>\n",
       "      <td>0.0</td>\n",
       "      <td>27000.0</td>\n",
       "      <td>ARS</td>\n",
       "      <td>Mensual</td>\n",
       "      <td>Oficina - Paseo de la Bahia - Studios I</td>\n",
       "      <td>Excelente oportunidad! Oficina de 90 mts2 con ...</td>\n",
       "      <td>Oficina</td>\n",
       "      <td>Alquiler</td>\n",
       "      <td>1</td>\n",
       "    </tr>\n",
       "    <tr>\n",
       "      <th>hbIvfOetTyeiCcFPM4FATA==</th>\n",
       "      <td>2020-08-22</td>\n",
       "      <td>2020-09-04</td>\n",
       "      <td>2020-08-22</td>\n",
       "      <td>Capital Federal</td>\n",
       "      <td>Recoleta</td>\n",
       "      <td>NaN</td>\n",
       "      <td>NaN</td>\n",
       "      <td>0.0</td>\n",
       "      <td>0.0</td>\n",
       "      <td>3.0</td>\n",
       "      <td>265.0</td>\n",
       "      <td>265.0</td>\n",
       "      <td>65000.0</td>\n",
       "      <td>ARS</td>\n",
       "      <td>Mensual</td>\n",
       "      <td>Oficina comercial · 265m² · 2 Cochera</td>\n",
       "      <td>Gran Oportunidad! Unica piso de oficinas de 26...</td>\n",
       "      <td>Oficina</td>\n",
       "      <td>Alquiler</td>\n",
       "      <td>1</td>\n",
       "    </tr>\n",
       "    <tr>\n",
       "      <th>srXXAu7Fb8/Kng0/cxUe7g==</th>\n",
       "      <td>2020-08-22</td>\n",
       "      <td>2020-09-04</td>\n",
       "      <td>2020-08-22</td>\n",
       "      <td>Capital Federal</td>\n",
       "      <td>Balvanera</td>\n",
       "      <td>NaN</td>\n",
       "      <td>NaN</td>\n",
       "      <td>0.0</td>\n",
       "      <td>0.0</td>\n",
       "      <td>1.0</td>\n",
       "      <td>80.0</td>\n",
       "      <td>80.0</td>\n",
       "      <td>60000.0</td>\n",
       "      <td>ARS</td>\n",
       "      <td>Mensual</td>\n",
       "      <td>Oficina - Balvanera | Vista al pasaje Discépolo</td>\n",
       "      <td>Edificio de oficinas desarrollado en Subsuelo,...</td>\n",
       "      <td>Oficina</td>\n",
       "      <td>Alquiler</td>\n",
       "      <td>1</td>\n",
       "    </tr>\n",
       "  </tbody>\n",
       "</table>\n",
       "</div>"
      ],
      "text/plain": [
       "                          start_date    end_date  created_on  \\\n",
       "id                                                             \n",
       "LrDZTDP9vyylLQ3SmazY1A==  2020-08-22  2020-09-04  2020-08-22   \n",
       "taiJHW87e1CmCPpuSgCbBA==  2020-08-22  2020-09-04  2020-08-22   \n",
       "RqacGyDGe/sKe4TYtuLLtg==  2020-08-22  2020-09-04  2020-08-22   \n",
       "hbIvfOetTyeiCcFPM4FATA==  2020-08-22  2020-09-04  2020-08-22   \n",
       "srXXAu7Fb8/Kng0/cxUe7g==  2020-08-22  2020-09-04  2020-08-22   \n",
       "\n",
       "                                                l2         l3        l4   l5  \\\n",
       "id                                                                             \n",
       "LrDZTDP9vyylLQ3SmazY1A==           Capital Federal      Boedo       NaN  NaN   \n",
       "taiJHW87e1CmCPpuSgCbBA==  Bs.As. G.B.A. Zona Norte      Tigre  Nordelta  NaN   \n",
       "RqacGyDGe/sKe4TYtuLLtg==  Bs.As. G.B.A. Zona Norte      Tigre  Nordelta  NaN   \n",
       "hbIvfOetTyeiCcFPM4FATA==           Capital Federal   Recoleta       NaN  NaN   \n",
       "srXXAu7Fb8/Kng0/cxUe7g==           Capital Federal  Balvanera       NaN  NaN   \n",
       "\n",
       "                          rooms  bedrooms  bathrooms  surface_total  \\\n",
       "id                                                                    \n",
       "LrDZTDP9vyylLQ3SmazY1A==    0.0       0.0        0.0          520.0   \n",
       "taiJHW87e1CmCPpuSgCbBA==    0.0       0.0        2.0           95.0   \n",
       "RqacGyDGe/sKe4TYtuLLtg==    0.0       0.0        2.0           90.0   \n",
       "hbIvfOetTyeiCcFPM4FATA==    0.0       0.0        3.0          265.0   \n",
       "srXXAu7Fb8/Kng0/cxUe7g==    0.0       0.0        1.0           80.0   \n",
       "\n",
       "                          surface_covered    price currency price_period  \\\n",
       "id                                                                         \n",
       "LrDZTDP9vyylLQ3SmazY1A==            520.0  70000.0      ARS      Mensual   \n",
       "taiJHW87e1CmCPpuSgCbBA==              0.0  35000.0      ARS      Mensual   \n",
       "RqacGyDGe/sKe4TYtuLLtg==              0.0  27000.0      ARS      Mensual   \n",
       "hbIvfOetTyeiCcFPM4FATA==            265.0  65000.0      ARS      Mensual   \n",
       "srXXAu7Fb8/Kng0/cxUe7g==             80.0  60000.0      ARS      Mensual   \n",
       "\n",
       "                                                                    title  \\\n",
       "id                                                                          \n",
       "LrDZTDP9vyylLQ3SmazY1A==                   Depósito con Oficina en  Boedo   \n",
       "taiJHW87e1CmCPpuSgCbBA==          Oficina - Paseo de la Bahia - Studios I   \n",
       "RqacGyDGe/sKe4TYtuLLtg==          Oficina - Paseo de la Bahia - Studios I   \n",
       "hbIvfOetTyeiCcFPM4FATA==            Oficina comercial · 265m² · 2 Cochera   \n",
       "srXXAu7Fb8/Kng0/cxUe7g==  Oficina - Balvanera | Vista al pasaje Discépolo   \n",
       "\n",
       "                                                                description  \\\n",
       "id                                                                            \n",
       "LrDZTDP9vyylLQ3SmazY1A==  Depósito con  amplias y cómodas  oficinas  y c...   \n",
       "taiJHW87e1CmCPpuSgCbBA==  Excelente oportunidad! Oficina de 95 mts2 con ...   \n",
       "RqacGyDGe/sKe4TYtuLLtg==  Excelente oportunidad! Oficina de 90 mts2 con ...   \n",
       "hbIvfOetTyeiCcFPM4FATA==  Gran Oportunidad! Unica piso de oficinas de 26...   \n",
       "srXXAu7Fb8/Kng0/cxUe7g==  Edificio de oficinas desarrollado en Subsuelo,...   \n",
       "\n",
       "                         property_type operation_type  bath_rooms  \n",
       "id                                                                 \n",
       "LrDZTDP9vyylLQ3SmazY1A==       Oficina       Alquiler           0  \n",
       "taiJHW87e1CmCPpuSgCbBA==       Oficina       Alquiler           1  \n",
       "RqacGyDGe/sKe4TYtuLLtg==       Oficina       Alquiler           1  \n",
       "hbIvfOetTyeiCcFPM4FATA==       Oficina       Alquiler           1  \n",
       "srXXAu7Fb8/Kng0/cxUe7g==       Oficina       Alquiler           1  "
      ]
     },
     "execution_count": 31,
     "metadata": {},
     "output_type": "execute_result"
    }
   ],
   "source": [
    "df.head()"
   ]
  },
  {
   "cell_type": "code",
   "execution_count": 393,
   "metadata": {},
   "outputs": [
    {
     "name": "stdout",
     "output_type": "stream",
     "text": [
      "<class 'pandas.core.frame.DataFrame'>\n",
      "Int64Index: 1087 entries, 1 to 1087\n",
      "Data columns (total 8 columns):\n",
      " #   Column           Non-Null Count  Dtype  \n",
      "---  ------           --------------  -----  \n",
      " 0   l3               1087 non-null   object \n",
      " 1   rooms            1083 non-null   float64\n",
      " 2   bedrooms         958 non-null    float64\n",
      " 3   bathrooms        1083 non-null   float64\n",
      " 4   surface_total    1087 non-null   float64\n",
      " 5   surface_covered  1087 non-null   float64\n",
      " 6   price            0 non-null      float64\n",
      " 7   property_type    1087 non-null   object \n",
      "dtypes: float64(6), object(2)\n",
      "memory usage: 76.4+ KB\n"
     ]
    }
   ],
   "source": [
    "df_pred.info()"
   ]
  },
  {
   "cell_type": "code",
   "execution_count": 396,
   "metadata": {},
   "outputs": [
    {
     "name": "stdout",
     "output_type": "stream",
     "text": [
      "<class 'pandas.core.frame.DataFrame'>\n",
      "Index: 151918 entries, U3qdJMKXnOJm0Y1tWpnnfg== to RYlWKNYAOPbDbHGoYD/PAA==\n",
      "Data columns (total 8 columns):\n",
      " #   Column           Non-Null Count   Dtype  \n",
      "---  ------           --------------   -----  \n",
      " 0   l3               151342 non-null  object \n",
      " 1   rooms            151918 non-null  float64\n",
      " 2   bedrooms         151918 non-null  float64\n",
      " 3   bathrooms        151918 non-null  float64\n",
      " 4   surface_total    151918 non-null  float64\n",
      " 5   surface_covered  151918 non-null  float64\n",
      " 6   price            151918 non-null  float64\n",
      " 7   property_type    151918 non-null  object \n",
      "dtypes: float64(6), object(2)\n",
      "memory usage: 10.4+ MB\n"
     ]
    }
   ],
   "source": [
    "df.info()"
   ]
  },
  {
   "cell_type": "markdown",
   "metadata": {
    "id": "byV0dQi-yiEd"
   },
   "source": [
    "# Análisis del conjunto de datos"
   ]
  },
  {
   "cell_type": "code",
   "execution_count": 256,
   "metadata": {},
   "outputs": [
    {
     "data": {
      "text/plain": [
       "0.000000    44411\n",
       "1.000000    31513\n",
       "0.909091     1398\n",
       "0.900000     1173\n",
       "0.888889     1043\n",
       "            ...  \n",
       "0.862595        1\n",
       "0.404255        1\n",
       "0.639241        1\n",
       "0.387850        1\n",
       "0.894988        1\n",
       "Name: ratio_supcubierta, Length: 5340, dtype: int64"
      ]
     },
     "execution_count": 256,
     "metadata": {},
     "output_type": "execute_result"
    }
   ],
   "source": [
    "#analizamos los valores de las distintas variables\n",
    "df.ratio_supcubierta.value_counts()"
   ]
  },
  {
   "cell_type": "code",
   "execution_count": 224,
   "metadata": {},
   "outputs": [
    {
     "data": {
      "text/plain": [
       "id\n",
       "U3qdJMKXnOJm0Y1tWpnnfg==      85000.0\n",
       "gsQB/JzLxaQdBLfNcm/DMw==     110000.0\n",
       "SlPt6GJRjM+cO4rD3n3HFQ==     105000.0\n",
       "ZaH+6DXJ4MLM6QqZXhgWiw==     150000.0\n",
       "r7qrM5xaYo8QImSnqyKyYA==     136500.0\n",
       "                              ...    \n",
       "7aJWLQFXuwB0jjauufVCmg==    1500000.0\n",
       "mzGbmoZd0oBbwlxDj06zWA==     770000.0\n",
       "bBhDAJkRbJWukgHc0u//Zw==     318000.0\n",
       "jaNlZUF/XN/I8PWilhABqw==    1350000.0\n",
       "No3is+HhwUGlfgQfzsZbdg==    1400000.0\n",
       "Name: price, Length: 67473, dtype: float64"
      ]
     },
     "execution_count": 224,
     "metadata": {},
     "output_type": "execute_result"
    }
   ],
   "source": [
    "df.loc[df[\"price_period\"] == \"Mensual\", \"price\"]"
   ]
  },
  {
   "cell_type": "code",
   "execution_count": 61,
   "metadata": {
    "colab": {
     "base_uri": "https://localhost:8080/"
    },
    "id": "ckXCv9f-uia0",
    "outputId": "53090f8c-214a-4036-a498-96bfeb30020c"
   },
   "outputs": [
    {
     "data": {
      "text/plain": [
       "Timestamp('2021-06-17 00:00:00')"
      ]
     },
     "execution_count": 61,
     "metadata": {},
     "output_type": "execute_result"
    }
   ],
   "source": [
    "df.start_date.max()"
   ]
  },
  {
   "cell_type": "markdown",
   "metadata": {},
   "source": [
    "# Tratamiento de nulls y outliers"
   ]
  },
  {
   "cell_type": "code",
   "execution_count": 374,
   "metadata": {},
   "outputs": [],
   "source": [
    "df.drop(columns = [\"ad_type\",\"l4\",\"l5\", \"l6\", \"created_on\",\"start_date\", \"end_date\"], inplace = True )"
   ]
  },
  {
   "cell_type": "code",
   "execution_count": 375,
   "metadata": {
    "id": "yg8qNxuNrzQp"
   },
   "outputs": [],
   "source": [
    "df.dropna(subset=[\"price\"], inplace = True)\n",
    "df.dropna(subset=[\"currency\"], inplace = True)"
   ]
  },
  {
   "cell_type": "code",
   "execution_count": 376,
   "metadata": {},
   "outputs": [],
   "source": [
    "df = df.loc[df[\"l1\"] == \"Argentina\"]"
   ]
  },
  {
   "cell_type": "code",
   "execution_count": 377,
   "metadata": {},
   "outputs": [],
   "source": [
    "df = df.loc[df[\"l2\"] == \"Capital Federal\"]"
   ]
  },
  {
   "cell_type": "code",
   "execution_count": 378,
   "metadata": {},
   "outputs": [],
   "source": [
    "df.drop(columns = [\"lat\",\"lon\", \"l1\",\"l2\"], inplace = True )"
   ]
  },
  {
   "cell_type": "code",
   "execution_count": 379,
   "metadata": {},
   "outputs": [],
   "source": [
    "df = df.loc[df[\"currency\"] == \"USD\"]"
   ]
  },
  {
   "cell_type": "code",
   "execution_count": 380,
   "metadata": {},
   "outputs": [],
   "source": [
    "df.drop(columns = [\"currency\"], inplace = True )"
   ]
  },
  {
   "cell_type": "code",
   "execution_count": 381,
   "metadata": {},
   "outputs": [],
   "source": [
    "df[\"property_type_check\"] = df.property_type.apply(lambda x: 1 if x in (\"Departamento\",\"PH\") else 0)"
   ]
  },
  {
   "cell_type": "code",
   "execution_count": 382,
   "metadata": {},
   "outputs": [],
   "source": [
    "df = df.loc[df[\"property_type_check\"] == 1]"
   ]
  },
  {
   "cell_type": "code",
   "execution_count": 383,
   "metadata": {},
   "outputs": [],
   "source": [
    "df.drop(columns = \"property_type_check\", inplace = True)"
   ]
  },
  {
   "cell_type": "code",
   "execution_count": 384,
   "metadata": {},
   "outputs": [],
   "source": [
    "df.drop(df.loc[df[\"rooms\"].isnull() & df[\"bedrooms\"].isnull() & df[\"bathrooms\"].isnull() & df[\"surface_total\"].isnull() & df[\"surface_covered\"].isnull()].index, inplace = True)"
   ]
  },
  {
   "cell_type": "code",
   "execution_count": null,
   "metadata": {},
   "outputs": [],
   "source": [
    "df_pred[\"rooms\"].fillna(0, inplace = True)\n",
    "df_pred[\"bedrooms\"].fillna(0, inplace = True)\n",
    "df_pred[\"bathrooms\"].fillna(0, inplace = True)"
   ]
  },
  {
   "cell_type": "code",
   "execution_count": 385,
   "metadata": {
    "scrolled": false
   },
   "outputs": [],
   "source": [
    "df[\"rooms\"].fillna(0, inplace = True)\n",
    "df[\"bedrooms\"].fillna(0, inplace = True)\n",
    "df[\"bathrooms\"].fillna(0, inplace = True)"
   ]
  },
  {
   "cell_type": "code",
   "execution_count": 386,
   "metadata": {},
   "outputs": [
    {
     "name": "stderr",
     "output_type": "stream",
     "text": [
      "/tmp/ipykernel_17351/4190027654.py:1: SettingWithCopyWarning: \n",
      "A value is trying to be set on a copy of a slice from a DataFrame\n",
      "\n",
      "See the caveats in the documentation: https://pandas.pydata.org/pandas-docs/stable/user_guide/indexing.html#returning-a-view-versus-a-copy\n",
      "  df[\"surface_total\"].loc[df[\"surface_total\"].isnull() & df[\"surface_covered\"] > 0] = df[\"surface_covered\"].loc[df[\"surface_total\"].isnull() & df[\"surface_covered\"] > 0]\n"
     ]
    }
   ],
   "source": [
    "df[\"surface_total\"].loc[df[\"surface_total\"].isnull() & df[\"surface_covered\"] > 0] = df[\"surface_covered\"].loc[df[\"surface_total\"].isnull() & df[\"surface_covered\"] > 0]"
   ]
  },
  {
   "cell_type": "code",
   "execution_count": 387,
   "metadata": {},
   "outputs": [],
   "source": [
    "df[\"surface_total\"].fillna(0, inplace = True)\n",
    "df[\"surface_covered\"].fillna(0, inplace = True)"
   ]
  },
  {
   "cell_type": "code",
   "execution_count": 388,
   "metadata": {},
   "outputs": [],
   "source": [
    "df.drop(columns = [\"price_period\",\"operation_type\"], inplace = True)"
   ]
  },
  {
   "cell_type": "code",
   "execution_count": 389,
   "metadata": {
    "scrolled": true
   },
   "outputs": [
    {
     "name": "stderr",
     "output_type": "stream",
     "text": [
      "/tmp/ipykernel_17351/3611823614.py:1: SettingWithCopyWarning: \n",
      "A value is trying to be set on a copy of a slice from a DataFrame\n",
      "\n",
      "See the caveats in the documentation: https://pandas.pydata.org/pandas-docs/stable/user_guide/indexing.html#returning-a-view-versus-a-copy\n",
      "  df[\"bedrooms\"].loc[df[\"bedrooms\"] < 0 ] = abs(df[\"bedrooms\"].loc[df[\"bedrooms\"] < 0 ])\n"
     ]
    }
   ],
   "source": [
    "df[\"bedrooms\"].loc[df[\"bedrooms\"] < 0 ] = abs(df[\"bedrooms\"].loc[df[\"bedrooms\"] < 0 ])"
   ]
  },
  {
   "cell_type": "code",
   "execution_count": 390,
   "metadata": {
    "scrolled": true
   },
   "outputs": [
    {
     "name": "stderr",
     "output_type": "stream",
     "text": [
      "/tmp/ipykernel_17351/3583135774.py:1: SettingWithCopyWarning: \n",
      "A value is trying to be set on a copy of a slice from a DataFrame\n",
      "\n",
      "See the caveats in the documentation: https://pandas.pydata.org/pandas-docs/stable/user_guide/indexing.html#returning-a-view-versus-a-copy\n",
      "  df[\"surface_total\"].loc[df[\"surface_total\"] < 0 ] = abs(df[\"surface_total\"].loc[df[\"surface_total\"] < 0 ])\n"
     ]
    }
   ],
   "source": [
    "df[\"surface_total\"].loc[df[\"surface_total\"] < 0 ] = abs(df[\"surface_total\"].loc[df[\"surface_total\"] < 0 ])"
   ]
  },
  {
   "cell_type": "code",
   "execution_count": 391,
   "metadata": {
    "scrolled": true
   },
   "outputs": [
    {
     "name": "stderr",
     "output_type": "stream",
     "text": [
      "/tmp/ipykernel_17351/3604395483.py:1: SettingWithCopyWarning: \n",
      "A value is trying to be set on a copy of a slice from a DataFrame\n",
      "\n",
      "See the caveats in the documentation: https://pandas.pydata.org/pandas-docs/stable/user_guide/indexing.html#returning-a-view-versus-a-copy\n",
      "  df[\"surface_covered\"].loc[df[\"surface_covered\"] < 0 ] = abs(df[\"surface_covered\"].loc[df[\"surface_covered\"] < 0 ])\n"
     ]
    }
   ],
   "source": [
    "df[\"surface_covered\"].loc[df[\"surface_covered\"] < 0 ] = abs(df[\"surface_covered\"].loc[df[\"surface_covered\"] < 0 ])"
   ]
  },
  {
   "cell_type": "code",
   "execution_count": null,
   "metadata": {},
   "outputs": [],
   "source": [
    "df.drop(columns = [\"title\",\"description\"], inplace = True)"
   ]
  },
  {
   "cell_type": "code",
   "execution_count": 392,
   "metadata": {},
   "outputs": [],
   "source": [
    "df_pred.drop(columns = [\"ad_type\",\"l4\",\"l5\", \"l6\", \"created_on\"], inplace = True )\n",
    "df_pred.drop(columns = [\"lat\",\"lon\", \"l1\",\"l2\"], inplace = True )\n",
    "df_pred.drop(columns = [\"currency\"], inplace = True )\n",
    "df_pred.drop(columns = [\"price_period\"], inplace = True)\n",
    "df_pred.drop(columns = \"operation_type\", inplace = True)\n",
    "df_pred.drop(columns = [\"start_date\",\"end_date\",\"services\",\"additionals\"], inplace = True)\n",
    "df_pred.drop(columns = [\"title\",\"description\",\"details\"], inplace = True)"
   ]
  },
  {
   "cell_type": "markdown",
   "metadata": {
    "id": "i2jRJmQ-tD4Z"
   },
   "source": [
    "# Feature Engineering"
   ]
  },
  {
   "cell_type": "code",
   "execution_count": 397,
   "metadata": {},
   "outputs": [],
   "source": [
    "df_total = pd.concat([df,df_pred], axis=0)"
   ]
  },
  {
   "cell_type": "code",
   "execution_count": 398,
   "metadata": {},
   "outputs": [],
   "source": [
    "df_total[\"lnrooms\"] = df_total.rooms.apply(lambda x: x if x == 0 else np.log(x))"
   ]
  },
  {
   "cell_type": "code",
   "execution_count": 400,
   "metadata": {},
   "outputs": [],
   "source": [
    "df_total[\"lnbedrooms\"] = df_total.bedrooms.apply(lambda x: x if x == 0 else np.log(x))"
   ]
  },
  {
   "cell_type": "code",
   "execution_count": 401,
   "metadata": {},
   "outputs": [],
   "source": [
    "df_total = pd.get_dummies(df_total, columns = [\"l3\", \"property_type\"])"
   ]
  },
  {
   "cell_type": "code",
   "execution_count": 402,
   "metadata": {},
   "outputs": [],
   "source": [
    "df = df_total[df_total.index.isin(df.index)]\n",
    "df_pred = df_total[df_total.index.isin(df_pred.index)]"
   ]
  },
  {
   "cell_type": "markdown",
   "metadata": {},
   "source": [
    "# Modelización"
   ]
  },
  {
   "cell_type": "code",
   "execution_count": null,
   "metadata": {
    "id": "PoAhfAjlr-rp"
   },
   "outputs": [],
   "source": [
    "X = df[df.columns.drop('price')]\n",
    "y = df['price']\n",
    "\n",
    "# for n_estimators in [100, 500, 1000]:     \n",
    "#     for max_depth in [3, 7, 11]:     \n",
    "\n",
    "## Tienen que usar RandomForestRegressor si o si o si. Pueden cambiar los parámetros\n",
    "n_estimators = 500\n",
    "max_depth = 4\n",
    "\n",
    "reg = sk.ensemble.RandomForestRegressor(n_estimators=n_estimators, max_depth=max_depth, n_jobs=-1, random_state=42)\n",
    "\n",
    "scores = []\n",
    "kf = sk.model_selection.KFold(n_splits=2, shuffle=True, random_state=42)\n",
    "for train, test in kf.split(X):\n",
    "    X_train, X_test, y_train, y_test = X.iloc[train], X.iloc[test], y[train], y[test]\n",
    "\n",
    "    # Entrenamos el modelo\n",
    "    reg.fit(X_train, y_train)\n",
    "\n",
    "    # Predecimos\n",
    "    y_pred = reg.predict(X_test)\n",
    "\n",
    "    # Medimos la performance de la predicción\n",
    "    score = sk.metrics.mean_squared_error(y_test, y_pred)\n",
    "    print(score)\n",
    "    scores.append(score)\n",
    "\n",
    "print(np.mean(scores), np.std(scores))"
   ]
  },
  {
   "cell_type": "markdown",
   "metadata": {
    "id": "sqVkTPzj3kV0"
   },
   "source": [
    "## Predicción para Kaggle\n"
   ]
  },
  {
   "cell_type": "code",
   "execution_count": 404,
   "metadata": {
    "id": "xzAwUNRA1Fzb"
   },
   "outputs": [],
   "source": [
    "# quedate con las mismas columnas que ar_properties\n",
    "X_pred = df_pred[X.columns]"
   ]
  },
  {
   "cell_type": "code",
   "execution_count": 415,
   "metadata": {
    "id": "81dOh5WvAPMa"
   },
   "outputs": [
    {
     "name": "stderr",
     "output_type": "stream",
     "text": [
      "/tmp/ipykernel_17351/3660555222.py:12: SettingWithCopyWarning: \n",
      "A value is trying to be set on a copy of a slice from a DataFrame.\n",
      "Try using .loc[row_indexer,col_indexer] = value instead\n",
      "\n",
      "See the caveats in the documentation: https://pandas.pydata.org/pandas-docs/stable/user_guide/indexing.html#returning-a-view-versus-a-copy\n",
      "  df_pred[\"price\"] = reg.predict(X_pred)\n"
     ]
    }
   ],
   "source": [
    "# los mejores hiperparámetros encontrados antes\n",
    "n_estimators = 5000\n",
    "max_depth = 5\n",
    "\n",
    "# Entrenamiento\n",
    "reg = sk.ensemble.RandomForestRegressor(n_estimators=n_estimators, max_depth=max_depth, random_state=42, n_jobs=-1)\n",
    "\n",
    "# Entrenamos el modelo\n",
    "reg.fit(X_train, y_train)\n",
    "\n",
    "# predicción\n",
    "df_pred[\"price\"] = reg.predict(X_pred)"
   ]
  },
  {
   "cell_type": "code",
   "execution_count": 416,
   "metadata": {
    "id": "mU9iV6cuBwKB"
   },
   "outputs": [],
   "source": [
    "# Grabo la solución\n",
    "df_pred[[\"price\"]].to_csv(\"solucion.csv\")"
   ]
  }
 ],
 "metadata": {
  "colab": {
   "collapsed_sections": [
    "sqVkTPzj3kV0"
   ],
   "name": "TP individual.ipynb",
   "provenance": []
  },
  "interpreter": {
   "hash": "916dbcbb3f70747c44a77c7bcd40155683ae19c65e1c03b4aa3499c5328201f1"
  },
  "kernelspec": {
   "display_name": "Python 3 (ipykernel)",
   "language": "python",
   "name": "python3"
  },
  "language_info": {
   "codemirror_mode": {
    "name": "ipython",
    "version": 3
   },
   "file_extension": ".py",
   "mimetype": "text/x-python",
   "name": "python",
   "nbconvert_exporter": "python",
   "pygments_lexer": "ipython3",
   "version": "3.8.10"
  }
 },
 "nbformat": 4,
 "nbformat_minor": 1
}
