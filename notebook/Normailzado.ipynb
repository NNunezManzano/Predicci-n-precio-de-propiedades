{
 "cells": [
  {
   "cell_type": "markdown",
   "metadata": {},
   "source": [
    "# **Entorno**"
   ]
  },
  {
   "cell_type": "code",
   "execution_count": 1,
   "metadata": {
    "id": "A7BBykw5oQNl"
   },
   "outputs": [],
   "source": [
    "# https://www.properati.com.ar/data\n",
    "#! wget -O ar_properties.csv.gz -q https://storage.googleapis.com/properati-data-public/ar_properties.csv.gz\n",
    "#! gzip -d -f ./ar_properties.csv.gz"
   ]
  },
  {
   "cell_type": "code",
   "execution_count": 2,
   "metadata": {
    "id": "jw8ogMDOpvKP"
   },
   "outputs": [],
   "source": [
    "import pandas as pd\n",
    "import numpy as np\n",
    "\n",
    "import matplotlib.pyplot as plt\n",
    "\n",
    "import sklearn as sk\n",
    "from sklearn import model_selection\n",
    "from sklearn import ensemble\n",
    "from sklearn import metrics\n",
    "\n",
    "import datetime\n",
    "\n",
    "import warnings\n",
    "warnings.filterwarnings('ignore')\n",
    "\n",
    "import re\n"
   ]
  },
  {
   "cell_type": "code",
   "execution_count": 3,
   "metadata": {},
   "outputs": [],
   "source": [
    "pd.options.display.max_colwidth = -1"
   ]
  },
  {
   "cell_type": "markdown",
   "metadata": {
    "id": "20D-m6GPyefp"
   },
   "source": [
    "# Lectura de datos"
   ]
  },
  {
   "cell_type": "code",
   "execution_count": 4,
   "metadata": {
    "id": "CtV0wOGsqJLC"
   },
   "outputs": [],
   "source": [
    "df_properties = pd.read_csv('../ar_properties.csv', index_col=\"id\")\n",
    "df_apred = pd.read_csv('../a_predecir.csv', index_col=\"id\")"
   ]
  },
  {
   "cell_type": "code",
   "execution_count": 5,
   "metadata": {},
   "outputs": [],
   "source": [
    "df = df_properties.copy()\n",
    "df_pred = df_apred.copy()"
   ]
  },
  {
   "cell_type": "code",
   "execution_count": 6,
   "metadata": {
    "id": "thKYxfNuulgB"
   },
   "outputs": [
    {
     "data": {
      "text/html": [
       "<div>\n",
       "<style scoped>\n",
       "    .dataframe tbody tr th:only-of-type {\n",
       "        vertical-align: middle;\n",
       "    }\n",
       "\n",
       "    .dataframe tbody tr th {\n",
       "        vertical-align: top;\n",
       "    }\n",
       "\n",
       "    .dataframe thead th {\n",
       "        text-align: right;\n",
       "    }\n",
       "</style>\n",
       "<table border=\"1\" class=\"dataframe\">\n",
       "  <thead>\n",
       "    <tr style=\"text-align: right;\">\n",
       "      <th></th>\n",
       "      <th>ad_type</th>\n",
       "      <th>start_date</th>\n",
       "      <th>end_date</th>\n",
       "      <th>created_on</th>\n",
       "      <th>lat</th>\n",
       "      <th>lon</th>\n",
       "      <th>l1</th>\n",
       "      <th>l2</th>\n",
       "      <th>l3</th>\n",
       "      <th>l4</th>\n",
       "      <th>...</th>\n",
       "      <th>bathrooms</th>\n",
       "      <th>surface_total</th>\n",
       "      <th>surface_covered</th>\n",
       "      <th>price</th>\n",
       "      <th>currency</th>\n",
       "      <th>price_period</th>\n",
       "      <th>title</th>\n",
       "      <th>description</th>\n",
       "      <th>property_type</th>\n",
       "      <th>operation_type</th>\n",
       "    </tr>\n",
       "    <tr>\n",
       "      <th>id</th>\n",
       "      <th></th>\n",
       "      <th></th>\n",
       "      <th></th>\n",
       "      <th></th>\n",
       "      <th></th>\n",
       "      <th></th>\n",
       "      <th></th>\n",
       "      <th></th>\n",
       "      <th></th>\n",
       "      <th></th>\n",
       "      <th></th>\n",
       "      <th></th>\n",
       "      <th></th>\n",
       "      <th></th>\n",
       "      <th></th>\n",
       "      <th></th>\n",
       "      <th></th>\n",
       "      <th></th>\n",
       "      <th></th>\n",
       "      <th></th>\n",
       "      <th></th>\n",
       "    </tr>\n",
       "  </thead>\n",
       "  <tbody>\n",
       "    <tr>\n",
       "      <th>DyVXfkpKygVBKuUk5olH+A==</th>\n",
       "      <td>Propiedad</td>\n",
       "      <td>2020-08-22</td>\n",
       "      <td>2020-09-03</td>\n",
       "      <td>2020-08-22</td>\n",
       "      <td>-34.407468</td>\n",
       "      <td>-58.957367</td>\n",
       "      <td>Argentina</td>\n",
       "      <td>Bs.As. G.B.A. Zona Norte</td>\n",
       "      <td>Pilar</td>\n",
       "      <td>NaN</td>\n",
       "      <td>...</td>\n",
       "      <td>NaN</td>\n",
       "      <td>133139.0</td>\n",
       "      <td>NaN</td>\n",
       "      <td>NaN</td>\n",
       "      <td>NaN</td>\n",
       "      <td>Mensual</td>\n",
       "      <td>VENTA - Lote Industrial 130.000m2 - Parque Industrial Pilar</td>\n",
       "      <td>Lote (Nro.50) mide 133.139 m2\\n&lt;br&gt;Valor: U$S (CONSULTAR)\\n&lt;br&gt;\\n&lt;br&gt;(Nuevo) PLAZA INDUSTRIAL PILAR (Anexo) del Parque Industrial Pilar.\\n&lt;br&gt;El predio cuenta con 200 HA ofreciendo LOTES que van desde los 5.000 hasta 300.000m2.\\n&lt;br&gt; FOS: 0.5 / FOT: 1\\n&lt;br&gt; Zonificación Industrial  (Categoría: 1, 2 y 3).\\n&lt;br&gt; Desagues Pluviales\\n&lt;br&gt; Tendido Red Eléctrica\\n&lt;br&gt; Alumbrado Led de calles\\n&lt;br&gt;Sobre Av. Arturo Frondizi entre (Calles 10 y 12), con acceso directo a la Au. Panamericana Ramal Pilar (Ruta 8, Km 61).\\n&lt;br&gt;\\n&lt;br&gt;CONSULTAR: Depósitos/Locales Llave en Mano (150 a los 1.000m2).\\n&lt;br&gt;CONSULTAR: Disponibilidad y Financiamiento.&lt;br&gt;&lt;br&gt;Martillero y Corredor Inmobiliario: &lt;br&gt;Walter Angel Tomé&lt;br&gt;CMCPSI 5200 &lt;br&gt;Todas las propiedades son tasadas y bajo normas establecidas en la ley publicamos las propiedades para su comercialización.&lt;br&gt;La intermediación y la conclusión de las operaciones son actividades exclusivas de este matriculado.</td>\n",
       "      <td>Lote</td>\n",
       "      <td>Venta</td>\n",
       "    </tr>\n",
       "    <tr>\n",
       "      <th>9naojilaMecJN4jlQiTkGg==</th>\n",
       "      <td>Propiedad</td>\n",
       "      <td>2020-08-22</td>\n",
       "      <td>2020-09-04</td>\n",
       "      <td>2020-08-22</td>\n",
       "      <td>-37.996039</td>\n",
       "      <td>-57.542509</td>\n",
       "      <td>Argentina</td>\n",
       "      <td>Buenos Aires Costa Atlántica</td>\n",
       "      <td>Mar del Plata</td>\n",
       "      <td>NaN</td>\n",
       "      <td>...</td>\n",
       "      <td>NaN</td>\n",
       "      <td>687.0</td>\n",
       "      <td>687.0</td>\n",
       "      <td>NaN</td>\n",
       "      <td>NaN</td>\n",
       "      <td>Mensual</td>\n",
       "      <td>Casa - Santa Cecilia</td>\n",
       "      <td>Conjunto edilicio de casa y departamentos en block.  Casona de 1930, restaurada, con vista al mar. A 30 mts de la costa, cerca de peatonal San Martín y otros puntos turísticos. &lt;br&gt;&lt;br&gt;Apto para:&lt;br&gt;1. Vivienda familiar + uso de oficinas dentro del mismo edificio.&lt;br&gt;2.  Uso profesional (consultorios, oficinas)&lt;br&gt;3.  Alquiler de habitaciones tipo hostel o apart.&lt;br&gt;4.  Apto para demoler y construir.&lt;br&gt;&lt;br&gt;DETALLES:&lt;br&gt;&lt;br&gt;P.B:  Espacios comunes, 100 m2. Ingreso, cochera p/3 autos, lavadero, depósito, baño, parque de 134 m2 con parrilla, doble quincho, piscina para niños.&lt;br&gt;&lt;br&gt;PRIMER PISO:  Dos deptos con vista al mar (opción unificable para armar un único piso) con detalles de calidad, pinotea, piedra, etc.&lt;br&gt;Al frente, dos grandes amb con dormitorios,  cocina com, gran living com/recepción, gran tarima de madera de primera, hogar y leñera, catarata decorativa, baño completo, balcón a la calle (89 m2)&lt;br&gt;Al parque, depto de living, cocina grande con balcón terraza (43 m2), dormitorio y baño.&lt;br&gt;&lt;br&gt;SEGUNDO PISO: Cinco deptos completos (2 al fte y 3 laterales), todos externos, vista al mar, con baños, bauleras, cocinas y terraza.&lt;br&gt;Depto de 50 m2 (2 amb) + depto de 18 m2 (1 amb) + depto de 26 m2 (1 amb c/balcón) + depto de 33 m2 (2 amb) + depto de 49 m2 (2 amb) c/entrada independiente.&lt;br&gt;Los deptos de 2 amb pueden unificarse para armar uno mas grande, totalmente externo. &lt;br&gt;&lt;br&gt;TERCER PISO:  Un loft de 168 m2. Living com, 2 baños, sector dormitorios, 2 terrazas, entre piso con gimnasio o sala de estudio), cocina, lavadero, doble entrada, extraordinaria vista al mar y al parque.&lt;br&gt;&lt;br&gt;&lt;br&gt;SERVICIOS GENERALES:&lt;br&gt;&lt;br&gt;Calefacción por radiadores, 2 calderas y 2 termotanques. Grupo electrógeno. Tanque de agua de 3500 lts + reserva de 600 lts. 2 bombas elevadoras y 1 de presión extra. Espacio ascensor-montacargas. Sistema anti incendio. Central telefónica. Alarma. TV satelital. Internet. Iluminación decorativa. &lt;br&gt;&lt;br&gt;INSTALACIONES:&lt;br&gt;&lt;br&gt;Totalmente equipado y amoblado. Todo en perfecto funcionamiento. Hornos. Anafes. Heladeras. TVs.  Mobiliario. Vajilla. Accesorios (NO INCLUIDO EN EL PRECIO DE VENTA INICIAL)</td>\n",
       "      <td>Otro</td>\n",
       "      <td>Venta</td>\n",
       "    </tr>\n",
       "    <tr>\n",
       "      <th>tlCPRJPjoDEUzuuCelemAQ==</th>\n",
       "      <td>Propiedad</td>\n",
       "      <td>2020-08-22</td>\n",
       "      <td>2020-08-31</td>\n",
       "      <td>2020-08-22</td>\n",
       "      <td>-31.380187</td>\n",
       "      <td>-58.009182</td>\n",
       "      <td>Argentina</td>\n",
       "      <td>Entre Ríos</td>\n",
       "      <td>Concordia</td>\n",
       "      <td>NaN</td>\n",
       "      <td>...</td>\n",
       "      <td>1.0</td>\n",
       "      <td>80.0</td>\n",
       "      <td>80.0</td>\n",
       "      <td>NaN</td>\n",
       "      <td>NaN</td>\n",
       "      <td>Mensual</td>\n",
       "      <td>Casa - Concordia</td>\n",
       "      <td>Casa de un dormitorio, cocina, baño, living comedor, lavadero, patio y cochera para un auto bajo techo.  No posee Gas Natural y es apto para mascotas, disponible a partir de septiembre</td>\n",
       "      <td>Casa</td>\n",
       "      <td>Alquiler</td>\n",
       "    </tr>\n",
       "    <tr>\n",
       "      <th>Zw3b91glQUO3HNrM5fPYlQ==</th>\n",
       "      <td>Propiedad</td>\n",
       "      <td>2020-08-22</td>\n",
       "      <td>2020-09-04</td>\n",
       "      <td>2020-08-22</td>\n",
       "      <td>-27.494106</td>\n",
       "      <td>-55.123455</td>\n",
       "      <td>Argentina</td>\n",
       "      <td>Misiones</td>\n",
       "      <td>Oberá</td>\n",
       "      <td>NaN</td>\n",
       "      <td>...</td>\n",
       "      <td>1.0</td>\n",
       "      <td>NaN</td>\n",
       "      <td>NaN</td>\n",
       "      <td>NaN</td>\n",
       "      <td>NaN</td>\n",
       "      <td>Mensual</td>\n",
       "      <td>Terreno - Obera</td>\n",
       "      <td>IMPORTANTE PROPIEDAD EN VENTA EN OBERA MISIONES&lt;br&gt;Gran terreno de 20 m de frente por 50 m de fondo, con construcción a terminar, posee un depto en pb. de 1 dormitorio, coc-comedor y baño. y un tipo duplex de 1 dormitorio, cocina comedor, baño y balcón.&lt;br&gt;Ubicado sobre calle Paraguay casi Misiones de la ciudad de Obera. Se encuentra en una zona linda en crecimiento, a 7 cuadras aprox. del centro y a 4 cuadras de la terminal nueva.&lt;br&gt;CONSULTE PRECIO!!!&lt;br&gt;&lt;br&gt;Para Mayor información Comunicarse con SILARQ Arquitectura + Inmobiliaria. Sito en Av. Lopez Torres 5467 Pdas-Mnes,  al Cel/Wapp: 3764866218, mail:   o en nuestra web. site  [(código_referencia)]</td>\n",
       "      <td>Lote</td>\n",
       "      <td>Venta</td>\n",
       "    </tr>\n",
       "    <tr>\n",
       "      <th>bsU81gm9JEgtZCbTYgvykg==</th>\n",
       "      <td>Propiedad</td>\n",
       "      <td>2020-08-22</td>\n",
       "      <td>2020-09-04</td>\n",
       "      <td>2020-08-22</td>\n",
       "      <td>-32.948856</td>\n",
       "      <td>-60.630464</td>\n",
       "      <td>Argentina</td>\n",
       "      <td>Santa Fe</td>\n",
       "      <td>Rosario</td>\n",
       "      <td>NaN</td>\n",
       "      <td>...</td>\n",
       "      <td>1.0</td>\n",
       "      <td>76.0</td>\n",
       "      <td>66.0</td>\n",
       "      <td>NaN</td>\n",
       "      <td>NaN</td>\n",
       "      <td>Mensual</td>\n",
       "      <td>Departamento - Rosario</td>\n",
       "      <td>PORTAL DE LOS MARINOS&lt;br&gt;Es un complejo de viviendas de categoría, proyectado en cuatro torres independientes y ubicado en la zona más emblemática de Rosario: frente al hermoso río Paraná y el Parque Nacional a la Bandera.&lt;br&gt;&lt;br&gt;TORRE TARRICO NORTE - Piso 3 y 6&lt;br&gt;Unidad de un dormitorio con excelente nivel de terminaciones: living comedor con pisos de madera flotante, balcón. Cocina semi integrada dividida con una barra, amoblamientos de alacena y bajo mesada completos de primera calidad, cocina y campana DOMEC. Mesada de granito. Pileta de acero inoxidable Johnson Acero o similar.  Grifería cromada, de alta tecnología y diseño. Office o  1/2 dormitorio, dormitorio con placard  de puertas corredizas con interiores completos y balcón al contrafrente. Baño completo. Calefacción por calderas. Aberturas exteriores principales de aluminio con doble vidriado hermético de primera calidad. Herrajes de primera categoría.  Barandas de balcones de aluminio. Instalación completa de aire acondicionado, TV y telefonía. Opcional cochera y baulera.&lt;br&gt;&lt;br&gt;El equipamiento y espacios comunes están orientados a la recreación y al disfrute del paisaje: microcine, gimnasio, patio de juegos, sala blanda para niños, quincho con parrilleros, sala de juegos, hidromasajes y piscina con solarium y vista al río y las islas.&lt;br&gt;&lt;br&gt;EL CONJUNTO&lt;br&gt;Un lugar extraordinario: Está ubicado a pasos del grandioso Monumento Nacional a la Bandera, del gran espacio verde de parque que lo rodea, y del sector más lindo de la costa del río Paraná. También, a minutos del Centro y de todo lo que necesitamos diariamente para vivir con comodidad.&lt;br&gt;Un emprendimiento único: Portal de los Marinos no es un emprendimiento convencional. Son cuatro torres desarrolladas en un terreno de 1100 m2, cada una con características diferentes, y unificadas por un puente peatonal que las conecta y relaciona entre sí. Algunos proyectos tienen algo, otro tienen mucho, Portal de los Marinos tiene todo. El mejor lugar para vivir.&lt;br&gt;Un regalo para los sentidos: El ensamble perfecto entre ciudad y naturaleza: Salir a caminar por el parque al atardecer, preparar un asado con amigos el domingo al mediodía, disfrutar la risa de los chicos en su propio espacio de juegos, dejar la bici segura y cubierta a cualquier hora, hacer tu rutina física en el gimnasio sin salir del complejo, ir al cine sin ir al cine. Encontrar la tranquilidad en el corazón de la ciudad.Y más.</td>\n",
       "      <td>Departamento</td>\n",
       "      <td>Venta</td>\n",
       "    </tr>\n",
       "  </tbody>\n",
       "</table>\n",
       "<p>5 rows × 24 columns</p>\n",
       "</div>"
      ],
      "text/plain": [
       "                            ad_type  start_date    end_date  created_on  \\\n",
       "id                                                                        \n",
       "DyVXfkpKygVBKuUk5olH+A==  Propiedad  2020-08-22  2020-09-03  2020-08-22   \n",
       "9naojilaMecJN4jlQiTkGg==  Propiedad  2020-08-22  2020-09-04  2020-08-22   \n",
       "tlCPRJPjoDEUzuuCelemAQ==  Propiedad  2020-08-22  2020-08-31  2020-08-22   \n",
       "Zw3b91glQUO3HNrM5fPYlQ==  Propiedad  2020-08-22  2020-09-04  2020-08-22   \n",
       "bsU81gm9JEgtZCbTYgvykg==  Propiedad  2020-08-22  2020-09-04  2020-08-22   \n",
       "\n",
       "                                lat        lon         l1  \\\n",
       "id                                                          \n",
       "DyVXfkpKygVBKuUk5olH+A== -34.407468 -58.957367  Argentina   \n",
       "9naojilaMecJN4jlQiTkGg== -37.996039 -57.542509  Argentina   \n",
       "tlCPRJPjoDEUzuuCelemAQ== -31.380187 -58.009182  Argentina   \n",
       "Zw3b91glQUO3HNrM5fPYlQ== -27.494106 -55.123455  Argentina   \n",
       "bsU81gm9JEgtZCbTYgvykg== -32.948856 -60.630464  Argentina   \n",
       "\n",
       "                                                    l2             l3   l4  \\\n",
       "id                                                                           \n",
       "DyVXfkpKygVBKuUk5olH+A==  Bs.As. G.B.A. Zona Norte      Pilar          NaN   \n",
       "9naojilaMecJN4jlQiTkGg==  Buenos Aires Costa Atlántica  Mar del Plata  NaN   \n",
       "tlCPRJPjoDEUzuuCelemAQ==  Entre Ríos                    Concordia      NaN   \n",
       "Zw3b91glQUO3HNrM5fPYlQ==  Misiones                      Oberá          NaN   \n",
       "bsU81gm9JEgtZCbTYgvykg==  Santa Fe                      Rosario        NaN   \n",
       "\n",
       "                          ... bathrooms  surface_total  surface_covered  \\\n",
       "id                        ...                                             \n",
       "DyVXfkpKygVBKuUk5olH+A==  ... NaN        133139.0      NaN                \n",
       "9naojilaMecJN4jlQiTkGg==  ... NaN        687.0          687.0             \n",
       "tlCPRJPjoDEUzuuCelemAQ==  ...  1.0       80.0           80.0              \n",
       "Zw3b91glQUO3HNrM5fPYlQ==  ...  1.0      NaN            NaN                \n",
       "bsU81gm9JEgtZCbTYgvykg==  ...  1.0       76.0           66.0              \n",
       "\n",
       "                          price  currency  price_period  \\\n",
       "id                                                        \n",
       "DyVXfkpKygVBKuUk5olH+A== NaN     NaN       Mensual        \n",
       "9naojilaMecJN4jlQiTkGg== NaN     NaN       Mensual        \n",
       "tlCPRJPjoDEUzuuCelemAQ== NaN     NaN       Mensual        \n",
       "Zw3b91glQUO3HNrM5fPYlQ== NaN     NaN       Mensual        \n",
       "bsU81gm9JEgtZCbTYgvykg== NaN     NaN       Mensual        \n",
       "\n",
       "                                                                                title  \\\n",
       "id                                                                                      \n",
       "DyVXfkpKygVBKuUk5olH+A==  VENTA - Lote Industrial 130.000m2 - Parque Industrial Pilar   \n",
       "9naojilaMecJN4jlQiTkGg==  Casa - Santa Cecilia                                          \n",
       "tlCPRJPjoDEUzuuCelemAQ==  Casa - Concordia                                              \n",
       "Zw3b91glQUO3HNrM5fPYlQ==  Terreno - Obera                                               \n",
       "bsU81gm9JEgtZCbTYgvykg==  Departamento - Rosario                                        \n",
       "\n",
       "                                                                                                                                                                                                                                                                                                                                                                                                                                                                                                                                                                                                                                                                                                                                                                                                                                                                                                                                                                                                                                                                                                                                                                                                                                                                                                                                                                                                                                                                                                                                                                                                                                                                                                                                                                                                                                                                                                                                                                                                                                                                                                                                                                                                                                                                                                                                                                                                                                                                                                                                                        description  \\\n",
       "id                                                                                                                                                                                                                                                                                                                                                                                                                                                                                                                                                                                                                                                                                                                                                                                                                                                                                                                                                                                                                                                                                                                                                                                                                                                                                                                                                                                                                                                                                                                                                                                                                                                                                                                                                                                                                                                                                                                                                                                                                                                                                                                                                                                                                                                                                                                                                                                                                                                                                                                                                                    \n",
       "DyVXfkpKygVBKuUk5olH+A==  Lote (Nro.50) mide 133.139 m2\\n<br>Valor: U$S (CONSULTAR)\\n<br>\\n<br>(Nuevo) PLAZA INDUSTRIAL PILAR (Anexo) del Parque Industrial Pilar.\\n<br>El predio cuenta con 200 HA ofreciendo LOTES que van desde los 5.000 hasta 300.000m2.\\n<br> FOS: 0.5 / FOT: 1\\n<br> Zonificación Industrial  (Categoría: 1, 2 y 3).\\n<br> Desagues Pluviales\\n<br> Tendido Red Eléctrica\\n<br> Alumbrado Led de calles\\n<br>Sobre Av. Arturo Frondizi entre (Calles 10 y 12), con acceso directo a la Au. Panamericana Ramal Pilar (Ruta 8, Km 61).\\n<br>\\n<br>CONSULTAR: Depósitos/Locales Llave en Mano (150 a los 1.000m2).\\n<br>CONSULTAR: Disponibilidad y Financiamiento.<br><br>Martillero y Corredor Inmobiliario: <br>Walter Angel Tomé<br>CMCPSI 5200 <br>Todas las propiedades son tasadas y bajo normas establecidas en la ley publicamos las propiedades para su comercialización.<br>La intermediación y la conclusión de las operaciones son actividades exclusivas de este matriculado.                                                                                                                                                                                                                                                                                                                                                                                                                                                                                                                                                                                                                                                                                                                                                                                                                                                                                                                                                                                                                                                                                                                                                                                                                                                                                                                                                                                                                                                                                                                                                       \n",
       "9naojilaMecJN4jlQiTkGg==  Conjunto edilicio de casa y departamentos en block.  Casona de 1930, restaurada, con vista al mar. A 30 mts de la costa, cerca de peatonal San Martín y otros puntos turísticos. <br><br>Apto para:<br>1. Vivienda familiar + uso de oficinas dentro del mismo edificio.<br>2.  Uso profesional (consultorios, oficinas)<br>3.  Alquiler de habitaciones tipo hostel o apart.<br>4.  Apto para demoler y construir.<br><br>DETALLES:<br><br>P.B:  Espacios comunes, 100 m2. Ingreso, cochera p/3 autos, lavadero, depósito, baño, parque de 134 m2 con parrilla, doble quincho, piscina para niños.<br><br>PRIMER PISO:  Dos deptos con vista al mar (opción unificable para armar un único piso) con detalles de calidad, pinotea, piedra, etc.<br>Al frente, dos grandes amb con dormitorios,  cocina com, gran living com/recepción, gran tarima de madera de primera, hogar y leñera, catarata decorativa, baño completo, balcón a la calle (89 m2)<br>Al parque, depto de living, cocina grande con balcón terraza (43 m2), dormitorio y baño.<br><br>SEGUNDO PISO: Cinco deptos completos (2 al fte y 3 laterales), todos externos, vista al mar, con baños, bauleras, cocinas y terraza.<br>Depto de 50 m2 (2 amb) + depto de 18 m2 (1 amb) + depto de 26 m2 (1 amb c/balcón) + depto de 33 m2 (2 amb) + depto de 49 m2 (2 amb) c/entrada independiente.<br>Los deptos de 2 amb pueden unificarse para armar uno mas grande, totalmente externo. <br><br>TERCER PISO:  Un loft de 168 m2. Living com, 2 baños, sector dormitorios, 2 terrazas, entre piso con gimnasio o sala de estudio), cocina, lavadero, doble entrada, extraordinaria vista al mar y al parque.<br><br><br>SERVICIOS GENERALES:<br><br>Calefacción por radiadores, 2 calderas y 2 termotanques. Grupo electrógeno. Tanque de agua de 3500 lts + reserva de 600 lts. 2 bombas elevadoras y 1 de presión extra. Espacio ascensor-montacargas. Sistema anti incendio. Central telefónica. Alarma. TV satelital. Internet. Iluminación decorativa. <br><br>INSTALACIONES:<br><br>Totalmente equipado y amoblado. Todo en perfecto funcionamiento. Hornos. Anafes. Heladeras. TVs.  Mobiliario. Vajilla. Accesorios (NO INCLUIDO EN EL PRECIO DE VENTA INICIAL)                                                                                                                                                                                                                                                                                                      \n",
       "tlCPRJPjoDEUzuuCelemAQ==  Casa de un dormitorio, cocina, baño, living comedor, lavadero, patio y cochera para un auto bajo techo.  No posee Gas Natural y es apto para mascotas, disponible a partir de septiembre                                                                                                                                                                                                                                                                                                                                                                                                                                                                                                                                                                                                                                                                                                                                                                                                                                                                                                                                                                                                                                                                                                                                                                                                                                                                                                                                                                                                                                                                                                                                                                                                                                                                                                                                                                                                                                                                                                                                                                                                                                                                                                                                                                                                                                                                                                                                                    \n",
       "Zw3b91glQUO3HNrM5fPYlQ==  IMPORTANTE PROPIEDAD EN VENTA EN OBERA MISIONES<br>Gran terreno de 20 m de frente por 50 m de fondo, con construcción a terminar, posee un depto en pb. de 1 dormitorio, coc-comedor y baño. y un tipo duplex de 1 dormitorio, cocina comedor, baño y balcón.<br>Ubicado sobre calle Paraguay casi Misiones de la ciudad de Obera. Se encuentra en una zona linda en crecimiento, a 7 cuadras aprox. del centro y a 4 cuadras de la terminal nueva.<br>CONSULTE PRECIO!!!<br><br>Para Mayor información Comunicarse con SILARQ Arquitectura + Inmobiliaria. Sito en Av. Lopez Torres 5467 Pdas-Mnes,  al Cel/Wapp: 3764866218, mail:   o en nuestra web. site  [(código_referencia)]                                                                                                                                                                                                                                                                                                                                                                                                                                                                                                                                                                                                                                                                                                                                                                                                                                                                                                                                                                                                                                                                                                                                                                                                                                                                                                                                                                                                                                                                                                                                                                                                                                                                                                                                                                                                                                                        \n",
       "bsU81gm9JEgtZCbTYgvykg==  PORTAL DE LOS MARINOS<br>Es un complejo de viviendas de categoría, proyectado en cuatro torres independientes y ubicado en la zona más emblemática de Rosario: frente al hermoso río Paraná y el Parque Nacional a la Bandera.<br><br>TORRE TARRICO NORTE - Piso 3 y 6<br>Unidad de un dormitorio con excelente nivel de terminaciones: living comedor con pisos de madera flotante, balcón. Cocina semi integrada dividida con una barra, amoblamientos de alacena y bajo mesada completos de primera calidad, cocina y campana DOMEC. Mesada de granito. Pileta de acero inoxidable Johnson Acero o similar.  Grifería cromada, de alta tecnología y diseño. Office o  1/2 dormitorio, dormitorio con placard  de puertas corredizas con interiores completos y balcón al contrafrente. Baño completo. Calefacción por calderas. Aberturas exteriores principales de aluminio con doble vidriado hermético de primera calidad. Herrajes de primera categoría.  Barandas de balcones de aluminio. Instalación completa de aire acondicionado, TV y telefonía. Opcional cochera y baulera.<br><br>El equipamiento y espacios comunes están orientados a la recreación y al disfrute del paisaje: microcine, gimnasio, patio de juegos, sala blanda para niños, quincho con parrilleros, sala de juegos, hidromasajes y piscina con solarium y vista al río y las islas.<br><br>EL CONJUNTO<br>Un lugar extraordinario: Está ubicado a pasos del grandioso Monumento Nacional a la Bandera, del gran espacio verde de parque que lo rodea, y del sector más lindo de la costa del río Paraná. También, a minutos del Centro y de todo lo que necesitamos diariamente para vivir con comodidad.<br>Un emprendimiento único: Portal de los Marinos no es un emprendimiento convencional. Son cuatro torres desarrolladas en un terreno de 1100 m2, cada una con características diferentes, y unificadas por un puente peatonal que las conecta y relaciona entre sí. Algunos proyectos tienen algo, otro tienen mucho, Portal de los Marinos tiene todo. El mejor lugar para vivir.<br>Un regalo para los sentidos: El ensamble perfecto entre ciudad y naturaleza: Salir a caminar por el parque al atardecer, preparar un asado con amigos el domingo al mediodía, disfrutar la risa de los chicos en su propio espacio de juegos, dejar la bici segura y cubierta a cualquier hora, hacer tu rutina física en el gimnasio sin salir del complejo, ir al cine sin ir al cine. Encontrar la tranquilidad en el corazón de la ciudad.Y más.   \n",
       "\n",
       "                         property_type operation_type  \n",
       "id                                                     \n",
       "DyVXfkpKygVBKuUk5olH+A==  Lote          Venta          \n",
       "9naojilaMecJN4jlQiTkGg==  Otro          Venta          \n",
       "tlCPRJPjoDEUzuuCelemAQ==  Casa          Alquiler       \n",
       "Zw3b91glQUO3HNrM5fPYlQ==  Lote          Venta          \n",
       "bsU81gm9JEgtZCbTYgvykg==  Departamento  Venta          \n",
       "\n",
       "[5 rows x 24 columns]"
      ]
     },
     "execution_count": 6,
     "metadata": {},
     "output_type": "execute_result"
    }
   ],
   "source": [
    "df.head()"
   ]
  },
  {
   "cell_type": "code",
   "execution_count": 7,
   "metadata": {},
   "outputs": [
    {
     "name": "stdout",
     "output_type": "stream",
     "text": [
      "<class 'pandas.core.frame.DataFrame'>\n",
      "Int64Index: 1087 entries, 1 to 1087\n",
      "Data columns (total 27 columns):\n",
      " #   Column           Non-Null Count  Dtype  \n",
      "---  ------           --------------  -----  \n",
      " 0   ad_type          1087 non-null   object \n",
      " 1   start_date       1087 non-null   object \n",
      " 2   end_date         1087 non-null   object \n",
      " 3   created_on       1087 non-null   object \n",
      " 4   lat              1087 non-null   float64\n",
      " 5   lon              1087 non-null   float64\n",
      " 6   l1               1087 non-null   object \n",
      " 7   l2               1087 non-null   object \n",
      " 8   l3               1087 non-null   object \n",
      " 9   rooms            1083 non-null   float64\n",
      " 10  bedrooms         958 non-null    float64\n",
      " 11  bathrooms        1083 non-null   float64\n",
      " 12  surface_total    1087 non-null   float64\n",
      " 13  surface_covered  1087 non-null   float64\n",
      " 14  price            0 non-null      float64\n",
      " 15  currency         1087 non-null   object \n",
      " 16  price_period     0 non-null      float64\n",
      " 17  title            1087 non-null   object \n",
      " 18  description      1083 non-null   object \n",
      " 19  property_type    1087 non-null   object \n",
      " 20  operation_type   1087 non-null   object \n",
      " 21  details          1087 non-null   object \n",
      " 22  additionals      955 non-null    object \n",
      " 23  services         842 non-null    object \n",
      " 24  l4               0 non-null      float64\n",
      " 25  l5               0 non-null      float64\n",
      " 26  l6               0 non-null      float64\n",
      "dtypes: float64(12), object(15)\n",
      "memory usage: 237.8+ KB\n"
     ]
    }
   ],
   "source": [
    "df_pred.info()"
   ]
  },
  {
   "cell_type": "code",
   "execution_count": 8,
   "metadata": {},
   "outputs": [
    {
     "name": "stdout",
     "output_type": "stream",
     "text": [
      "<class 'pandas.core.frame.DataFrame'>\n",
      "Index: 1000000 entries, DyVXfkpKygVBKuUk5olH+A== to rEynGyGrrsxNeG0ib5vUBA==\n",
      "Data columns (total 24 columns):\n",
      " #   Column           Non-Null Count    Dtype  \n",
      "---  ------           --------------    -----  \n",
      " 0   ad_type          1000000 non-null  object \n",
      " 1   start_date       1000000 non-null  object \n",
      " 2   end_date         1000000 non-null  object \n",
      " 3   created_on       1000000 non-null  object \n",
      " 4   lat              894233 non-null   float64\n",
      " 5   lon              894191 non-null   float64\n",
      " 6   l1               1000000 non-null  object \n",
      " 7   l2               1000000 non-null  object \n",
      " 8   l3               965273 non-null   object \n",
      " 9   l4               306162 non-null   object \n",
      " 10  l5               5530 non-null     object \n",
      " 11  l6               0 non-null        float64\n",
      " 12  rooms            714179 non-null   float64\n",
      " 13  bedrooms         649933 non-null   float64\n",
      " 14  bathrooms        765122 non-null   float64\n",
      " 15  surface_total    477831 non-null   float64\n",
      " 16  surface_covered  487756 non-null   float64\n",
      " 17  price            958243 non-null   float64\n",
      " 18  currency         955491 non-null   object \n",
      " 19  price_period     429870 non-null   object \n",
      " 20  title            999999 non-null   object \n",
      " 21  description      999958 non-null   object \n",
      " 22  property_type    1000000 non-null  object \n",
      " 23  operation_type   1000000 non-null  object \n",
      "dtypes: float64(9), object(15)\n",
      "memory usage: 190.7+ MB\n"
     ]
    }
   ],
   "source": [
    "df.info()"
   ]
  },
  {
   "cell_type": "code",
   "execution_count": 9,
   "metadata": {},
   "outputs": [
    {
     "name": "stdout",
     "output_type": "stream",
     "text": [
      "<class 'pandas.core.frame.DataFrame'>\n",
      "Index: 1000000 entries, DyVXfkpKygVBKuUk5olH+A== to rEynGyGrrsxNeG0ib5vUBA==\n",
      "Data columns (total 24 columns):\n",
      " #   Column           Non-Null Count    Dtype  \n",
      "---  ------           --------------    -----  \n",
      " 0   ad_type          1000000 non-null  object \n",
      " 1   start_date       1000000 non-null  object \n",
      " 2   end_date         1000000 non-null  object \n",
      " 3   created_on       1000000 non-null  object \n",
      " 4   lat              894233 non-null   float64\n",
      " 5   lon              894191 non-null   float64\n",
      " 6   l1               1000000 non-null  object \n",
      " 7   l2               1000000 non-null  object \n",
      " 8   l3               965273 non-null   object \n",
      " 9   l4               306162 non-null   object \n",
      " 10  l5               5530 non-null     object \n",
      " 11  l6               0 non-null        float64\n",
      " 12  rooms            714179 non-null   float64\n",
      " 13  bedrooms         649933 non-null   float64\n",
      " 14  bathrooms        765122 non-null   float64\n",
      " 15  surface_total    477831 non-null   float64\n",
      " 16  surface_covered  487756 non-null   float64\n",
      " 17  price            958243 non-null   float64\n",
      " 18  currency         955491 non-null   object \n",
      " 19  price_period     429870 non-null   object \n",
      " 20  title            999999 non-null   object \n",
      " 21  description      999958 non-null   object \n",
      " 22  property_type    1000000 non-null  object \n",
      " 23  operation_type   1000000 non-null  object \n",
      "dtypes: float64(9), object(15)\n",
      "memory usage: 190.7+ MB\n"
     ]
    }
   ],
   "source": [
    "df.info()"
   ]
  },
  {
   "cell_type": "markdown",
   "metadata": {},
   "source": [
    "# Tratamiento de nulls y outliers"
   ]
  },
  {
   "cell_type": "code",
   "execution_count": 10,
   "metadata": {},
   "outputs": [],
   "source": [
    "# Me quedo solo con CABA\n",
    "df = df.loc[df[\"l1\"] == \"Argentina\"]\n",
    "df = df.loc[df[\"l2\"] == \"Capital Federal\"]"
   ]
  },
  {
   "cell_type": "markdown",
   "metadata": {},
   "source": [
    "## Longitud y Latitud"
   ]
  },
  {
   "cell_type": "code",
   "execution_count": 11,
   "metadata": {},
   "outputs": [],
   "source": [
    "df.dropna(subset=[\"lon\"],inplace=True)\n",
    "df.dropna(subset=[\"lat\"],inplace=True)"
   ]
  },
  {
   "cell_type": "code",
   "execution_count": 12,
   "metadata": {},
   "outputs": [],
   "source": [
    "lon_min_max = (58.532674897063565, 58.338011418419356 ) #Limites Este/Oeste de CABA\n",
    "lat_min_max = (34.7058110012102, 34.531639) #Limites Norte/Sur de CABA"
   ]
  },
  {
   "cell_type": "markdown",
   "metadata": {},
   "source": [
    "Primero acomodo lon y lat de los datos a predecir, como no podemos dropear los na y outliers les vamos a asignar el valor que corresponda."
   ]
  },
  {
   "cell_type": "code",
   "execution_count": 13,
   "metadata": {},
   "outputs": [],
   "source": [
    "df_pred[[\"lat\",\"lon\"]] = df_pred[[\"lon\",\"lat\"]] # Los invertimos ya que se encontraban al revez"
   ]
  },
  {
   "cell_type": "code",
   "execution_count": 14,
   "metadata": {},
   "outputs": [],
   "source": [
    "# Establezco el valor absoluto de los campos\n",
    "df_pred[\"lon\"] = abs(df_pred[\"lon\"]) \n",
    "df_pred[\"lat\"] = abs(df_pred[\"lat\"]) "
   ]
  },
  {
   "cell_type": "code",
   "execution_count": 15,
   "metadata": {},
   "outputs": [],
   "source": [
    "# Lo que este fuera de la longitu y latitud maxima de CABA es outlier\n",
    "df_pred[\"lat_outlier\"] = df_pred.lat.apply(lambda x: 0 if (x < lat_min_max[0]) & (x > lat_min_max[1]) else 1)\n",
    "df_pred[\"lon_outlier\"] = df_pred.lon.apply(lambda x: 0 if (x < lon_min_max[0]) & (x > lon_min_max[1]) else 1)"
   ]
  },
  {
   "cell_type": "code",
   "execution_count": 16,
   "metadata": {},
   "outputs": [],
   "source": [
    "#Buscamos la longitud y latitud de los outliers según lo que vemos en el titulo de la publicación\n",
    "df_pred.loc[422,\"lat\"] = 34.628212\n",
    "df_pred.loc[873,\"lat\"] = 34.557626\n",
    "df_pred.loc[1055,\"lat\"] = 34.601223\n",
    "df_pred.loc[1057,\"lat\"] = 34.557626\n",
    "df_pred.loc[422,\"lon\"] = 58.426367\n",
    "df_pred.loc[873,\"lon\"] = 58.484324\n",
    "df_pred.loc[1055,\"lon\"] = 58.376599\n",
    "df_pred.loc[1057,\"lon\"] = 58.484324\n",
    "\n",
    "df_pred.loc[1057,\"lat\"] = 34.580921"
   ]
  },
  {
   "cell_type": "markdown",
   "metadata": {},
   "source": [
    "Ahora dropeo todos los outliers del set de entrenamiento"
   ]
  },
  {
   "cell_type": "code",
   "execution_count": 17,
   "metadata": {},
   "outputs": [],
   "source": [
    "df[\"lon\"] = abs(df[\"lon\"]) \n",
    "df[\"lat\"] = abs(df[\"lat\"]) "
   ]
  },
  {
   "cell_type": "code",
   "execution_count": 18,
   "metadata": {},
   "outputs": [],
   "source": [
    "df[\"lat_outlier\"] = df.lat.apply(lambda x: 0 if (x < lat_min_max[0]) & (x > lat_min_max[1]) else 1)\n",
    "df[\"lon_outlier\"] = df.lon.apply(lambda x: 0 if (x < lon_min_max[0]) & (x > lon_min_max[1]) else 1)"
   ]
  },
  {
   "cell_type": "code",
   "execution_count": 19,
   "metadata": {},
   "outputs": [],
   "source": [
    "#Dropeo todos los otliers\n",
    "df.drop(df.loc[(df[\"lat_outlier\"] == 1) | (df[\"lon_outlier\"] == 1)].index, inplace = True)\n",
    "\n",
    "#Drepeo las dos columnas de outliers\n",
    "df.drop(columns=[\"lat_outlier\",\"lon_outlier\"], inplace = True)\n",
    "df_pred.drop(columns=[\"lat_outlier\",\"lon_outlier\"], inplace = True)"
   ]
  },
  {
   "cell_type": "markdown",
   "metadata": {},
   "source": [
    "## Barrios"
   ]
  },
  {
   "cell_type": "code",
   "execution_count": 20,
   "metadata": {},
   "outputs": [],
   "source": [
    "df_l3 = df[[\"lon\",\"lat\",\"l3\"]]\n",
    "\n",
    "df_test_l3 = df_l3.loc[df_l3[\"l3\"].isnull()]\n",
    "\n",
    "df_train_l3 = df_l3.loc[df_l3[\"l3\"].notnull()]"
   ]
  },
  {
   "cell_type": "code",
   "execution_count": 21,
   "metadata": {},
   "outputs": [
    {
     "name": "stdout",
     "output_type": "stream",
     "text": [
      "n_1 0.8281104459358722\n",
      "n_3 0.8271963715414128\n",
      "n_5 0.8290366500360132\n",
      "n_7 0.8296473923071274\n",
      "n_9 0.8290892372316154\n",
      "n_11 0.8285391842217147\n"
     ]
    }
   ],
   "source": [
    "X_l3 = df_train_l3[df_train_l3.columns.drop('l3')]\n",
    "y_l3 = df_train_l3['l3']\n",
    "\n",
    "# Partimos en entrenamiento y prueba \n",
    "\n",
    "for i in [1,3,5,7,9,11]:\n",
    "    # Creamos el objeto del modelo\n",
    "    neigh = sk.neighbors.KNeighborsClassifier(n_neighbors=i)\n",
    "    \n",
    "    kf = sk.model_selection.KFold(n_splits=10, shuffle=True, random_state=42)\n",
    "    \n",
    "    scores = []\n",
    "    \n",
    "    for train, test in kf.split(X_l3):\n",
    "        \n",
    "        X_train, X_test, y_train, y_test = X_l3.iloc[train], X_l3.iloc[test], y_l3[train], y_l3[test]\n",
    "    \n",
    "        # Entrenamos el modelo\n",
    "        neigh.fit(X_train, y_train)\n",
    "    \n",
    "        # Predecimos\n",
    "        y_pred_l3 = neigh.predict(X_test)\n",
    "    \n",
    "        # Medimos la performance de la predicción\n",
    "        score = sk.metrics.accuracy_score(y_test, y_pred_l3)\n",
    "        scores.append(score)\n",
    "        #print(score)\n",
    "    print(f\"n_{i} {np.mean(scores)}\")\n"
   ]
  },
  {
   "cell_type": "code",
   "execution_count": 22,
   "metadata": {},
   "outputs": [],
   "source": [
    "X_pred_l3 = df_test_l3[df_test_l3.columns.drop('l3')]\n",
    "\n",
    "# Entrenamiento\n",
    "neigh = sk.neighbors.KNeighborsClassifier(n_neighbors=7)\n",
    "\n",
    "# Entrenamos el modelo\n",
    "neigh.fit(X_train, y_train)\n",
    "\n",
    "# predicción\n",
    "df_test_l3[\"l3\"] = neigh.predict(X_pred_l3)"
   ]
  },
  {
   "cell_type": "code",
   "execution_count": 23,
   "metadata": {
    "scrolled": true
   },
   "outputs": [],
   "source": [
    "df[\"l3\"].loc[df[\"l3\"].isnull()] = df_test_l3[\"l3\"]"
   ]
  },
  {
   "cell_type": "markdown",
   "metadata": {},
   "source": [
    "## Precio y moneda"
   ]
  },
  {
   "cell_type": "code",
   "execution_count": 24,
   "metadata": {
    "id": "yg8qNxuNrzQp"
   },
   "outputs": [],
   "source": [
    "df.dropna(subset=[\"price\"], inplace = True)\n",
    "\n",
    "df.dropna(subset=[\"currency\"], inplace = True)"
   ]
  },
  {
   "cell_type": "code",
   "execution_count": 25,
   "metadata": {},
   "outputs": [],
   "source": [
    "df = df.loc[df[\"currency\"] == \"USD\"]\n",
    "\n",
    "df.drop(columns = [\"currency\"], inplace = True )"
   ]
  },
  {
   "cell_type": "markdown",
   "metadata": {},
   "source": [
    "## Tipo de propiedad"
   ]
  },
  {
   "cell_type": "code",
   "execution_count": 26,
   "metadata": {},
   "outputs": [],
   "source": [
    "df[\"property_type_check\"] = df.property_type.apply(lambda x: 1 if x in (\"Departamento\",\"PH\") else 0)\n",
    "\n",
    "df = df.loc[df[\"property_type_check\"] == 1]\n",
    "\n",
    "df.drop(columns = \"property_type_check\", inplace = True)"
   ]
  },
  {
   "cell_type": "markdown",
   "metadata": {},
   "source": [
    "## Habitaciones y Superficie"
   ]
  },
  {
   "cell_type": "markdown",
   "metadata": {},
   "source": [
    "Si no tiene ninguna de las 5 variables lo elimino"
   ]
  },
  {
   "cell_type": "code",
   "execution_count": 27,
   "metadata": {},
   "outputs": [],
   "source": [
    "df.drop(df.loc[df[\"rooms\"].isnull() & df[\"bedrooms\"].isnull() & df[\"bathrooms\"].isnull() & df[\"surface_total\"].isnull() & df[\"surface_covered\"].isnull()].index, inplace = True)"
   ]
  },
  {
   "cell_type": "code",
   "execution_count": 28,
   "metadata": {},
   "outputs": [],
   "source": [
    "df_pred[\"rooms\"].fillna(0, inplace = True)\n",
    "df_pred[\"bedrooms\"].fillna(0, inplace = True)\n",
    "df_pred[\"bathrooms\"].fillna(0, inplace = True)"
   ]
  },
  {
   "cell_type": "code",
   "execution_count": 29,
   "metadata": {},
   "outputs": [],
   "source": [
    "df[\"rooms\"].fillna(0, inplace = True)\n",
    "df[\"bedrooms\"].fillna(0, inplace = True)\n",
    "df[\"bathrooms\"].fillna(0, inplace = True)"
   ]
  },
  {
   "cell_type": "code",
   "execution_count": 30,
   "metadata": {
    "scrolled": true
   },
   "outputs": [],
   "source": [
    "df[\"bedrooms\"].loc[df[\"bedrooms\"] < 0 ] = abs(df[\"bedrooms\"].loc[df[\"bedrooms\"] < 0 ])"
   ]
  },
  {
   "cell_type": "markdown",
   "metadata": {},
   "source": [
    "Detectamos que hay superficies en negativo, pasamos los valores a absolutos.\n",
    "\n",
    "En caso de que haya superficie cubierta pero no total, asigno el valor de superficie cubierta.\n",
    "\n",
    "En el caso inverso le asigno 0 a superficie cubierta, ya que lo considero como un lote sin construir."
   ]
  },
  {
   "cell_type": "code",
   "execution_count": 31,
   "metadata": {},
   "outputs": [],
   "source": [
    "df[\"surface_total\"].loc[df[\"surface_total\"] < 0 ] = abs(df[\"surface_total\"].loc[df[\"surface_total\"] < 0 ])\n",
    "\n",
    "df[\"surface_covered\"].loc[df[\"surface_covered\"] < 0 ] = abs(df[\"surface_covered\"].loc[df[\"surface_covered\"] < 0 ])\n",
    "\n",
    "df[\"surface_total\"].loc[df[\"surface_total\"].isnull() & df[\"surface_covered\"] > 0] = df[\"surface_covered\"].loc[df[\"surface_total\"].isnull() & df[\"surface_covered\"] > 0]\n",
    "\n",
    "df[\"surface_covered\"].loc[df[\"surface_covered\"].isnull() & df[\"surface_total\"] > 0] = 0\n"
   ]
  },
  {
   "cell_type": "code",
   "execution_count": 32,
   "metadata": {},
   "outputs": [],
   "source": [
    "df[\"surface_total\"].fillna(0, inplace = True)\n",
    "df[\"surface_covered\"].fillna(0, inplace = True)"
   ]
  },
  {
   "cell_type": "code",
   "execution_count": 33,
   "metadata": {},
   "outputs": [],
   "source": [
    "df_pred[\"surface_total\"].fillna(0, inplace = True)\n",
    "df_pred[\"surface_covered\"].fillna(0, inplace = True)"
   ]
  },
  {
   "cell_type": "markdown",
   "metadata": {},
   "source": [
    "## Elimino las columnas que no utilizo"
   ]
  },
  {
   "cell_type": "code",
   "execution_count": 34,
   "metadata": {},
   "outputs": [],
   "source": [
    "df.drop(columns = [\"ad_type\",\"l4\",\"l5\", \"l6\", \"created_on\",\"start_date\", \"end_date\",\"l1\",\"l2\",\"price_period\",\"operation_type\"], inplace = True )"
   ]
  },
  {
   "cell_type": "code",
   "execution_count": 35,
   "metadata": {},
   "outputs": [],
   "source": [
    "df.drop(columns = [\"title\",\"description\"], inplace = True)"
   ]
  },
  {
   "cell_type": "code",
   "execution_count": 36,
   "metadata": {},
   "outputs": [],
   "source": [
    "df.drop_duplicates(inplace = True)"
   ]
  },
  {
   "cell_type": "code",
   "execution_count": 37,
   "metadata": {},
   "outputs": [],
   "source": [
    "df_pred.drop(columns = [\"ad_type\",\"l4\",\"l5\", \"l6\", \"created_on\"], inplace = True )\n",
    "df_pred.drop(columns = [\"l1\",\"l2\"], inplace = True )\n",
    "df_pred.drop(columns = [\"currency\"], inplace = True )\n",
    "df_pred.drop(columns = [\"price_period\"], inplace = True)\n",
    "df_pred.drop(columns = \"operation_type\", inplace = True)\n",
    "df_pred.drop(columns = [\"start_date\",\"end_date\",\"services\",\"additionals\"], inplace = True)\n",
    "df_pred.drop(columns = [\"title\",\"description\",\"details\"], inplace = True)"
   ]
  },
  {
   "cell_type": "markdown",
   "metadata": {
    "id": "i2jRJmQ-tD4Z"
   },
   "source": [
    "# Feature Engineering"
   ]
  },
  {
   "cell_type": "markdown",
   "metadata": {},
   "source": [
    "Uno los dos data frames"
   ]
  },
  {
   "cell_type": "code",
   "execution_count": 38,
   "metadata": {},
   "outputs": [],
   "source": [
    "df_total = pd.concat([df,df_pred], axis=0)"
   ]
  },
  {
   "cell_type": "markdown",
   "metadata": {},
   "source": [
    "## Normalizamos min_max"
   ]
  },
  {
   "cell_type": "code",
   "execution_count": 39,
   "metadata": {},
   "outputs": [],
   "source": [
    "def norm_min_max(min, max, value):\n",
    "    return (value - min) / max"
   ]
  },
  {
   "cell_type": "code",
   "execution_count": 40,
   "metadata": {},
   "outputs": [],
   "source": [
    "df_total[\"n_rooms\"] = df_total.rooms.apply(lambda x: norm_min_max(df_total.rooms.min(),df_total.rooms.max(),x))"
   ]
  },
  {
   "cell_type": "code",
   "execution_count": 41,
   "metadata": {},
   "outputs": [],
   "source": [
    "df_total[\"n_bedrooms\"] = df_total.bedrooms.apply(lambda x: norm_min_max(df_total.bedrooms.min(),df.bedrooms.max(),x))"
   ]
  },
  {
   "cell_type": "code",
   "execution_count": 42,
   "metadata": {},
   "outputs": [],
   "source": [
    "df_total[\"n_bathrooms\"] = df_total.bathrooms.apply(lambda x: norm_min_max(df_total.bathrooms.min(),df.bathrooms.max(),x))"
   ]
  },
  {
   "cell_type": "code",
   "execution_count": 43,
   "metadata": {},
   "outputs": [],
   "source": [
    "df_total[\"n_surface_covered\"] = df_total.surface_covered.apply(lambda x: norm_min_max(df_total.surface_covered.min(),df.surface_covered.max(),x))"
   ]
  },
  {
   "cell_type": "code",
   "execution_count": 44,
   "metadata": {},
   "outputs": [],
   "source": [
    "df_total[\"n_surface_total\"] = df_total.surface_total.apply(lambda x: norm_min_max(df_total.surface_total.min(),df.surface_total.max(),x))"
   ]
  },
  {
   "cell_type": "markdown",
   "metadata": {},
   "source": [
    "## Dummies"
   ]
  },
  {
   "cell_type": "code",
   "execution_count": 50,
   "metadata": {},
   "outputs": [
    {
     "data": {
      "text/plain": [
       "Index(['l3', 'property_type'], dtype='object')"
      ]
     },
     "execution_count": 50,
     "metadata": {},
     "output_type": "execute_result"
    }
   ],
   "source": [
    "df_total.select_dtypes(include = \"object\").columns"
   ]
  },
  {
   "cell_type": "code",
   "execution_count": 51,
   "metadata": {},
   "outputs": [],
   "source": [
    "df_total = pd.get_dummies(df_total, columns = [\"l3\", \"property_type\"])"
   ]
  },
  {
   "cell_type": "markdown",
   "metadata": {},
   "source": [
    "Dropeamos las columnas que normalizamos"
   ]
  },
  {
   "cell_type": "code",
   "execution_count": 52,
   "metadata": {},
   "outputs": [],
   "source": [
    "df_total.drop(columns = [\"rooms\",\"bedrooms\",\"bathrooms\",\"surface_covered\",\"surface_total\"], inplace = True)"
   ]
  },
  {
   "cell_type": "markdown",
   "metadata": {},
   "source": [
    "## Dividimos los DF"
   ]
  },
  {
   "cell_type": "code",
   "execution_count": 53,
   "metadata": {},
   "outputs": [],
   "source": [
    "df = df_total[df_total.index.isin(df.index)]\n",
    "df_pred = df_total[df_total.index.isin(df_pred.index)]"
   ]
  },
  {
   "cell_type": "markdown",
   "metadata": {},
   "source": [
    "# Modelización"
   ]
  },
  {
   "cell_type": "code",
   "execution_count": 54,
   "metadata": {},
   "outputs": [],
   "source": [
    "X = df[df.columns.drop('price')]\n",
    "y = df['price']"
   ]
  },
  {
   "cell_type": "markdown",
   "metadata": {},
   "source": [
    "## GBM"
   ]
  },
  {
   "cell_type": "code",
   "execution_count": 55,
   "metadata": {
    "id": "PoAhfAjlr-rp"
   },
   "outputs": [],
   "source": [
    "\n",
    "for n_estimators in [100, 500, 700]:\n",
    "    for max_depth in [3, 5, 7]:     \n",
    "\n",
    "\n",
    "        gbm = sk.ensemble.GradientBoostingRegressor(n_estimators=n_estimators, max_depth=max_depth,criterion=\"squared_error\" ,random_state=42)\n",
    "\n",
    "        scores = []\n",
    "        kf = sk.model_selection.KFold(n_splits=5, shuffle=True, random_state=42)\n",
    "        for train, test in kf.split(X):\n",
    "            X_train, X_test, y_train, y_test = X.iloc[train], X.iloc[test], y[train], y[test]\n",
    "        \n",
    "            # Entrenamos el modelo\n",
    "            gbm.fit(X_train, y_train)\n",
    "        \n",
    "            # Predecimos\n",
    "            y_pred = gbm.predict(X_test)\n",
    "        \n",
    "            # Medimos la performance de la predicción\n",
    "            score = sk.metrics.mean_squared_error(y_test, y_pred,squared=False)\n",
    "            scores.append(score)\n",
    "        print(f\"n_{n_estimators} | max_depth:{max_depth} | mean: {np.mean(scores)} | sd: {np.std(scores)}\")\n",
    "        \n",
    "    print(\"------------------------------------------------------------------------------------\")"
   ]
  },
  {
   "cell_type": "markdown",
   "metadata": {
    "id": "sqVkTPzj3kV0"
   },
   "source": [
    "## Predicción para Kaggle\n"
   ]
  },
  {
   "cell_type": "code",
   "execution_count": 56,
   "metadata": {
    "id": "xzAwUNRA1Fzb"
   },
   "outputs": [],
   "source": [
    "# quedate con las mismas columnas que ar_properties\n",
    "X_pred = df_pred[X.columns]"
   ]
  },
  {
   "cell_type": "code",
   "execution_count": 58,
   "metadata": {
    "id": "81dOh5WvAPMa"
   },
   "outputs": [],
   "source": [
    "# los mejores hiperparámetros encontrados antes\n",
    "n_estimators = 500\n",
    "max_depth = 55\n",
    "\n",
    "# Entrenamiento\n",
    "gbm = sk.ensemble.GradientBoostingRegressor(n_estimators=, max_depth= ,criterion=\"squared_error\" ,random_state=42)\n",
    "\n",
    "# Entrenamos el modelo\n",
    "gbm.fit(X, y)\n",
    "\n",
    "# predicción\n",
    "df_pred[\"price\"] = gbm.predict(X_pred)"
   ]
  },
  {
   "cell_type": "code",
   "execution_count": 59,
   "metadata": {
    "id": "mU9iV6cuBwKB"
   },
   "outputs": [],
   "source": [
    "# Grabo la solución\n",
    "df_pred[[\"price\"]].to_csv(\"solucion.csv\")"
   ]
  }
 ],
 "metadata": {
  "colab": {
   "collapsed_sections": [
    "sqVkTPzj3kV0"
   ],
   "name": "TP individual.ipynb",
   "provenance": []
  },
  "kernelspec": {
   "display_name": "Python 3.10.4 64-bit",
   "language": "python",
   "name": "python3"
  },
  "language_info": {
   "codemirror_mode": {
    "name": "ipython",
    "version": 3
   },
   "file_extension": ".py",
   "mimetype": "text/x-python",
   "name": "python",
   "nbconvert_exporter": "python",
   "pygments_lexer": "ipython3",
   "version": "3.10.4"
  },
  "vscode": {
   "interpreter": {
    "hash": "31f2aee4e71d21fbe5cf8b01ff0e069b9275f58929596ceb00d14d90e3e16cd6"
   }
  }
 },
 "nbformat": 4,
 "nbformat_minor": 1
}
