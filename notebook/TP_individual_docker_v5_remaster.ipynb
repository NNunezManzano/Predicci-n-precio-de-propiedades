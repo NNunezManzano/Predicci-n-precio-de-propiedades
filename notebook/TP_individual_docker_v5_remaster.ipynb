{
 "cells": [
  {
   "cell_type": "code",
   "execution_count": 1,
   "metadata": {
    "id": "A7BBykw5oQNl"
   },
   "outputs": [],
   "source": [
    "# https://www.properati.com.ar/data\n",
    "#! wget -O ar_properties.csv.gz -q https://storage.googleapis.com/properati-data-public/ar_properties.csv.gz\n",
    "#! gzip -d -f ./ar_properties.csv.gz"
   ]
  },
  {
   "cell_type": "code",
   "execution_count": 2,
   "metadata": {
    "id": "jw8ogMDOpvKP"
   },
   "outputs": [],
   "source": [
    "import pandas as pd\n",
    "import numpy as np\n",
    "\n",
    "import matplotlib.pyplot as plt\n",
    "\n",
    "import sklearn as sk\n",
    "from sklearn import model_selection\n",
    "from sklearn import ensemble\n",
    "from sklearn import metrics\n",
    "\n",
    "import datetime"
   ]
  },
  {
   "cell_type": "markdown",
   "metadata": {
    "id": "20D-m6GPyefp",
    "tags": []
   },
   "source": [
    "# Lectura de datos"
   ]
  },
  {
   "cell_type": "code",
   "execution_count": 3,
   "metadata": {
    "id": "CtV0wOGsqJLC"
   },
   "outputs": [],
   "source": [
    "df_properties = pd.read_csv('../ar_properties.csv', index_col=\"id\")\n",
    "df_apred = pd.read_csv('../a_predecir.csv', index_col=\"id\")"
   ]
  },
  {
   "cell_type": "code",
   "execution_count": 4,
   "metadata": {},
   "outputs": [],
   "source": [
    "df = df_properties.copy()\n",
    "df_pred = df_apred.copy()"
   ]
  },
  {
   "cell_type": "code",
   "execution_count": 5,
   "metadata": {
    "collapsed": true,
    "id": "thKYxfNuulgB",
    "jupyter": {
     "outputs_hidden": true
    },
    "tags": []
   },
   "outputs": [
    {
     "data": {
      "text/html": [
       "<div>\n",
       "<style scoped>\n",
       "    .dataframe tbody tr th:only-of-type {\n",
       "        vertical-align: middle;\n",
       "    }\n",
       "\n",
       "    .dataframe tbody tr th {\n",
       "        vertical-align: top;\n",
       "    }\n",
       "\n",
       "    .dataframe thead th {\n",
       "        text-align: right;\n",
       "    }\n",
       "</style>\n",
       "<table border=\"1\" class=\"dataframe\">\n",
       "  <thead>\n",
       "    <tr style=\"text-align: right;\">\n",
       "      <th></th>\n",
       "      <th>ad_type</th>\n",
       "      <th>start_date</th>\n",
       "      <th>end_date</th>\n",
       "      <th>created_on</th>\n",
       "      <th>lat</th>\n",
       "      <th>lon</th>\n",
       "      <th>l1</th>\n",
       "      <th>l2</th>\n",
       "      <th>l3</th>\n",
       "      <th>l4</th>\n",
       "      <th>...</th>\n",
       "      <th>bathrooms</th>\n",
       "      <th>surface_total</th>\n",
       "      <th>surface_covered</th>\n",
       "      <th>price</th>\n",
       "      <th>currency</th>\n",
       "      <th>price_period</th>\n",
       "      <th>title</th>\n",
       "      <th>description</th>\n",
       "      <th>property_type</th>\n",
       "      <th>operation_type</th>\n",
       "    </tr>\n",
       "    <tr>\n",
       "      <th>id</th>\n",
       "      <th></th>\n",
       "      <th></th>\n",
       "      <th></th>\n",
       "      <th></th>\n",
       "      <th></th>\n",
       "      <th></th>\n",
       "      <th></th>\n",
       "      <th></th>\n",
       "      <th></th>\n",
       "      <th></th>\n",
       "      <th></th>\n",
       "      <th></th>\n",
       "      <th></th>\n",
       "      <th></th>\n",
       "      <th></th>\n",
       "      <th></th>\n",
       "      <th></th>\n",
       "      <th></th>\n",
       "      <th></th>\n",
       "      <th></th>\n",
       "      <th></th>\n",
       "    </tr>\n",
       "  </thead>\n",
       "  <tbody>\n",
       "    <tr>\n",
       "      <th>DyVXfkpKygVBKuUk5olH+A==</th>\n",
       "      <td>Propiedad</td>\n",
       "      <td>2020-08-22</td>\n",
       "      <td>2020-09-03</td>\n",
       "      <td>2020-08-22</td>\n",
       "      <td>-34.407468</td>\n",
       "      <td>-58.957367</td>\n",
       "      <td>Argentina</td>\n",
       "      <td>Bs.As. G.B.A. Zona Norte</td>\n",
       "      <td>Pilar</td>\n",
       "      <td>NaN</td>\n",
       "      <td>...</td>\n",
       "      <td>NaN</td>\n",
       "      <td>133139.0</td>\n",
       "      <td>NaN</td>\n",
       "      <td>NaN</td>\n",
       "      <td>NaN</td>\n",
       "      <td>Mensual</td>\n",
       "      <td>VENTA - Lote Industrial 130.000m2 - Parque Ind...</td>\n",
       "      <td>Lote (Nro.50) mide 133.139 m2\\n&lt;br&gt;Valor: U$S ...</td>\n",
       "      <td>Lote</td>\n",
       "      <td>Venta</td>\n",
       "    </tr>\n",
       "    <tr>\n",
       "      <th>9naojilaMecJN4jlQiTkGg==</th>\n",
       "      <td>Propiedad</td>\n",
       "      <td>2020-08-22</td>\n",
       "      <td>2020-09-04</td>\n",
       "      <td>2020-08-22</td>\n",
       "      <td>-37.996039</td>\n",
       "      <td>-57.542509</td>\n",
       "      <td>Argentina</td>\n",
       "      <td>Buenos Aires Costa Atlántica</td>\n",
       "      <td>Mar del Plata</td>\n",
       "      <td>NaN</td>\n",
       "      <td>...</td>\n",
       "      <td>NaN</td>\n",
       "      <td>687.0</td>\n",
       "      <td>687.0</td>\n",
       "      <td>NaN</td>\n",
       "      <td>NaN</td>\n",
       "      <td>Mensual</td>\n",
       "      <td>Casa - Santa Cecilia</td>\n",
       "      <td>Conjunto edilicio de casa y departamentos en b...</td>\n",
       "      <td>Otro</td>\n",
       "      <td>Venta</td>\n",
       "    </tr>\n",
       "    <tr>\n",
       "      <th>tlCPRJPjoDEUzuuCelemAQ==</th>\n",
       "      <td>Propiedad</td>\n",
       "      <td>2020-08-22</td>\n",
       "      <td>2020-08-31</td>\n",
       "      <td>2020-08-22</td>\n",
       "      <td>-31.380187</td>\n",
       "      <td>-58.009182</td>\n",
       "      <td>Argentina</td>\n",
       "      <td>Entre Ríos</td>\n",
       "      <td>Concordia</td>\n",
       "      <td>NaN</td>\n",
       "      <td>...</td>\n",
       "      <td>1.0</td>\n",
       "      <td>80.0</td>\n",
       "      <td>80.0</td>\n",
       "      <td>NaN</td>\n",
       "      <td>NaN</td>\n",
       "      <td>Mensual</td>\n",
       "      <td>Casa - Concordia</td>\n",
       "      <td>Casa de un dormitorio, cocina, baño, living co...</td>\n",
       "      <td>Casa</td>\n",
       "      <td>Alquiler</td>\n",
       "    </tr>\n",
       "    <tr>\n",
       "      <th>Zw3b91glQUO3HNrM5fPYlQ==</th>\n",
       "      <td>Propiedad</td>\n",
       "      <td>2020-08-22</td>\n",
       "      <td>2020-09-04</td>\n",
       "      <td>2020-08-22</td>\n",
       "      <td>-27.494106</td>\n",
       "      <td>-55.123455</td>\n",
       "      <td>Argentina</td>\n",
       "      <td>Misiones</td>\n",
       "      <td>Oberá</td>\n",
       "      <td>NaN</td>\n",
       "      <td>...</td>\n",
       "      <td>1.0</td>\n",
       "      <td>NaN</td>\n",
       "      <td>NaN</td>\n",
       "      <td>NaN</td>\n",
       "      <td>NaN</td>\n",
       "      <td>Mensual</td>\n",
       "      <td>Terreno - Obera</td>\n",
       "      <td>IMPORTANTE PROPIEDAD EN VENTA EN OBERA MISIONE...</td>\n",
       "      <td>Lote</td>\n",
       "      <td>Venta</td>\n",
       "    </tr>\n",
       "    <tr>\n",
       "      <th>bsU81gm9JEgtZCbTYgvykg==</th>\n",
       "      <td>Propiedad</td>\n",
       "      <td>2020-08-22</td>\n",
       "      <td>2020-09-04</td>\n",
       "      <td>2020-08-22</td>\n",
       "      <td>-32.948856</td>\n",
       "      <td>-60.630464</td>\n",
       "      <td>Argentina</td>\n",
       "      <td>Santa Fe</td>\n",
       "      <td>Rosario</td>\n",
       "      <td>NaN</td>\n",
       "      <td>...</td>\n",
       "      <td>1.0</td>\n",
       "      <td>76.0</td>\n",
       "      <td>66.0</td>\n",
       "      <td>NaN</td>\n",
       "      <td>NaN</td>\n",
       "      <td>Mensual</td>\n",
       "      <td>Departamento - Rosario</td>\n",
       "      <td>PORTAL DE LOS MARINOS&lt;br&gt;Es un complejo de viv...</td>\n",
       "      <td>Departamento</td>\n",
       "      <td>Venta</td>\n",
       "    </tr>\n",
       "  </tbody>\n",
       "</table>\n",
       "<p>5 rows × 24 columns</p>\n",
       "</div>"
      ],
      "text/plain": [
       "                            ad_type  start_date    end_date  created_on  \\\n",
       "id                                                                        \n",
       "DyVXfkpKygVBKuUk5olH+A==  Propiedad  2020-08-22  2020-09-03  2020-08-22   \n",
       "9naojilaMecJN4jlQiTkGg==  Propiedad  2020-08-22  2020-09-04  2020-08-22   \n",
       "tlCPRJPjoDEUzuuCelemAQ==  Propiedad  2020-08-22  2020-08-31  2020-08-22   \n",
       "Zw3b91glQUO3HNrM5fPYlQ==  Propiedad  2020-08-22  2020-09-04  2020-08-22   \n",
       "bsU81gm9JEgtZCbTYgvykg==  Propiedad  2020-08-22  2020-09-04  2020-08-22   \n",
       "\n",
       "                                lat        lon         l1  \\\n",
       "id                                                          \n",
       "DyVXfkpKygVBKuUk5olH+A== -34.407468 -58.957367  Argentina   \n",
       "9naojilaMecJN4jlQiTkGg== -37.996039 -57.542509  Argentina   \n",
       "tlCPRJPjoDEUzuuCelemAQ== -31.380187 -58.009182  Argentina   \n",
       "Zw3b91glQUO3HNrM5fPYlQ== -27.494106 -55.123455  Argentina   \n",
       "bsU81gm9JEgtZCbTYgvykg== -32.948856 -60.630464  Argentina   \n",
       "\n",
       "                                                    l2             l3   l4  \\\n",
       "id                                                                           \n",
       "DyVXfkpKygVBKuUk5olH+A==      Bs.As. G.B.A. Zona Norte          Pilar  NaN   \n",
       "9naojilaMecJN4jlQiTkGg==  Buenos Aires Costa Atlántica  Mar del Plata  NaN   \n",
       "tlCPRJPjoDEUzuuCelemAQ==                    Entre Ríos      Concordia  NaN   \n",
       "Zw3b91glQUO3HNrM5fPYlQ==                      Misiones          Oberá  NaN   \n",
       "bsU81gm9JEgtZCbTYgvykg==                      Santa Fe        Rosario  NaN   \n",
       "\n",
       "                          ... bathrooms  surface_total  surface_covered  \\\n",
       "id                        ...                                             \n",
       "DyVXfkpKygVBKuUk5olH+A==  ...       NaN       133139.0              NaN   \n",
       "9naojilaMecJN4jlQiTkGg==  ...       NaN          687.0            687.0   \n",
       "tlCPRJPjoDEUzuuCelemAQ==  ...       1.0           80.0             80.0   \n",
       "Zw3b91glQUO3HNrM5fPYlQ==  ...       1.0            NaN              NaN   \n",
       "bsU81gm9JEgtZCbTYgvykg==  ...       1.0           76.0             66.0   \n",
       "\n",
       "                          price  currency  price_period  \\\n",
       "id                                                        \n",
       "DyVXfkpKygVBKuUk5olH+A==    NaN       NaN       Mensual   \n",
       "9naojilaMecJN4jlQiTkGg==    NaN       NaN       Mensual   \n",
       "tlCPRJPjoDEUzuuCelemAQ==    NaN       NaN       Mensual   \n",
       "Zw3b91glQUO3HNrM5fPYlQ==    NaN       NaN       Mensual   \n",
       "bsU81gm9JEgtZCbTYgvykg==    NaN       NaN       Mensual   \n",
       "\n",
       "                                                                      title  \\\n",
       "id                                                                            \n",
       "DyVXfkpKygVBKuUk5olH+A==  VENTA - Lote Industrial 130.000m2 - Parque Ind...   \n",
       "9naojilaMecJN4jlQiTkGg==                               Casa - Santa Cecilia   \n",
       "tlCPRJPjoDEUzuuCelemAQ==                                   Casa - Concordia   \n",
       "Zw3b91glQUO3HNrM5fPYlQ==                                    Terreno - Obera   \n",
       "bsU81gm9JEgtZCbTYgvykg==                             Departamento - Rosario   \n",
       "\n",
       "                                                                description  \\\n",
       "id                                                                            \n",
       "DyVXfkpKygVBKuUk5olH+A==  Lote (Nro.50) mide 133.139 m2\\n<br>Valor: U$S ...   \n",
       "9naojilaMecJN4jlQiTkGg==  Conjunto edilicio de casa y departamentos en b...   \n",
       "tlCPRJPjoDEUzuuCelemAQ==  Casa de un dormitorio, cocina, baño, living co...   \n",
       "Zw3b91glQUO3HNrM5fPYlQ==  IMPORTANTE PROPIEDAD EN VENTA EN OBERA MISIONE...   \n",
       "bsU81gm9JEgtZCbTYgvykg==  PORTAL DE LOS MARINOS<br>Es un complejo de viv...   \n",
       "\n",
       "                         property_type operation_type  \n",
       "id                                                     \n",
       "DyVXfkpKygVBKuUk5olH+A==          Lote          Venta  \n",
       "9naojilaMecJN4jlQiTkGg==          Otro          Venta  \n",
       "tlCPRJPjoDEUzuuCelemAQ==          Casa       Alquiler  \n",
       "Zw3b91glQUO3HNrM5fPYlQ==          Lote          Venta  \n",
       "bsU81gm9JEgtZCbTYgvykg==  Departamento          Venta  \n",
       "\n",
       "[5 rows x 24 columns]"
      ]
     },
     "execution_count": 5,
     "metadata": {},
     "output_type": "execute_result"
    }
   ],
   "source": [
    "df.head()"
   ]
  },
  {
   "cell_type": "code",
   "execution_count": 6,
   "metadata": {
    "collapsed": true,
    "jupyter": {
     "outputs_hidden": true
    },
    "tags": []
   },
   "outputs": [
    {
     "name": "stdout",
     "output_type": "stream",
     "text": [
      "<class 'pandas.core.frame.DataFrame'>\n",
      "Int64Index: 1087 entries, 1 to 1087\n",
      "Data columns (total 27 columns):\n",
      " #   Column           Non-Null Count  Dtype  \n",
      "---  ------           --------------  -----  \n",
      " 0   ad_type          1087 non-null   object \n",
      " 1   start_date       1087 non-null   object \n",
      " 2   end_date         1087 non-null   object \n",
      " 3   created_on       1087 non-null   object \n",
      " 4   lat              1087 non-null   float64\n",
      " 5   lon              1087 non-null   float64\n",
      " 6   l1               1087 non-null   object \n",
      " 7   l2               1087 non-null   object \n",
      " 8   l3               1087 non-null   object \n",
      " 9   rooms            1083 non-null   float64\n",
      " 10  bedrooms         958 non-null    float64\n",
      " 11  bathrooms        1083 non-null   float64\n",
      " 12  surface_total    1087 non-null   float64\n",
      " 13  surface_covered  1087 non-null   float64\n",
      " 14  price            0 non-null      float64\n",
      " 15  currency         1087 non-null   object \n",
      " 16  price_period     0 non-null      float64\n",
      " 17  title            1087 non-null   object \n",
      " 18  description      1083 non-null   object \n",
      " 19  property_type    1087 non-null   object \n",
      " 20  operation_type   1087 non-null   object \n",
      " 21  details          1087 non-null   object \n",
      " 22  additionals      955 non-null    object \n",
      " 23  services         842 non-null    object \n",
      " 24  l4               0 non-null      float64\n",
      " 25  l5               0 non-null      float64\n",
      " 26  l6               0 non-null      float64\n",
      "dtypes: float64(12), object(15)\n",
      "memory usage: 237.8+ KB\n"
     ]
    }
   ],
   "source": [
    "df_pred.info()"
   ]
  },
  {
   "cell_type": "code",
   "execution_count": 7,
   "metadata": {
    "collapsed": true,
    "jupyter": {
     "outputs_hidden": true
    },
    "tags": []
   },
   "outputs": [
    {
     "name": "stdout",
     "output_type": "stream",
     "text": [
      "<class 'pandas.core.frame.DataFrame'>\n",
      "Index: 1000000 entries, DyVXfkpKygVBKuUk5olH+A== to rEynGyGrrsxNeG0ib5vUBA==\n",
      "Data columns (total 24 columns):\n",
      " #   Column           Non-Null Count    Dtype  \n",
      "---  ------           --------------    -----  \n",
      " 0   ad_type          1000000 non-null  object \n",
      " 1   start_date       1000000 non-null  object \n",
      " 2   end_date         1000000 non-null  object \n",
      " 3   created_on       1000000 non-null  object \n",
      " 4   lat              894233 non-null   float64\n",
      " 5   lon              894191 non-null   float64\n",
      " 6   l1               1000000 non-null  object \n",
      " 7   l2               1000000 non-null  object \n",
      " 8   l3               965273 non-null   object \n",
      " 9   l4               306162 non-null   object \n",
      " 10  l5               5530 non-null     object \n",
      " 11  l6               0 non-null        float64\n",
      " 12  rooms            714179 non-null   float64\n",
      " 13  bedrooms         649933 non-null   float64\n",
      " 14  bathrooms        765122 non-null   float64\n",
      " 15  surface_total    477831 non-null   float64\n",
      " 16  surface_covered  487756 non-null   float64\n",
      " 17  price            958243 non-null   float64\n",
      " 18  currency         955491 non-null   object \n",
      " 19  price_period     429870 non-null   object \n",
      " 20  title            999999 non-null   object \n",
      " 21  description      999958 non-null   object \n",
      " 22  property_type    1000000 non-null  object \n",
      " 23  operation_type   1000000 non-null  object \n",
      "dtypes: float64(9), object(15)\n",
      "memory usage: 190.7+ MB\n"
     ]
    }
   ],
   "source": [
    "df.info()"
   ]
  },
  {
   "cell_type": "markdown",
   "metadata": {
    "tags": []
   },
   "source": [
    "# Tratamiento de nulls y outliers"
   ]
  },
  {
   "cell_type": "markdown",
   "metadata": {
    "jp-MarkdownHeadingCollapsed": true,
    "tags": []
   },
   "source": [
    "## Longitud y Latitud"
   ]
  },
  {
   "cell_type": "code",
   "execution_count": 8,
   "metadata": {},
   "outputs": [],
   "source": [
    "df = df.loc[df[\"l1\"] == \"Argentina\"]"
   ]
  },
  {
   "cell_type": "code",
   "execution_count": 9,
   "metadata": {},
   "outputs": [],
   "source": [
    "df = df.loc[df[\"l2\"] == \"Capital Federal\"]"
   ]
  },
  {
   "cell_type": "markdown",
   "metadata": {
    "tags": []
   },
   "source": [
    "Coordenadas maximas CABA: \\\n",
    "Norte - (-34.531639, -58.464800)\\\n",
    "Este - (-34.62073349940953, -58.338011418419356)\\\n",
    "Oeste - (-34.61568853226109, -58.532674897063565)\\\n",
    "Sur - (-34.7058110012102, -58.4602477739537)\\\n",
    "\\\n",
    "Limites:\\\n",
    "Longitud - (-58.532674897063565, -58.338011418419356 )\\\n",
    "Latitud - (-34.7058110012102, -34.531639)"
   ]
  },
  {
   "cell_type": "code",
   "execution_count": 10,
   "metadata": {},
   "outputs": [],
   "source": [
    "lon_min_max = (-58.532674897063565, -58.338011418419356 )\n",
    "lat_min_max = (-34.7058110012102, -34.531639)"
   ]
  },
  {
   "cell_type": "code",
   "execution_count": 11,
   "metadata": {},
   "outputs": [],
   "source": [
    "df_lon_lat = df.loc[df[\"l2\"] == \"Capital Federal\"]"
   ]
  },
  {
   "cell_type": "code",
   "execution_count": 12,
   "metadata": {},
   "outputs": [],
   "source": [
    "df_lon_lat.drop(df_lon_lat.loc[df_lon_lat[\"lat\"].isnull() & df_lon_lat[\"lon\"].isnull() & df_lon_lat[\"l3\"].isnull()].index, inplace = True)\n",
    "df_lon_lat = df_lon_lat[[\"lat\", \"lon\", \"l3\"]]\n",
    "df_lon_lat[\"lat_outlier\"] = df_lon_lat.lat.apply(lambda x: 0 if (x > lat_min_max[0]) & (x < lat_min_max[1]) else 1  )\n",
    "df_lon_lat[\"lon_outlier\"] = df_lon_lat.lon.apply(lambda x: 0 if (x > lon_min_max[0]) & (x < lon_min_max[1]) else 1 )"
   ]
  },
  {
   "cell_type": "code",
   "execution_count": 13,
   "metadata": {},
   "outputs": [],
   "source": [
    "df_lon_lat.drop(df_lon_lat.loc[(df_lon_lat.lat_outlier == 1) & (df_lon_lat.l3.isnull())].index, inplace = True)\n",
    "out_lon_lat_ind = df_lon_lat.loc[(df_lon_lat.lat_outlier == 1) | (df_lon_lat.lon_outlier == 1)].index\n",
    "df_lon_lat_out = df_lon_lat.loc[(df_lon_lat.lat_outlier == 1) | (df_lon_lat.lon_outlier == 1)]\n",
    "df_lon_lat = df_lon_lat.loc[(df_lon_lat.lat_outlier == 0) & (df_lon_lat.lon_outlier == 0)]"
   ]
  },
  {
   "cell_type": "code",
   "execution_count": 14,
   "metadata": {},
   "outputs": [],
   "source": [
    "l3_list = list(df_lon_lat.l3.unique())\n",
    "l3_dict_lat = {}\n",
    "l3_dict_lon = {}\n",
    "for i in l3_list:\n",
    "    l3_dict_lon[i] = df_lon_lat.loc[df_lon_lat.l3 == i, \"lon\"].mean()\n",
    "    l3_dict_lat[i] = df_lon_lat.loc[df_lon_lat.l3 == i, \"lat\"].mean()\n",
    "\n",
    "df_lon_lat_out[\"lon\"] = df_lon_lat_out.l3.apply(lambda x:l3_dict_lon[x])\n",
    "df_lon_lat_out[\"lat\"] = df_lon_lat_out.l3.apply(lambda x:l3_dict_lat[x])"
   ]
  },
  {
   "cell_type": "code",
   "execution_count": 15,
   "metadata": {
    "collapsed": true,
    "jupyter": {
     "outputs_hidden": true
    },
    "tags": []
   },
   "outputs": [
    {
     "name": "stderr",
     "output_type": "stream",
     "text": [
      "/tmp/ipykernel_84058/3971525020.py:2: SettingWithCopyWarning: \n",
      "A value is trying to be set on a copy of a slice from a DataFrame\n",
      "\n",
      "See the caveats in the documentation: https://pandas.pydata.org/pandas-docs/stable/user_guide/indexing.html#returning-a-view-versus-a-copy\n",
      "  df[\"lon\"].loc[ind] = df_lon_lat_out[\"lon\"].loc[ind]\n",
      "/tmp/ipykernel_84058/3971525020.py:3: SettingWithCopyWarning: \n",
      "A value is trying to be set on a copy of a slice from a DataFrame\n",
      "\n",
      "See the caveats in the documentation: https://pandas.pydata.org/pandas-docs/stable/user_guide/indexing.html#returning-a-view-versus-a-copy\n",
      "  df[\"lat\"].loc[ind] = df_lon_lat_out[\"lat\"].loc[ind]\n"
     ]
    }
   ],
   "source": [
    "for ind in out_lon_lat_ind:\n",
    "    df[\"lon\"].loc[ind] = df_lon_lat_out[\"lon\"].loc[ind]\n",
    "    df[\"lat\"].loc[ind] = df_lon_lat_out[\"lat\"].loc[ind]   "
   ]
  },
  {
   "cell_type": "markdown",
   "metadata": {
    "jp-MarkdownHeadingCollapsed": true,
    "tags": []
   },
   "source": [
    "## l3 - Barrio"
   ]
  },
  {
   "cell_type": "markdown",
   "metadata": {},
   "source": [
    "Corregidas las longitudes y latitudes generamos un knn para predecir los barrios y completar l3"
   ]
  },
  {
   "cell_type": "code",
   "execution_count": 16,
   "metadata": {
    "collapsed": true,
    "jupyter": {
     "outputs_hidden": true
    },
    "tags": []
   },
   "outputs": [
    {
     "name": "stderr",
     "output_type": "stream",
     "text": [
      "/tmp/ipykernel_84058/2478595951.py:3: SettingWithCopyWarning: \n",
      "A value is trying to be set on a copy of a slice from a DataFrame\n",
      "\n",
      "See the caveats in the documentation: https://pandas.pydata.org/pandas-docs/stable/user_guide/indexing.html#returning-a-view-versus-a-copy\n",
      "  df_l3.drop(df_l3.loc[df_l3[\"lon\"].isnull()].index,inplace = True)\n",
      "/tmp/ipykernel_84058/2478595951.py:4: SettingWithCopyWarning: \n",
      "A value is trying to be set on a copy of a slice from a DataFrame\n",
      "\n",
      "See the caveats in the documentation: https://pandas.pydata.org/pandas-docs/stable/user_guide/indexing.html#returning-a-view-versus-a-copy\n",
      "  df_l3.drop(df_l3.loc[df_l3[\"lat\"].isnull()].index,inplace = True)\n"
     ]
    }
   ],
   "source": [
    "df_l3 = df[[\"lon\",\"lat\",\"l3\"]]\n",
    "\n",
    "df_l3.drop(df_l3.loc[df_l3[\"lon\"].isnull()].index,inplace = True)\n",
    "df_l3.drop(df_l3.loc[df_l3[\"lat\"].isnull()].index,inplace = True)\n",
    "\n",
    "df_test_l3 = df_l3.loc[df_l3[\"l3\"].isnull()]\n",
    "\n",
    "df_train_l3 = df_l3.loc[df_l3[\"l3\"].notnull()]"
   ]
  },
  {
   "cell_type": "code",
   "execution_count": 17,
   "metadata": {},
   "outputs": [
    {
     "name": "stdout",
     "output_type": "stream",
     "text": [
      "n_1 0.8380804193175351\n",
      "n_3 0.8383278341978697\n",
      "n_5 0.8398275092636194\n",
      "n_7 0.8394354615245071\n",
      "n_9 0.8387389094042674\n",
      "n_11 0.8381451235140739\n"
     ]
    }
   ],
   "source": [
    "X_l3 = df_train_l3[df_train_l3.columns.drop('l3')]\n",
    "y_l3 = df_train_l3['l3']\n",
    "\n",
    "# Partimos en entrenamiento y prueba \n",
    "\n",
    "for i in [1,3,5,7,9,11]:\n",
    "    # Creamos el objeto del modelo\n",
    "    neigh = sk.neighbors.KNeighborsClassifier(n_neighbors=i, n_jobs = -1)\n",
    "    \n",
    "    kf = sk.model_selection.KFold(n_splits=10, shuffle=True, random_state=42)\n",
    "    \n",
    "    scores = []\n",
    "    \n",
    "    for train, test in kf.split(X_l3):\n",
    "        \n",
    "        X_train, X_test, y_train, y_test = X_l3.iloc[train], X_l3.iloc[test], y_l3[train], y_l3[test]\n",
    "    \n",
    "        # Entrenamos el modelo\n",
    "        neigh.fit(X_train, y_train)\n",
    "    \n",
    "        # Predecimos\n",
    "        y_pred_l3 = neigh.predict(X_test)\n",
    "    \n",
    "        # Medimos la performance de la predicción\n",
    "        score = sk.metrics.accuracy_score(y_test, y_pred_l3)\n",
    "        scores.append(score)\n",
    "        #print(score)\n",
    "    print(f\"n_{i} {np.mean(scores)}\")\n"
   ]
  },
  {
   "cell_type": "code",
   "execution_count": 18,
   "metadata": {
    "collapsed": true,
    "jupyter": {
     "outputs_hidden": true
    },
    "tags": []
   },
   "outputs": [
    {
     "name": "stderr",
     "output_type": "stream",
     "text": [
      "/tmp/ipykernel_84058/599255535.py:10: SettingWithCopyWarning: \n",
      "A value is trying to be set on a copy of a slice from a DataFrame.\n",
      "Try using .loc[row_indexer,col_indexer] = value instead\n",
      "\n",
      "See the caveats in the documentation: https://pandas.pydata.org/pandas-docs/stable/user_guide/indexing.html#returning-a-view-versus-a-copy\n",
      "  df_test_l3[\"l3\"] = neigh.predict(X_pred_l3)\n"
     ]
    }
   ],
   "source": [
    "X_pred_l3 = df_test_l3[df_test_l3.columns.drop('l3')]\n",
    "\n",
    "# Entrenamiento\n",
    "neigh = sk.neighbors.KNeighborsClassifier(n_neighbors = 5, n_jobs = -1)\n",
    "\n",
    "# Entrenamos el modelo\n",
    "neigh.fit(X_train, y_train)\n",
    "\n",
    "# predicción\n",
    "df_test_l3[\"l3\"] = neigh.predict(X_pred_l3)"
   ]
  },
  {
   "cell_type": "code",
   "execution_count": 19,
   "metadata": {
    "scrolled": true
   },
   "outputs": [],
   "source": [
    "df[\"l3\"].loc[df[\"l3\"].isnull()] = df_test_l3[\"l3\"]"
   ]
  },
  {
   "cell_type": "markdown",
   "metadata": {
    "jp-MarkdownHeadingCollapsed": true,
    "tags": []
   },
   "source": [
    "## Limpieza de otras columnas y lineas"
   ]
  },
  {
   "cell_type": "code",
   "execution_count": 20,
   "metadata": {},
   "outputs": [],
   "source": [
    "df.drop(columns = [\"ad_type\",\"l4\",\"l5\", \"l6\", \"created_on\",\"start_date\", \"end_date\",\"l1\",\"l2\",\"price_period\",\"operation_type\"], inplace = True )"
   ]
  },
  {
   "cell_type": "code",
   "execution_count": 21,
   "metadata": {
    "id": "yg8qNxuNrzQp"
   },
   "outputs": [],
   "source": [
    "df.dropna(subset=[\"price\"], inplace = True)\n",
    "\n",
    "df.dropna(subset=[\"currency\"], inplace = True)"
   ]
  },
  {
   "cell_type": "code",
   "execution_count": 22,
   "metadata": {},
   "outputs": [
    {
     "name": "stderr",
     "output_type": "stream",
     "text": [
      "/tmp/ipykernel_84058/3524703153.py:3: SettingWithCopyWarning: \n",
      "A value is trying to be set on a copy of a slice from a DataFrame\n",
      "\n",
      "See the caveats in the documentation: https://pandas.pydata.org/pandas-docs/stable/user_guide/indexing.html#returning-a-view-versus-a-copy\n",
      "  df.drop(columns = [\"currency\"], inplace = True )\n"
     ]
    }
   ],
   "source": [
    "df = df.loc[df[\"currency\"] == \"USD\"]\n",
    "\n",
    "df.drop(columns = [\"currency\"], inplace = True )"
   ]
  },
  {
   "cell_type": "code",
   "execution_count": 23,
   "metadata": {},
   "outputs": [
    {
     "name": "stderr",
     "output_type": "stream",
     "text": [
      "/tmp/ipykernel_84058/354315104.py:1: SettingWithCopyWarning: \n",
      "A value is trying to be set on a copy of a slice from a DataFrame.\n",
      "Try using .loc[row_indexer,col_indexer] = value instead\n",
      "\n",
      "See the caveats in the documentation: https://pandas.pydata.org/pandas-docs/stable/user_guide/indexing.html#returning-a-view-versus-a-copy\n",
      "  df[\"property_type_check\"] = df.property_type.apply(lambda x: 1 if x in (\"Departamento\",\"PH\") else 0)\n",
      "/tmp/ipykernel_84058/354315104.py:5: SettingWithCopyWarning: \n",
      "A value is trying to be set on a copy of a slice from a DataFrame\n",
      "\n",
      "See the caveats in the documentation: https://pandas.pydata.org/pandas-docs/stable/user_guide/indexing.html#returning-a-view-versus-a-copy\n",
      "  df.drop(columns = \"property_type_check\", inplace = True)\n"
     ]
    }
   ],
   "source": [
    "df[\"property_type_check\"] = df.property_type.apply(lambda x: 1 if x in (\"Departamento\",\"PH\") else 0)\n",
    "\n",
    "df = df.loc[df[\"property_type_check\"] == 1]\n",
    "\n",
    "df.drop(columns = \"property_type_check\", inplace = True)"
   ]
  },
  {
   "cell_type": "code",
   "execution_count": 24,
   "metadata": {},
   "outputs": [],
   "source": [
    "df.drop(df.loc[df[\"rooms\"].isnull() & df[\"bedrooms\"].isnull() & df[\"bathrooms\"].isnull() & df[\"surface_total\"].isnull() & df[\"surface_covered\"].isnull()].index, inplace = True)"
   ]
  },
  {
   "cell_type": "code",
   "execution_count": 25,
   "metadata": {},
   "outputs": [],
   "source": [
    "df_pred[\"rooms\"].fillna(0, inplace = True)\n",
    "df_pred[\"bedrooms\"].fillna(0, inplace = True)\n",
    "df_pred[\"bathrooms\"].fillna(0, inplace = True)"
   ]
  },
  {
   "cell_type": "code",
   "execution_count": 26,
   "metadata": {},
   "outputs": [],
   "source": [
    "df[\"rooms\"].fillna(0, inplace = True)\n",
    "df[\"bedrooms\"].fillna(0, inplace = True)\n",
    "df[\"bathrooms\"].fillna(0, inplace = True)"
   ]
  },
  {
   "cell_type": "code",
   "execution_count": 27,
   "metadata": {},
   "outputs": [
    {
     "name": "stderr",
     "output_type": "stream",
     "text": [
      "/tmp/ipykernel_84058/3354645445.py:1: SettingWithCopyWarning: \n",
      "A value is trying to be set on a copy of a slice from a DataFrame\n",
      "\n",
      "See the caveats in the documentation: https://pandas.pydata.org/pandas-docs/stable/user_guide/indexing.html#returning-a-view-versus-a-copy\n",
      "  df[\"surface_total\"].loc[df[\"surface_total\"].isnull() & df[\"surface_covered\"] > 0] = df[\"surface_covered\"].loc[df[\"surface_total\"].isnull() & df[\"surface_covered\"] > 0]\n"
     ]
    }
   ],
   "source": [
    "df[\"surface_total\"].loc[df[\"surface_total\"].isnull() & df[\"surface_covered\"] > 0] = df[\"surface_covered\"].loc[df[\"surface_total\"].isnull() & df[\"surface_covered\"] > 0]\n",
    "\n",
    "df[\"surface_total\"].fillna(0, inplace = True)\n",
    "df[\"surface_covered\"].fillna(0, inplace = True)"
   ]
  },
  {
   "cell_type": "code",
   "execution_count": 28,
   "metadata": {
    "scrolled": true
   },
   "outputs": [
    {
     "name": "stderr",
     "output_type": "stream",
     "text": [
      "/tmp/ipykernel_84058/3611823614.py:1: SettingWithCopyWarning: \n",
      "A value is trying to be set on a copy of a slice from a DataFrame\n",
      "\n",
      "See the caveats in the documentation: https://pandas.pydata.org/pandas-docs/stable/user_guide/indexing.html#returning-a-view-versus-a-copy\n",
      "  df[\"bedrooms\"].loc[df[\"bedrooms\"] < 0 ] = abs(df[\"bedrooms\"].loc[df[\"bedrooms\"] < 0 ])\n"
     ]
    }
   ],
   "source": [
    "df[\"bedrooms\"].loc[df[\"bedrooms\"] < 0 ] = abs(df[\"bedrooms\"].loc[df[\"bedrooms\"] < 0 ])"
   ]
  },
  {
   "cell_type": "code",
   "execution_count": 29,
   "metadata": {
    "scrolled": true
   },
   "outputs": [
    {
     "name": "stderr",
     "output_type": "stream",
     "text": [
      "/tmp/ipykernel_84058/3583135774.py:1: SettingWithCopyWarning: \n",
      "A value is trying to be set on a copy of a slice from a DataFrame\n",
      "\n",
      "See the caveats in the documentation: https://pandas.pydata.org/pandas-docs/stable/user_guide/indexing.html#returning-a-view-versus-a-copy\n",
      "  df[\"surface_total\"].loc[df[\"surface_total\"] < 0 ] = abs(df[\"surface_total\"].loc[df[\"surface_total\"] < 0 ])\n"
     ]
    }
   ],
   "source": [
    "df[\"surface_total\"].loc[df[\"surface_total\"] < 0 ] = abs(df[\"surface_total\"].loc[df[\"surface_total\"] < 0 ])"
   ]
  },
  {
   "cell_type": "code",
   "execution_count": 30,
   "metadata": {
    "scrolled": true
   },
   "outputs": [
    {
     "name": "stderr",
     "output_type": "stream",
     "text": [
      "/tmp/ipykernel_84058/3604395483.py:1: SettingWithCopyWarning: \n",
      "A value is trying to be set on a copy of a slice from a DataFrame\n",
      "\n",
      "See the caveats in the documentation: https://pandas.pydata.org/pandas-docs/stable/user_guide/indexing.html#returning-a-view-versus-a-copy\n",
      "  df[\"surface_covered\"].loc[df[\"surface_covered\"] < 0 ] = abs(df[\"surface_covered\"].loc[df[\"surface_covered\"] < 0 ])\n"
     ]
    }
   ],
   "source": [
    "df[\"surface_covered\"].loc[df[\"surface_covered\"] < 0 ] = abs(df[\"surface_covered\"].loc[df[\"surface_covered\"] < 0 ])"
   ]
  },
  {
   "cell_type": "code",
   "execution_count": 31,
   "metadata": {},
   "outputs": [],
   "source": [
    "df.drop(columns = [\"title\"], inplace = True)"
   ]
  },
  {
   "cell_type": "code",
   "execution_count": 32,
   "metadata": {},
   "outputs": [],
   "source": [
    "df.drop(columns = [\"lat\",\"lon\"], inplace = True)"
   ]
  },
  {
   "cell_type": "code",
   "execution_count": 33,
   "metadata": {},
   "outputs": [],
   "source": [
    "df.drop(df.loc[df[\"price\"]> 6000000].index, inplace=True)"
   ]
  },
  {
   "cell_type": "code",
   "execution_count": 34,
   "metadata": {},
   "outputs": [],
   "source": [
    "df.drop(df[df.price < 15000.0].index,inplace = True)"
   ]
  },
  {
   "cell_type": "code",
   "execution_count": 35,
   "metadata": {},
   "outputs": [],
   "source": [
    "df.drop_duplicates(inplace = True)"
   ]
  },
  {
   "cell_type": "markdown",
   "metadata": {
    "jp-MarkdownHeadingCollapsed": true,
    "tags": []
   },
   "source": [
    "## Modifico el df_pred"
   ]
  },
  {
   "cell_type": "code",
   "execution_count": 36,
   "metadata": {
    "tags": []
   },
   "outputs": [],
   "source": [
    "df_pred.drop(columns = [\"ad_type\",\"l4\",\"l5\", \"l6\", \"created_on\"], inplace = True )\n",
    "df_pred.drop(columns = [\"l1\",\"l2\"], inplace = True )\n",
    "df_pred.drop(columns = [\"currency\"], inplace = True )\n",
    "df_pred.drop(columns = [\"price_period\"], inplace = True)\n",
    "df_pred.drop(columns = \"operation_type\", inplace = True)\n",
    "df_pred.drop(columns = [\"start_date\",\"end_date\",\"services\"], inplace = True)\n",
    "df_pred.drop(columns = [\"title\",\"details\"], inplace = True)"
   ]
  },
  {
   "cell_type": "code",
   "execution_count": 37,
   "metadata": {},
   "outputs": [],
   "source": [
    "df_pred.drop(columns = [\"lat\",\"lon\"], inplace = True)"
   ]
  },
  {
   "cell_type": "markdown",
   "metadata": {
    "id": "i2jRJmQ-tD4Z",
    "tags": []
   },
   "source": [
    "# Feature Engineering"
   ]
  },
  {
   "cell_type": "markdown",
   "metadata": {},
   "source": [
    "Concateno los dataframes para que tengan las mismas columnas y las variables categoricas esten alineadas"
   ]
  },
  {
   "cell_type": "code",
   "execution_count": 38,
   "metadata": {},
   "outputs": [],
   "source": [
    "df_total = pd.concat([df,df_pred], axis=0)"
   ]
  },
  {
   "cell_type": "markdown",
   "metadata": {
    "tags": []
   },
   "source": [
    "## Additionals"
   ]
  },
  {
   "cell_type": "markdown",
   "metadata": {},
   "source": [
    "Genero dummies con los additionals y lo agrego en el df"
   ]
  },
  {
   "cell_type": "code",
   "execution_count": 39,
   "metadata": {
    "collapsed": true,
    "jupyter": {
     "outputs_hidden": true
    },
    "tags": []
   },
   "outputs": [
    {
     "name": "stderr",
     "output_type": "stream",
     "text": [
      "/tmp/ipykernel_84058/910923671.py:2: UserWarning: Pandas doesn't allow columns to be created via a new attribute name - see https://pandas.pydata.org/pandas-docs/stable/indexing.html#attribute-access\n",
      "  df_pred.additionals_split = df_pred.additionals.apply(lambda x: x.split(\",\"))\n"
     ]
    }
   ],
   "source": [
    "df_pred.additionals.fillna(\"zxzyzjz\", inplace = True)\n",
    "df_pred.additionals_split = df_pred.additionals.apply(lambda x: x.split(\",\"))"
   ]
  },
  {
   "cell_type": "code",
   "execution_count": 40,
   "metadata": {},
   "outputs": [],
   "source": [
    "additionals_list = df_pred.additionals_split.explode().unique()\n",
    "additionals_list = [x.strip() for x in additionals_list]\n",
    "additionals_list = list(dict.fromkeys(additionals_list))"
   ]
  },
  {
   "cell_type": "code",
   "execution_count": 41,
   "metadata": {},
   "outputs": [],
   "source": [
    "df_total.description.fillna(\"sin_descripcion\", inplace = True)"
   ]
  },
  {
   "cell_type": "code",
   "execution_count": 42,
   "metadata": {},
   "outputs": [],
   "source": [
    "for additional in additionals_list:\n",
    "    df_total[additional] = df_total.description.apply(lambda x: 1 if additional.lower() in x.lower() else 0)"
   ]
  },
  {
   "cell_type": "code",
   "execution_count": 43,
   "metadata": {},
   "outputs": [],
   "source": [
    "df_total.drop(columns = \"zxzyzjz\", inplace = True)\n",
    "df_total.drop(columns = \"additionals\", inplace = True)\n",
    "df_total.drop(columns = \"description\", inplace = True)"
   ]
  },
  {
   "cell_type": "markdown",
   "metadata": {
    "jp-MarkdownHeadingCollapsed": true,
    "tags": []
   },
   "source": [
    "## logaritmicas"
   ]
  },
  {
   "cell_type": "code",
   "execution_count": 44,
   "metadata": {},
   "outputs": [],
   "source": [
    "#df_total[\"lnrooms\"] = df_total.rooms.apply(lambda x: x if x == 0 else np.log(x))"
   ]
  },
  {
   "cell_type": "code",
   "execution_count": 45,
   "metadata": {},
   "outputs": [],
   "source": [
    "#df_total[\"lnbedrooms\"] = df_total.bedrooms.apply(lambda x: x if x == 0 else np.log(x))"
   ]
  },
  {
   "cell_type": "code",
   "execution_count": 46,
   "metadata": {},
   "outputs": [],
   "source": [
    "#df_total[\"lnsurface_covered\"] = df_total.surface_covered.apply(lambda x: x if x == 0 else np.log(x))"
   ]
  },
  {
   "cell_type": "code",
   "execution_count": 47,
   "metadata": {},
   "outputs": [],
   "source": [
    "#df_total[\"lnsurface_total\"] = df_total.surface_total.apply(lambda x: x if x == 0 else np.log(x))"
   ]
  },
  {
   "cell_type": "markdown",
   "metadata": {
    "jp-MarkdownHeadingCollapsed": true,
    "tags": []
   },
   "source": [
    "## Dummies"
   ]
  },
  {
   "cell_type": "code",
   "execution_count": 48,
   "metadata": {},
   "outputs": [],
   "source": [
    "df_total = pd.get_dummies(df_total, columns = [\"l3\", \"property_type\"])"
   ]
  },
  {
   "cell_type": "markdown",
   "metadata": {
    "tags": []
   },
   "source": [
    "## Separo el dataframe nuevamente en df_pred y df"
   ]
  },
  {
   "cell_type": "code",
   "execution_count": 49,
   "metadata": {},
   "outputs": [],
   "source": [
    "df = df_total[df_total.index.isin(df.index)]\n",
    "df_pred = df_total[df_total.index.isin(df_pred.index)]"
   ]
  },
  {
   "cell_type": "markdown",
   "metadata": {
    "tags": []
   },
   "source": [
    "# Modelización"
   ]
  },
  {
   "cell_type": "code",
   "execution_count": 50,
   "metadata": {},
   "outputs": [],
   "source": [
    "X = df[df.columns.drop('price')]\n",
    "y = df['price']"
   ]
  },
  {
   "cell_type": "markdown",
   "metadata": {},
   "source": [
    "## GBM"
   ]
  },
  {
   "cell_type": "code",
   "execution_count": 54,
   "metadata": {
    "id": "PoAhfAjlr-rp"
   },
   "outputs": [
    {
     "name": "stdout",
     "output_type": "stream",
     "text": [
      "n_600 | max_depth:5 | mean: 107782.14060053966 | sd: 3423.571159886552\n",
      "n_600 | max_depth:7 | mean: 105277.80209686025 | sd: 3957.1942420357605\n",
      "-----------------------------------------------------------------------------------\n",
      "n_700 | max_depth:5 | mean: 107530.0206875155 | sd: 3530.653335203323\n",
      "n_700 | max_depth:7 | mean: 105174.98604526161 | sd: 3837.959201673196\n",
      "-----------------------------------------------------------------------------------\n"
     ]
    }
   ],
   "source": [
    "for n_estimators in [600, 700]:\n",
    "    for max_depth in [5,7]:     \n",
    "\n",
    "        gbm = sk.ensemble.GradientBoostingRegressor(n_estimators=n_estimators, max_depth=max_depth, random_state=42,learning_rate=0.08)\n",
    "\n",
    "        scores = []\n",
    "        kf = sk.model_selection.KFold(n_splits=5, shuffle=True, random_state=42)\n",
    "        for train, test in kf.split(X):\n",
    "            X_train, X_test, y_train, y_test = X.iloc[train], X.iloc[test], y[train], y[test]\n",
    "        \n",
    "            # Entrenamos el modelo\n",
    "            gbm.fit(X_train, y_train)\n",
    "        \n",
    "            # Predecimos\n",
    "            y_pred = gbm.predict(X_test)\n",
    "        \n",
    "            # Medimos la performance de la predicción\n",
    "            score = sk.metrics.mean_squared_error(y_test, y_pred, squared=False)\n",
    "            scores.append(score)\n",
    "        print(f\"n_{n_estimators} | max_depth:{max_depth} | mean: {np.mean(scores)} | sd: {np.std(scores)}\")\n",
    "        \n",
    "    print(\"-----------------------------------------------------------------------------------\")"
   ]
  },
  {
   "cell_type": "markdown",
   "metadata": {},
   "source": [
    "n_100 | max_depth:3 | mean: 123460.3142366433 | sd: 1727.6583321599176\n",
    "\n",
    "n_100 | max_depth:5 | mean: 114657.89839219146 | sd: 2472.735674256593\n",
    "\n",
    "n_300 | max_depth:3 | mean: 117398.20498211123 | sd: 2401.2053107628585\n",
    "\n",
    "n_300 | max_depth:5 | mean: 109826.63624207438 | sd: 2983.8672972888517\n",
    "\n",
    "n_500 | max_depth:3 | mean: 114691.00827011366 | sd: 2770.248958818647\n",
    "\n",
    "n_500 | max_depth:5 | mean: 108405.9432217147 | sd: 3266.911700543427\n"
   ]
  },
  {
   "cell_type": "markdown",
   "metadata": {
    "id": "sqVkTPzj3kV0"
   },
   "source": [
    "## Predicción para Kaggle\n"
   ]
  },
  {
   "cell_type": "code",
   "execution_count": 55,
   "metadata": {
    "id": "xzAwUNRA1Fzb"
   },
   "outputs": [],
   "source": [
    "# quedate con las mismas columnas que ar_properties\n",
    "X_pred = df_pred[X.columns]"
   ]
  },
  {
   "cell_type": "code",
   "execution_count": 56,
   "metadata": {
    "id": "81dOh5WvAPMa"
   },
   "outputs": [
    {
     "name": "stderr",
     "output_type": "stream",
     "text": [
      "/tmp/ipykernel_84058/2800229017.py:12: SettingWithCopyWarning: \n",
      "A value is trying to be set on a copy of a slice from a DataFrame.\n",
      "Try using .loc[row_indexer,col_indexer] = value instead\n",
      "\n",
      "See the caveats in the documentation: https://pandas.pydata.org/pandas-docs/stable/user_guide/indexing.html#returning-a-view-versus-a-copy\n",
      "  df_pred[\"price\"] = gbm.predict(X_pred)\n"
     ]
    }
   ],
   "source": [
    "# los mejores hiperparámetros encontrados antes\n",
    "n_estimators = 700\n",
    "max_depth = 7\n",
    "\n",
    "# Entrenamiento\n",
    "gbm = sk.ensemble.GradientBoostingRegressor(n_estimators=n_estimators, max_depth=max_depth, random_state=42)\n",
    "\n",
    "# Entrenamos el modelo\n",
    "gbm.fit(X, y)\n",
    "\n",
    "# predicción\n",
    "df_pred[\"price\"] = gbm.predict(X_pred)"
   ]
  },
  {
   "cell_type": "code",
   "execution_count": 57,
   "metadata": {
    "id": "mU9iV6cuBwKB"
   },
   "outputs": [],
   "source": [
    "# Grabo la solución\n",
    "df_pred[[\"price\"]].to_csv(\"../Soluciones/solucion.csv\")"
   ]
  }
 ],
 "metadata": {
  "colab": {
   "collapsed_sections": [
    "sqVkTPzj3kV0"
   ],
   "name": "TP individual.ipynb",
   "provenance": []
  },
  "kernelspec": {
   "display_name": "Python 3.10.4 ('properati-lzHRr2__-py3.10')",
   "language": "python",
   "name": "python3"
  },
  "language_info": {
   "codemirror_mode": {
    "name": "ipython",
    "version": 3
   },
   "file_extension": ".py",
   "mimetype": "text/x-python",
   "name": "python",
   "nbconvert_exporter": "python",
   "pygments_lexer": "ipython3",
   "version": "3.10.4"
  },
  "vscode": {
   "interpreter": {
    "hash": "4e22757b696a195dce1cdb975f20abb896211a0c41025a1e3da18b0be7b7b16b"
   }
  }
 },
 "nbformat": 4,
 "nbformat_minor": 4
}
