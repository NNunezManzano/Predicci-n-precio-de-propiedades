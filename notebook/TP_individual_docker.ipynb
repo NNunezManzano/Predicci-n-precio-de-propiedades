{
 "cells": [
  {
   "cell_type": "markdown",
   "metadata": {},
   "source": [
    "# **Entorno**"
   ]
  },
  {
   "cell_type": "code",
   "execution_count": 2,
   "metadata": {
    "id": "A7BBykw5oQNl"
   },
   "outputs": [],
   "source": [
    "# https://www.properati.com.ar/data\n",
    "! wget -O ar_properties.csv.gz -q https://storage.googleapis.com/properati-data-public/ar_properties.csv.gz\n",
    "! gzip -d -f ./ar_properties.csv.gz"
   ]
  },
  {
   "cell_type": "code",
   "execution_count": 6,
   "metadata": {
    "id": "jw8ogMDOpvKP"
   },
   "outputs": [],
   "source": [
    "import pandas as pd\n",
    "import numpy as np\n",
    "\n",
    "import matplotlib.pyplot as plt\n",
    "\n",
    "import sklearn as sk\n",
    "from sklearn import model_selection\n",
    "from sklearn import ensemble\n",
    "from sklearn import metrics\n",
    "import warnings\n",
    "warnings.filterwarnings('ignore')\n",
    "\n",
    "import re\n",
    "\n",
    "from sklearn.feature_extraction.text import CountVectorizer\n",
    "#import datetime\n",
    "\n"
   ]
  },
  {
   "cell_type": "code",
   "execution_count": 4,
   "metadata": {},
   "outputs": [],
   "source": [
    "pd.options.display.max_colwidth = -1"
   ]
  },
  {
   "cell_type": "markdown",
   "metadata": {
    "id": "20D-m6GPyefp",
    "tags": []
   },
   "source": [
    "# **Lectura de datos**"
   ]
  },
  {
   "cell_type": "code",
   "execution_count": 4,
   "metadata": {
    "id": "CtV0wOGsqJLC"
   },
   "outputs": [],
   "source": [
    "df_properties = pd.read_csv('../ar_properties.csv', index_col=\"id\")\n",
    "df_apred = pd.read_csv('../a_predecir.csv', index_col=\"id\")"
   ]
  },
  {
   "cell_type": "code",
   "execution_count": 108,
   "metadata": {},
   "outputs": [],
   "source": [
    "df = df_properties.copy()\n",
    "df_pred = df_apred.copy()"
   ]
  },
  {
   "cell_type": "code",
   "execution_count": null,
   "metadata": {
    "collapsed": true,
    "id": "thKYxfNuulgB",
    "jupyter": {
     "outputs_hidden": true
    },
    "tags": []
   },
   "outputs": [],
   "source": [
    "df.head()"
   ]
  },
  {
   "cell_type": "code",
   "execution_count": null,
   "metadata": {
    "collapsed": true,
    "jupyter": {
     "outputs_hidden": true
    },
    "tags": []
   },
   "outputs": [],
   "source": [
    "df_pred.info()"
   ]
  },
  {
   "cell_type": "code",
   "execution_count": null,
   "metadata": {
    "collapsed": true,
    "jupyter": {
     "outputs_hidden": true
    },
    "tags": []
   },
   "outputs": [],
   "source": [
    "df.info()"
   ]
  },
  {
   "cell_type": "markdown",
   "metadata": {
    "id": "byV0dQi-yiEd",
    "tags": []
   },
   "source": [
    "# **Análisis del conjunto de datos**"
   ]
  },
  {
   "cell_type": "markdown",
   "metadata": {},
   "source": [
    "## Ambientes"
   ]
  },
  {
   "cell_type": "code",
   "execution_count": null,
   "metadata": {},
   "outputs": [],
   "source": [
    "df[(df[\"bañosxambiente\"] > 1) & (df[\"rooms\"] == 16)]"
   ]
  },
  {
   "cell_type": "code",
   "execution_count": 295,
   "metadata": {},
   "outputs": [
    {
     "data": {
      "text/plain": [
       "0.500000    36995\n",
       "1.000000    27014\n",
       "0.333333    18331\n",
       "0.666667    11879\n",
       "0.250000    4229 \n",
       "            ...  \n",
       "0.052632    1    \n",
       "0.033333    1    \n",
       "0.882353    1    \n",
       "0.466667    1    \n",
       "0.157895    1    \n",
       "Name: bañosxambiente, Length: 68, dtype: int64"
      ]
     },
     "execution_count": 295,
     "metadata": {},
     "output_type": "execute_result"
    }
   ],
   "source": [
    "df.bañosxambiente.value_counts()"
   ]
  },
  {
   "cell_type": "code",
   "execution_count": 296,
   "metadata": {},
   "outputs": [
    {
     "data": {
      "text/html": [
       "<div>\n",
       "<style scoped>\n",
       "    .dataframe tbody tr th:only-of-type {\n",
       "        vertical-align: middle;\n",
       "    }\n",
       "\n",
       "    .dataframe tbody tr th {\n",
       "        vertical-align: top;\n",
       "    }\n",
       "\n",
       "    .dataframe thead th {\n",
       "        text-align: right;\n",
       "    }\n",
       "</style>\n",
       "<table border=\"1\" class=\"dataframe\">\n",
       "  <thead>\n",
       "    <tr style=\"text-align: right;\">\n",
       "      <th></th>\n",
       "      <th>price</th>\n",
       "    </tr>\n",
       "    <tr>\n",
       "      <th>rooms</th>\n",
       "      <th></th>\n",
       "    </tr>\n",
       "  </thead>\n",
       "  <tbody>\n",
       "    <tr>\n",
       "      <th>1.0</th>\n",
       "      <td>456</td>\n",
       "    </tr>\n",
       "    <tr>\n",
       "      <th>4.0</th>\n",
       "      <td>310</td>\n",
       "    </tr>\n",
       "    <tr>\n",
       "      <th>3.0</th>\n",
       "      <td>210</td>\n",
       "    </tr>\n",
       "    <tr>\n",
       "      <th>2.0</th>\n",
       "      <td>110</td>\n",
       "    </tr>\n",
       "    <tr>\n",
       "      <th>5.0</th>\n",
       "      <td>68</td>\n",
       "    </tr>\n",
       "    <tr>\n",
       "      <th>6.0</th>\n",
       "      <td>4</td>\n",
       "    </tr>\n",
       "    <tr>\n",
       "      <th>16.0</th>\n",
       "      <td>1</td>\n",
       "    </tr>\n",
       "  </tbody>\n",
       "</table>\n",
       "</div>"
      ],
      "text/plain": [
       "       price\n",
       "rooms       \n",
       "1.0    456  \n",
       "4.0    310  \n",
       "3.0    210  \n",
       "2.0    110  \n",
       "5.0    68   \n",
       "6.0    4    \n",
       "16.0   1    "
      ]
     },
     "execution_count": 296,
     "metadata": {},
     "output_type": "execute_result"
    }
   ],
   "source": [
    "df.loc[df[\"bañosxambiente\"] > 1,[\"rooms\", \"price\"]].groupby([\"rooms\"]).count().sort_values(by=\"price\", ascending=False)"
   ]
  },
  {
   "cell_type": "code",
   "execution_count": 279,
   "metadata": {},
   "outputs": [],
   "source": [
    "df[\"2 ambientes\"] = df.description.apply(lambda x: 1 if \"2 ambientes\" in x else 0)\n",
    "#df[\"amb\"] = df.description.apply(lambda x: 1 if \"amb\" in x else 0)"
   ]
  },
  {
   "cell_type": "code",
   "execution_count": 293,
   "metadata": {},
   "outputs": [
    {
     "data": {
      "text/plain": [
       "'Venta departamento  Reconquista 700 San Nicolas<br><br>Ubicada en calle Reconquista al 700 entre Córdoba y Viamonte ,  al frente, con  en segundo piso. Todo aire y luz! <br>Edificio de estilo del año 1900., techos con molduras, puertas de madera y pisos calcáreos y de  pinotea .<br>Posee balcones con persianas. <br><br>Actualmente funciona como oficina,  está distribuida en 5 ambientes de trabajo, algunos comunicados entre sí y  2 salas de reuniones. <br>Amplio hall de recepción. <br>Entrepiso con  2 ambientes adicionales  y toilette.<br>Dos baños con ventilacion al exterior y Kitchenette<br><br>Al frente la vista es abierta  al Claustro de Santa Catalina de Siena y a un gran estacionamiento.<br><br>Excelente ubicación a metros de Galerías Pacífico y Av. Leandro Alem,  próxima a Puerto Madero. <br> Hay estacionamiento a 50 m y numerosos medios de transporte.<br><br>Servicios individuales. Aires acondicionados frío/ calor. Totalmente eléctrica. Seguridad. Cámaras de seguridad y Portero Visor.<br><br>UNIDAD A REMODELAR PARA USO COMO VICIENDA, con grandes posibilidades por cantidad de metros y distribucion. <br><br>Podemos tambien ocuparnos del  proyecto de reforma llave en mano!<br><br><br>Queres saber mas? estamos encantados de ayudarte! Contactanos!<br>Cel/Wapp: 11 <br><br>Silvia Ceballos CSI 6351/ Federico Criscuolo CPI 6881<br><br>AVISO LEGAL: Las descripciones arquitectónicas y funcionales, valores de expensas, impuestos y servicios y medidas de este inmueble son aproximados. Los datos fueron proporcionados por el propietario y pueden no estar actualizados a la hora de la visualización de este aviso por lo cual pueden arrojar inexactitudes y discordancias con las que surgen de las facturas, títulos y planos legales del inmueble. El interesado deberá realizar las verificaciones respectivas previamente a la realización de cualquier operación. Fotos de caracter no contractual.'"
      ]
     },
     "execution_count": 293,
     "metadata": {},
     "output_type": "execute_result"
    }
   ],
   "source": [
    "df[(df[\"2 ambientes\"] == 1) & (df[\"rooms\"] == 9)][\"description\"].iloc[2]"
   ]
  },
  {
   "cell_type": "code",
   "execution_count": 286,
   "metadata": {},
   "outputs": [
    {
     "data": {
      "text/html": [
       "<div>\n",
       "<style scoped>\n",
       "    .dataframe tbody tr th:only-of-type {\n",
       "        vertical-align: middle;\n",
       "    }\n",
       "\n",
       "    .dataframe tbody tr th {\n",
       "        vertical-align: top;\n",
       "    }\n",
       "\n",
       "    .dataframe thead th {\n",
       "        text-align: right;\n",
       "    }\n",
       "</style>\n",
       "<table border=\"1\" class=\"dataframe\">\n",
       "  <thead>\n",
       "    <tr style=\"text-align: right;\">\n",
       "      <th></th>\n",
       "      <th>price</th>\n",
       "    </tr>\n",
       "    <tr>\n",
       "      <th>rooms</th>\n",
       "      <th></th>\n",
       "    </tr>\n",
       "  </thead>\n",
       "  <tbody>\n",
       "    <tr>\n",
       "      <th>2.0</th>\n",
       "      <td>12208</td>\n",
       "    </tr>\n",
       "    <tr>\n",
       "      <th>1.0</th>\n",
       "      <td>1966</td>\n",
       "    </tr>\n",
       "    <tr>\n",
       "      <th>3.0</th>\n",
       "      <td>428</td>\n",
       "    </tr>\n",
       "    <tr>\n",
       "      <th>4.0</th>\n",
       "      <td>97</td>\n",
       "    </tr>\n",
       "    <tr>\n",
       "      <th>5.0</th>\n",
       "      <td>36</td>\n",
       "    </tr>\n",
       "    <tr>\n",
       "      <th>6.0</th>\n",
       "      <td>20</td>\n",
       "    </tr>\n",
       "    <tr>\n",
       "      <th>7.0</th>\n",
       "      <td>8</td>\n",
       "    </tr>\n",
       "    <tr>\n",
       "      <th>12.0</th>\n",
       "      <td>6</td>\n",
       "    </tr>\n",
       "    <tr>\n",
       "      <th>8.0</th>\n",
       "      <td>4</td>\n",
       "    </tr>\n",
       "    <tr>\n",
       "      <th>9.0</th>\n",
       "      <td>3</td>\n",
       "    </tr>\n",
       "    <tr>\n",
       "      <th>10.0</th>\n",
       "      <td>2</td>\n",
       "    </tr>\n",
       "    <tr>\n",
       "      <th>19.0</th>\n",
       "      <td>1</td>\n",
       "    </tr>\n",
       "    <tr>\n",
       "      <th>20.0</th>\n",
       "      <td>1</td>\n",
       "    </tr>\n",
       "    <tr>\n",
       "      <th>21.0</th>\n",
       "      <td>1</td>\n",
       "    </tr>\n",
       "  </tbody>\n",
       "</table>\n",
       "</div>"
      ],
      "text/plain": [
       "       price\n",
       "rooms       \n",
       "2.0    12208\n",
       "1.0     1966\n",
       "3.0      428\n",
       "4.0       97\n",
       "5.0       36\n",
       "6.0       20\n",
       "7.0        8\n",
       "12.0       6\n",
       "8.0        4\n",
       "9.0        3\n",
       "10.0       2\n",
       "19.0       1\n",
       "20.0       1\n",
       "21.0       1"
      ]
     },
     "execution_count": 286,
     "metadata": {},
     "output_type": "execute_result"
    }
   ],
   "source": [
    "df.loc[df[\"2 ambientes\"] == 1,[\"rooms\", \"price\"]].groupby([\"rooms\"]).count().sort_values(by=\"price\", ascending=False)"
   ]
  },
  {
   "cell_type": "markdown",
   "metadata": {},
   "source": [
    "## Precio por m2"
   ]
  },
  {
   "cell_type": "code",
   "execution_count": 269,
   "metadata": {},
   "outputs": [],
   "source": [
    "df_m2 = df.loc[(df.surface_covered.notnull()) & (df.surface_covered > 0)]"
   ]
  },
  {
   "cell_type": "code",
   "execution_count": 270,
   "metadata": {},
   "outputs": [
    {
     "name": "stderr",
     "output_type": "stream",
     "text": [
      "/tmp/ipykernel_79919/2211268282.py:1: SettingWithCopyWarning: \n",
      "A value is trying to be set on a copy of a slice from a DataFrame.\n",
      "Try using .loc[row_indexer,col_indexer] = value instead\n",
      "\n",
      "See the caveats in the documentation: https://pandas.pydata.org/pandas-docs/stable/user_guide/indexing.html#returning-a-view-versus-a-copy\n",
      "  df_m2[\"m2\"] = df_m2.price / df_m2.surface_covered\n"
     ]
    }
   ],
   "source": [
    "df_m2[\"m2\"] = df_m2.price / df_m2.surface_covered"
   ]
  },
  {
   "cell_type": "code",
   "execution_count": 271,
   "metadata": {},
   "outputs": [
    {
     "data": {
      "text/html": [
       "<div>\n",
       "<style scoped>\n",
       "    .dataframe tbody tr th:only-of-type {\n",
       "        vertical-align: middle;\n",
       "    }\n",
       "\n",
       "    .dataframe tbody tr th {\n",
       "        vertical-align: top;\n",
       "    }\n",
       "\n",
       "    .dataframe thead th {\n",
       "        text-align: right;\n",
       "    }\n",
       "</style>\n",
       "<table border=\"1\" class=\"dataframe\">\n",
       "  <thead>\n",
       "    <tr style=\"text-align: right;\">\n",
       "      <th></th>\n",
       "      <th>m2</th>\n",
       "    </tr>\n",
       "    <tr>\n",
       "      <th>l3</th>\n",
       "      <th></th>\n",
       "    </tr>\n",
       "  </thead>\n",
       "  <tbody>\n",
       "    <tr>\n",
       "      <th>Liniers</th>\n",
       "      <td>5532.598455</td>\n",
       "    </tr>\n",
       "    <tr>\n",
       "      <th>Mataderos</th>\n",
       "      <td>4072.473377</td>\n",
       "    </tr>\n",
       "    <tr>\n",
       "      <th>Puerto Madero</th>\n",
       "      <td>4017.502194</td>\n",
       "    </tr>\n",
       "    <tr>\n",
       "      <th>Villa Urquiza</th>\n",
       "      <td>3653.169679</td>\n",
       "    </tr>\n",
       "    <tr>\n",
       "      <th>Agronomía</th>\n",
       "      <td>3593.116387</td>\n",
       "    </tr>\n",
       "    <tr>\n",
       "      <th>Belgrano</th>\n",
       "      <td>3331.964858</td>\n",
       "    </tr>\n",
       "    <tr>\n",
       "      <th>Palermo</th>\n",
       "      <td>3309.459823</td>\n",
       "    </tr>\n",
       "    <tr>\n",
       "      <th>Nuñez</th>\n",
       "      <td>3279.087920</td>\n",
       "    </tr>\n",
       "    <tr>\n",
       "      <th>Colegiales</th>\n",
       "      <td>3065.370913</td>\n",
       "    </tr>\n",
       "    <tr>\n",
       "      <th>Villa Luro</th>\n",
       "      <td>3045.115182</td>\n",
       "    </tr>\n",
       "    <tr>\n",
       "      <th>Coghlan</th>\n",
       "      <td>3005.576359</td>\n",
       "    </tr>\n",
       "    <tr>\n",
       "      <th>Recoleta</th>\n",
       "      <td>2998.128576</td>\n",
       "    </tr>\n",
       "    <tr>\n",
       "      <th>Villa General Mitre</th>\n",
       "      <td>2914.333807</td>\n",
       "    </tr>\n",
       "    <tr>\n",
       "      <th>Caballito</th>\n",
       "      <td>2875.329985</td>\n",
       "    </tr>\n",
       "    <tr>\n",
       "      <th>Villa Devoto</th>\n",
       "      <td>2843.924086</td>\n",
       "    </tr>\n",
       "    <tr>\n",
       "      <th>Saavedra</th>\n",
       "      <td>2778.090684</td>\n",
       "    </tr>\n",
       "    <tr>\n",
       "      <th>Villa Ortuzar</th>\n",
       "      <td>2709.314601</td>\n",
       "    </tr>\n",
       "    <tr>\n",
       "      <th>Chacarita</th>\n",
       "      <td>2676.322248</td>\n",
       "    </tr>\n",
       "    <tr>\n",
       "      <th>Villa Crespo</th>\n",
       "      <td>2598.962886</td>\n",
       "    </tr>\n",
       "    <tr>\n",
       "      <th>Almagro</th>\n",
       "      <td>2581.797353</td>\n",
       "    </tr>\n",
       "    <tr>\n",
       "      <th>Villa del Parque</th>\n",
       "      <td>2544.435266</td>\n",
       "    </tr>\n",
       "    <tr>\n",
       "      <th>Parque Chas</th>\n",
       "      <td>2532.089202</td>\n",
       "    </tr>\n",
       "    <tr>\n",
       "      <th>Retiro</th>\n",
       "      <td>2502.448562</td>\n",
       "    </tr>\n",
       "    <tr>\n",
       "      <th>Barracas</th>\n",
       "      <td>2408.235230</td>\n",
       "    </tr>\n",
       "    <tr>\n",
       "      <th>Floresta</th>\n",
       "      <td>2394.598267</td>\n",
       "    </tr>\n",
       "    <tr>\n",
       "      <th>San Telmo</th>\n",
       "      <td>2353.532176</td>\n",
       "    </tr>\n",
       "    <tr>\n",
       "      <th>Parque Chacabuco</th>\n",
       "      <td>2293.307910</td>\n",
       "    </tr>\n",
       "    <tr>\n",
       "      <th>Monte Castro</th>\n",
       "      <td>2256.270856</td>\n",
       "    </tr>\n",
       "    <tr>\n",
       "      <th>Flores</th>\n",
       "      <td>2245.450317</td>\n",
       "    </tr>\n",
       "    <tr>\n",
       "      <th>Boedo</th>\n",
       "      <td>2239.566090</td>\n",
       "    </tr>\n",
       "    <tr>\n",
       "      <th>Versalles</th>\n",
       "      <td>2238.028863</td>\n",
       "    </tr>\n",
       "    <tr>\n",
       "      <th>Villa Santa Rita</th>\n",
       "      <td>2228.979404</td>\n",
       "    </tr>\n",
       "    <tr>\n",
       "      <th>San Nicolás</th>\n",
       "      <td>2226.533574</td>\n",
       "    </tr>\n",
       "    <tr>\n",
       "      <th>Paternal</th>\n",
       "      <td>2139.425927</td>\n",
       "    </tr>\n",
       "    <tr>\n",
       "      <th>Monserrat</th>\n",
       "      <td>2046.322201</td>\n",
       "    </tr>\n",
       "    <tr>\n",
       "      <th>Parque Patricios</th>\n",
       "      <td>2031.371416</td>\n",
       "    </tr>\n",
       "    <tr>\n",
       "      <th>Balvanera</th>\n",
       "      <td>2009.045221</td>\n",
       "    </tr>\n",
       "    <tr>\n",
       "      <th>San Cristobal</th>\n",
       "      <td>1988.774332</td>\n",
       "    </tr>\n",
       "    <tr>\n",
       "      <th>Villa Real</th>\n",
       "      <td>1933.301071</td>\n",
       "    </tr>\n",
       "    <tr>\n",
       "      <th>Constitución</th>\n",
       "      <td>1927.831154</td>\n",
       "    </tr>\n",
       "    <tr>\n",
       "      <th>Parque Avellaneda</th>\n",
       "      <td>1817.888181</td>\n",
       "    </tr>\n",
       "    <tr>\n",
       "      <th>Villa Lugano</th>\n",
       "      <td>1697.864239</td>\n",
       "    </tr>\n",
       "    <tr>\n",
       "      <th>Boca</th>\n",
       "      <td>1598.542949</td>\n",
       "    </tr>\n",
       "  </tbody>\n",
       "</table>\n",
       "</div>"
      ],
      "text/plain": [
       "                              m2\n",
       "l3                              \n",
       "Liniers              5532.598455\n",
       "Mataderos            4072.473377\n",
       "Puerto Madero        4017.502194\n",
       "Villa Urquiza        3653.169679\n",
       "Agronomía            3593.116387\n",
       "Belgrano             3331.964858\n",
       "Palermo              3309.459823\n",
       "Nuñez                3279.087920\n",
       "Colegiales           3065.370913\n",
       "Villa Luro           3045.115182\n",
       "Coghlan              3005.576359\n",
       "Recoleta             2998.128576\n",
       "Villa General Mitre  2914.333807\n",
       "Caballito            2875.329985\n",
       "Villa Devoto         2843.924086\n",
       "Saavedra             2778.090684\n",
       "Villa Ortuzar        2709.314601\n",
       "Chacarita            2676.322248\n",
       "Villa Crespo         2598.962886\n",
       "Almagro              2581.797353\n",
       "Villa del Parque     2544.435266\n",
       "Parque Chas          2532.089202\n",
       "Retiro               2502.448562\n",
       "Barracas             2408.235230\n",
       "Floresta             2394.598267\n",
       "San Telmo            2353.532176\n",
       "Parque Chacabuco     2293.307910\n",
       "Monte Castro         2256.270856\n",
       "Flores               2245.450317\n",
       "Boedo                2239.566090\n",
       "Versalles            2238.028863\n",
       "Villa Santa Rita     2228.979404\n",
       "San Nicolás          2226.533574\n",
       "Paternal             2139.425927\n",
       "Monserrat            2046.322201\n",
       "Parque Patricios     2031.371416\n",
       "Balvanera            2009.045221\n",
       "San Cristobal        1988.774332\n",
       "Villa Real           1933.301071\n",
       "Constitución         1927.831154\n",
       "Parque Avellaneda    1817.888181\n",
       "Villa Lugano         1697.864239\n",
       "Boca                 1598.542949"
      ]
     },
     "execution_count": 271,
     "metadata": {},
     "output_type": "execute_result"
    }
   ],
   "source": [
    "df_m2[[\"l3\",\"m2\"]].groupby([\"l3\"]).mean().sort_values(by=\"m2\",ascending=False)"
   ]
  },
  {
   "cell_type": "code",
   "execution_count": 272,
   "metadata": {},
   "outputs": [
    {
     "data": {
      "text/html": [
       "<div>\n",
       "<style scoped>\n",
       "    .dataframe tbody tr th:only-of-type {\n",
       "        vertical-align: middle;\n",
       "    }\n",
       "\n",
       "    .dataframe tbody tr th {\n",
       "        vertical-align: top;\n",
       "    }\n",
       "\n",
       "    .dataframe thead th {\n",
       "        text-align: right;\n",
       "    }\n",
       "</style>\n",
       "<table border=\"1\" class=\"dataframe\">\n",
       "  <thead>\n",
       "    <tr style=\"text-align: right;\">\n",
       "      <th></th>\n",
       "      <th>lat</th>\n",
       "      <th>lon</th>\n",
       "      <th>l3</th>\n",
       "      <th>rooms</th>\n",
       "      <th>bedrooms</th>\n",
       "      <th>bathrooms</th>\n",
       "      <th>surface_total</th>\n",
       "      <th>surface_covered</th>\n",
       "      <th>price</th>\n",
       "      <th>title</th>\n",
       "      <th>description</th>\n",
       "      <th>property_type</th>\n",
       "      <th>m2</th>\n",
       "    </tr>\n",
       "    <tr>\n",
       "      <th>id</th>\n",
       "      <th></th>\n",
       "      <th></th>\n",
       "      <th></th>\n",
       "      <th></th>\n",
       "      <th></th>\n",
       "      <th></th>\n",
       "      <th></th>\n",
       "      <th></th>\n",
       "      <th></th>\n",
       "      <th></th>\n",
       "      <th></th>\n",
       "      <th></th>\n",
       "      <th></th>\n",
       "    </tr>\n",
       "  </thead>\n",
       "  <tbody>\n",
       "    <tr>\n",
       "      <th>1ieYb5KXI+v3r8TJo3OeoQ==</th>\n",
       "      <td>-34.636104</td>\n",
       "      <td>-58.493931</td>\n",
       "      <td>Liniers</td>\n",
       "      <td>2.0</td>\n",
       "      <td>1.0</td>\n",
       "      <td>1.0</td>\n",
       "      <td>50.0</td>\n",
       "      <td>42.0</td>\n",
       "      <td>95000.0</td>\n",
       "      <td>Vta. Depto 2 amb. al frente c/Balcón - Velez S...</td>\n",
       "      <td>Venta Depto 2 ambientes  al frente con amplio ...</td>\n",
       "      <td>Departamento</td>\n",
       "      <td>2261.904762</td>\n",
       "    </tr>\n",
       "    <tr>\n",
       "      <th>fjB/UwE4cRMvqLPrA3ECyA==</th>\n",
       "      <td>-34.639400</td>\n",
       "      <td>-58.521398</td>\n",
       "      <td>Liniers</td>\n",
       "      <td>1.0</td>\n",
       "      <td>1.0</td>\n",
       "      <td>1.0</td>\n",
       "      <td>30.0</td>\n",
       "      <td>27.0</td>\n",
       "      <td>48000.0</td>\n",
       "      <td>Depto 1 amb. c/coc. indep, al frente c/balcon ...</td>\n",
       "      <td>Venta Depto 1 ambiente con Balcón al Frente.. ...</td>\n",
       "      <td>Departamento</td>\n",
       "      <td>1777.777778</td>\n",
       "    </tr>\n",
       "    <tr>\n",
       "      <th>tVEuesjxQtUmltu9Mf4wGQ==</th>\n",
       "      <td>-34.643888</td>\n",
       "      <td>-58.517249</td>\n",
       "      <td>Liniers</td>\n",
       "      <td>1.0</td>\n",
       "      <td>NaN</td>\n",
       "      <td>1.0</td>\n",
       "      <td>43.0</td>\n",
       "      <td>30.0</td>\n",
       "      <td>95000.0</td>\n",
       "      <td>LINIERS: Excelente  1 Ambiente CON BALCON ATER...</td>\n",
       "      <td>LINIERS: Excelente Unidad de  1 Ambiente a EST...</td>\n",
       "      <td>Departamento</td>\n",
       "      <td>3166.666667</td>\n",
       "    </tr>\n",
       "    <tr>\n",
       "      <th>4spFzoAqpgtfnB8LtHQhsw==</th>\n",
       "      <td>-34.643888</td>\n",
       "      <td>-58.517249</td>\n",
       "      <td>Liniers</td>\n",
       "      <td>2.0</td>\n",
       "      <td>1.0</td>\n",
       "      <td>1.0</td>\n",
       "      <td>58.0</td>\n",
       "      <td>55.0</td>\n",
       "      <td>128000.0</td>\n",
       "      <td>LINIERS: Excelente Unidad de 2 Ambientes a EST...</td>\n",
       "      <td>Excelente 2 Ambientes a ESTRENAR AL FRENTE, ed...</td>\n",
       "      <td>Departamento</td>\n",
       "      <td>2327.272727</td>\n",
       "    </tr>\n",
       "    <tr>\n",
       "      <th>XWgmdT/SjvL2hOvLR6ifIg==</th>\n",
       "      <td>-34.643888</td>\n",
       "      <td>-58.517249</td>\n",
       "      <td>Liniers</td>\n",
       "      <td>3.0</td>\n",
       "      <td>2.0</td>\n",
       "      <td>1.0</td>\n",
       "      <td>58.0</td>\n",
       "      <td>55.0</td>\n",
       "      <td>126000.0</td>\n",
       "      <td>LINIERS: Excelente  3 Ambientes a ESTRENAR</td>\n",
       "      <td>LINIERS: Excelente  3 Ambientes a ESTRENAR AL ...</td>\n",
       "      <td>Departamento</td>\n",
       "      <td>2290.909091</td>\n",
       "    </tr>\n",
       "    <tr>\n",
       "      <th>...</th>\n",
       "      <td>...</td>\n",
       "      <td>...</td>\n",
       "      <td>...</td>\n",
       "      <td>...</td>\n",
       "      <td>...</td>\n",
       "      <td>...</td>\n",
       "      <td>...</td>\n",
       "      <td>...</td>\n",
       "      <td>...</td>\n",
       "      <td>...</td>\n",
       "      <td>...</td>\n",
       "      <td>...</td>\n",
       "      <td>...</td>\n",
       "    </tr>\n",
       "    <tr>\n",
       "      <th>g3iQ3F0zG8ohNLcAgCN2ZQ==</th>\n",
       "      <td>-34.640201</td>\n",
       "      <td>-58.520914</td>\n",
       "      <td>Liniers</td>\n",
       "      <td>3.0</td>\n",
       "      <td>2.0</td>\n",
       "      <td>2.0</td>\n",
       "      <td>68.0</td>\n",
       "      <td>64.0</td>\n",
       "      <td>131900.0</td>\n",
       "      <td>PH EN DUPLEX 3 AMB. A ESTRENAR CON BALCON. LIN...</td>\n",
       "      <td>Corredor Responsable: Martin Macagno - CUCICBA...</td>\n",
       "      <td>PH</td>\n",
       "      <td>2060.937500</td>\n",
       "    </tr>\n",
       "    <tr>\n",
       "      <th>iVN3nPBfg4R80cVKs4i3tA==</th>\n",
       "      <td>-34.640201</td>\n",
       "      <td>-58.520914</td>\n",
       "      <td>Liniers</td>\n",
       "      <td>3.0</td>\n",
       "      <td>2.0</td>\n",
       "      <td>2.0</td>\n",
       "      <td>68.0</td>\n",
       "      <td>64.0</td>\n",
       "      <td>131900.0</td>\n",
       "      <td>PH EN DUPLEX 3 AMB. A ESTRENAR CON BALCON. LIN...</td>\n",
       "      <td>Corredor Responsable: Martin Macagno - CUCICBA...</td>\n",
       "      <td>Departamento</td>\n",
       "      <td>2060.937500</td>\n",
       "    </tr>\n",
       "    <tr>\n",
       "      <th>ylboR18W2ipyHndBo3JTVA==</th>\n",
       "      <td>-34.640201</td>\n",
       "      <td>-58.520914</td>\n",
       "      <td>Liniers</td>\n",
       "      <td>3.0</td>\n",
       "      <td>2.0</td>\n",
       "      <td>2.0</td>\n",
       "      <td>68.0</td>\n",
       "      <td>64.0</td>\n",
       "      <td>131900.0</td>\n",
       "      <td>PH EN DUPLEX 3 AMB. A ESTRENAR CON BALCON. LIN...</td>\n",
       "      <td>Corredor Responsable: Martin Macagno - CUCICBA...</td>\n",
       "      <td>Departamento</td>\n",
       "      <td>2060.937500</td>\n",
       "    </tr>\n",
       "    <tr>\n",
       "      <th>lHpK9vI53VpS+yS4k3KHxQ==</th>\n",
       "      <td>-34.640201</td>\n",
       "      <td>-58.520914</td>\n",
       "      <td>Liniers</td>\n",
       "      <td>3.0</td>\n",
       "      <td>2.0</td>\n",
       "      <td>2.0</td>\n",
       "      <td>68.0</td>\n",
       "      <td>64.0</td>\n",
       "      <td>131900.0</td>\n",
       "      <td>PH EN DUPLEX 3 AMB. A ESTRENAR CON BALCON. LIN...</td>\n",
       "      <td>Corredor Responsable: Martin Macagno - CUCICBA...</td>\n",
       "      <td>Departamento</td>\n",
       "      <td>2060.937500</td>\n",
       "    </tr>\n",
       "    <tr>\n",
       "      <th>oTJ4/7knI6k9Dp1LUHTPjw==</th>\n",
       "      <td>-34.608395</td>\n",
       "      <td>-58.381057</td>\n",
       "      <td>Liniers</td>\n",
       "      <td>4.0</td>\n",
       "      <td>3.0</td>\n",
       "      <td>1.0</td>\n",
       "      <td>64.0</td>\n",
       "      <td>61.0</td>\n",
       "      <td>129000.0</td>\n",
       "      <td>Departamento - Liniers</td>\n",
       "      <td>Depto. en venta 4 amb. con cochera.&lt;br&gt;&lt;br&gt;&lt;br...</td>\n",
       "      <td>Departamento</td>\n",
       "      <td>2114.754098</td>\n",
       "    </tr>\n",
       "  </tbody>\n",
       "</table>\n",
       "<p>605 rows × 13 columns</p>\n",
       "</div>"
      ],
      "text/plain": [
       "                                lat        lon       l3  rooms  bedrooms  \\\n",
       "id                                                                         \n",
       "1ieYb5KXI+v3r8TJo3OeoQ== -34.636104 -58.493931  Liniers    2.0       1.0   \n",
       "fjB/UwE4cRMvqLPrA3ECyA== -34.639400 -58.521398  Liniers    1.0       1.0   \n",
       "tVEuesjxQtUmltu9Mf4wGQ== -34.643888 -58.517249  Liniers    1.0       NaN   \n",
       "4spFzoAqpgtfnB8LtHQhsw== -34.643888 -58.517249  Liniers    2.0       1.0   \n",
       "XWgmdT/SjvL2hOvLR6ifIg== -34.643888 -58.517249  Liniers    3.0       2.0   \n",
       "...                             ...        ...      ...    ...       ...   \n",
       "g3iQ3F0zG8ohNLcAgCN2ZQ== -34.640201 -58.520914  Liniers    3.0       2.0   \n",
       "iVN3nPBfg4R80cVKs4i3tA== -34.640201 -58.520914  Liniers    3.0       2.0   \n",
       "ylboR18W2ipyHndBo3JTVA== -34.640201 -58.520914  Liniers    3.0       2.0   \n",
       "lHpK9vI53VpS+yS4k3KHxQ== -34.640201 -58.520914  Liniers    3.0       2.0   \n",
       "oTJ4/7knI6k9Dp1LUHTPjw== -34.608395 -58.381057  Liniers    4.0       3.0   \n",
       "\n",
       "                          bathrooms  surface_total  surface_covered     price  \\\n",
       "id                                                                              \n",
       "1ieYb5KXI+v3r8TJo3OeoQ==        1.0           50.0             42.0   95000.0   \n",
       "fjB/UwE4cRMvqLPrA3ECyA==        1.0           30.0             27.0   48000.0   \n",
       "tVEuesjxQtUmltu9Mf4wGQ==        1.0           43.0             30.0   95000.0   \n",
       "4spFzoAqpgtfnB8LtHQhsw==        1.0           58.0             55.0  128000.0   \n",
       "XWgmdT/SjvL2hOvLR6ifIg==        1.0           58.0             55.0  126000.0   \n",
       "...                             ...            ...              ...       ...   \n",
       "g3iQ3F0zG8ohNLcAgCN2ZQ==        2.0           68.0             64.0  131900.0   \n",
       "iVN3nPBfg4R80cVKs4i3tA==        2.0           68.0             64.0  131900.0   \n",
       "ylboR18W2ipyHndBo3JTVA==        2.0           68.0             64.0  131900.0   \n",
       "lHpK9vI53VpS+yS4k3KHxQ==        2.0           68.0             64.0  131900.0   \n",
       "oTJ4/7knI6k9Dp1LUHTPjw==        1.0           64.0             61.0  129000.0   \n",
       "\n",
       "                                                                      title  \\\n",
       "id                                                                            \n",
       "1ieYb5KXI+v3r8TJo3OeoQ==  Vta. Depto 2 amb. al frente c/Balcón - Velez S...   \n",
       "fjB/UwE4cRMvqLPrA3ECyA==  Depto 1 amb. c/coc. indep, al frente c/balcon ...   \n",
       "tVEuesjxQtUmltu9Mf4wGQ==  LINIERS: Excelente  1 Ambiente CON BALCON ATER...   \n",
       "4spFzoAqpgtfnB8LtHQhsw==  LINIERS: Excelente Unidad de 2 Ambientes a EST...   \n",
       "XWgmdT/SjvL2hOvLR6ifIg==        LINIERS: Excelente  3 Ambientes a ESTRENAR    \n",
       "...                                                                     ...   \n",
       "g3iQ3F0zG8ohNLcAgCN2ZQ==  PH EN DUPLEX 3 AMB. A ESTRENAR CON BALCON. LIN...   \n",
       "iVN3nPBfg4R80cVKs4i3tA==  PH EN DUPLEX 3 AMB. A ESTRENAR CON BALCON. LIN...   \n",
       "ylboR18W2ipyHndBo3JTVA==  PH EN DUPLEX 3 AMB. A ESTRENAR CON BALCON. LIN...   \n",
       "lHpK9vI53VpS+yS4k3KHxQ==  PH EN DUPLEX 3 AMB. A ESTRENAR CON BALCON. LIN...   \n",
       "oTJ4/7knI6k9Dp1LUHTPjw==                             Departamento - Liniers   \n",
       "\n",
       "                                                                description  \\\n",
       "id                                                                            \n",
       "1ieYb5KXI+v3r8TJo3OeoQ==  Venta Depto 2 ambientes  al frente con amplio ...   \n",
       "fjB/UwE4cRMvqLPrA3ECyA==  Venta Depto 1 ambiente con Balcón al Frente.. ...   \n",
       "tVEuesjxQtUmltu9Mf4wGQ==  LINIERS: Excelente Unidad de  1 Ambiente a EST...   \n",
       "4spFzoAqpgtfnB8LtHQhsw==  Excelente 2 Ambientes a ESTRENAR AL FRENTE, ed...   \n",
       "XWgmdT/SjvL2hOvLR6ifIg==  LINIERS: Excelente  3 Ambientes a ESTRENAR AL ...   \n",
       "...                                                                     ...   \n",
       "g3iQ3F0zG8ohNLcAgCN2ZQ==  Corredor Responsable: Martin Macagno - CUCICBA...   \n",
       "iVN3nPBfg4R80cVKs4i3tA==  Corredor Responsable: Martin Macagno - CUCICBA...   \n",
       "ylboR18W2ipyHndBo3JTVA==  Corredor Responsable: Martin Macagno - CUCICBA...   \n",
       "lHpK9vI53VpS+yS4k3KHxQ==  Corredor Responsable: Martin Macagno - CUCICBA...   \n",
       "oTJ4/7knI6k9Dp1LUHTPjw==  Depto. en venta 4 amb. con cochera.<br><br><br...   \n",
       "\n",
       "                         property_type           m2  \n",
       "id                                                   \n",
       "1ieYb5KXI+v3r8TJo3OeoQ==  Departamento  2261.904762  \n",
       "fjB/UwE4cRMvqLPrA3ECyA==  Departamento  1777.777778  \n",
       "tVEuesjxQtUmltu9Mf4wGQ==  Departamento  3166.666667  \n",
       "4spFzoAqpgtfnB8LtHQhsw==  Departamento  2327.272727  \n",
       "XWgmdT/SjvL2hOvLR6ifIg==  Departamento  2290.909091  \n",
       "...                                ...          ...  \n",
       "g3iQ3F0zG8ohNLcAgCN2ZQ==            PH  2060.937500  \n",
       "iVN3nPBfg4R80cVKs4i3tA==  Departamento  2060.937500  \n",
       "ylboR18W2ipyHndBo3JTVA==  Departamento  2060.937500  \n",
       "lHpK9vI53VpS+yS4k3KHxQ==  Departamento  2060.937500  \n",
       "oTJ4/7knI6k9Dp1LUHTPjw==  Departamento  2114.754098  \n",
       "\n",
       "[605 rows x 13 columns]"
      ]
     },
     "execution_count": 272,
     "metadata": {},
     "output_type": "execute_result"
    }
   ],
   "source": [
    "df_m2[df_m2.l3 == \"Liniers\"]"
   ]
  },
  {
   "cell_type": "markdown",
   "metadata": {},
   "source": [
    "## Barrios a predecir"
   ]
  },
  {
   "cell_type": "code",
   "execution_count": 66,
   "metadata": {},
   "outputs": [
    {
     "data": {
      "text/html": [
       "<div>\n",
       "<style scoped>\n",
       "    .dataframe tbody tr th:only-of-type {\n",
       "        vertical-align: middle;\n",
       "    }\n",
       "\n",
       "    .dataframe tbody tr th {\n",
       "        vertical-align: top;\n",
       "    }\n",
       "\n",
       "    .dataframe thead th {\n",
       "        text-align: right;\n",
       "    }\n",
       "</style>\n",
       "<table border=\"1\" class=\"dataframe\">\n",
       "  <thead>\n",
       "    <tr style=\"text-align: right;\">\n",
       "      <th></th>\n",
       "      <th>ad_type</th>\n",
       "      <th>start_date</th>\n",
       "      <th>end_date</th>\n",
       "      <th>created_on</th>\n",
       "      <th>lat</th>\n",
       "      <th>lon</th>\n",
       "      <th>l1</th>\n",
       "      <th>l2</th>\n",
       "      <th>l3</th>\n",
       "      <th>rooms</th>\n",
       "      <th>...</th>\n",
       "      <th>title</th>\n",
       "      <th>description</th>\n",
       "      <th>property_type</th>\n",
       "      <th>operation_type</th>\n",
       "      <th>details</th>\n",
       "      <th>additionals</th>\n",
       "      <th>services</th>\n",
       "      <th>l4</th>\n",
       "      <th>l5</th>\n",
       "      <th>l6</th>\n",
       "    </tr>\n",
       "    <tr>\n",
       "      <th>id</th>\n",
       "      <th></th>\n",
       "      <th></th>\n",
       "      <th></th>\n",
       "      <th></th>\n",
       "      <th></th>\n",
       "      <th></th>\n",
       "      <th></th>\n",
       "      <th></th>\n",
       "      <th></th>\n",
       "      <th></th>\n",
       "      <th></th>\n",
       "      <th></th>\n",
       "      <th></th>\n",
       "      <th></th>\n",
       "      <th></th>\n",
       "      <th></th>\n",
       "      <th></th>\n",
       "      <th></th>\n",
       "      <th></th>\n",
       "      <th></th>\n",
       "      <th></th>\n",
       "    </tr>\n",
       "  </thead>\n",
       "  <tbody>\n",
       "    <tr>\n",
       "      <th>35</th>\n",
       "      <td>Propiedad</td>\n",
       "      <td>2022-04-01</td>\n",
       "      <td>2022-04-01</td>\n",
       "      <td>2022-04-01</td>\n",
       "      <td>-58.363134</td>\n",
       "      <td>-34.634496</td>\n",
       "      <td>Argentina</td>\n",
       "      <td>Capital Federal</td>\n",
       "      <td>Boca</td>\n",
       "      <td>3.0</td>\n",
       "      <td>...</td>\n",
       "      <td>Hernandarias  Al 1500 - PH en Venta en Boca, C...</td>\n",
       "      <td>Se trata de un Ph de 3ambientes al frente con ...</td>\n",
       "      <td>PH</td>\n",
       "      <td>Venta</td>\n",
       "      <td>Superficie 66m2, Ambientes 3, Baños 1, Dormito...</td>\n",
       "      <td>Balcón</td>\n",
       "      <td>NaN</td>\n",
       "      <td>NaN</td>\n",
       "      <td>NaN</td>\n",
       "      <td>NaN</td>\n",
       "    </tr>\n",
       "    <tr>\n",
       "      <th>594</th>\n",
       "      <td>Propiedad</td>\n",
       "      <td>2022-04-01</td>\n",
       "      <td>2022-04-01</td>\n",
       "      <td>2022-04-01</td>\n",
       "      <td>-58.368129</td>\n",
       "      <td>-34.633506</td>\n",
       "      <td>Argentina</td>\n",
       "      <td>Capital Federal</td>\n",
       "      <td>Boca</td>\n",
       "      <td>6.0</td>\n",
       "      <td>...</td>\n",
       "      <td>Arzobispo Espinosa Al 1000 - PH en Venta en Bo...</td>\n",
       "      <td>PH 6 Ambientes en La Boca.&lt;br&gt;Living comedor.&lt;...</td>\n",
       "      <td>PH</td>\n",
       "      <td>Venta</td>\n",
       "      <td>Superficie 140m2, Ambientes 6, Baños 2, Dormit...</td>\n",
       "      <td>Patio, Terraza</td>\n",
       "      <td>Gas, Luz</td>\n",
       "      <td>NaN</td>\n",
       "      <td>NaN</td>\n",
       "      <td>NaN</td>\n",
       "    </tr>\n",
       "    <tr>\n",
       "      <th>715</th>\n",
       "      <td>Propiedad</td>\n",
       "      <td>2022-04-01</td>\n",
       "      <td>2022-04-01</td>\n",
       "      <td>2022-04-01</td>\n",
       "      <td>-58.364215</td>\n",
       "      <td>-34.637453</td>\n",
       "      <td>Argentina</td>\n",
       "      <td>Capital Federal</td>\n",
       "      <td>Boca</td>\n",
       "      <td>4.0</td>\n",
       "      <td>...</td>\n",
       "      <td>Filiberto  Al 1000 - PH en Venta en Boca, CABA...</td>\n",
       "      <td>Se trata de un hermoso PH de estilo, de 4 ambi...</td>\n",
       "      <td>PH</td>\n",
       "      <td>Venta</td>\n",
       "      <td>Superficie 83m2, Ambientes 4, Baños 1, Dormito...</td>\n",
       "      <td>NaN</td>\n",
       "      <td>Luz</td>\n",
       "      <td>NaN</td>\n",
       "      <td>NaN</td>\n",
       "      <td>NaN</td>\n",
       "    </tr>\n",
       "    <tr>\n",
       "      <th>772</th>\n",
       "      <td>Propiedad</td>\n",
       "      <td>2022-04-01</td>\n",
       "      <td>2022-04-01</td>\n",
       "      <td>2022-04-01</td>\n",
       "      <td>-58.364459</td>\n",
       "      <td>-34.637280</td>\n",
       "      <td>Argentina</td>\n",
       "      <td>Capital Federal</td>\n",
       "      <td>Boca</td>\n",
       "      <td>3.0</td>\n",
       "      <td>...</td>\n",
       "      <td>Juan De Dios Filiberto Al 900 - PH en Venta en...</td>\n",
       "      <td>PH 3 amb impecable al frente sin expensas&lt;br&gt;&lt;...</td>\n",
       "      <td>PH</td>\n",
       "      <td>Venta</td>\n",
       "      <td>Superficie 70m2, Ambientes 3, Baños 1, Dormito...</td>\n",
       "      <td>NaN</td>\n",
       "      <td>Gas, Luz</td>\n",
       "      <td>NaN</td>\n",
       "      <td>NaN</td>\n",
       "      <td>NaN</td>\n",
       "    </tr>\n",
       "    <tr>\n",
       "      <th>968</th>\n",
       "      <td>Propiedad</td>\n",
       "      <td>2022-04-01</td>\n",
       "      <td>2022-04-01</td>\n",
       "      <td>2022-04-01</td>\n",
       "      <td>-58.363472</td>\n",
       "      <td>-34.633606</td>\n",
       "      <td>Argentina</td>\n",
       "      <td>Capital Federal</td>\n",
       "      <td>Boca</td>\n",
       "      <td>3.0</td>\n",
       "      <td>...</td>\n",
       "      <td>Palos Al 200 - PH en Venta en Boca, CABA de 82...</td>\n",
       "      <td>Se trata de un 3 ambientes con patio mas un en...</td>\n",
       "      <td>PH</td>\n",
       "      <td>Venta</td>\n",
       "      <td>Superficie 82m2, Ambientes 3, Baños 1, Dormito...</td>\n",
       "      <td>Aire Acondicionado</td>\n",
       "      <td>Gas, Luz</td>\n",
       "      <td>NaN</td>\n",
       "      <td>NaN</td>\n",
       "      <td>NaN</td>\n",
       "    </tr>\n",
       "  </tbody>\n",
       "</table>\n",
       "<p>5 rows × 27 columns</p>\n",
       "</div>"
      ],
      "text/plain": [
       "       ad_type  start_date    end_date  created_on        lat        lon  \\\n",
       "id                                                                         \n",
       "35   Propiedad  2022-04-01  2022-04-01  2022-04-01 -58.363134 -34.634496   \n",
       "594  Propiedad  2022-04-01  2022-04-01  2022-04-01 -58.368129 -34.633506   \n",
       "715  Propiedad  2022-04-01  2022-04-01  2022-04-01 -58.364215 -34.637453   \n",
       "772  Propiedad  2022-04-01  2022-04-01  2022-04-01 -58.364459 -34.637280   \n",
       "968  Propiedad  2022-04-01  2022-04-01  2022-04-01 -58.363472 -34.633606   \n",
       "\n",
       "            l1               l2    l3  rooms  ...  \\\n",
       "id                                            ...   \n",
       "35   Argentina  Capital Federal  Boca    3.0  ...   \n",
       "594  Argentina  Capital Federal  Boca    6.0  ...   \n",
       "715  Argentina  Capital Federal  Boca    4.0  ...   \n",
       "772  Argentina  Capital Federal  Boca    3.0  ...   \n",
       "968  Argentina  Capital Federal  Boca    3.0  ...   \n",
       "\n",
       "                                                 title  \\\n",
       "id                                                       \n",
       "35   Hernandarias  Al 1500 - PH en Venta en Boca, C...   \n",
       "594  Arzobispo Espinosa Al 1000 - PH en Venta en Bo...   \n",
       "715  Filiberto  Al 1000 - PH en Venta en Boca, CABA...   \n",
       "772  Juan De Dios Filiberto Al 900 - PH en Venta en...   \n",
       "968  Palos Al 200 - PH en Venta en Boca, CABA de 82...   \n",
       "\n",
       "                                           description  property_type  \\\n",
       "id                                                                      \n",
       "35   Se trata de un Ph de 3ambientes al frente con ...             PH   \n",
       "594  PH 6 Ambientes en La Boca.<br>Living comedor.<...             PH   \n",
       "715  Se trata de un hermoso PH de estilo, de 4 ambi...             PH   \n",
       "772  PH 3 amb impecable al frente sin expensas<br><...             PH   \n",
       "968  Se trata de un 3 ambientes con patio mas un en...             PH   \n",
       "\n",
       "     operation_type                                            details  \\\n",
       "id                                                                       \n",
       "35            Venta  Superficie 66m2, Ambientes 3, Baños 1, Dormito...   \n",
       "594           Venta  Superficie 140m2, Ambientes 6, Baños 2, Dormit...   \n",
       "715           Venta  Superficie 83m2, Ambientes 4, Baños 1, Dormito...   \n",
       "772           Venta  Superficie 70m2, Ambientes 3, Baños 1, Dormito...   \n",
       "968           Venta  Superficie 82m2, Ambientes 3, Baños 1, Dormito...   \n",
       "\n",
       "            additionals  services  l4  l5  l6  \n",
       "id                                             \n",
       "35               Balcón       NaN NaN NaN NaN  \n",
       "594      Patio, Terraza  Gas, Luz NaN NaN NaN  \n",
       "715                 NaN       Luz NaN NaN NaN  \n",
       "772                 NaN  Gas, Luz NaN NaN NaN  \n",
       "968  Aire Acondicionado  Gas, Luz NaN NaN NaN  \n",
       "\n",
       "[5 rows x 27 columns]"
      ]
     },
     "execution_count": 66,
     "metadata": {},
     "output_type": "execute_result"
    }
   ],
   "source": [
    "df_pred[df_pred.l3 == \"Boca\"]"
   ]
  },
  {
   "cell_type": "code",
   "execution_count": 77,
   "metadata": {},
   "outputs": [
    {
     "data": {
      "text/plain": [
       "(1087, 27)"
      ]
     },
     "execution_count": 77,
     "metadata": {},
     "output_type": "execute_result"
    }
   ],
   "source": [
    "df_pred.shape"
   ]
  },
  {
   "cell_type": "code",
   "execution_count": 84,
   "metadata": {},
   "outputs": [
    {
     "data": {
      "text/html": [
       "<div>\n",
       "<style scoped>\n",
       "    .dataframe tbody tr th:only-of-type {\n",
       "        vertical-align: middle;\n",
       "    }\n",
       "\n",
       "    .dataframe tbody tr th {\n",
       "        vertical-align: top;\n",
       "    }\n",
       "\n",
       "    .dataframe thead th {\n",
       "        text-align: right;\n",
       "    }\n",
       "</style>\n",
       "<table border=\"1\" class=\"dataframe\">\n",
       "  <thead>\n",
       "    <tr style=\"text-align: right;\">\n",
       "      <th></th>\n",
       "      <th>property_type</th>\n",
       "    </tr>\n",
       "    <tr>\n",
       "      <th>l3</th>\n",
       "      <th></th>\n",
       "    </tr>\n",
       "  </thead>\n",
       "  <tbody>\n",
       "    <tr>\n",
       "      <th>Palermo</th>\n",
       "      <td>205</td>\n",
       "    </tr>\n",
       "    <tr>\n",
       "      <th>Belgrano</th>\n",
       "      <td>110</td>\n",
       "    </tr>\n",
       "    <tr>\n",
       "      <th>Recoleta</th>\n",
       "      <td>97</td>\n",
       "    </tr>\n",
       "    <tr>\n",
       "      <th>Caballito</th>\n",
       "      <td>74</td>\n",
       "    </tr>\n",
       "    <tr>\n",
       "      <th>Villa Crespo</th>\n",
       "      <td>58</td>\n",
       "    </tr>\n",
       "    <tr>\n",
       "      <th>Almagro</th>\n",
       "      <td>57</td>\n",
       "    </tr>\n",
       "    <tr>\n",
       "      <th>Barracas</th>\n",
       "      <td>39</td>\n",
       "    </tr>\n",
       "    <tr>\n",
       "      <th>Flores</th>\n",
       "      <td>36</td>\n",
       "    </tr>\n",
       "    <tr>\n",
       "      <th>Nuñez</th>\n",
       "      <td>36</td>\n",
       "    </tr>\n",
       "    <tr>\n",
       "      <th>Villa Urquiza</th>\n",
       "      <td>34</td>\n",
       "    </tr>\n",
       "    <tr>\n",
       "      <th>Balvanera</th>\n",
       "      <td>34</td>\n",
       "    </tr>\n",
       "    <tr>\n",
       "      <th>Colegiales</th>\n",
       "      <td>27</td>\n",
       "    </tr>\n",
       "    <tr>\n",
       "      <th>San Telmo</th>\n",
       "      <td>24</td>\n",
       "    </tr>\n",
       "    <tr>\n",
       "      <th>Saavedra</th>\n",
       "      <td>22</td>\n",
       "    </tr>\n",
       "    <tr>\n",
       "      <th>Boedo</th>\n",
       "      <td>20</td>\n",
       "    </tr>\n",
       "    <tr>\n",
       "      <th>Villa Devoto</th>\n",
       "      <td>17</td>\n",
       "    </tr>\n",
       "    <tr>\n",
       "      <th>Monserrat</th>\n",
       "      <td>17</td>\n",
       "    </tr>\n",
       "    <tr>\n",
       "      <th>San Nicolás</th>\n",
       "      <td>16</td>\n",
       "    </tr>\n",
       "    <tr>\n",
       "      <th>Puerto Madero</th>\n",
       "      <td>15</td>\n",
       "    </tr>\n",
       "    <tr>\n",
       "      <th>Floresta</th>\n",
       "      <td>14</td>\n",
       "    </tr>\n",
       "    <tr>\n",
       "      <th>Villa del Parque</th>\n",
       "      <td>12</td>\n",
       "    </tr>\n",
       "    <tr>\n",
       "      <th>Paternal</th>\n",
       "      <td>10</td>\n",
       "    </tr>\n",
       "    <tr>\n",
       "      <th>San Cristobal</th>\n",
       "      <td>10</td>\n",
       "    </tr>\n",
       "  </tbody>\n",
       "</table>\n",
       "</div>"
      ],
      "text/plain": [
       "                  property_type\n",
       "l3                             \n",
       "Palermo                     205\n",
       "Belgrano                    110\n",
       "Recoleta                     97\n",
       "Caballito                    74\n",
       "Villa Crespo                 58\n",
       "Almagro                      57\n",
       "Barracas                     39\n",
       "Flores                       36\n",
       "Nuñez                        36\n",
       "Villa Urquiza                34\n",
       "Balvanera                    34\n",
       "Colegiales                   27\n",
       "San Telmo                    24\n",
       "Saavedra                     22\n",
       "Boedo                        20\n",
       "Villa Devoto                 17\n",
       "Monserrat                    17\n",
       "San Nicolás                  16\n",
       "Puerto Madero                15\n",
       "Floresta                     14\n",
       "Villa del Parque             12\n",
       "Paternal                     10\n",
       "San Cristobal                10"
      ]
     },
     "execution_count": 84,
     "metadata": {},
     "output_type": "execute_result"
    }
   ],
   "source": [
    "df_pred[[\"l3\",\"property_type\"]].groupby(['l3']).count().sort_values(by='property_type', ascending=False).nlargest(23,\"property_type\")"
   ]
  },
  {
   "cell_type": "code",
   "execution_count": 69,
   "metadata": {
    "collapsed": true,
    "jupyter": {
     "outputs_hidden": true
    },
    "tags": []
   },
   "outputs": [
    {
     "data": {
      "text/html": [
       "<div>\n",
       "<style scoped>\n",
       "    .dataframe tbody tr th:only-of-type {\n",
       "        vertical-align: middle;\n",
       "    }\n",
       "\n",
       "    .dataframe tbody tr th {\n",
       "        vertical-align: top;\n",
       "    }\n",
       "\n",
       "    .dataframe thead th {\n",
       "        text-align: right;\n",
       "    }\n",
       "</style>\n",
       "<table border=\"1\" class=\"dataframe\">\n",
       "  <thead>\n",
       "    <tr style=\"text-align: right;\">\n",
       "      <th></th>\n",
       "      <th></th>\n",
       "      <th>l2</th>\n",
       "    </tr>\n",
       "    <tr>\n",
       "      <th>l3</th>\n",
       "      <th>property_type</th>\n",
       "      <th></th>\n",
       "    </tr>\n",
       "  </thead>\n",
       "  <tbody>\n",
       "    <tr>\n",
       "      <th rowspan=\"9\" valign=\"top\">Boca</th>\n",
       "      <th>Departamento</th>\n",
       "      <td>656</td>\n",
       "    </tr>\n",
       "    <tr>\n",
       "      <th>PH</th>\n",
       "      <td>92</td>\n",
       "    </tr>\n",
       "    <tr>\n",
       "      <th>Local comercial</th>\n",
       "      <td>84</td>\n",
       "    </tr>\n",
       "    <tr>\n",
       "      <th>Casa</th>\n",
       "      <td>69</td>\n",
       "    </tr>\n",
       "    <tr>\n",
       "      <th>Depósito</th>\n",
       "      <td>62</td>\n",
       "    </tr>\n",
       "    <tr>\n",
       "      <th>Otro</th>\n",
       "      <td>58</td>\n",
       "    </tr>\n",
       "    <tr>\n",
       "      <th>Lote</th>\n",
       "      <td>47</td>\n",
       "    </tr>\n",
       "    <tr>\n",
       "      <th>Oficina</th>\n",
       "      <td>17</td>\n",
       "    </tr>\n",
       "    <tr>\n",
       "      <th>Cochera</th>\n",
       "      <td>5</td>\n",
       "    </tr>\n",
       "  </tbody>\n",
       "</table>\n",
       "</div>"
      ],
      "text/plain": [
       "                       l2\n",
       "l3   property_type       \n",
       "Boca Departamento     656\n",
       "     PH                92\n",
       "     Local comercial   84\n",
       "     Casa              69\n",
       "     Depósito          62\n",
       "     Otro              58\n",
       "     Lote              47\n",
       "     Oficina           17\n",
       "     Cochera            5"
      ]
     },
     "execution_count": 69,
     "metadata": {},
     "output_type": "execute_result"
    }
   ],
   "source": [
    "#analizamos los valores de las distintas variables\n",
    "df.loc[df.l3 == \"Boca\",[\"l3\",\"property_type\",\"l2\"]].groupby(['l3','property_type']).count().sort_values(by='l2', ascending=False)"
   ]
  },
  {
   "cell_type": "code",
   "execution_count": 427,
   "metadata": {
    "tags": []
   },
   "outputs": [
    {
     "data": {
      "text/plain": [
       "34.819"
      ]
     },
     "execution_count": 427,
     "metadata": {},
     "output_type": "execute_result"
    }
   ],
   "source": [
    "df_pred.l4.max()"
   ]
  },
  {
   "cell_type": "code",
   "execution_count": 428,
   "metadata": {
    "colab": {
     "base_uri": "https://localhost:8080/"
    },
    "id": "ckXCv9f-uia0",
    "outputId": "53090f8c-214a-4036-a498-96bfeb30020c"
   },
   "outputs": [
    {
     "data": {
      "text/plain": [
       "-38.0152022"
      ]
     },
     "execution_count": 428,
     "metadata": {},
     "output_type": "execute_result"
    }
   ],
   "source": [
    "df_pred.l4.min()"
   ]
  },
  {
   "cell_type": "markdown",
   "metadata": {},
   "source": [
    "## lon lat df_pred"
   ]
  },
  {
   "cell_type": "code",
   "execution_count": 19,
   "metadata": {},
   "outputs": [
    {
     "name": "stdout",
     "output_type": "stream",
     "text": [
      "lon max 38.0152022\n",
      "lon min 26.8082848\n",
      "lat max 65.2175903\n",
      "lat min 57.5684538\n"
     ]
    }
   ],
   "source": [
    "print(f\"lon max {abs(df_pred.lon).max()}\")\n",
    "print(f\"lon min {abs(df_pred.lon).min()}\")\n",
    "print(f\"lat max {abs(df_pred.lat).max()}\")\n",
    "print(f\"lat min {abs(df_pred.lat).min()}\")"
   ]
  },
  {
   "cell_type": "markdown",
   "metadata": {},
   "source": [
    "## Outliers"
   ]
  },
  {
   "cell_type": "code",
   "execution_count": null,
   "metadata": {},
   "outputs": [],
   "source": [
    "df_2 = df.copy()\n",
    "\n",
    "df_2.dropna(subset=\"rooms\", inplace=True)\n",
    "df_2.dropna(subset=\"surface_total\", inplace=True)\n",
    "\n",
    "df_2 = df_2.loc[(df_2.rooms > 0) & (df_2.surface_total > 0)]\n",
    "\n",
    "df_2[\"m2\"] = df_2.surface_total/df_2.rooms\n",
    "\n",
    "df_2.m2.max()\n",
    "df_2.m2.min()\n",
    "\n",
    "\n",
    "df_2[[\"m2\", \"l3\"]].groupby([\"l3\"])\n",
    "\n"
   ]
  },
  {
   "cell_type": "markdown",
   "metadata": {
    "tags": []
   },
   "source": [
    "# **Tratamiento de nulls y outliers**"
   ]
  },
  {
   "cell_type": "markdown",
   "metadata": {
    "jp-MarkdownHeadingCollapsed": true,
    "tags": []
   },
   "source": [
    "## *Longitud y Latitud*"
   ]
  },
  {
   "cell_type": "code",
   "execution_count": 109,
   "metadata": {},
   "outputs": [],
   "source": [
    "df = df.loc[df[\"l1\"] == \"Argentina\"]"
   ]
  },
  {
   "cell_type": "code",
   "execution_count": 110,
   "metadata": {},
   "outputs": [],
   "source": [
    "df = df.loc[df[\"l2\"] == \"Capital Federal\"]"
   ]
  },
  {
   "cell_type": "markdown",
   "metadata": {
    "tags": []
   },
   "source": [
    "Coordenadas maximas CABA: \\\n",
    "Norte - (-34.531639, -58.464800)\\\n",
    "Este - (-34.62073349940953, -58.338011418419356)\\\n",
    "Oeste - (-34.61568853226109, -58.532674897063565)\\\n",
    "Sur - (-34.7058110012102, -58.4602477739537)\\\n",
    "\\\n",
    "Limites:\\\n",
    "Longitud - (-58.532674897063565, -58.338011418419356 )\\\n",
    "Latitud - (-34.7058110012102, -34.531639)"
   ]
  },
  {
   "cell_type": "code",
   "execution_count": 387,
   "metadata": {},
   "outputs": [],
   "source": [
    "lon_min_max = (-58.532674897063565, -58.338011418419356 )\n",
    "lat_min_max = (-34.7058110012102, -34.531639)"
   ]
  },
  {
   "cell_type": "code",
   "execution_count": 388,
   "metadata": {},
   "outputs": [],
   "source": [
    "df_lon_lat = df.loc[df[\"l2\"] == \"Capital Federal\"]"
   ]
  },
  {
   "cell_type": "code",
   "execution_count": 389,
   "metadata": {},
   "outputs": [],
   "source": [
    "df_lon_lat.drop(df_lon_lat.loc[df_lon_lat[\"lat\"].isnull() & df_lon_lat[\"lon\"].isnull() & df_lon_lat[\"l3\"].isnull()].index, inplace = True)\n",
    "df_lon_lat = df_lon_lat[[\"lat\", \"lon\", \"l3\"]]\n",
    "df_lon_lat[\"lat_outlier\"] = df_lon_lat.lat.apply(lambda x: 0 if (x > lat_min_max[0]) & (x < lat_min_max[1]) else 1  )\n",
    "df_lon_lat[\"lon_outlier\"] = df_lon_lat.lon.apply(lambda x: 0 if (x > lon_min_max[0]) & (x < lon_min_max[1]) else 1 )"
   ]
  },
  {
   "cell_type": "code",
   "execution_count": 390,
   "metadata": {},
   "outputs": [],
   "source": [
    "df_lon_lat.drop(df_lon_lat.loc[(df_lon_lat.lat_outlier == 1) & (df_lon_lat.l3.isnull())].index, inplace = True)\n",
    "out_lon_lat_ind = df_lon_lat.loc[(df_lon_lat.lat_outlier == 1) | (df_lon_lat.lon_outlier == 1)].index\n",
    "df_lon_lat_out = df_lon_lat.loc[(df_lon_lat.lat_outlier == 1) | (df_lon_lat.lon_outlier == 1)]\n",
    "df_lon_lat = df_lon_lat.loc[(df_lon_lat.lat_outlier == 0) & (df_lon_lat.lon_outlier == 0)]"
   ]
  },
  {
   "cell_type": "code",
   "execution_count": 391,
   "metadata": {},
   "outputs": [],
   "source": [
    "l3_list = list(df_lon_lat.l3.unique())\n",
    "l3_dict_lat = {}\n",
    "l3_dict_lon = {}\n",
    "for i in l3_list:\n",
    "    l3_dict_lon[i] = df_lon_lat.loc[df_lon_lat.l3 == i, \"lon\"].mean()\n",
    "    l3_dict_lat[i] = df_lon_lat.loc[df_lon_lat.l3 == i, \"lat\"].mean()\n",
    "\n",
    "df_lon_lat_out[\"lon\"] = df_lon_lat_out.l3.apply(lambda x:l3_dict_lon[x])\n",
    "df_lon_lat_out[\"lat\"] = df_lon_lat_out.l3.apply(lambda x:l3_dict_lat[x])"
   ]
  },
  {
   "cell_type": "code",
   "execution_count": 392,
   "metadata": {
    "collapsed": true,
    "jupyter": {
     "outputs_hidden": true
    },
    "tags": []
   },
   "outputs": [],
   "source": [
    "for ind in out_lon_lat_ind:\n",
    "    df[\"lon\"].loc[ind] = df_lon_lat_out[\"lon\"].loc[ind]\n",
    "    df[\"lat\"].loc[ind] = df_lon_lat_out[\"lat\"].loc[ind]   "
   ]
  },
  {
   "cell_type": "markdown",
   "metadata": {
    "jp-MarkdownHeadingCollapsed": true,
    "tags": []
   },
   "source": [
    "## *l3 - Barrio*"
   ]
  },
  {
   "cell_type": "markdown",
   "metadata": {},
   "source": [
    "Corregidas las longitudes y latitudes generamos un knn para predecir los barrios y completar l3"
   ]
  },
  {
   "cell_type": "code",
   "execution_count": 393,
   "metadata": {
    "collapsed": true,
    "jupyter": {
     "outputs_hidden": true
    },
    "tags": []
   },
   "outputs": [],
   "source": [
    "df_l3 = df[[\"lon\",\"lat\",\"l3\"]]\n",
    "\n",
    "df_l3.drop(df_l3.loc[df_l3[\"lon\"].isnull()].index,inplace = True)\n",
    "df_l3.drop(df_l3.loc[df_l3[\"lat\"].isnull()].index,inplace = True)\n",
    "\n",
    "df_test_l3 = df_l3.loc[df_l3[\"l3\"].isnull()]\n",
    "\n",
    "df_train_l3 = df_l3.loc[df_l3[\"l3\"].notnull()]"
   ]
  },
  {
   "cell_type": "code",
   "execution_count": 394,
   "metadata": {},
   "outputs": [
    {
     "name": "stdout",
     "output_type": "stream",
     "text": [
      "n_1 0.8380804193175351\n"
     ]
    }
   ],
   "source": [
    "X_l3 = df_train_l3[df_train_l3.columns.drop('l3')]\n",
    "y_l3 = df_train_l3['l3']\n",
    "\n",
    "#Partimos en entrenamiento y prueba \n",
    "\n",
    "for i in [1]:\n",
    "    # Creamos el objeto del modelo\n",
    "    neigh = sk.neighbors.KNeighborsClassifier(n_neighbors=i, n_jobs = -1)\n",
    "    \n",
    "    kf = sk.model_selection.KFold(n_splits=10, shuffle=True, random_state=42)\n",
    "    \n",
    "    scores = []\n",
    "    \n",
    "    for train, test in kf.split(X_l3):\n",
    "        \n",
    "        X_train, X_test, y_train, y_test = X_l3.iloc[train], X_l3.iloc[test], y_l3[train], y_l3[test]\n",
    "    \n",
    "        # Entrenamos el modelo\n",
    "        neigh.fit(X_train, y_train)\n",
    "    \n",
    "        # Predecimos\n",
    "        y_pred_l3 = neigh.predict(X_test)\n",
    "    \n",
    "        # Medimos la performance de la predicción\n",
    "        score = sk.metrics.accuracy_score(y_test, y_pred_l3)\n",
    "        scores.append(score)\n",
    "        #print(score)\n",
    "    print(f\"n_{i} {np.mean(scores)}\")\n"
   ]
  },
  {
   "cell_type": "code",
   "execution_count": 395,
   "metadata": {
    "collapsed": true,
    "jupyter": {
     "outputs_hidden": true
    },
    "tags": []
   },
   "outputs": [],
   "source": [
    "X_pred_l3 = df_test_l3[df_test_l3.columns.drop('l3')]\n",
    "\n",
    "# Entrenamiento\n",
    "neigh = sk.neighbors.KNeighborsClassifier(n_neighbors = 5, n_jobs = -1)\n",
    "\n",
    "# Entrenamos el modelo\n",
    "neigh.fit(X_train, y_train)\n",
    "\n",
    "# predicción\n",
    "df_test_l3[\"l3\"] = neigh.predict(X_pred_l3)"
   ]
  },
  {
   "cell_type": "code",
   "execution_count": 396,
   "metadata": {
    "scrolled": true
   },
   "outputs": [],
   "source": [
    "df[\"l3\"].loc[df[\"l3\"].isnull()] = df_test_l3[\"l3\"]"
   ]
  },
  {
   "cell_type": "markdown",
   "metadata": {
    "jp-MarkdownHeadingCollapsed": true,
    "tags": []
   },
   "source": [
    "## *Elimino columnas columnas varias*"
   ]
  },
  {
   "cell_type": "code",
   "execution_count": 397,
   "metadata": {},
   "outputs": [],
   "source": [
    "df.drop(columns = [\"ad_type\",\"l4\",\"l5\", \"l6\", \"created_on\",\"start_date\", \"end_date\",\"l1\",\"l2\",\"price_period\",\"operation_type\"], inplace = True )"
   ]
  },
  {
   "cell_type": "markdown",
   "metadata": {},
   "source": [
    "## *Precio y Moneda*"
   ]
  },
  {
   "cell_type": "code",
   "execution_count": 111,
   "metadata": {
    "id": "yg8qNxuNrzQp"
   },
   "outputs": [],
   "source": [
    "df.dropna(subset=[\"price\"], inplace = True)\n",
    "df.dropna(subset=[\"currency\"], inplace = True)"
   ]
  },
  {
   "cell_type": "code",
   "execution_count": 11,
   "metadata": {},
   "outputs": [],
   "source": [
    "#df.drop(df.loc[df[\"price\"]> 6000000].index, inplace=True)"
   ]
  },
  {
   "cell_type": "code",
   "execution_count": 12,
   "metadata": {},
   "outputs": [],
   "source": [
    "#df.drop(df[df.price < 15000.0].index,inplace = True)"
   ]
  },
  {
   "cell_type": "code",
   "execution_count": 112,
   "metadata": {},
   "outputs": [],
   "source": [
    "df = df.loc[df[\"currency\"] == \"USD\"]\n",
    "\n",
    "df.drop(columns = [\"currency\"], inplace = True )"
   ]
  },
  {
   "cell_type": "markdown",
   "metadata": {},
   "source": [
    "## *Limpieza Barrios*"
   ]
  },
  {
   "cell_type": "code",
   "execution_count": 20,
   "metadata": {},
   "outputs": [],
   "source": [
    "barrios_list = list(df_pred.l3.unique())\n",
    "\n",
    "df[\"barrios\"] = df.l3.apply(lambda x: 1 if x in barrios_list else 0)\n",
    "\n",
    "df = df.loc[df[\"barrios\"] == 1]\n",
    "\n",
    "df.drop(columns = \"barrios\", inplace = True)"
   ]
  },
  {
   "cell_type": "code",
   "execution_count": 19,
   "metadata": {},
   "outputs": [],
   "source": [
    "df[\"property_type_check\"] = df.property_type.apply(lambda x: 1 if x in (\"Departamento\",\"PH\") else 0)\n",
    "\n",
    "df = df.loc[df[\"property_type_check\"] == 1]\n",
    "\n",
    "df.drop(columns = \"property_type_check\", inplace = True)"
   ]
  },
  {
   "cell_type": "markdown",
   "metadata": {},
   "source": [
    "## *Cuartos y baños*"
   ]
  },
  {
   "cell_type": "code",
   "execution_count": 403,
   "metadata": {},
   "outputs": [],
   "source": [
    "df.drop(df.loc[df[\"rooms\"].isnull() & df[\"bedrooms\"].isnull() & df[\"bathrooms\"].isnull() & df[\"surface_total\"].isnull() & df[\"surface_covered\"].isnull()].index, inplace = True)"
   ]
  },
  {
   "cell_type": "code",
   "execution_count": 404,
   "metadata": {},
   "outputs": [],
   "source": [
    "df_pred[\"rooms\"].fillna(0, inplace = True)\n",
    "df_pred[\"bedrooms\"].fillna(0, inplace = True)\n",
    "df_pred[\"bathrooms\"].fillna(0, inplace = True)"
   ]
  },
  {
   "cell_type": "code",
   "execution_count": 405,
   "metadata": {},
   "outputs": [],
   "source": [
    "df[\"rooms\"].fillna(0, inplace = True)\n",
    "df[\"bedrooms\"].fillna(0, inplace = True)\n",
    "df[\"bathrooms\"].fillna(0, inplace = True)"
   ]
  },
  {
   "cell_type": "code",
   "execution_count": 406,
   "metadata": {},
   "outputs": [],
   "source": [
    "df[\"surface_total\"].loc[df[\"surface_total\"].isnull() & df[\"surface_covered\"] > 0] = df[\"surface_covered\"].loc[df[\"surface_total\"].isnull() & df[\"surface_covered\"] > 0]\n",
    "\n",
    "df[\"surface_total\"].fillna(0, inplace = True)\n",
    "df[\"surface_covered\"].fillna(0, inplace = True)"
   ]
  },
  {
   "cell_type": "code",
   "execution_count": 407,
   "metadata": {
    "scrolled": true
   },
   "outputs": [],
   "source": [
    "df[\"bedrooms\"].loc[df[\"bedrooms\"] < 0 ] = abs(df[\"bedrooms\"].loc[df[\"bedrooms\"] < 0 ])"
   ]
  },
  {
   "cell_type": "markdown",
   "metadata": {},
   "source": [
    "## *Superficie*"
   ]
  },
  {
   "cell_type": "code",
   "execution_count": 408,
   "metadata": {
    "scrolled": true
   },
   "outputs": [],
   "source": [
    "df[\"surface_total\"].loc[df[\"surface_total\"] < 0 ] = abs(df[\"surface_total\"].loc[df[\"surface_total\"] < 0 ])"
   ]
  },
  {
   "cell_type": "code",
   "execution_count": 409,
   "metadata": {
    "scrolled": true
   },
   "outputs": [],
   "source": [
    "df[\"surface_covered\"].loc[df[\"surface_covered\"] < 0 ] = abs(df[\"surface_covered\"].loc[df[\"surface_covered\"] < 0 ])"
   ]
  },
  {
   "cell_type": "code",
   "execution_count": 410,
   "metadata": {},
   "outputs": [],
   "source": [
    "max_scovered = df_pred.surface_covered.max()\n",
    "\n",
    "df = df[df.surface_covered < max_scovered]\n"
   ]
  },
  {
   "cell_type": "markdown",
   "metadata": {},
   "source": [
    "## *Strings*"
   ]
  },
  {
   "cell_type": "code",
   "execution_count": 411,
   "metadata": {},
   "outputs": [],
   "source": [
    "df.drop(columns = [\"title\"], inplace = True)"
   ]
  },
  {
   "cell_type": "markdown",
   "metadata": {},
   "source": [
    "## *Duplicados*"
   ]
  },
  {
   "cell_type": "code",
   "execution_count": 412,
   "metadata": {},
   "outputs": [],
   "source": [
    "df.drop_duplicates(inplace = True)"
   ]
  },
  {
   "cell_type": "markdown",
   "metadata": {
    "jp-MarkdownHeadingCollapsed": true,
    "tags": []
   },
   "source": [
    "## *Modifico el df_pred*"
   ]
  },
  {
   "cell_type": "code",
   "execution_count": 413,
   "metadata": {
    "tags": []
   },
   "outputs": [],
   "source": [
    "df_pred.drop(columns = [\"ad_type\",\"l4\",\"l5\", \"l6\", \"created_on\"], inplace = True )\n",
    "df_pred.drop(columns = [\"l1\",\"l2\"], inplace = True )\n",
    "df_pred.drop(columns = [\"currency\"], inplace = True )\n",
    "df_pred.drop(columns = [\"price_period\"], inplace = True)\n",
    "df_pred.drop(columns = \"operation_type\", inplace = True)\n",
    "df_pred.drop(columns = [\"start_date\",\"end_date\",\"services\"], inplace = True)\n",
    "df_pred.drop(columns = [\"title\",\"details\"], inplace = True)"
   ]
  },
  {
   "cell_type": "code",
   "execution_count": 414,
   "metadata": {},
   "outputs": [],
   "source": [
    "df_pred.drop(columns = [\"lat\",\"lon\"], inplace = True)"
   ]
  },
  {
   "cell_type": "markdown",
   "metadata": {
    "id": "i2jRJmQ-tD4Z",
    "tags": []
   },
   "source": [
    "# **Feature Engineering**"
   ]
  },
  {
   "cell_type": "markdown",
   "metadata": {},
   "source": [
    "Concateno los dataframes para que tengan las mismas columnas y las variables categoricas esten alineadas"
   ]
  },
  {
   "cell_type": "code",
   "execution_count": 415,
   "metadata": {},
   "outputs": [],
   "source": [
    "df_total = pd.concat([df,df_pred], axis=0)"
   ]
  },
  {
   "cell_type": "markdown",
   "metadata": {
    "tags": []
   },
   "source": [
    "## Additionals"
   ]
  },
  {
   "cell_type": "markdown",
   "metadata": {},
   "source": [
    "Genero dummies con los additionals y lo agrego en el df"
   ]
  },
  {
   "cell_type": "code",
   "execution_count": 416,
   "metadata": {
    "collapsed": true,
    "jupyter": {
     "outputs_hidden": true
    },
    "tags": []
   },
   "outputs": [],
   "source": [
    "df_pred.additionals.fillna(\"zxzyzjz\", inplace = True)\n",
    "df_pred.additionals_split = df_pred.additionals.apply(lambda x: x.split(\",\"))"
   ]
  },
  {
   "cell_type": "code",
   "execution_count": 417,
   "metadata": {},
   "outputs": [],
   "source": [
    "additionals_list = df_pred.additionals_split.explode().unique()\n",
    "additionals_list = [x.strip() for x in additionals_list]\n",
    "additionals_list = list(dict.fromkeys(additionals_list))\n",
    "additionals_list.append(\"Subte\")\n",
    "additionals_list.append(\"Parrilla\")"
   ]
  },
  {
   "cell_type": "code",
   "execution_count": 418,
   "metadata": {},
   "outputs": [],
   "source": [
    "df_total.description.fillna(\"sin_descripcion\", inplace = True)"
   ]
  },
  {
   "cell_type": "code",
   "execution_count": 419,
   "metadata": {},
   "outputs": [],
   "source": [
    "for additional in additionals_list:\n",
    "    df_total[additional] = df_total.description.apply(lambda x: 1 if additional.lower() in x.lower() else 0)"
   ]
  },
  {
   "cell_type": "code",
   "execution_count": 420,
   "metadata": {},
   "outputs": [],
   "source": [
    "df_total.drop(columns = \"zxzyzjz\", inplace = True)\n",
    "df_total.drop(columns = \"additionals\", inplace = True)\n",
    "df_total.drop(columns = \"description\", inplace = True)"
   ]
  },
  {
   "cell_type": "markdown",
   "metadata": {},
   "source": [
    "## cantidad ambientes"
   ]
  },
  {
   "cell_type": "code",
   "execution_count": null,
   "metadata": {},
   "outputs": [],
   "source": [
    "df[\"monoambiente\"] = df.description.apply(lambda x: 1 if \"monoambiente\" in x else 0)"
   ]
  },
  {
   "cell_type": "code",
   "execution_count": null,
   "metadata": {},
   "outputs": [],
   "source": [
    "patron = \"(\\d|un|una|dos|tres|cuatro|cinco) ambient[e|es]\"\n",
    "df[\"cantidad_ambientes\"] = df.description.apply(lambda x:re.findall(patron, x.lower()))"
   ]
  },
  {
   "cell_type": "code",
   "execution_count": null,
   "metadata": {},
   "outputs": [],
   "source": [
    "df[\"cantidad_ambientes\"] = df[\"cantidad_ambientes\"].str.join(\" \")"
   ]
  },
  {
   "cell_type": "code",
   "execution_count": null,
   "metadata": {},
   "outputs": [],
   "source": [
    "df[\"cantidad_ambientes\"] = df[\"cantidad_ambientes\"].str.replace(\"1\", \"uno\")\n",
    "df[\"cantidad_ambientes\"] = df[\"cantidad_ambientes\"].str.replace(\"2\", \"dos\")\n",
    "df[\"cantidad_ambientes\"] = df[\"cantidad_ambientes\"].str.replace(\"3\", \"tres\")\n",
    "df[\"cantidad_ambientes\"] = df[\"cantidad_ambientes\"].str.replace(\"4\", \"cuatro\")\n",
    "df[\"cantidad_ambientes\"] = df[\"cantidad_ambientes\"].str.replace(\"5\", \"cinco\")\n",
    "df[\"cantidad_ambientes\"] = df[\"cantidad_ambientes\"].str.replace(\"6\", \"seis\")\n",
    "df[\"cantidad_ambientes\"] = df[\"cantidad_ambientes\"].str.replace(\"7\", \"siete\")\n",
    "df[\"cantidad_ambientes\"] = df[\"cantidad_ambientes\"].str.replace(\"8\", \"ocho\")\n",
    "df[\"cantidad_ambientes\"] = df[\"cantidad_ambientes\"].str.replace(\"9\", \"nueve\")\n",
    "df[\"cantidad_ambientes\"] = df[\"cantidad_ambientes\"].str.replace(\"0\", \"cero\")"
   ]
  },
  {
   "cell_type": "code",
   "execution_count": null,
   "metadata": {},
   "outputs": [
    {
     "data": {
      "text/plain": [
       "array([[0, 0, 0, ..., 0, 0, 0],\n",
       "       [0, 0, 0, ..., 0, 0, 0],\n",
       "       [0, 0, 0, ..., 0, 0, 0],\n",
       "       ...,\n",
       "       [0, 0, 0, ..., 0, 0, 0],\n",
       "       [0, 0, 0, ..., 0, 0, 0],\n",
       "       [0, 0, 0, ..., 0, 0, 0]])"
      ]
     },
     "metadata": {},
     "output_type": "display_data"
    }
   ],
   "source": [
    "\n",
    "\n",
    "vectorizer = CountVectorizer(analyzer='word')\n",
    "vectorized_data = vectorizer.fit_transform(df['cantidad_ambientes'])\n",
    "vectorized_data.toarray()"
   ]
  },
  {
   "cell_type": "code",
   "execution_count": null,
   "metadata": {},
   "outputs": [],
   "source": [
    "ambientes_df = pd.DataFrame(vectorized_data.toarray(), columns=vectorizer.get_feature_names_out())"
   ]
  },
  {
   "cell_type": "code",
   "execution_count": null,
   "metadata": {},
   "outputs": [],
   "source": [
    "ambientes_df.set_index(df.index, inplace = True)"
   ]
  },
  {
   "cell_type": "code",
   "execution_count": null,
   "metadata": {},
   "outputs": [],
   "source": [
    "df = pd.concat([df,ambientes_df], axis = 1)"
   ]
  },
  {
   "cell_type": "markdown",
   "metadata": {
    "jp-MarkdownHeadingCollapsed": true,
    "tags": []
   },
   "source": [
    "## logaritmicas"
   ]
  },
  {
   "cell_type": "markdown",
   "metadata": {},
   "source": [
    "Esta sección por el momento está descartada"
   ]
  },
  {
   "cell_type": "code",
   "execution_count": 44,
   "metadata": {},
   "outputs": [],
   "source": [
    "#df_total[\"lnrooms\"] = df_total.rooms.apply(lambda x: x if x == 0 else np.log(x))"
   ]
  },
  {
   "cell_type": "code",
   "execution_count": 45,
   "metadata": {},
   "outputs": [],
   "source": [
    "#df_total[\"lnbedrooms\"] = df_total.bedrooms.apply(lambda x: x if x == 0 else np.log(x))"
   ]
  },
  {
   "cell_type": "code",
   "execution_count": 46,
   "metadata": {},
   "outputs": [],
   "source": [
    "#df_total[\"lnsurface_covered\"] = df_total.surface_covered.apply(lambda x: x if x == 0 else np.log(x))"
   ]
  },
  {
   "cell_type": "code",
   "execution_count": 47,
   "metadata": {},
   "outputs": [],
   "source": [
    "#df_total[\"lnsurface_total\"] = df_total.surface_total.apply(lambda x: x if x == 0 else np.log(x))"
   ]
  },
  {
   "cell_type": "markdown",
   "metadata": {
    "jp-MarkdownHeadingCollapsed": true,
    "tags": []
   },
   "source": [
    "## Dummies"
   ]
  },
  {
   "cell_type": "code",
   "execution_count": 421,
   "metadata": {},
   "outputs": [],
   "source": [
    "df_total = pd.get_dummies(df_total, columns = [\"property_type\"])"
   ]
  },
  {
   "cell_type": "markdown",
   "metadata": {},
   "source": [
    "## Categoricas"
   ]
  },
  {
   "cell_type": "markdown",
   "metadata": {},
   "source": [
    "### superficie por ambiente"
   ]
  },
  {
   "cell_type": "markdown",
   "metadata": {},
   "source": [
    "Esta sección por ahora esta descartada"
   ]
  },
  {
   "cell_type": "code",
   "execution_count": 422,
   "metadata": {},
   "outputs": [],
   "source": [
    "#df_pred.surface_covered.fillna(1, inplace=True)\n",
    "#df_pred.rooms.fillna(1, inplace=True)\n",
    "#df_pred[\"m2xcuarto\"] = df_pred.surface_covered / df_pred.rooms"
   ]
  },
  {
   "cell_type": "code",
   "execution_count": 423,
   "metadata": {},
   "outputs": [],
   "source": [
    "#m2_corte1 = np.quantile(df_pred.m2xcuarto,q=0.33)\n",
    "#m2_corte2 = np.quantile(df_pred.m2xcuarto,q=0.66)\n",
    "#m2_max = df_pred.drop(794)[\"m2xcuarto\"].max()\n"
   ]
  },
  {
   "cell_type": "code",
   "execution_count": 424,
   "metadata": {},
   "outputs": [],
   "source": [
    "#def dimension(x):\n",
    "#    if x < m2_corte1:\n",
    "#        return 1 #chico\n",
    "#    elif x < m2_corte2:\n",
    "#        return 2 #mediano\n",
    "#    elif x < 190:\n",
    "#        return 3 #grande\n",
    "#    else:\n",
    "#        return 4 #oversize"
   ]
  },
  {
   "cell_type": "code",
   "execution_count": 425,
   "metadata": {},
   "outputs": [],
   "source": [
    "#df_total.surface_covered.fillna(1, inplace=True)\n",
    "#df_total.rooms.fillna(1, inplace=True)\n",
    "#df_total[\"m2xcuarto\"] = df_total.surface_covered / df_pred.rooms\n",
    "#df_total[\"dimensiones\"] = df_total.m2xcuarto.apply(lambda x: dimension(x))"
   ]
  },
  {
   "cell_type": "code",
   "execution_count": 426,
   "metadata": {},
   "outputs": [],
   "source": [
    "#df_total.drop(columns=\"m2xcuarto\",inplace=True)"
   ]
  },
  {
   "cell_type": "markdown",
   "metadata": {},
   "source": [
    "### Barrio"
   ]
  },
  {
   "cell_type": "code",
   "execution_count": 427,
   "metadata": {},
   "outputs": [],
   "source": [
    "df_total.l3 = df_total.l3.astype(\"category\").cat.codes"
   ]
  },
  {
   "cell_type": "markdown",
   "metadata": {
    "tags": []
   },
   "source": [
    "## Separo el dataframe nuevamente en df_pred y df"
   ]
  },
  {
   "cell_type": "code",
   "execution_count": 428,
   "metadata": {},
   "outputs": [],
   "source": [
    "df = df_total[df_total.index.isin(df.index)]\n",
    "df_pred = df_total[df_total.index.isin(df_pred.index)]"
   ]
  },
  {
   "cell_type": "code",
   "execution_count": null,
   "metadata": {
    "collapsed": true,
    "jupyter": {
     "outputs_hidden": true
    },
    "tags": []
   },
   "outputs": [],
   "source": [
    "df.info()"
   ]
  },
  {
   "cell_type": "code",
   "execution_count": 439,
   "metadata": {},
   "outputs": [
    {
     "data": {
      "text/plain": [
       "(117937, 29)"
      ]
     },
     "execution_count": 439,
     "metadata": {},
     "output_type": "execute_result"
    }
   ],
   "source": [
    "df.shape[]"
   ]
  },
  {
   "cell_type": "markdown",
   "metadata": {
    "tags": []
   },
   "source": [
    "# **Modelo**"
   ]
  },
  {
   "cell_type": "code",
   "execution_count": 440,
   "metadata": {
    "id": "PoAhfAjlr-rp"
   },
   "outputs": [
    {
     "name": "stdout",
     "output_type": "stream",
     "text": [
      "max_depth:12 - mean: 184377.25652922728 sd: 6398.473938748867\n"
     ]
    }
   ],
   "source": [
    "X = df[df.columns.drop(['price','l3','dimensiones'])]\n",
    "y = df['price']\n",
    "\n",
    "for n_estimators in [50]:\n",
    "    for max_depth in [12]:     \n",
    "\n",
    "## Tienen que usar RandomForestRegressor si o si o si. Pueden cambiar los parámetros\n",
    "#n_estimators = 5000\n",
    "#max_depth = 5\n",
    "\n",
    "        reg = sk.ensemble.RandomForestRegressor(n_estimators=n_estimators, max_depth=max_depth, n_jobs=-1, random_state=42)\n",
    "\n",
    "        scores = []\n",
    "        kf = sk.model_selection.KFold(n_splits=10, shuffle=True, random_state=42)\n",
    "        for train, test in kf.split(X):\n",
    "            X_train, X_test, y_train, y_test = X.iloc[train], X.iloc[test], y[train], y[test]\n",
    "        \n",
    "            # Entrenamos el modelo\n",
    "            reg.fit(X_train, y_train)\n",
    "        \n",
    "            # Predecimos\n",
    "            y_pred = reg.predict(X_test)\n",
    "        \n",
    "            # Medimos la performance de la predicción\n",
    "            score = sk.metrics.mean_squared_error(y_test, y_pred, squared=False)\n",
    "            scores.append(score)\n",
    "        print(f\"max_depth:{max_depth} - mean: {np.mean(scores)} sd: {np.std(scores)}\")\n",
    "        \n",
    "    #print(f\"n_{n_estimators} - mean: {np.mean(scores)} sd: {np.std(scores)}\")"
   ]
  },
  {
   "cell_type": "markdown",
   "metadata": {
    "id": "sqVkTPzj3kV0"
   },
   "source": [
    "## Predicción para Kaggle\n"
   ]
  },
  {
   "cell_type": "code",
   "execution_count": 200,
   "metadata": {
    "id": "xzAwUNRA1Fzb"
   },
   "outputs": [],
   "source": [
    "# quedate con las mismas columnas que ar_properties\n",
    "X_pred = df_pred[X.columns]\n",
    "X_train = X\n",
    "y_train = y"
   ]
  },
  {
   "cell_type": "code",
   "execution_count": 201,
   "metadata": {
    "id": "81dOh5WvAPMa"
   },
   "outputs": [
    {
     "name": "stderr",
     "output_type": "stream",
     "text": [
      "/tmp/ipykernel_79919/2319193158.py:12: SettingWithCopyWarning: \n",
      "A value is trying to be set on a copy of a slice from a DataFrame.\n",
      "Try using .loc[row_indexer,col_indexer] = value instead\n",
      "\n",
      "See the caveats in the documentation: https://pandas.pydata.org/pandas-docs/stable/user_guide/indexing.html#returning-a-view-versus-a-copy\n",
      "  df_pred[\"price\"] = reg.predict(X_pred)\n"
     ]
    }
   ],
   "source": [
    "# los mejores hiperparámetros encontrados antes\n",
    "n_estimators = 50\n",
    "max_depth = 12\n",
    "\n",
    "# Entrenamiento\n",
    "reg = sk.ensemble.RandomForestRegressor(n_estimators=n_estimators, max_depth=max_depth, random_state=42, n_jobs=-1)\n",
    "\n",
    "# Entrenamos el modelo\n",
    "reg.fit(X_train, y_train)\n",
    "\n",
    "# predicción\n",
    "df_pred[\"price\"] = reg.predict(X_pred)"
   ]
  },
  {
   "cell_type": "code",
   "execution_count": 202,
   "metadata": {
    "id": "mU9iV6cuBwKB"
   },
   "outputs": [],
   "source": [
    "# Grabo la solución\n",
    "df_pred[[\"price\"]].to_csv(\"../Soluciones/solucion.csv\")"
   ]
  },
  {
   "cell_type": "markdown",
   "metadata": {},
   "source": [
    "## Importancia de las variables"
   ]
  },
  {
   "cell_type": "code",
   "execution_count": 437,
   "metadata": {},
   "outputs": [],
   "source": [
    "importances = reg.feature_importances_\n",
    "#\n",
    "# Sort the feature importance in descending order\n",
    "#\n",
    "sorted_indices = np.argsort(importances)[::-1]"
   ]
  },
  {
   "cell_type": "code",
   "execution_count": 438,
   "metadata": {},
   "outputs": [
    {
     "data": {
      "image/png": "[encoded data removed]",
      "text/plain": [
       "<Figure size 720x720 with 1 Axes>"
      ]
     },
     "metadata": {
      "needs_background": "light"
     },
     "output_type": "display_data"
    }
   ],
   "source": [
    "import matplotlib.pyplot as plt\n",
    "\n",
    "f,a = plt.subplots(figsize=(10,10))\n",
    "plt.title('Feature Importance')\n",
    "plt.bar(range(X_train.shape[1]), importances[sorted_indices], align='center')\n",
    "plt.xticks(range(X_train.shape[1]), X_train.columns[sorted_indices], rotation=90)\n",
    "plt.tight_layout()\n",
    "plt.show()"
   ]
  }
 ],
 "metadata": {
  "colab": {
   "collapsed_sections": [
    "sqVkTPzj3kV0"
   ],
   "name": "TP individual.ipynb",
   "provenance": []
  },
  "kernelspec": {
   "display_name": "Python 3.9.13 64-bit",
   "language": "python",
   "name": "python3"
  },
  "language_info": {
   "codemirror_mode": {
    "name": "ipython",
    "version": 3
   },
   "file_extension": ".py",
   "mimetype": "text/x-python",
   "name": "python",
   "nbconvert_exporter": "python",
   "pygments_lexer": "ipython3",
   "version": "3.9.13"
  },
  "vscode": {
   "interpreter": {
    "hash": "949777d72b0d2535278d3dc13498b2535136f6dfe0678499012e853ee9abcab1"
   }
  }
 },
 "nbformat": 4,
 "nbformat_minor": 4
}
