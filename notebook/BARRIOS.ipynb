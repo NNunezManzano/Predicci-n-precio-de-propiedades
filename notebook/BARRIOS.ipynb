{
 "cells": [
  {
   "cell_type": "markdown",
   "metadata": {},
   "source": [
    "# **Entorno**"
   ]
  },
  {
   "cell_type": "code",
   "execution_count": 425,
   "metadata": {
    "id": "A7BBykw5oQNl"
   },
   "outputs": [],
   "source": [
    "# https://www.properati.com.ar/data\n",
    "#! wget -O ar_properties.csv.gz -q https://storage.googleapis.com/properati-data-public/ar_properties.csv.gz\n",
    "#! gzip -d -f ./ar_properties.csv.gz"
   ]
  },
  {
   "cell_type": "code",
   "execution_count": 426,
   "metadata": {
    "id": "jw8ogMDOpvKP"
   },
   "outputs": [],
   "source": [
    "import pandas as pd\n",
    "import numpy as np\n",
    "\n",
    "import matplotlib.pyplot as plt\n",
    "\n",
    "import sklearn as sk\n",
    "from sklearn import model_selection\n",
    "from sklearn import ensemble\n",
    "from sklearn import metrics\n",
    "\n",
    "import datetime\n",
    "\n",
    "import warnings\n",
    "warnings.filterwarnings('ignore')\n",
    "\n",
    "import re\n"
   ]
  },
  {
   "cell_type": "code",
   "execution_count": 427,
   "metadata": {},
   "outputs": [],
   "source": [
    "pd.options.display.max_colwidth = -1"
   ]
  },
  {
   "cell_type": "markdown",
   "metadata": {
    "id": "20D-m6GPyefp"
   },
   "source": [
    "# Lectura de datos"
   ]
  },
  {
   "cell_type": "code",
   "execution_count": 428,
   "metadata": {
    "id": "CtV0wOGsqJLC"
   },
   "outputs": [],
   "source": [
    "#df_properties = pd.read_csv('../ar_properties.csv', index_col=\"id\")\n",
    "#df_apred = pd.read_csv('../a_predecir.csv', index_col=\"id\")"
   ]
  },
  {
   "cell_type": "code",
   "execution_count": 429,
   "metadata": {},
   "outputs": [],
   "source": [
    "df = df_properties.copy()\n",
    "df_pred = df_apred.copy()"
   ]
  },
  {
   "cell_type": "code",
   "execution_count": 430,
   "metadata": {
    "id": "thKYxfNuulgB"
   },
   "outputs": [
    {
     "data": {
      "text/html": [
       "<div>\n",
       "<style scoped>\n",
       "    .dataframe tbody tr th:only-of-type {\n",
       "        vertical-align: middle;\n",
       "    }\n",
       "\n",
       "    .dataframe tbody tr th {\n",
       "        vertical-align: top;\n",
       "    }\n",
       "\n",
       "    .dataframe thead th {\n",
       "        text-align: right;\n",
       "    }\n",
       "</style>\n",
       "<table border=\"1\" class=\"dataframe\">\n",
       "  <thead>\n",
       "    <tr style=\"text-align: right;\">\n",
       "      <th></th>\n",
       "      <th>ad_type</th>\n",
       "      <th>start_date</th>\n",
       "      <th>end_date</th>\n",
       "      <th>created_on</th>\n",
       "      <th>lat</th>\n",
       "      <th>lon</th>\n",
       "      <th>l1</th>\n",
       "      <th>l2</th>\n",
       "      <th>l3</th>\n",
       "      <th>l4</th>\n",
       "      <th>...</th>\n",
       "      <th>bathrooms</th>\n",
       "      <th>surface_total</th>\n",
       "      <th>surface_covered</th>\n",
       "      <th>price</th>\n",
       "      <th>currency</th>\n",
       "      <th>price_period</th>\n",
       "      <th>title</th>\n",
       "      <th>description</th>\n",
       "      <th>property_type</th>\n",
       "      <th>operation_type</th>\n",
       "    </tr>\n",
       "    <tr>\n",
       "      <th>id</th>\n",
       "      <th></th>\n",
       "      <th></th>\n",
       "      <th></th>\n",
       "      <th></th>\n",
       "      <th></th>\n",
       "      <th></th>\n",
       "      <th></th>\n",
       "      <th></th>\n",
       "      <th></th>\n",
       "      <th></th>\n",
       "      <th></th>\n",
       "      <th></th>\n",
       "      <th></th>\n",
       "      <th></th>\n",
       "      <th></th>\n",
       "      <th></th>\n",
       "      <th></th>\n",
       "      <th></th>\n",
       "      <th></th>\n",
       "      <th></th>\n",
       "      <th></th>\n",
       "    </tr>\n",
       "  </thead>\n",
       "  <tbody>\n",
       "    <tr>\n",
       "      <th>DyVXfkpKygVBKuUk5olH+A==</th>\n",
       "      <td>Propiedad</td>\n",
       "      <td>2020-08-22</td>\n",
       "      <td>2020-09-03</td>\n",
       "      <td>2020-08-22</td>\n",
       "      <td>-34.407468</td>\n",
       "      <td>-58.957367</td>\n",
       "      <td>Argentina</td>\n",
       "      <td>Bs.As. G.B.A. Zona Norte</td>\n",
       "      <td>Pilar</td>\n",
       "      <td>NaN</td>\n",
       "      <td>...</td>\n",
       "      <td>NaN</td>\n",
       "      <td>133139.0</td>\n",
       "      <td>NaN</td>\n",
       "      <td>NaN</td>\n",
       "      <td>NaN</td>\n",
       "      <td>Mensual</td>\n",
       "      <td>VENTA - Lote Industrial 130.000m2 - Parque Industrial Pilar</td>\n",
       "      <td>Lote (Nro.50) mide 133.139 m2\\n&lt;br&gt;Valor: U$S (CONSULTAR)\\n&lt;br&gt;\\n&lt;br&gt;(Nuevo) PLAZA INDUSTRIAL PILAR (Anexo) del Parque Industrial Pilar.\\n&lt;br&gt;El predio cuenta con 200 HA ofreciendo LOTES que van desde los 5.000 hasta 300.000m2.\\n&lt;br&gt; FOS: 0.5 / FOT: 1\\n&lt;br&gt; Zonificación Industrial  (Categoría: 1, 2 y 3).\\n&lt;br&gt; Desagues Pluviales\\n&lt;br&gt; Tendido Red Eléctrica\\n&lt;br&gt; Alumbrado Led de calles\\n&lt;br&gt;Sobre Av. Arturo Frondizi entre (Calles 10 y 12), con acceso directo a la Au. Panamericana Ramal Pilar (Ruta 8, Km 61).\\n&lt;br&gt;\\n&lt;br&gt;CONSULTAR: Depósitos/Locales Llave en Mano (150 a los 1.000m2).\\n&lt;br&gt;CONSULTAR: Disponibilidad y Financiamiento.&lt;br&gt;&lt;br&gt;Martillero y Corredor Inmobiliario: &lt;br&gt;Walter Angel Tomé&lt;br&gt;CMCPSI 5200 &lt;br&gt;Todas las propiedades son tasadas y bajo normas establecidas en la ley publicamos las propiedades para su comercialización.&lt;br&gt;La intermediación y la conclusión de las operaciones son actividades exclusivas de este matriculado.</td>\n",
       "      <td>Lote</td>\n",
       "      <td>Venta</td>\n",
       "    </tr>\n",
       "    <tr>\n",
       "      <th>9naojilaMecJN4jlQiTkGg==</th>\n",
       "      <td>Propiedad</td>\n",
       "      <td>2020-08-22</td>\n",
       "      <td>2020-09-04</td>\n",
       "      <td>2020-08-22</td>\n",
       "      <td>-37.996039</td>\n",
       "      <td>-57.542509</td>\n",
       "      <td>Argentina</td>\n",
       "      <td>Buenos Aires Costa Atlántica</td>\n",
       "      <td>Mar del Plata</td>\n",
       "      <td>NaN</td>\n",
       "      <td>...</td>\n",
       "      <td>NaN</td>\n",
       "      <td>687.0</td>\n",
       "      <td>687.0</td>\n",
       "      <td>NaN</td>\n",
       "      <td>NaN</td>\n",
       "      <td>Mensual</td>\n",
       "      <td>Casa - Santa Cecilia</td>\n",
       "      <td>Conjunto edilicio de casa y departamentos en block.  Casona de 1930, restaurada, con vista al mar. A 30 mts de la costa, cerca de peatonal San Martín y otros puntos turísticos. &lt;br&gt;&lt;br&gt;Apto para:&lt;br&gt;1. Vivienda familiar + uso de oficinas dentro del mismo edificio.&lt;br&gt;2.  Uso profesional (consultorios, oficinas)&lt;br&gt;3.  Alquiler de habitaciones tipo hostel o apart.&lt;br&gt;4.  Apto para demoler y construir.&lt;br&gt;&lt;br&gt;DETALLES:&lt;br&gt;&lt;br&gt;P.B:  Espacios comunes, 100 m2. Ingreso, cochera p/3 autos, lavadero, depósito, baño, parque de 134 m2 con parrilla, doble quincho, piscina para niños.&lt;br&gt;&lt;br&gt;PRIMER PISO:  Dos deptos con vista al mar (opción unificable para armar un único piso) con detalles de calidad, pinotea, piedra, etc.&lt;br&gt;Al frente, dos grandes amb con dormitorios,  cocina com, gran living com/recepción, gran tarima de madera de primera, hogar y leñera, catarata decorativa, baño completo, balcón a la calle (89 m2)&lt;br&gt;Al parque, depto de living, cocina grande con balcón terraza (43 m2), dormitorio y baño.&lt;br&gt;&lt;br&gt;SEGUNDO PISO: Cinco deptos completos (2 al fte y 3 laterales), todos externos, vista al mar, con baños, bauleras, cocinas y terraza.&lt;br&gt;Depto de 50 m2 (2 amb) + depto de 18 m2 (1 amb) + depto de 26 m2 (1 amb c/balcón) + depto de 33 m2 (2 amb) + depto de 49 m2 (2 amb) c/entrada independiente.&lt;br&gt;Los deptos de 2 amb pueden unificarse para armar uno mas grande, totalmente externo. &lt;br&gt;&lt;br&gt;TERCER PISO:  Un loft de 168 m2. Living com, 2 baños, sector dormitorios, 2 terrazas, entre piso con gimnasio o sala de estudio), cocina, lavadero, doble entrada, extraordinaria vista al mar y al parque.&lt;br&gt;&lt;br&gt;&lt;br&gt;SERVICIOS GENERALES:&lt;br&gt;&lt;br&gt;Calefacción por radiadores, 2 calderas y 2 termotanques. Grupo electrógeno. Tanque de agua de 3500 lts + reserva de 600 lts. 2 bombas elevadoras y 1 de presión extra. Espacio ascensor-montacargas. Sistema anti incendio. Central telefónica. Alarma. TV satelital. Internet. Iluminación decorativa. &lt;br&gt;&lt;br&gt;INSTALACIONES:&lt;br&gt;&lt;br&gt;Totalmente equipado y amoblado. Todo en perfecto funcionamiento. Hornos. Anafes. Heladeras. TVs.  Mobiliario. Vajilla. Accesorios (NO INCLUIDO EN EL PRECIO DE VENTA INICIAL)</td>\n",
       "      <td>Otro</td>\n",
       "      <td>Venta</td>\n",
       "    </tr>\n",
       "    <tr>\n",
       "      <th>tlCPRJPjoDEUzuuCelemAQ==</th>\n",
       "      <td>Propiedad</td>\n",
       "      <td>2020-08-22</td>\n",
       "      <td>2020-08-31</td>\n",
       "      <td>2020-08-22</td>\n",
       "      <td>-31.380187</td>\n",
       "      <td>-58.009182</td>\n",
       "      <td>Argentina</td>\n",
       "      <td>Entre Ríos</td>\n",
       "      <td>Concordia</td>\n",
       "      <td>NaN</td>\n",
       "      <td>...</td>\n",
       "      <td>1.0</td>\n",
       "      <td>80.0</td>\n",
       "      <td>80.0</td>\n",
       "      <td>NaN</td>\n",
       "      <td>NaN</td>\n",
       "      <td>Mensual</td>\n",
       "      <td>Casa - Concordia</td>\n",
       "      <td>Casa de un dormitorio, cocina, baño, living comedor, lavadero, patio y cochera para un auto bajo techo.  No posee Gas Natural y es apto para mascotas, disponible a partir de septiembre</td>\n",
       "      <td>Casa</td>\n",
       "      <td>Alquiler</td>\n",
       "    </tr>\n",
       "    <tr>\n",
       "      <th>Zw3b91glQUO3HNrM5fPYlQ==</th>\n",
       "      <td>Propiedad</td>\n",
       "      <td>2020-08-22</td>\n",
       "      <td>2020-09-04</td>\n",
       "      <td>2020-08-22</td>\n",
       "      <td>-27.494106</td>\n",
       "      <td>-55.123455</td>\n",
       "      <td>Argentina</td>\n",
       "      <td>Misiones</td>\n",
       "      <td>Oberá</td>\n",
       "      <td>NaN</td>\n",
       "      <td>...</td>\n",
       "      <td>1.0</td>\n",
       "      <td>NaN</td>\n",
       "      <td>NaN</td>\n",
       "      <td>NaN</td>\n",
       "      <td>NaN</td>\n",
       "      <td>Mensual</td>\n",
       "      <td>Terreno - Obera</td>\n",
       "      <td>IMPORTANTE PROPIEDAD EN VENTA EN OBERA MISIONES&lt;br&gt;Gran terreno de 20 m de frente por 50 m de fondo, con construcción a terminar, posee un depto en pb. de 1 dormitorio, coc-comedor y baño. y un tipo duplex de 1 dormitorio, cocina comedor, baño y balcón.&lt;br&gt;Ubicado sobre calle Paraguay casi Misiones de la ciudad de Obera. Se encuentra en una zona linda en crecimiento, a 7 cuadras aprox. del centro y a 4 cuadras de la terminal nueva.&lt;br&gt;CONSULTE PRECIO!!!&lt;br&gt;&lt;br&gt;Para Mayor información Comunicarse con SILARQ Arquitectura + Inmobiliaria. Sito en Av. Lopez Torres 5467 Pdas-Mnes,  al Cel/Wapp: 3764866218, mail:   o en nuestra web. site  [(código_referencia)]</td>\n",
       "      <td>Lote</td>\n",
       "      <td>Venta</td>\n",
       "    </tr>\n",
       "    <tr>\n",
       "      <th>bsU81gm9JEgtZCbTYgvykg==</th>\n",
       "      <td>Propiedad</td>\n",
       "      <td>2020-08-22</td>\n",
       "      <td>2020-09-04</td>\n",
       "      <td>2020-08-22</td>\n",
       "      <td>-32.948856</td>\n",
       "      <td>-60.630464</td>\n",
       "      <td>Argentina</td>\n",
       "      <td>Santa Fe</td>\n",
       "      <td>Rosario</td>\n",
       "      <td>NaN</td>\n",
       "      <td>...</td>\n",
       "      <td>1.0</td>\n",
       "      <td>76.0</td>\n",
       "      <td>66.0</td>\n",
       "      <td>NaN</td>\n",
       "      <td>NaN</td>\n",
       "      <td>Mensual</td>\n",
       "      <td>Departamento - Rosario</td>\n",
       "      <td>PORTAL DE LOS MARINOS&lt;br&gt;Es un complejo de viviendas de categoría, proyectado en cuatro torres independientes y ubicado en la zona más emblemática de Rosario: frente al hermoso río Paraná y el Parque Nacional a la Bandera.&lt;br&gt;&lt;br&gt;TORRE TARRICO NORTE - Piso 3 y 6&lt;br&gt;Unidad de un dormitorio con excelente nivel de terminaciones: living comedor con pisos de madera flotante, balcón. Cocina semi integrada dividida con una barra, amoblamientos de alacena y bajo mesada completos de primera calidad, cocina y campana DOMEC. Mesada de granito. Pileta de acero inoxidable Johnson Acero o similar.  Grifería cromada, de alta tecnología y diseño. Office o  1/2 dormitorio, dormitorio con placard  de puertas corredizas con interiores completos y balcón al contrafrente. Baño completo. Calefacción por calderas. Aberturas exteriores principales de aluminio con doble vidriado hermético de primera calidad. Herrajes de primera categoría.  Barandas de balcones de aluminio. Instalación completa de aire acondicionado, TV y telefonía. Opcional cochera y baulera.&lt;br&gt;&lt;br&gt;El equipamiento y espacios comunes están orientados a la recreación y al disfrute del paisaje: microcine, gimnasio, patio de juegos, sala blanda para niños, quincho con parrilleros, sala de juegos, hidromasajes y piscina con solarium y vista al río y las islas.&lt;br&gt;&lt;br&gt;EL CONJUNTO&lt;br&gt;Un lugar extraordinario: Está ubicado a pasos del grandioso Monumento Nacional a la Bandera, del gran espacio verde de parque que lo rodea, y del sector más lindo de la costa del río Paraná. También, a minutos del Centro y de todo lo que necesitamos diariamente para vivir con comodidad.&lt;br&gt;Un emprendimiento único: Portal de los Marinos no es un emprendimiento convencional. Son cuatro torres desarrolladas en un terreno de 1100 m2, cada una con características diferentes, y unificadas por un puente peatonal que las conecta y relaciona entre sí. Algunos proyectos tienen algo, otro tienen mucho, Portal de los Marinos tiene todo. El mejor lugar para vivir.&lt;br&gt;Un regalo para los sentidos: El ensamble perfecto entre ciudad y naturaleza: Salir a caminar por el parque al atardecer, preparar un asado con amigos el domingo al mediodía, disfrutar la risa de los chicos en su propio espacio de juegos, dejar la bici segura y cubierta a cualquier hora, hacer tu rutina física en el gimnasio sin salir del complejo, ir al cine sin ir al cine. Encontrar la tranquilidad en el corazón de la ciudad.Y más.</td>\n",
       "      <td>Departamento</td>\n",
       "      <td>Venta</td>\n",
       "    </tr>\n",
       "  </tbody>\n",
       "</table>\n",
       "<p>5 rows × 24 columns</p>\n",
       "</div>"
      ],
      "text/plain": [
       "                            ad_type  start_date    end_date  created_on  \\\n",
       "id                                                                        \n",
       "DyVXfkpKygVBKuUk5olH+A==  Propiedad  2020-08-22  2020-09-03  2020-08-22   \n",
       "9naojilaMecJN4jlQiTkGg==  Propiedad  2020-08-22  2020-09-04  2020-08-22   \n",
       "tlCPRJPjoDEUzuuCelemAQ==  Propiedad  2020-08-22  2020-08-31  2020-08-22   \n",
       "Zw3b91glQUO3HNrM5fPYlQ==  Propiedad  2020-08-22  2020-09-04  2020-08-22   \n",
       "bsU81gm9JEgtZCbTYgvykg==  Propiedad  2020-08-22  2020-09-04  2020-08-22   \n",
       "\n",
       "                                lat        lon         l1  \\\n",
       "id                                                          \n",
       "DyVXfkpKygVBKuUk5olH+A== -34.407468 -58.957367  Argentina   \n",
       "9naojilaMecJN4jlQiTkGg== -37.996039 -57.542509  Argentina   \n",
       "tlCPRJPjoDEUzuuCelemAQ== -31.380187 -58.009182  Argentina   \n",
       "Zw3b91glQUO3HNrM5fPYlQ== -27.494106 -55.123455  Argentina   \n",
       "bsU81gm9JEgtZCbTYgvykg== -32.948856 -60.630464  Argentina   \n",
       "\n",
       "                                                    l2             l3   l4  \\\n",
       "id                                                                           \n",
       "DyVXfkpKygVBKuUk5olH+A==  Bs.As. G.B.A. Zona Norte      Pilar          NaN   \n",
       "9naojilaMecJN4jlQiTkGg==  Buenos Aires Costa Atlántica  Mar del Plata  NaN   \n",
       "tlCPRJPjoDEUzuuCelemAQ==  Entre Ríos                    Concordia      NaN   \n",
       "Zw3b91glQUO3HNrM5fPYlQ==  Misiones                      Oberá          NaN   \n",
       "bsU81gm9JEgtZCbTYgvykg==  Santa Fe                      Rosario        NaN   \n",
       "\n",
       "                          ... bathrooms  surface_total  surface_covered  \\\n",
       "id                        ...                                             \n",
       "DyVXfkpKygVBKuUk5olH+A==  ... NaN        133139.0      NaN                \n",
       "9naojilaMecJN4jlQiTkGg==  ... NaN        687.0          687.0             \n",
       "tlCPRJPjoDEUzuuCelemAQ==  ...  1.0       80.0           80.0              \n",
       "Zw3b91glQUO3HNrM5fPYlQ==  ...  1.0      NaN            NaN                \n",
       "bsU81gm9JEgtZCbTYgvykg==  ...  1.0       76.0           66.0              \n",
       "\n",
       "                          price  currency  price_period  \\\n",
       "id                                                        \n",
       "DyVXfkpKygVBKuUk5olH+A== NaN     NaN       Mensual        \n",
       "9naojilaMecJN4jlQiTkGg== NaN     NaN       Mensual        \n",
       "tlCPRJPjoDEUzuuCelemAQ== NaN     NaN       Mensual        \n",
       "Zw3b91glQUO3HNrM5fPYlQ== NaN     NaN       Mensual        \n",
       "bsU81gm9JEgtZCbTYgvykg== NaN     NaN       Mensual        \n",
       "\n",
       "                                                                                title  \\\n",
       "id                                                                                      \n",
       "DyVXfkpKygVBKuUk5olH+A==  VENTA - Lote Industrial 130.000m2 - Parque Industrial Pilar   \n",
       "9naojilaMecJN4jlQiTkGg==  Casa - Santa Cecilia                                          \n",
       "tlCPRJPjoDEUzuuCelemAQ==  Casa - Concordia                                              \n",
       "Zw3b91glQUO3HNrM5fPYlQ==  Terreno - Obera                                               \n",
       "bsU81gm9JEgtZCbTYgvykg==  Departamento - Rosario                                        \n",
       "\n",
       "                                                                                                                                                                                                                                                                                                                                                                                                                                                                                                                                                                                                                                                                                                                                                                                                                                                                                                                                                                                                                                                                                                                                                                                                                                                                                                                                                                                                                                                                                                                                                                                                                                                                                                                                                                                                                                                                                                                                                                                                                                                                                                                                                                                                                                                                                                                                                                                                                                                                                                                                                        description  \\\n",
       "id                                                                                                                                                                                                                                                                                                                                                                                                                                                                                                                                                                                                                                                                                                                                                                                                                                                                                                                                                                                                                                                                                                                                                                                                                                                                                                                                                                                                                                                                                                                                                                                                                                                                                                                                                                                                                                                                                                                                                                                                                                                                                                                                                                                                                                                                                                                                                                                                                                                                                                                                                                    \n",
       "DyVXfkpKygVBKuUk5olH+A==  Lote (Nro.50) mide 133.139 m2\\n<br>Valor: U$S (CONSULTAR)\\n<br>\\n<br>(Nuevo) PLAZA INDUSTRIAL PILAR (Anexo) del Parque Industrial Pilar.\\n<br>El predio cuenta con 200 HA ofreciendo LOTES que van desde los 5.000 hasta 300.000m2.\\n<br> FOS: 0.5 / FOT: 1\\n<br> Zonificación Industrial  (Categoría: 1, 2 y 3).\\n<br> Desagues Pluviales\\n<br> Tendido Red Eléctrica\\n<br> Alumbrado Led de calles\\n<br>Sobre Av. Arturo Frondizi entre (Calles 10 y 12), con acceso directo a la Au. Panamericana Ramal Pilar (Ruta 8, Km 61).\\n<br>\\n<br>CONSULTAR: Depósitos/Locales Llave en Mano (150 a los 1.000m2).\\n<br>CONSULTAR: Disponibilidad y Financiamiento.<br><br>Martillero y Corredor Inmobiliario: <br>Walter Angel Tomé<br>CMCPSI 5200 <br>Todas las propiedades son tasadas y bajo normas establecidas en la ley publicamos las propiedades para su comercialización.<br>La intermediación y la conclusión de las operaciones son actividades exclusivas de este matriculado.                                                                                                                                                                                                                                                                                                                                                                                                                                                                                                                                                                                                                                                                                                                                                                                                                                                                                                                                                                                                                                                                                                                                                                                                                                                                                                                                                                                                                                                                                                                                                       \n",
       "9naojilaMecJN4jlQiTkGg==  Conjunto edilicio de casa y departamentos en block.  Casona de 1930, restaurada, con vista al mar. A 30 mts de la costa, cerca de peatonal San Martín y otros puntos turísticos. <br><br>Apto para:<br>1. Vivienda familiar + uso de oficinas dentro del mismo edificio.<br>2.  Uso profesional (consultorios, oficinas)<br>3.  Alquiler de habitaciones tipo hostel o apart.<br>4.  Apto para demoler y construir.<br><br>DETALLES:<br><br>P.B:  Espacios comunes, 100 m2. Ingreso, cochera p/3 autos, lavadero, depósito, baño, parque de 134 m2 con parrilla, doble quincho, piscina para niños.<br><br>PRIMER PISO:  Dos deptos con vista al mar (opción unificable para armar un único piso) con detalles de calidad, pinotea, piedra, etc.<br>Al frente, dos grandes amb con dormitorios,  cocina com, gran living com/recepción, gran tarima de madera de primera, hogar y leñera, catarata decorativa, baño completo, balcón a la calle (89 m2)<br>Al parque, depto de living, cocina grande con balcón terraza (43 m2), dormitorio y baño.<br><br>SEGUNDO PISO: Cinco deptos completos (2 al fte y 3 laterales), todos externos, vista al mar, con baños, bauleras, cocinas y terraza.<br>Depto de 50 m2 (2 amb) + depto de 18 m2 (1 amb) + depto de 26 m2 (1 amb c/balcón) + depto de 33 m2 (2 amb) + depto de 49 m2 (2 amb) c/entrada independiente.<br>Los deptos de 2 amb pueden unificarse para armar uno mas grande, totalmente externo. <br><br>TERCER PISO:  Un loft de 168 m2. Living com, 2 baños, sector dormitorios, 2 terrazas, entre piso con gimnasio o sala de estudio), cocina, lavadero, doble entrada, extraordinaria vista al mar y al parque.<br><br><br>SERVICIOS GENERALES:<br><br>Calefacción por radiadores, 2 calderas y 2 termotanques. Grupo electrógeno. Tanque de agua de 3500 lts + reserva de 600 lts. 2 bombas elevadoras y 1 de presión extra. Espacio ascensor-montacargas. Sistema anti incendio. Central telefónica. Alarma. TV satelital. Internet. Iluminación decorativa. <br><br>INSTALACIONES:<br><br>Totalmente equipado y amoblado. Todo en perfecto funcionamiento. Hornos. Anafes. Heladeras. TVs.  Mobiliario. Vajilla. Accesorios (NO INCLUIDO EN EL PRECIO DE VENTA INICIAL)                                                                                                                                                                                                                                                                                                      \n",
       "tlCPRJPjoDEUzuuCelemAQ==  Casa de un dormitorio, cocina, baño, living comedor, lavadero, patio y cochera para un auto bajo techo.  No posee Gas Natural y es apto para mascotas, disponible a partir de septiembre                                                                                                                                                                                                                                                                                                                                                                                                                                                                                                                                                                                                                                                                                                                                                                                                                                                                                                                                                                                                                                                                                                                                                                                                                                                                                                                                                                                                                                                                                                                                                                                                                                                                                                                                                                                                                                                                                                                                                                                                                                                                                                                                                                                                                                                                                                                                                    \n",
       "Zw3b91glQUO3HNrM5fPYlQ==  IMPORTANTE PROPIEDAD EN VENTA EN OBERA MISIONES<br>Gran terreno de 20 m de frente por 50 m de fondo, con construcción a terminar, posee un depto en pb. de 1 dormitorio, coc-comedor y baño. y un tipo duplex de 1 dormitorio, cocina comedor, baño y balcón.<br>Ubicado sobre calle Paraguay casi Misiones de la ciudad de Obera. Se encuentra en una zona linda en crecimiento, a 7 cuadras aprox. del centro y a 4 cuadras de la terminal nueva.<br>CONSULTE PRECIO!!!<br><br>Para Mayor información Comunicarse con SILARQ Arquitectura + Inmobiliaria. Sito en Av. Lopez Torres 5467 Pdas-Mnes,  al Cel/Wapp: 3764866218, mail:   o en nuestra web. site  [(código_referencia)]                                                                                                                                                                                                                                                                                                                                                                                                                                                                                                                                                                                                                                                                                                                                                                                                                                                                                                                                                                                                                                                                                                                                                                                                                                                                                                                                                                                                                                                                                                                                                                                                                                                                                                                                                                                                                                                        \n",
       "bsU81gm9JEgtZCbTYgvykg==  PORTAL DE LOS MARINOS<br>Es un complejo de viviendas de categoría, proyectado en cuatro torres independientes y ubicado en la zona más emblemática de Rosario: frente al hermoso río Paraná y el Parque Nacional a la Bandera.<br><br>TORRE TARRICO NORTE - Piso 3 y 6<br>Unidad de un dormitorio con excelente nivel de terminaciones: living comedor con pisos de madera flotante, balcón. Cocina semi integrada dividida con una barra, amoblamientos de alacena y bajo mesada completos de primera calidad, cocina y campana DOMEC. Mesada de granito. Pileta de acero inoxidable Johnson Acero o similar.  Grifería cromada, de alta tecnología y diseño. Office o  1/2 dormitorio, dormitorio con placard  de puertas corredizas con interiores completos y balcón al contrafrente. Baño completo. Calefacción por calderas. Aberturas exteriores principales de aluminio con doble vidriado hermético de primera calidad. Herrajes de primera categoría.  Barandas de balcones de aluminio. Instalación completa de aire acondicionado, TV y telefonía. Opcional cochera y baulera.<br><br>El equipamiento y espacios comunes están orientados a la recreación y al disfrute del paisaje: microcine, gimnasio, patio de juegos, sala blanda para niños, quincho con parrilleros, sala de juegos, hidromasajes y piscina con solarium y vista al río y las islas.<br><br>EL CONJUNTO<br>Un lugar extraordinario: Está ubicado a pasos del grandioso Monumento Nacional a la Bandera, del gran espacio verde de parque que lo rodea, y del sector más lindo de la costa del río Paraná. También, a minutos del Centro y de todo lo que necesitamos diariamente para vivir con comodidad.<br>Un emprendimiento único: Portal de los Marinos no es un emprendimiento convencional. Son cuatro torres desarrolladas en un terreno de 1100 m2, cada una con características diferentes, y unificadas por un puente peatonal que las conecta y relaciona entre sí. Algunos proyectos tienen algo, otro tienen mucho, Portal de los Marinos tiene todo. El mejor lugar para vivir.<br>Un regalo para los sentidos: El ensamble perfecto entre ciudad y naturaleza: Salir a caminar por el parque al atardecer, preparar un asado con amigos el domingo al mediodía, disfrutar la risa de los chicos en su propio espacio de juegos, dejar la bici segura y cubierta a cualquier hora, hacer tu rutina física en el gimnasio sin salir del complejo, ir al cine sin ir al cine. Encontrar la tranquilidad en el corazón de la ciudad.Y más.   \n",
       "\n",
       "                         property_type operation_type  \n",
       "id                                                     \n",
       "DyVXfkpKygVBKuUk5olH+A==  Lote          Venta          \n",
       "9naojilaMecJN4jlQiTkGg==  Otro          Venta          \n",
       "tlCPRJPjoDEUzuuCelemAQ==  Casa          Alquiler       \n",
       "Zw3b91glQUO3HNrM5fPYlQ==  Lote          Venta          \n",
       "bsU81gm9JEgtZCbTYgvykg==  Departamento  Venta          \n",
       "\n",
       "[5 rows x 24 columns]"
      ]
     },
     "execution_count": 430,
     "metadata": {},
     "output_type": "execute_result"
    }
   ],
   "source": [
    "df.head()"
   ]
  },
  {
   "cell_type": "code",
   "execution_count": 431,
   "metadata": {},
   "outputs": [
    {
     "name": "stdout",
     "output_type": "stream",
     "text": [
      "<class 'pandas.core.frame.DataFrame'>\n",
      "Int64Index: 1087 entries, 1 to 1087\n",
      "Data columns (total 27 columns):\n",
      " #   Column           Non-Null Count  Dtype  \n",
      "---  ------           --------------  -----  \n",
      " 0   ad_type          1087 non-null   object \n",
      " 1   start_date       1087 non-null   object \n",
      " 2   end_date         1087 non-null   object \n",
      " 3   created_on       1087 non-null   object \n",
      " 4   lat              1087 non-null   float64\n",
      " 5   lon              1087 non-null   float64\n",
      " 6   l1               1087 non-null   object \n",
      " 7   l2               1087 non-null   object \n",
      " 8   l3               1087 non-null   object \n",
      " 9   rooms            1083 non-null   float64\n",
      " 10  bedrooms         958 non-null    float64\n",
      " 11  bathrooms        1083 non-null   float64\n",
      " 12  surface_total    1087 non-null   float64\n",
      " 13  surface_covered  1087 non-null   float64\n",
      " 14  price            0 non-null      float64\n",
      " 15  currency         1087 non-null   object \n",
      " 16  price_period     0 non-null      float64\n",
      " 17  title            1087 non-null   object \n",
      " 18  description      1083 non-null   object \n",
      " 19  property_type    1087 non-null   object \n",
      " 20  operation_type   1087 non-null   object \n",
      " 21  details          1087 non-null   object \n",
      " 22  additionals      955 non-null    object \n",
      " 23  services         842 non-null    object \n",
      " 24  l4               0 non-null      float64\n",
      " 25  l5               0 non-null      float64\n",
      " 26  l6               0 non-null      float64\n",
      "dtypes: float64(12), object(15)\n",
      "memory usage: 270.1+ KB\n"
     ]
    }
   ],
   "source": [
    "df_pred.info()"
   ]
  },
  {
   "cell_type": "code",
   "execution_count": 432,
   "metadata": {},
   "outputs": [
    {
     "name": "stdout",
     "output_type": "stream",
     "text": [
      "<class 'pandas.core.frame.DataFrame'>\n",
      "Index: 1000000 entries, DyVXfkpKygVBKuUk5olH+A== to rEynGyGrrsxNeG0ib5vUBA==\n",
      "Data columns (total 24 columns):\n",
      " #   Column           Non-Null Count    Dtype  \n",
      "---  ------           --------------    -----  \n",
      " 0   ad_type          1000000 non-null  object \n",
      " 1   start_date       1000000 non-null  object \n",
      " 2   end_date         1000000 non-null  object \n",
      " 3   created_on       1000000 non-null  object \n",
      " 4   lat              894233 non-null   float64\n",
      " 5   lon              894191 non-null   float64\n",
      " 6   l1               1000000 non-null  object \n",
      " 7   l2               1000000 non-null  object \n",
      " 8   l3               965273 non-null   object \n",
      " 9   l4               306162 non-null   object \n",
      " 10  l5               5530 non-null     object \n",
      " 11  l6               0 non-null        float64\n",
      " 12  rooms            714179 non-null   float64\n",
      " 13  bedrooms         649933 non-null   float64\n",
      " 14  bathrooms        765122 non-null   float64\n",
      " 15  surface_total    477831 non-null   float64\n",
      " 16  surface_covered  487756 non-null   float64\n",
      " 17  price            958243 non-null   float64\n",
      " 18  currency         955491 non-null   object \n",
      " 19  price_period     429870 non-null   object \n",
      " 20  title            999999 non-null   object \n",
      " 21  description      999958 non-null   object \n",
      " 22  property_type    1000000 non-null  object \n",
      " 23  operation_type   1000000 non-null  object \n",
      "dtypes: float64(9), object(15)\n",
      "memory usage: 190.7+ MB\n"
     ]
    }
   ],
   "source": [
    "df.info()"
   ]
  },
  {
   "cell_type": "markdown",
   "metadata": {},
   "source": [
    "# Limpieza (Outliers, Nulls, Filtros)"
   ]
  },
  {
   "cell_type": "code",
   "execution_count": 433,
   "metadata": {},
   "outputs": [],
   "source": [
    "# Me quedo solo con CABA\n",
    "df = df.loc[df[\"l1\"] == \"Argentina\"]"
   ]
  },
  {
   "cell_type": "markdown",
   "metadata": {},
   "source": [
    "## Nulls"
   ]
  },
  {
   "cell_type": "markdown",
   "metadata": {},
   "source": [
    "Del df entrenamiento vamos a dropear los na en lon y lat"
   ]
  },
  {
   "cell_type": "code",
   "execution_count": 434,
   "metadata": {},
   "outputs": [],
   "source": [
    "df.dropna(subset=[\"lon\"],inplace=True)\n",
    "df.dropna(subset=[\"lat\"],inplace=True)\n",
    "df.dropna(subset=[\"l3\"],inplace = True)\n",
    "df.dropna(subset=[\"price\"],inplace=True)\n",
    "df.dropna(subset=[\"currency\"],inplace=True)"
   ]
  },
  {
   "cell_type": "markdown",
   "metadata": {},
   "source": [
    "Con superficie y los distintos ambientes vamos a completar los nulls"
   ]
  },
  {
   "cell_type": "code",
   "execution_count": 435,
   "metadata": {},
   "outputs": [],
   "source": [
    "df.drop(df.loc[(df.rooms.isnull()) & (df.bedrooms.isnull()) & (df.bathrooms.isnull()) & (df.surface_total.isnull()) & (df.surface_covered.isnull())].index, inplace=True)"
   ]
  },
  {
   "cell_type": "code",
   "execution_count": 436,
   "metadata": {},
   "outputs": [],
   "source": [
    "df.rooms.fillna(1,inplace=True)\n",
    "df_pred.rooms.fillna(1,inplace=True)\n",
    "\n",
    "df.bedrooms.fillna(0,inplace=True)\n",
    "df_pred.bedrooms.fillna(0,inplace=True)\n",
    "\n",
    "df.bathrooms.fillna(0,inplace=True)\n",
    "df_pred.bathrooms.fillna(0,inplace=True)"
   ]
  },
  {
   "cell_type": "markdown",
   "metadata": {},
   "source": [
    "Ahora completamos la superficie total y cubierta"
   ]
  },
  {
   "cell_type": "code",
   "execution_count": 437,
   "metadata": {},
   "outputs": [],
   "source": [
    "df.loc[(df.surface_covered > 0) & (df.surface_total.isnull()),[\"surface_total\"]] = df.loc[(df.surface_covered > 0) & (df.surface_total.isnull()),[\"surface_covered\"]]\n",
    "df.loc[(df.surface_covered > 0) & (df.surface_total == 0),[\"surface_total\"]] = df.loc[(df.surface_covered > 0) & (df.surface_total.isnull()),[\"surface_covered\"]]\n",
    "df.loc[(df.surface_total > 0) & (df.surface_covered.isnull()),[\"surface_covered\"]] = 1"
   ]
  },
  {
   "cell_type": "code",
   "execution_count": 438,
   "metadata": {},
   "outputs": [],
   "source": [
    "df.surface_covered.fillna(1,inplace=True)\n",
    "df.surface_total.fillna(1,inplace=True)"
   ]
  },
  {
   "cell_type": "markdown",
   "metadata": {},
   "source": [
    "Completo los nulls de descripcion"
   ]
  },
  {
   "cell_type": "code",
   "execution_count": 439,
   "metadata": {},
   "outputs": [],
   "source": [
    "df_pred.description.fillna(\"null\",inplace=True)"
   ]
  },
  {
   "cell_type": "markdown",
   "metadata": {},
   "source": [
    "## Longitud y Latitud"
   ]
  },
  {
   "cell_type": "code",
   "execution_count": 440,
   "metadata": {},
   "outputs": [],
   "source": [
    "lon_min_max = (58.532674897063565, 58.338011418419356 ) #Limites Este/Oeste de CABA\n",
    "lat_min_max = (34.7058110012102, 34.531639) #Limites Norte/Sur de CABA"
   ]
  },
  {
   "cell_type": "markdown",
   "metadata": {},
   "source": [
    "Acomodo lon y lat de los datos a predecir, como no podemos dropear los na y outliers les vamos a asignar el valor que corresponda."
   ]
  },
  {
   "cell_type": "code",
   "execution_count": 441,
   "metadata": {},
   "outputs": [],
   "source": [
    "df_pred[[\"lat\",\"lon\"]] = df_pred[[\"lon\",\"lat\"]] # Los invertimos ya que se encontraban al revez"
   ]
  },
  {
   "cell_type": "code",
   "execution_count": 442,
   "metadata": {},
   "outputs": [],
   "source": [
    "# Establezco el valor absoluto de los campos\n",
    "df_pred[\"lon\"] = abs(df_pred[\"lon\"]) \n",
    "df_pred[\"lat\"] = abs(df_pred[\"lat\"]) "
   ]
  },
  {
   "cell_type": "code",
   "execution_count": 443,
   "metadata": {},
   "outputs": [],
   "source": [
    "# Lo que este fuera de la longitu y latitud maxima de CABA es outlier\n",
    "df_pred[\"lat_outlier\"] = df_pred.lat.apply(lambda x: 0 if (x < lat_min_max[0]) & (x > lat_min_max[1]) else 1)\n",
    "df_pred[\"lon_outlier\"] = df_pred.lon.apply(lambda x: 0 if (x < lon_min_max[0]) & (x > lon_min_max[1]) else 1)"
   ]
  },
  {
   "cell_type": "code",
   "execution_count": 444,
   "metadata": {},
   "outputs": [],
   "source": [
    "#Buscamos la longitud y latitud de los outliers según lo que vemos en el titulo de la publicación\n",
    "df_pred.loc[422,\"lat\"] = 34.628212\n",
    "df_pred.loc[873,\"lat\"] = 34.557626\n",
    "df_pred.loc[1055,\"lat\"] = 34.601223\n",
    "df_pred.loc[1057,\"lat\"] = 34.557626\n",
    "df_pred.loc[422,\"lon\"] = 58.426367\n",
    "df_pred.loc[873,\"lon\"] = 58.484324\n",
    "df_pred.loc[1055,\"lon\"] = 58.376599\n",
    "df_pred.loc[1057,\"lon\"] = 58.484324\n",
    "\n",
    "df_pred.loc[1057,\"lat\"] = 34.580921"
   ]
  },
  {
   "cell_type": "code",
   "execution_count": 445,
   "metadata": {},
   "outputs": [],
   "source": [
    "df_pred.drop(columns=[\"lat_outlier\",\"lon_outlier\"], inplace=True)"
   ]
  },
  {
   "cell_type": "markdown",
   "metadata": {},
   "source": [
    "Paso lon y lat a absolutos"
   ]
  },
  {
   "cell_type": "code",
   "execution_count": 446,
   "metadata": {},
   "outputs": [],
   "source": [
    "df[\"lon\"] = abs(df[\"lon\"]) \n",
    "df[\"lat\"] = abs(df[\"lat\"]) "
   ]
  },
  {
   "cell_type": "markdown",
   "metadata": {},
   "source": [
    "## Barrios"
   ]
  },
  {
   "cell_type": "code",
   "execution_count": 447,
   "metadata": {},
   "outputs": [
    {
     "data": {
      "text/html": [
       "<div>\n",
       "<style scoped>\n",
       "    .dataframe tbody tr th:only-of-type {\n",
       "        vertical-align: middle;\n",
       "    }\n",
       "\n",
       "    .dataframe tbody tr th {\n",
       "        vertical-align: top;\n",
       "    }\n",
       "\n",
       "    .dataframe thead th {\n",
       "        text-align: right;\n",
       "    }\n",
       "</style>\n",
       "<table border=\"1\" class=\"dataframe\">\n",
       "  <thead>\n",
       "    <tr style=\"text-align: right;\">\n",
       "      <th></th>\n",
       "      <th>l3</th>\n",
       "      <th>title</th>\n",
       "    </tr>\n",
       "    <tr>\n",
       "      <th>id</th>\n",
       "      <th></th>\n",
       "      <th></th>\n",
       "    </tr>\n",
       "  </thead>\n",
       "  <tbody>\n",
       "    <tr>\n",
       "      <th>133</th>\n",
       "      <td>2 Ambientes</td>\n",
       "      <td>Avenida Coronel Niceto Vega 5100 - PH en Venta en CABA de 51 m2 con 1 dormitorio, 1 baño, a .</td>\n",
       "    </tr>\n",
       "    <tr>\n",
       "      <th>1010</th>\n",
       "      <td>GBA Norte</td>\n",
       "      <td>Melo Al 4000 - PH en Venta en Vicente López, Vicente López, GBA Norte, Provincia de Buenos Aires de 265 m2 con 4 dormitorios, 3 baños, a .</td>\n",
       "    </tr>\n",
       "  </tbody>\n",
       "</table>\n",
       "</div>"
      ],
      "text/plain": [
       "               l3  \\\n",
       "id                  \n",
       "133   2 Ambientes   \n",
       "1010  GBA Norte     \n",
       "\n",
       "                                                                                                                                           title  \n",
       "id                                                                                                                                                \n",
       "133   Avenida Coronel Niceto Vega 5100 - PH en Venta en CABA de 51 m2 con 1 dormitorio, 1 baño, a .                                               \n",
       "1010  Melo Al 4000 - PH en Venta en Vicente López, Vicente López, GBA Norte, Provincia de Buenos Aires de 265 m2 con 4 dormitorios, 3 baños, a .  "
      ]
     },
     "execution_count": 447,
     "metadata": {},
     "output_type": "execute_result"
    }
   ],
   "source": [
    "df_pred.loc[(df_pred.l3 == \"GBA Norte\") | (df_pred.l3 == \"2 Ambientes\"), [\"l3\",\"title\"]]"
   ]
  },
  {
   "cell_type": "markdown",
   "metadata": {},
   "source": [
    "Vemos que en el set de datos a predecir hay 2 registros que tienen valores atipicos en el barrio, asi que corregimos."
   ]
  },
  {
   "cell_type": "code",
   "execution_count": 448,
   "metadata": {},
   "outputs": [],
   "source": [
    "df_pred.loc[133,[\"l3\"]] = \"Palermo\"\n",
    "\n",
    "df_pred.loc[1010,[\"l3\"]] = \"Vicente López\""
   ]
  },
  {
   "cell_type": "markdown",
   "metadata": {},
   "source": [
    "## Precio y moneda"
   ]
  },
  {
   "cell_type": "code",
   "execution_count": 449,
   "metadata": {},
   "outputs": [],
   "source": [
    "df = df.loc[df.operation_type == \"Venta\"]"
   ]
  },
  {
   "cell_type": "code",
   "execution_count": 450,
   "metadata": {},
   "outputs": [],
   "source": [
    "df.drop(df.loc[df.price_period == \"Mensual\"].index, inplace = True)"
   ]
  },
  {
   "cell_type": "code",
   "execution_count": 451,
   "metadata": {},
   "outputs": [],
   "source": [
    "df = df.loc[df[\"currency\"] == \"USD\"]\n",
    "\n",
    "df.drop(columns = [\"currency\"], inplace = True )"
   ]
  },
  {
   "cell_type": "markdown",
   "metadata": {},
   "source": [
    "## Tipo de propiedad"
   ]
  },
  {
   "cell_type": "code",
   "execution_count": 452,
   "metadata": {},
   "outputs": [],
   "source": [
    "df[\"property_type_check\"] = df.property_type.apply(lambda x: 1 if x in (\"Departamento\",\"PH\") else 0)\n",
    "\n",
    "df = df.loc[df[\"property_type_check\"] == 1]\n",
    "\n",
    "df.drop(columns = \"property_type_check\", inplace = True)"
   ]
  },
  {
   "cell_type": "markdown",
   "metadata": {},
   "source": [
    "## Superficie total y cubierta"
   ]
  },
  {
   "cell_type": "code",
   "execution_count": 453,
   "metadata": {},
   "outputs": [],
   "source": [
    "df.loc[(df.surface_total < 0), [\"surface_total\"]] = abs(df.loc[(df.surface_total < 0), [\"surface_total\"]])\n",
    "df.loc[(df.surface_covered < 0), [\"surface_covered\"]] = abs(df.loc[(df.surface_covered < 0), [\"surface_covered\"]])"
   ]
  },
  {
   "cell_type": "markdown",
   "metadata": {},
   "source": [
    "## Limpieza Palermo"
   ]
  },
  {
   "cell_type": "code",
   "execution_count": 454,
   "metadata": {},
   "outputs": [],
   "source": [
    "df[\"Equipado\"] = df.description.apply(lambda x: 1 if \"equipado\" in x.lower() else 0)"
   ]
  },
  {
   "cell_type": "code",
   "execution_count": 455,
   "metadata": {},
   "outputs": [],
   "source": [
    "df.loc[\"CaaWrxVeKtQs5gc2KNe1wA==\", \"price\"] = 170000.0"
   ]
  },
  {
   "cell_type": "code",
   "execution_count": 456,
   "metadata": {},
   "outputs": [],
   "source": [
    "df.drop(df.loc[(df.l3 == \"Palermo\") & (df[\"price\"] == 9999999)].index , inplace = True)\n",
    "df.drop(df.loc[(df.l3 == \"Palermo\") & (df[\"price\"] < 20000)].index , inplace = True)\n",
    "df.drop(df.loc[(df.Equipado == 1)].index , inplace = True)\n",
    "df.drop(columns = [\"Equipado\"], inplace = True)"
   ]
  },
  {
   "cell_type": "code",
   "execution_count": 457,
   "metadata": {},
   "outputs": [],
   "source": [
    "\n",
    "#df_pred[\"alquiler\"] = df_pred.description.apply(lambda x: 1 if \"alquiler\" in x.lower() else 0)\n",
    "#df_pred[\"alquiler\"] = df_pred.description.apply(lambda x: 1 if \"alquiler\" in x.lower() else 0)\n"
   ]
  },
  {
   "cell_type": "markdown",
   "metadata": {},
   "source": [
    "## Limpieza Belgrano"
   ]
  },
  {
   "cell_type": "code",
   "execution_count": 458,
   "metadata": {},
   "outputs": [],
   "source": [
    "df[\"block\"] = df.description.apply(lambda x: 1 if \"venta en block\" in x.lower() else 0)\n",
    "df_pred[\"block\"] = df_pred.description.apply(lambda x: 1 if \"venta en block\" in x.lower() else 0)"
   ]
  },
  {
   "cell_type": "code",
   "execution_count": 459,
   "metadata": {},
   "outputs": [],
   "source": [
    "df.loc[df.loc[df.description.str.contains(\"apto profe[cs]iona[l|es]\")].index,[\"profesionales\"]] = 1\n",
    "df_pred.loc[df_pred.loc[df_pred.description.str.contains(\"apto profe[cs]iona[l|es]\")].index,[\"profesionales\"]] = 1\n",
    "df.profesionales.fillna(0,inplace=True)\n",
    "df_pred.profesionales.fillna(0,inplace=True)"
   ]
  },
  {
   "cell_type": "code",
   "execution_count": 460,
   "metadata": {},
   "outputs": [],
   "source": [
    "df_pred.profesionales.fillna(0,inplace=True)"
   ]
  },
  {
   "cell_type": "code",
   "execution_count": 461,
   "metadata": {},
   "outputs": [],
   "source": [
    "df[\"cochera\"] = df.description.apply(lambda x: 1 if \"cochera en venta\" in x.lower() else 0)\n",
    "df_pred[\"cochera\"] = df_pred.description.apply(lambda x: 1 if \"cochera en venta\" in x.lower() else 0)"
   ]
  },
  {
   "cell_type": "code",
   "execution_count": 462,
   "metadata": {},
   "outputs": [],
   "source": [
    "df[\"duplex\"] = df.title.apply(lambda x: 1 if \"duplex\" in x.lower() else 0)\n",
    "df_pred[\"duplex\"] = df_pred.title.apply(lambda x: 1 if \"duplex\" in x.lower() else 0)"
   ]
  },
  {
   "cell_type": "code",
   "execution_count": 463,
   "metadata": {},
   "outputs": [],
   "source": [
    "df.drop('nKPXW6i6HdJ6JavGppte/Q==', inplace=True)"
   ]
  },
  {
   "cell_type": "code",
   "execution_count": 464,
   "metadata": {},
   "outputs": [],
   "source": [
    "df.loc[\"8tdrPoRYiE4KFuqcEQOY/A==\",[\"surface_covered\",\"surface_total\"]] = [456.40, 516.97]"
   ]
  },
  {
   "cell_type": "code",
   "execution_count": 465,
   "metadata": {},
   "outputs": [],
   "source": [
    "patron= \"superficie cubierta: ([0-9]+[,.][0-9]+) m2\"\n",
    "df[\"superficie\"] = df.description.apply(lambda texto: re.search(patron,texto.lower()).group() if type(re.search(patron,texto.lower())) == re.Match else \"null\")"
   ]
  },
  {
   "cell_type": "code",
   "execution_count": 466,
   "metadata": {},
   "outputs": [],
   "source": [
    "patron= \"([0-9]+[,.][0-9]+)\"\n",
    "df[\"superficie_m2\"] = df.superficie.apply(lambda texto: re.search(patron,texto.lower()).group() if type(re.search(patron,texto.lower())) == re.Match else 0)"
   ]
  },
  {
   "cell_type": "code",
   "execution_count": 467,
   "metadata": {},
   "outputs": [],
   "source": [
    "df[\"superficie_m2\"] = df[\"superficie_m2\"].str.replace(\",\",\".\")\n",
    "df[\"superficie_m2\"].fillna(0,inplace=True)\n",
    "df['superficie_m2'] = df['superficie_m2'].astype(float)"
   ]
  },
  {
   "cell_type": "code",
   "execution_count": 468,
   "metadata": {},
   "outputs": [],
   "source": [
    "df.loc[(df[\"superficie_m2\"] > 1)&(df.surface_covered == 1), \"surface_covered\"] = len(df.loc[(df[\"superficie_m2\"] > 1)&(df.surface_covered == 1), \"superficie_m2\"])\n",
    "df.drop(columns=[\"superficie\",\"superficie_m2\"], inplace=True)"
   ]
  },
  {
   "cell_type": "code",
   "execution_count": 469,
   "metadata": {},
   "outputs": [],
   "source": [
    "df[\"m2\"] = df.price/df.surface_covered"
   ]
  },
  {
   "cell_type": "code",
   "execution_count": 470,
   "metadata": {},
   "outputs": [
    {
     "data": {
      "text/plain": [
       "rooms        5.0\n",
       "bedrooms     0.0\n",
       "bathrooms    7.0\n",
       "Name: id832qtR6K3gvrfMzc5Gfw==, dtype: object"
      ]
     },
     "execution_count": 470,
     "metadata": {},
     "output_type": "execute_result"
    }
   ],
   "source": [
    "df.loc[\"id832qtR6K3gvrfMzc5Gfw==\",[\"rooms\",\"bedrooms\",\"bathrooms\"]]"
   ]
  },
  {
   "cell_type": "code",
   "execution_count": 471,
   "metadata": {},
   "outputs": [],
   "source": [
    "df[\"room_m2\"] = df.surface_covered/df.rooms"
   ]
  },
  {
   "cell_type": "code",
   "execution_count": 472,
   "metadata": {},
   "outputs": [
    {
     "data": {
      "text/plain": [
       "id\n",
       "qLC4I45gTS2gy5KzUzBifQ==    Corredor Responsable: Gustavo Guastello - C.U.C.I.C.B.A 869Contacto: Karina Melgar - MLS ID # 420241168-41FABULOSO DEPARTAMENTO DE 3 AMBIENTES CON DEPENDENCIA CON COCHERA Y BAULERA<br><br>SUMAMENTE SILENCIOSO Y  LUMINOSO. AMPLIA VISTA A PULMON DE MANZANA. ORIENTACION NORTE<br>Amplio departamento de dos dormitorios y dependencia totalmente alfombrado, baño completo y toilette con ducha. Cocina con barra para comidas rápidas. Actualmente trabaja un estudio contable. Cuenta con instalación de gas sin suministro del mismo debido a que su uso profesional prescindía del mismo. Se puede negociar algunos de sus muebles. La unidad cuenta con baulera  individual y espacio guardacoches en subsuelo. Calefacción central.<br>Expensas $10.000<br><br>EXCELENTE UBICACIÓN: A SOLO 150mts DE Av. CABILDO y A 200mts DE PLAZA MANUEL BELGRANO Y PLAZA NORUEGA. A MANOS DE 10 CUADRAS DE LA ESTACIÓN BELGRANO C DEL FERROCARRIL MITRE. ZONA PURAMENTE COMERCIAL<br><br>Colectivos: 29, 41, 44, 57, 59, 60, 63, 65, 67, 68, 80, 113, 114, 151, 152, 161, 168, 184, 194<br>Subte: Estación Juramento de la línea D \\n\\n Comprá la casa que querés! No la que podés. Accedé a un préstamo por hasta el 30% del valor de esta propiedad. Simulá tu cuota en Lendar \n",
       "Name: description, dtype: object"
      ]
     },
     "execution_count": 472,
     "metadata": {},
     "output_type": "execute_result"
    }
   ],
   "source": [
    "df.loc[(df.l3 == \"Belgrano\")&(df.room_m2 == 21220.0),\"description\"]"
   ]
  },
  {
   "cell_type": "code",
   "execution_count": 473,
   "metadata": {},
   "outputs": [
    {
     "data": {
      "text/plain": [
       "2576"
      ]
     },
     "execution_count": 473,
     "metadata": {},
     "output_type": "execute_result"
    }
   ],
   "source": [
    "len(df.loc[(df.l3 == \"Belgrano\")&(df[\"surface_covered\"] == 1), \"m2\"])"
   ]
  },
  {
   "cell_type": "code",
   "execution_count": 474,
   "metadata": {},
   "outputs": [
    {
     "data": {
      "text/plain": [
       "2200000.0"
      ]
     },
     "execution_count": 474,
     "metadata": {},
     "output_type": "execute_result"
    }
   ],
   "source": [
    "df.loc[(df.l3 == \"Belgrano\"),\"m2\"].max()"
   ]
  },
  {
   "cell_type": "code",
   "execution_count": 475,
   "metadata": {},
   "outputs": [
    {
     "data": {
      "text/html": [
       "<div>\n",
       "<style scoped>\n",
       "    .dataframe tbody tr th:only-of-type {\n",
       "        vertical-align: middle;\n",
       "    }\n",
       "\n",
       "    .dataframe tbody tr th {\n",
       "        vertical-align: top;\n",
       "    }\n",
       "\n",
       "    .dataframe thead th {\n",
       "        text-align: right;\n",
       "    }\n",
       "</style>\n",
       "<table border=\"1\" class=\"dataframe\">\n",
       "  <thead>\n",
       "    <tr style=\"text-align: right;\">\n",
       "      <th></th>\n",
       "      <th>ad_type</th>\n",
       "      <th>start_date</th>\n",
       "      <th>end_date</th>\n",
       "      <th>created_on</th>\n",
       "      <th>lat</th>\n",
       "      <th>lon</th>\n",
       "      <th>l1</th>\n",
       "      <th>l2</th>\n",
       "      <th>l3</th>\n",
       "      <th>l4</th>\n",
       "      <th>...</th>\n",
       "      <th>title</th>\n",
       "      <th>description</th>\n",
       "      <th>property_type</th>\n",
       "      <th>operation_type</th>\n",
       "      <th>block</th>\n",
       "      <th>profesionales</th>\n",
       "      <th>cochera</th>\n",
       "      <th>duplex</th>\n",
       "      <th>m2</th>\n",
       "      <th>room_m2</th>\n",
       "    </tr>\n",
       "    <tr>\n",
       "      <th>id</th>\n",
       "      <th></th>\n",
       "      <th></th>\n",
       "      <th></th>\n",
       "      <th></th>\n",
       "      <th></th>\n",
       "      <th></th>\n",
       "      <th></th>\n",
       "      <th></th>\n",
       "      <th></th>\n",
       "      <th></th>\n",
       "      <th></th>\n",
       "      <th></th>\n",
       "      <th></th>\n",
       "      <th></th>\n",
       "      <th></th>\n",
       "      <th></th>\n",
       "      <th></th>\n",
       "      <th></th>\n",
       "      <th></th>\n",
       "      <th></th>\n",
       "      <th></th>\n",
       "    </tr>\n",
       "  </thead>\n",
       "  <tbody>\n",
       "  </tbody>\n",
       "</table>\n",
       "<p>0 rows × 29 columns</p>\n",
       "</div>"
      ],
      "text/plain": [
       "Empty DataFrame\n",
       "Columns: [ad_type, start_date, end_date, created_on, lat, lon, l1, l2, l3, l4, l5, l6, rooms, bedrooms, bathrooms, surface_total, surface_covered, price, price_period, title, description, property_type, operation_type, block, profesionales, cochera, duplex, m2, room_m2]\n",
       "Index: []\n",
       "\n",
       "[0 rows x 29 columns]"
      ]
     },
     "execution_count": 475,
     "metadata": {},
     "output_type": "execute_result"
    }
   ],
   "source": [
    "df.loc[(df.l3 == \"Belgrano\")&(df.m2 == 5500000)]"
   ]
  },
  {
   "cell_type": "code",
   "execution_count": 476,
   "metadata": {},
   "outputs": [
    {
     "data": {
      "text/plain": [
       "id\n",
       "R3xPLfk6R32yJEiCO+U5YA==    82500.000000 \n",
       "EDKkf/Loke8bnpRyWY1Y2Q==    95000.000000 \n",
       "J9RfQFTU1Txal9yllTNneQ==    115000.000000\n",
       "7/z2H+zYHrtDuu/43d06DQ==    135000.000000\n",
       "X9Y96i5k/2P5z9KLoZlNYw==    175000.000000\n",
       "                                ...      \n",
       "F4y8NoLRUaIDl+yFbu4TMA==    2590.769231  \n",
       "mTGff4XFOXpfWX0MKF4wdA==    4536.363636  \n",
       "GjgpUqQ7My+U3qSTLBGjLQ==    2391.304348  \n",
       "qfURKRHP2iQbN/NeN7QBQA==    3005.128205  \n",
       "YjYRvt6eJTVC9ySjOCrxTw==    2448.979592  \n",
       "Name: m2, Length: 5790, dtype: float64"
      ]
     },
     "execution_count": 476,
     "metadata": {},
     "output_type": "execute_result"
    }
   ],
   "source": [
    "df.loc[(df.l3 == \"Belgrano\"),\"m2\"]"
   ]
  },
  {
   "cell_type": "code",
   "execution_count": 477,
   "metadata": {},
   "outputs": [],
   "source": [
    "df.drop(columns=[\"m2\",\"room_m2\"], inplace=True)"
   ]
  },
  {
   "cell_type": "markdown",
   "metadata": {},
   "source": [
    "## Limpieza Recoleta"
   ]
  },
  {
   "cell_type": "markdown",
   "metadata": {},
   "source": [
    "## Limpieza Núñez"
   ]
  },
  {
   "cell_type": "markdown",
   "metadata": {},
   "source": [
    "## Limpieza Puerto Madero"
   ]
  },
  {
   "cell_type": "markdown",
   "metadata": {},
   "source": [
    "## Elimino las columnas que no utilizo"
   ]
  },
  {
   "cell_type": "code",
   "execution_count": 478,
   "metadata": {},
   "outputs": [],
   "source": [
    "df.drop(columns = [\"ad_type\",\"l4\",\"l5\", \"l6\", \"created_on\",\"start_date\", \"end_date\",\"l1\",\"l2\",\"price_period\",\"operation_type\"], inplace = True )"
   ]
  },
  {
   "cell_type": "code",
   "execution_count": 479,
   "metadata": {},
   "outputs": [],
   "source": [
    "df.drop_duplicates(inplace = True)"
   ]
  },
  {
   "cell_type": "code",
   "execution_count": 480,
   "metadata": {},
   "outputs": [],
   "source": [
    "df_pred.drop(columns = [\"ad_type\",\"l4\",\"l5\", \"l6\", \"created_on\",\"start_date\", \"end_date\",\"l1\",\"l2\",\"price_period\",\"operation_type\",\"currency\",\"price_period\",\"services\"], inplace = True )\n",
    "#df_pred.drop(columns = [\"title\",\"description\",\"details\",\"additionals\"], inplace = True)"
   ]
  },
  {
   "cell_type": "markdown",
   "metadata": {
    "id": "i2jRJmQ-tD4Z"
   },
   "source": [
    "# Feature Engineering"
   ]
  },
  {
   "cell_type": "markdown",
   "metadata": {},
   "source": [
    "Uno los dos data frames"
   ]
  },
  {
   "cell_type": "code",
   "execution_count": 481,
   "metadata": {},
   "outputs": [],
   "source": [
    "df_total = pd.concat([df,df_pred], axis=0)"
   ]
  },
  {
   "cell_type": "markdown",
   "metadata": {
    "tags": []
   },
   "source": [
    "## Additionals"
   ]
  },
  {
   "cell_type": "markdown",
   "metadata": {},
   "source": [
    "Genero dummies con los additionals y lo agrego en el df"
   ]
  },
  {
   "cell_type": "code",
   "execution_count": 482,
   "metadata": {
    "collapsed": true,
    "jupyter": {
     "outputs_hidden": true
    },
    "tags": []
   },
   "outputs": [],
   "source": [
    "df_pred.additionals.fillna(\"zxzyzjz\", inplace = True)\n",
    "df_pred.additionals_split = df_pred.additionals.apply(lambda x: x.split(\",\"))"
   ]
  },
  {
   "cell_type": "code",
   "execution_count": 483,
   "metadata": {},
   "outputs": [],
   "source": [
    "additionals_list = df_pred.additionals_split.explode().unique()\n",
    "additionals_list = [x.strip() for x in additionals_list]\n",
    "additionals_list = list(dict.fromkeys(additionals_list))\n",
    "additionals_list.append(\"Subte\")\n",
    "additionals_list.append(\"Parrilla\")"
   ]
  },
  {
   "cell_type": "code",
   "execution_count": 484,
   "metadata": {},
   "outputs": [],
   "source": [
    "df_total.description.fillna(\"sin_descripcion\", inplace = True)"
   ]
  },
  {
   "cell_type": "code",
   "execution_count": 485,
   "metadata": {},
   "outputs": [],
   "source": [
    "for additional in additionals_list:\n",
    "    df_total[additional] = df_total.description.apply(lambda x: 1 if additional.lower() in x.lower() else 0)"
   ]
  },
  {
   "cell_type": "code",
   "execution_count": 486,
   "metadata": {},
   "outputs": [],
   "source": [
    "df_total.drop(columns = \"zxzyzjz\", inplace = True)\n",
    "df_total.drop(columns = \"additionals\", inplace = True)\n",
    "df_total.drop(columns = \"description\", inplace = True)"
   ]
  },
  {
   "cell_type": "markdown",
   "metadata": {},
   "source": [
    "## Dummies"
   ]
  },
  {
   "cell_type": "code",
   "execution_count": 487,
   "metadata": {},
   "outputs": [
    {
     "data": {
      "text/plain": [
       "Index(['l3', 'title', 'property_type', 'details'], dtype='object')"
      ]
     },
     "execution_count": 487,
     "metadata": {},
     "output_type": "execute_result"
    }
   ],
   "source": [
    "df_total.select_dtypes(include = \"object\").columns"
   ]
  },
  {
   "cell_type": "code",
   "execution_count": 489,
   "metadata": {},
   "outputs": [],
   "source": [
    "df_total.drop(columns=['title', 'details'], inplace=True)"
   ]
  },
  {
   "cell_type": "code",
   "execution_count": 490,
   "metadata": {},
   "outputs": [],
   "source": [
    "df_total = pd.get_dummies(df_total, columns = [ \"property_type\"])"
   ]
  },
  {
   "cell_type": "markdown",
   "metadata": {},
   "source": [
    "## Dividimos los DF"
   ]
  },
  {
   "cell_type": "code",
   "execution_count": 491,
   "metadata": {},
   "outputs": [],
   "source": [
    "df = df_total[df_total.index.isin(df.index)]\n",
    "df_pred = df_total[df_total.index.isin(df_pred.index)]"
   ]
  },
  {
   "cell_type": "code",
   "execution_count": 492,
   "metadata": {},
   "outputs": [],
   "source": [
    "barrios = df_pred.l3.unique()\n",
    "\n",
    "df[\"barrio_ok\"] = df.l3.apply(lambda x: 1 if x in barrios else 0)\n",
    "\n",
    "df = df.loc[df[\"barrio_ok\"] == 1]\n",
    "\n",
    "df.drop(columns = \"barrio_ok\", inplace = True)"
   ]
  },
  {
   "cell_type": "code",
   "execution_count": 493,
   "metadata": {},
   "outputs": [
    {
     "data": {
      "text/plain": [
       "array(['Balvanera', 'Villa Urquiza', 'Palermo', 'Belgrano', 'Floresta',\n",
       "       'Villa Pueyrredon', 'Saavedra', 'Villa Devoto', 'San Nicolás',\n",
       "       'Chacarita', 'Villa Crespo', 'Boedo', 'Flores', 'Paternal', 'Boca',\n",
       "       'Recoleta', 'Caballito', 'Nuñez', 'Constitución', 'Colegiales',\n",
       "       'San Telmo', 'Monserrat', 'Puerto Madero', 'Villa del Parque',\n",
       "       'Almagro', 'Villa Ortuzar', 'Villa Lugano', 'San Cristobal',\n",
       "       'Barracas', 'Liniers', 'Mataderos', 'Villa Santa Rita',\n",
       "       'Parque Patricios', 'Parque Chas', 'Villa General Mitre', 'Retiro',\n",
       "       'Parque Avellaneda', 'Monte Castro', 'Parque Chacabuco',\n",
       "       'Villa Luro', 'Versalles', 'Coghlan', 'Vélez Sarsfield',\n",
       "       'Nueva Pompeya', 'Agronomía', 'Villa Real', 'Vicente López'],\n",
       "      dtype=object)"
      ]
     },
     "execution_count": 493,
     "metadata": {},
     "output_type": "execute_result"
    }
   ],
   "source": [
    "barrios"
   ]
  },
  {
   "cell_type": "markdown",
   "metadata": {},
   "source": [
    "# Modelización"
   ]
  },
  {
   "cell_type": "markdown",
   "metadata": {},
   "source": [
    "## Entrenamiento"
   ]
  },
  {
   "cell_type": "markdown",
   "metadata": {},
   "source": [
    "### Split RandomForest"
   ]
  },
  {
   "cell_type": "code",
   "execution_count": null,
   "metadata": {
    "id": "PoAhfAjlr-rp"
   },
   "outputs": [],
   "source": [
    "barrios_null = []\n",
    "\n",
    "mejores_parametros = dict()\n",
    "\n",
    "for barrio in barrios:\n",
    "\n",
    "    try:\n",
    "\n",
    "        X = df.loc[df.l3 == barrio][df.columns.drop(['price',\"l3\"])]\n",
    "        y = df.loc[df.l3 == barrio,\"price\"]\n",
    "\n",
    "        X_train, X_test, y_train, y_test = sk.model_selection.train_test_split(X, y, test_size=0.2, random_state=42, shuffle=True)\n",
    "\n",
    "        ne = 0\n",
    "        md = 0\n",
    "        m_score = 999999\n",
    "\n",
    "        for n_estimators in [50, 100, 500, 1000, 3000]:               \n",
    "\n",
    "            for max_depth in [3, 5, 10, 20, 50]:\n",
    "            \n",
    "                reg = sk.ensemble.RandomForestRegressor(n_estimators=n_estimators, max_depth=max_depth, n_jobs=-1, random_state=42)\n",
    "\n",
    "                # Entrenamos el modelo\n",
    "                reg.fit(X_train, y_train)\n",
    "\n",
    "                # Predecimos\n",
    "                y_pred = reg.predict(X_test)\n",
    "\n",
    "                # Medimos la performance de la predicción\n",
    "                score = sk.metrics.mean_squared_error(y_test, y_pred, squared=False)\n",
    "\n",
    "                if m_score > score:\n",
    "                \n",
    "                    m_score=score\n",
    "                    ne = n_estimators\n",
    "                    md = max_depth\n",
    "\n",
    "                else:\n",
    "\n",
    "                    continue            \n",
    "\n",
    "        print(f\"{barrio},{ne},{md},{m_score}\")\n",
    "\n",
    "        mejores_parametros[barrio] = [ne,md]\n",
    "\n",
    "    except:\n",
    "\n",
    "        barrios_null.append(barrio)\n",
    "        "
   ]
  },
  {
   "cell_type": "markdown",
   "metadata": {},
   "source": [
    "### Gradient Boosting"
   ]
  },
  {
   "cell_type": "code",
   "execution_count": 499,
   "metadata": {},
   "outputs": [
    {
     "name": "stdout",
     "output_type": "stream",
     "text": [
      "n_50 | max_depth: 3 | score: 107825.04931617774\n",
      "n_50 | max_depth: 5 | score: 98785.86906923148\n",
      "n_50 | max_depth: 7 | score: 89551.941197954\n",
      "n_50 | max_depth: 10 | score: 87681.11248392847\n",
      "------------------------------------------------------------------\n",
      "\n",
      "n_100 | max_depth: 3 | score: 103207.44249231863\n",
      "n_100 | max_depth: 5 | score: 95285.23983231153\n",
      "n_100 | max_depth: 7 | score: 87295.18091129597\n",
      "n_100 | max_depth: 10 | score: 86096.3255776988\n",
      "------------------------------------------------------------------\n",
      "\n",
      "n_500 | max_depth: 3 | score: 93439.27285709721\n",
      "n_500 | max_depth: 5 | score: 89490.20709468082\n",
      "n_500 | max_depth: 7 | score: 84183.07024820967\n",
      "n_500 | max_depth: 10 | score: 84982.29249655362\n",
      "------------------------------------------------------------------\n",
      "\n",
      "n_1000 | max_depth: 3 | score: 90016.83165610532\n",
      "n_1000 | max_depth: 5 | score: 88457.65603356555\n",
      "n_1000 | max_depth: 7 | score: 83760.86323278389\n",
      "n_1000 | max_depth: 10 | score: 85038.97410271315\n",
      "------------------------------------------------------------------\n",
      "\n",
      "n_3000 | max_depth: 3 | score: 89029.32979573327\n",
      "n_3000 | max_depth: 5 | score: 86947.03337124991\n",
      "n_3000 | max_depth: 7 | score: 83625.33275821655\n",
      "n_3000 | max_depth: 10 | score: 85121.32680282807\n",
      "------------------------------------------------------------------\n",
      "\n"
     ]
    }
   ],
   "source": [
    "X = df[df.columns.drop(['price',\"l3\"])]\n",
    "y = df[\"price\"]\n",
    "\n",
    "X_train, X_test, y_train, y_test = sk.model_selection.train_test_split(X, y, test_size=0.2, random_state=42, shuffle=True)\n",
    "\n",
    "for n_estimators in [50, 100, 500, 1000, 3000]:               \n",
    "    \n",
    "    for max_depth in [3, 5, 7, 10]:\n",
    "    \n",
    "        reg = sk.ensemble.GradientBoostingRegressor(n_estimators=n_estimators, max_depth=max_depth,  random_state=42)\n",
    "        \n",
    "        # Entrenamos el modelo\n",
    "        reg.fit(X_train, y_train)\n",
    "        \n",
    "        # Predecimos\n",
    "        y_pred = reg.predict(X_test)\n",
    "        \n",
    "        # Medimos la performance de la predicción\n",
    "        score = sk.metrics.mean_squared_error(y_test, y_pred, squared=False)\n",
    "    \n",
    "        print(f\"n_{n_estimators} | max_depth: {max_depth} | score: {score}\")\n",
    "    print(f\"------------------------------------------------------------------\\n\")\n",
    "            \n",
    "            "
   ]
  },
  {
   "cell_type": "markdown",
   "metadata": {
    "id": "sqVkTPzj3kV0"
   },
   "source": [
    "## Predicción para Kaggle\n"
   ]
  },
  {
   "cell_type": "markdown",
   "metadata": {},
   "source": [
    "### Split RandomFores"
   ]
  },
  {
   "cell_type": "code",
   "execution_count": 496,
   "metadata": {
    "id": "81dOh5WvAPMa"
   },
   "outputs": [],
   "source": [
    "# genero un df resultados para concatenar las respuesta y despues ordenarlo para la solucion final\n",
    "df_respuestas = pd.DataFrame()\n",
    "\n",
    "for barrio in barrios:\n",
    "\n",
    "    df_temp = pd.DataFrame()\n",
    "\n",
    "    if barrio in barrios_null:\n",
    "        \n",
    "        X = df[df.columns.drop(['price',\"l3\"])]\n",
    "        y = df[\"price\"]\n",
    "        X_pred = df_pred.loc[df_pred.l3 == barrio][df_pred.columns.drop(['price',\"l3\"])]\n",
    "\n",
    "        df_temp[\"id\"] = X_pred.index    \n",
    "\n",
    "        n_estimators = 500\n",
    "        max_depth = 10\n",
    "\n",
    "        # Entrenamiento\n",
    "        reg = sk.ensemble.RandomForestRegressor(n_estimators=n_estimators, max_depth=max_depth, random_state=42, n_jobs=-1)\n",
    "\n",
    "        # Entrenamos el modelo\n",
    "        reg.fit(X, y)\n",
    "\n",
    "        # predicción\n",
    "        df_temp[\"price\"] = reg.predict(X_pred)   \n",
    "\n",
    "        df_respuestas = pd.concat([df_respuestas , df_temp], axis=0)        \n",
    "\n",
    "    else:\n",
    "\n",
    "        X = df.loc[df.l3 == barrio][df.columns.drop(['price',\"l3\"])]\n",
    "        y = df.loc[df.l3 == barrio,\"price\"]\n",
    "        X_pred = df_pred.loc[df_pred.l3 == barrio][df_pred.columns.drop(['price',\"l3\"])]\n",
    "\n",
    "        df_temp[\"id\"] = X_pred.index\n",
    "\n",
    "        # los mejores hiperparámetros encontrados antes\n",
    "        n_estimators = mejores_parametros[barrio][0]\n",
    "        max_depth = mejores_parametros[barrio][1]\n",
    "\n",
    "        # Entrenamiento\n",
    "        reg = sk.ensemble.RandomForestRegressor(n_estimators=n_estimators, max_depth=max_depth, random_state=42, n_jobs=-1)\n",
    "\n",
    "        # Entrenamos el modelo\n",
    "        reg.fit(X, y)\n",
    "\n",
    "        # predicción\n",
    "        df_temp[\"price\"] = reg.predict(X_pred)\n",
    "                \n",
    "        df_respuestas = pd.concat([df_respuestas , df_temp], axis=0) \n",
    "\n",
    "        #if barrio == \"Palermo\":\n",
    "        #    print(len(df_respuestas))\n",
    "        #    break\n",
    "        "
   ]
  },
  {
   "cell_type": "code",
   "execution_count": 497,
   "metadata": {},
   "outputs": [],
   "source": [
    "df_respuestas.set_index(\"id\", drop=True, inplace=True)\n",
    "df_respuestas.sort_index(axis=0, inplace=True)"
   ]
  },
  {
   "cell_type": "code",
   "execution_count": 498,
   "metadata": {
    "id": "mU9iV6cuBwKB"
   },
   "outputs": [],
   "source": [
    "# Grabo la solución\n",
    "df_respuestas[[\"price\"]].to_csv(\"../Soluciones/rfc_solucion.csv\")\n"
   ]
  },
  {
   "cell_type": "markdown",
   "metadata": {},
   "source": [
    "### Gradient Boosting"
   ]
  },
  {
   "cell_type": "code",
   "execution_count": 500,
   "metadata": {},
   "outputs": [],
   "source": [
    "X = df[df.columns.drop(['price',\"l3\"])]\n",
    "y = df[\"price\"]\n",
    "X_pred = df_pred[df_pred.columns.drop(['price',\"l3\"])]\n",
    "\n",
    "n_estimators = 3000\n",
    "max_depth = 7\n",
    "\n",
    "gbm = sk.ensemble.GradientBoostingRegressor(n_estimators=n_estimators, max_depth=max_depth,  random_state=42)\n",
    "\n",
    "# Entrenamos el modelo\n",
    "gbm.fit(X, y)\n",
    "\n",
    "# predicción\n",
    "df_pred[\"price\"] = gbm.predict(X_pred)"
   ]
  },
  {
   "cell_type": "code",
   "execution_count": 501,
   "metadata": {},
   "outputs": [],
   "source": [
    "# Grabo la solución\n",
    "df_pred[[\"price\"]].to_csv(\"../Soluciones/gbm_solucion.csv\")"
   ]
  },
  {
   "cell_type": "markdown",
   "metadata": {},
   "source": [
    "## Analisis de resultados"
   ]
  },
  {
   "cell_type": "code",
   "execution_count": 89,
   "metadata": {},
   "outputs": [],
   "source": [
    "importances = reg.feature_importances_\n",
    "\n",
    "sorted_indices = np.argsort(importances)[::-1]"
   ]
  },
  {
   "cell_type": "code",
   "execution_count": 90,
   "metadata": {},
   "outputs": [
    {
     "data": {
      "image/png": "[encoded data removed]",
      "text/plain": [
       "<Figure size 1440x720 with 1 Axes>"
      ]
     },
     "metadata": {
      "needs_background": "light"
     },
     "output_type": "display_data"
    }
   ],
   "source": [
    "f,a = plt.subplots(figsize=(20,10))\n",
    "plt.title('Feature Importance')\n",
    "plt.bar(range(X_train.shape[1]), importances[sorted_indices], align='center')\n",
    "plt.xticks(range(X_train.shape[1]), X_train.columns[sorted_indices], rotation=90)\n",
    "plt.tight_layout()\n",
    "plt.show()"
   ]
  }
 ],
 "metadata": {
  "colab": {
   "collapsed_sections": [
    "sqVkTPzj3kV0"
   ],
   "name": "TP individual.ipynb",
   "provenance": []
  },
  "kernelspec": {
   "display_name": "Python 3.10.4 ('properati-lzHRr2__-py3.10')",
   "language": "python",
   "name": "python3"
  },
  "language_info": {
   "codemirror_mode": {
    "name": "ipython",
    "version": 3
   },
   "file_extension": ".py",
   "mimetype": "text/x-python",
   "name": "python",
   "nbconvert_exporter": "python",
   "pygments_lexer": "ipython3",
   "version": "3.10.4"
  },
  "vscode": {
   "interpreter": {
    "hash": "4e22757b696a195dce1cdb975f20abb896211a0c41025a1e3da18b0be7b7b16b"
   }
  }
 },
 "nbformat": 4,
 "nbformat_minor": 1
}
