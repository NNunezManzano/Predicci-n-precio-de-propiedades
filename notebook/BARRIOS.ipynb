{
 "cells": [
  {
   "cell_type": "markdown",
   "metadata": {},
   "source": [
    "# **Entorno**"
   ]
  },
  {
   "cell_type": "code",
   "execution_count": 24,
   "metadata": {
    "id": "A7BBykw5oQNl"
   },
   "outputs": [],
   "source": [
    "# https://www.properati.com.ar/data\n",
    "#! wget -O ar_properties.csv.gz -q https://storage.googleapis.com/properati-data-public/ar_properties.csv.gz\n",
    "#! gzip -d -f ./ar_properties.csv.gz"
   ]
  },
  {
   "cell_type": "code",
   "execution_count": 25,
   "metadata": {
    "id": "jw8ogMDOpvKP"
   },
   "outputs": [],
   "source": [
    "import pandas as pd\n",
    "import numpy as np\n",
    "\n",
    "import matplotlib.pyplot as plt\n",
    "\n",
    "import sklearn as sk\n",
    "from sklearn import model_selection\n",
    "from sklearn import ensemble\n",
    "from sklearn import metrics\n",
    "\n",
    "import datetime\n",
    "\n",
    "import warnings\n",
    "warnings.filterwarnings('ignore')\n",
    "\n",
    "import re\n"
   ]
  },
  {
   "cell_type": "code",
   "execution_count": 26,
   "metadata": {},
   "outputs": [],
   "source": [
    "pd.options.display.max_colwidth = 50"
   ]
  },
  {
   "cell_type": "markdown",
   "metadata": {
    "id": "20D-m6GPyefp"
   },
   "source": [
    "# Lectura de datos"
   ]
  },
  {
   "cell_type": "code",
   "execution_count": 27,
   "metadata": {
    "id": "CtV0wOGsqJLC"
   },
   "outputs": [],
   "source": [
    "#df_properties = pd.read_csv('../ar_properties.csv', index_col=\"id\")\n",
    "#df_apred = pd.read_csv('../a_predecir.csv', index_col=\"id\")"
   ]
  },
  {
   "cell_type": "code",
   "execution_count": 28,
   "metadata": {},
   "outputs": [],
   "source": [
    "df = df_properties.copy()\n",
    "df_pred = df_apred.copy()"
   ]
  },
  {
   "cell_type": "code",
   "execution_count": 29,
   "metadata": {
    "id": "thKYxfNuulgB"
   },
   "outputs": [
    {
     "data": {
      "text/html": [
       "<div>\n",
       "<style scoped>\n",
       "    .dataframe tbody tr th:only-of-type {\n",
       "        vertical-align: middle;\n",
       "    }\n",
       "\n",
       "    .dataframe tbody tr th {\n",
       "        vertical-align: top;\n",
       "    }\n",
       "\n",
       "    .dataframe thead th {\n",
       "        text-align: right;\n",
       "    }\n",
       "</style>\n",
       "<table border=\"1\" class=\"dataframe\">\n",
       "  <thead>\n",
       "    <tr style=\"text-align: right;\">\n",
       "      <th></th>\n",
       "      <th>ad_type</th>\n",
       "      <th>start_date</th>\n",
       "      <th>end_date</th>\n",
       "      <th>created_on</th>\n",
       "      <th>lat</th>\n",
       "      <th>lon</th>\n",
       "      <th>l1</th>\n",
       "      <th>l2</th>\n",
       "      <th>l3</th>\n",
       "      <th>l4</th>\n",
       "      <th>...</th>\n",
       "      <th>bathrooms</th>\n",
       "      <th>surface_total</th>\n",
       "      <th>surface_covered</th>\n",
       "      <th>price</th>\n",
       "      <th>currency</th>\n",
       "      <th>price_period</th>\n",
       "      <th>title</th>\n",
       "      <th>description</th>\n",
       "      <th>property_type</th>\n",
       "      <th>operation_type</th>\n",
       "    </tr>\n",
       "    <tr>\n",
       "      <th>id</th>\n",
       "      <th></th>\n",
       "      <th></th>\n",
       "      <th></th>\n",
       "      <th></th>\n",
       "      <th></th>\n",
       "      <th></th>\n",
       "      <th></th>\n",
       "      <th></th>\n",
       "      <th></th>\n",
       "      <th></th>\n",
       "      <th></th>\n",
       "      <th></th>\n",
       "      <th></th>\n",
       "      <th></th>\n",
       "      <th></th>\n",
       "      <th></th>\n",
       "      <th></th>\n",
       "      <th></th>\n",
       "      <th></th>\n",
       "      <th></th>\n",
       "      <th></th>\n",
       "    </tr>\n",
       "  </thead>\n",
       "  <tbody>\n",
       "    <tr>\n",
       "      <th>DyVXfkpKygVBKuUk5olH+A==</th>\n",
       "      <td>Propiedad</td>\n",
       "      <td>2020-08-22</td>\n",
       "      <td>2020-09-03</td>\n",
       "      <td>2020-08-22</td>\n",
       "      <td>-34.407468</td>\n",
       "      <td>-58.957367</td>\n",
       "      <td>Argentina</td>\n",
       "      <td>Bs.As. G.B.A. Zona Norte</td>\n",
       "      <td>Pilar</td>\n",
       "      <td>NaN</td>\n",
       "      <td>...</td>\n",
       "      <td>NaN</td>\n",
       "      <td>133139.0</td>\n",
       "      <td>NaN</td>\n",
       "      <td>NaN</td>\n",
       "      <td>NaN</td>\n",
       "      <td>Mensual</td>\n",
       "      <td>VENTA - Lote Industrial 130.000m2 - Parque Ind...</td>\n",
       "      <td>Lote (Nro.50) mide 133.139 m2\\n&lt;br&gt;Valor: U$S ...</td>\n",
       "      <td>Lote</td>\n",
       "      <td>Venta</td>\n",
       "    </tr>\n",
       "    <tr>\n",
       "      <th>9naojilaMecJN4jlQiTkGg==</th>\n",
       "      <td>Propiedad</td>\n",
       "      <td>2020-08-22</td>\n",
       "      <td>2020-09-04</td>\n",
       "      <td>2020-08-22</td>\n",
       "      <td>-37.996039</td>\n",
       "      <td>-57.542509</td>\n",
       "      <td>Argentina</td>\n",
       "      <td>Buenos Aires Costa Atlántica</td>\n",
       "      <td>Mar del Plata</td>\n",
       "      <td>NaN</td>\n",
       "      <td>...</td>\n",
       "      <td>NaN</td>\n",
       "      <td>687.0</td>\n",
       "      <td>687.0</td>\n",
       "      <td>NaN</td>\n",
       "      <td>NaN</td>\n",
       "      <td>Mensual</td>\n",
       "      <td>Casa - Santa Cecilia</td>\n",
       "      <td>Conjunto edilicio de casa y departamentos en b...</td>\n",
       "      <td>Otro</td>\n",
       "      <td>Venta</td>\n",
       "    </tr>\n",
       "    <tr>\n",
       "      <th>tlCPRJPjoDEUzuuCelemAQ==</th>\n",
       "      <td>Propiedad</td>\n",
       "      <td>2020-08-22</td>\n",
       "      <td>2020-08-31</td>\n",
       "      <td>2020-08-22</td>\n",
       "      <td>-31.380187</td>\n",
       "      <td>-58.009182</td>\n",
       "      <td>Argentina</td>\n",
       "      <td>Entre Ríos</td>\n",
       "      <td>Concordia</td>\n",
       "      <td>NaN</td>\n",
       "      <td>...</td>\n",
       "      <td>1.0</td>\n",
       "      <td>80.0</td>\n",
       "      <td>80.0</td>\n",
       "      <td>NaN</td>\n",
       "      <td>NaN</td>\n",
       "      <td>Mensual</td>\n",
       "      <td>Casa - Concordia</td>\n",
       "      <td>Casa de un dormitorio, cocina, baño, living co...</td>\n",
       "      <td>Casa</td>\n",
       "      <td>Alquiler</td>\n",
       "    </tr>\n",
       "    <tr>\n",
       "      <th>Zw3b91glQUO3HNrM5fPYlQ==</th>\n",
       "      <td>Propiedad</td>\n",
       "      <td>2020-08-22</td>\n",
       "      <td>2020-09-04</td>\n",
       "      <td>2020-08-22</td>\n",
       "      <td>-27.494106</td>\n",
       "      <td>-55.123455</td>\n",
       "      <td>Argentina</td>\n",
       "      <td>Misiones</td>\n",
       "      <td>Oberá</td>\n",
       "      <td>NaN</td>\n",
       "      <td>...</td>\n",
       "      <td>1.0</td>\n",
       "      <td>NaN</td>\n",
       "      <td>NaN</td>\n",
       "      <td>NaN</td>\n",
       "      <td>NaN</td>\n",
       "      <td>Mensual</td>\n",
       "      <td>Terreno - Obera</td>\n",
       "      <td>IMPORTANTE PROPIEDAD EN VENTA EN OBERA MISIONE...</td>\n",
       "      <td>Lote</td>\n",
       "      <td>Venta</td>\n",
       "    </tr>\n",
       "    <tr>\n",
       "      <th>bsU81gm9JEgtZCbTYgvykg==</th>\n",
       "      <td>Propiedad</td>\n",
       "      <td>2020-08-22</td>\n",
       "      <td>2020-09-04</td>\n",
       "      <td>2020-08-22</td>\n",
       "      <td>-32.948856</td>\n",
       "      <td>-60.630464</td>\n",
       "      <td>Argentina</td>\n",
       "      <td>Santa Fe</td>\n",
       "      <td>Rosario</td>\n",
       "      <td>NaN</td>\n",
       "      <td>...</td>\n",
       "      <td>1.0</td>\n",
       "      <td>76.0</td>\n",
       "      <td>66.0</td>\n",
       "      <td>NaN</td>\n",
       "      <td>NaN</td>\n",
       "      <td>Mensual</td>\n",
       "      <td>Departamento - Rosario</td>\n",
       "      <td>PORTAL DE LOS MARINOS&lt;br&gt;Es un complejo de viv...</td>\n",
       "      <td>Departamento</td>\n",
       "      <td>Venta</td>\n",
       "    </tr>\n",
       "  </tbody>\n",
       "</table>\n",
       "<p>5 rows × 24 columns</p>\n",
       "</div>"
      ],
      "text/plain": [
       "                            ad_type  start_date    end_date  created_on  \\\n",
       "id                                                                        \n",
       "DyVXfkpKygVBKuUk5olH+A==  Propiedad  2020-08-22  2020-09-03  2020-08-22   \n",
       "9naojilaMecJN4jlQiTkGg==  Propiedad  2020-08-22  2020-09-04  2020-08-22   \n",
       "tlCPRJPjoDEUzuuCelemAQ==  Propiedad  2020-08-22  2020-08-31  2020-08-22   \n",
       "Zw3b91glQUO3HNrM5fPYlQ==  Propiedad  2020-08-22  2020-09-04  2020-08-22   \n",
       "bsU81gm9JEgtZCbTYgvykg==  Propiedad  2020-08-22  2020-09-04  2020-08-22   \n",
       "\n",
       "                                lat        lon         l1  \\\n",
       "id                                                          \n",
       "DyVXfkpKygVBKuUk5olH+A== -34.407468 -58.957367  Argentina   \n",
       "9naojilaMecJN4jlQiTkGg== -37.996039 -57.542509  Argentina   \n",
       "tlCPRJPjoDEUzuuCelemAQ== -31.380187 -58.009182  Argentina   \n",
       "Zw3b91glQUO3HNrM5fPYlQ== -27.494106 -55.123455  Argentina   \n",
       "bsU81gm9JEgtZCbTYgvykg== -32.948856 -60.630464  Argentina   \n",
       "\n",
       "                                                    l2             l3   l4  \\\n",
       "id                                                                           \n",
       "DyVXfkpKygVBKuUk5olH+A==      Bs.As. G.B.A. Zona Norte          Pilar  NaN   \n",
       "9naojilaMecJN4jlQiTkGg==  Buenos Aires Costa Atlántica  Mar del Plata  NaN   \n",
       "tlCPRJPjoDEUzuuCelemAQ==                    Entre Ríos      Concordia  NaN   \n",
       "Zw3b91glQUO3HNrM5fPYlQ==                      Misiones          Oberá  NaN   \n",
       "bsU81gm9JEgtZCbTYgvykg==                      Santa Fe        Rosario  NaN   \n",
       "\n",
       "                          ... bathrooms  surface_total  surface_covered  \\\n",
       "id                        ...                                             \n",
       "DyVXfkpKygVBKuUk5olH+A==  ...       NaN       133139.0              NaN   \n",
       "9naojilaMecJN4jlQiTkGg==  ...       NaN          687.0            687.0   \n",
       "tlCPRJPjoDEUzuuCelemAQ==  ...       1.0           80.0             80.0   \n",
       "Zw3b91glQUO3HNrM5fPYlQ==  ...       1.0            NaN              NaN   \n",
       "bsU81gm9JEgtZCbTYgvykg==  ...       1.0           76.0             66.0   \n",
       "\n",
       "                          price  currency  price_period  \\\n",
       "id                                                        \n",
       "DyVXfkpKygVBKuUk5olH+A==    NaN       NaN       Mensual   \n",
       "9naojilaMecJN4jlQiTkGg==    NaN       NaN       Mensual   \n",
       "tlCPRJPjoDEUzuuCelemAQ==    NaN       NaN       Mensual   \n",
       "Zw3b91glQUO3HNrM5fPYlQ==    NaN       NaN       Mensual   \n",
       "bsU81gm9JEgtZCbTYgvykg==    NaN       NaN       Mensual   \n",
       "\n",
       "                                                                      title  \\\n",
       "id                                                                            \n",
       "DyVXfkpKygVBKuUk5olH+A==  VENTA - Lote Industrial 130.000m2 - Parque Ind...   \n",
       "9naojilaMecJN4jlQiTkGg==                               Casa - Santa Cecilia   \n",
       "tlCPRJPjoDEUzuuCelemAQ==                                   Casa - Concordia   \n",
       "Zw3b91glQUO3HNrM5fPYlQ==                                    Terreno - Obera   \n",
       "bsU81gm9JEgtZCbTYgvykg==                             Departamento - Rosario   \n",
       "\n",
       "                                                                description  \\\n",
       "id                                                                            \n",
       "DyVXfkpKygVBKuUk5olH+A==  Lote (Nro.50) mide 133.139 m2\\n<br>Valor: U$S ...   \n",
       "9naojilaMecJN4jlQiTkGg==  Conjunto edilicio de casa y departamentos en b...   \n",
       "tlCPRJPjoDEUzuuCelemAQ==  Casa de un dormitorio, cocina, baño, living co...   \n",
       "Zw3b91glQUO3HNrM5fPYlQ==  IMPORTANTE PROPIEDAD EN VENTA EN OBERA MISIONE...   \n",
       "bsU81gm9JEgtZCbTYgvykg==  PORTAL DE LOS MARINOS<br>Es un complejo de viv...   \n",
       "\n",
       "                         property_type operation_type  \n",
       "id                                                     \n",
       "DyVXfkpKygVBKuUk5olH+A==          Lote          Venta  \n",
       "9naojilaMecJN4jlQiTkGg==          Otro          Venta  \n",
       "tlCPRJPjoDEUzuuCelemAQ==          Casa       Alquiler  \n",
       "Zw3b91glQUO3HNrM5fPYlQ==          Lote          Venta  \n",
       "bsU81gm9JEgtZCbTYgvykg==  Departamento          Venta  \n",
       "\n",
       "[5 rows x 24 columns]"
      ]
     },
     "execution_count": 29,
     "metadata": {},
     "output_type": "execute_result"
    }
   ],
   "source": [
    "df.head()"
   ]
  },
  {
   "cell_type": "code",
   "execution_count": 30,
   "metadata": {},
   "outputs": [
    {
     "name": "stdout",
     "output_type": "stream",
     "text": [
      "<class 'pandas.core.frame.DataFrame'>\n",
      "Int64Index: 1087 entries, 1 to 1087\n",
      "Data columns (total 27 columns):\n",
      " #   Column           Non-Null Count  Dtype  \n",
      "---  ------           --------------  -----  \n",
      " 0   ad_type          1087 non-null   object \n",
      " 1   start_date       1087 non-null   object \n",
      " 2   end_date         1087 non-null   object \n",
      " 3   created_on       1087 non-null   object \n",
      " 4   lat              1087 non-null   float64\n",
      " 5   lon              1087 non-null   float64\n",
      " 6   l1               1087 non-null   object \n",
      " 7   l2               1087 non-null   object \n",
      " 8   l3               1087 non-null   object \n",
      " 9   rooms            1083 non-null   float64\n",
      " 10  bedrooms         958 non-null    float64\n",
      " 11  bathrooms        1083 non-null   float64\n",
      " 12  surface_total    1087 non-null   float64\n",
      " 13  surface_covered  1087 non-null   float64\n",
      " 14  price            0 non-null      float64\n",
      " 15  currency         1087 non-null   object \n",
      " 16  price_period     0 non-null      float64\n",
      " 17  title            1087 non-null   object \n",
      " 18  description      1083 non-null   object \n",
      " 19  property_type    1087 non-null   object \n",
      " 20  operation_type   1087 non-null   object \n",
      " 21  details          1087 non-null   object \n",
      " 22  additionals      955 non-null    object \n",
      " 23  services         842 non-null    object \n",
      " 24  l4               0 non-null      float64\n",
      " 25  l5               0 non-null      float64\n",
      " 26  l6               0 non-null      float64\n",
      "dtypes: float64(12), object(15)\n",
      "memory usage: 237.8+ KB\n"
     ]
    }
   ],
   "source": [
    "df_pred.info()"
   ]
  },
  {
   "cell_type": "code",
   "execution_count": 31,
   "metadata": {},
   "outputs": [
    {
     "name": "stdout",
     "output_type": "stream",
     "text": [
      "<class 'pandas.core.frame.DataFrame'>\n",
      "Index: 1000000 entries, DyVXfkpKygVBKuUk5olH+A== to rEynGyGrrsxNeG0ib5vUBA==\n",
      "Data columns (total 24 columns):\n",
      " #   Column           Non-Null Count    Dtype  \n",
      "---  ------           --------------    -----  \n",
      " 0   ad_type          1000000 non-null  object \n",
      " 1   start_date       1000000 non-null  object \n",
      " 2   end_date         1000000 non-null  object \n",
      " 3   created_on       1000000 non-null  object \n",
      " 4   lat              894233 non-null   float64\n",
      " 5   lon              894191 non-null   float64\n",
      " 6   l1               1000000 non-null  object \n",
      " 7   l2               1000000 non-null  object \n",
      " 8   l3               965273 non-null   object \n",
      " 9   l4               306162 non-null   object \n",
      " 10  l5               5530 non-null     object \n",
      " 11  l6               0 non-null        float64\n",
      " 12  rooms            714179 non-null   float64\n",
      " 13  bedrooms         649933 non-null   float64\n",
      " 14  bathrooms        765122 non-null   float64\n",
      " 15  surface_total    477831 non-null   float64\n",
      " 16  surface_covered  487756 non-null   float64\n",
      " 17  price            958243 non-null   float64\n",
      " 18  currency         955491 non-null   object \n",
      " 19  price_period     429870 non-null   object \n",
      " 20  title            999999 non-null   object \n",
      " 21  description      999958 non-null   object \n",
      " 22  property_type    1000000 non-null  object \n",
      " 23  operation_type   1000000 non-null  object \n",
      "dtypes: float64(9), object(15)\n",
      "memory usage: 190.7+ MB\n"
     ]
    }
   ],
   "source": [
    "df.info()"
   ]
  },
  {
   "cell_type": "markdown",
   "metadata": {},
   "source": [
    "# Limpieza (Outliers, Nulls, Filtros)"
   ]
  },
  {
   "cell_type": "code",
   "execution_count": 32,
   "metadata": {},
   "outputs": [],
   "source": [
    "# Me quedo solo con CABA\n",
    "df = df.loc[df[\"l1\"] == \"Argentina\"]"
   ]
  },
  {
   "cell_type": "markdown",
   "metadata": {},
   "source": [
    "## Nulls"
   ]
  },
  {
   "cell_type": "markdown",
   "metadata": {},
   "source": [
    "Del df entrenamiento vamos a dropear los na en lon y lat"
   ]
  },
  {
   "cell_type": "code",
   "execution_count": 33,
   "metadata": {},
   "outputs": [],
   "source": [
    "df.dropna(subset=[\"lon\"],inplace=True)\n",
    "df.dropna(subset=[\"lat\"],inplace=True)\n",
    "df.dropna(subset=[\"l3\"],inplace = True)\n",
    "df.dropna(subset=[\"price\"],inplace=True)\n",
    "df.dropna(subset=[\"currency\"],inplace=True)"
   ]
  },
  {
   "cell_type": "markdown",
   "metadata": {},
   "source": [
    "Con superficie y los distintos ambientes vamos a completar los nulls"
   ]
  },
  {
   "cell_type": "code",
   "execution_count": 34,
   "metadata": {},
   "outputs": [],
   "source": [
    "df.drop(df.loc[(df.rooms.isnull()) & (df.bedrooms.isnull()) & (df.bathrooms.isnull()) & (df.surface_total.isnull()) & (df.surface_covered.isnull())].index, inplace=True)"
   ]
  },
  {
   "cell_type": "code",
   "execution_count": 35,
   "metadata": {},
   "outputs": [],
   "source": [
    "df.rooms.fillna(0,inplace=True)\n",
    "df_pred.rooms.fillna(0,inplace=True)\n",
    "\n",
    "df.bedrooms.fillna(0,inplace=True)\n",
    "df_pred.bedrooms.fillna(0,inplace=True)\n",
    "\n",
    "df.bathrooms.fillna(0,inplace=True)\n",
    "df_pred.bathrooms.fillna(0,inplace=True)"
   ]
  },
  {
   "cell_type": "markdown",
   "metadata": {},
   "source": [
    "Ahora completamos la superficie total y cubierta"
   ]
  },
  {
   "cell_type": "code",
   "execution_count": 36,
   "metadata": {},
   "outputs": [],
   "source": [
    "df.loc[(df.surface_covered > 0) & (df.surface_total.isnull()),[\"surface_total\"]] = df.loc[(df.surface_covered > 0) & (df.surface_total.isnull()),[\"surface_covered\"]]\n",
    "df.loc[(df.surface_covered > 0) & (df.surface_total == 0),[\"surface_total\"]] = df.loc[(df.surface_covered > 0) & (df.surface_total.isnull()),[\"surface_covered\"]]\n",
    "df.loc[(df.surface_total > 0) & (df.surface_covered.isnull()),[\"surface_covered\"]] = 0"
   ]
  },
  {
   "cell_type": "code",
   "execution_count": 37,
   "metadata": {},
   "outputs": [],
   "source": [
    "df.surface_covered.fillna(0,inplace=True)\n",
    "df.surface_total.fillna(0,inplace=True)"
   ]
  },
  {
   "cell_type": "markdown",
   "metadata": {},
   "source": [
    "## Longitud y Latitud"
   ]
  },
  {
   "cell_type": "code",
   "execution_count": 38,
   "metadata": {},
   "outputs": [],
   "source": [
    "lon_min_max = (58.532674897063565, 58.338011418419356 ) #Limites Este/Oeste de CABA\n",
    "lat_min_max = (34.7058110012102, 34.531639) #Limites Norte/Sur de CABA"
   ]
  },
  {
   "cell_type": "markdown",
   "metadata": {},
   "source": [
    "Acomodo lon y lat de los datos a predecir, como no podemos dropear los na y outliers les vamos a asignar el valor que corresponda."
   ]
  },
  {
   "cell_type": "code",
   "execution_count": 39,
   "metadata": {},
   "outputs": [],
   "source": [
    "df_pred[[\"lat\",\"lon\"]] = df_pred[[\"lon\",\"lat\"]] # Los invertimos ya que se encontraban al revez"
   ]
  },
  {
   "cell_type": "code",
   "execution_count": 40,
   "metadata": {},
   "outputs": [],
   "source": [
    "# Establezco el valor absoluto de los campos\n",
    "df_pred[\"lon\"] = abs(df_pred[\"lon\"]) \n",
    "df_pred[\"lat\"] = abs(df_pred[\"lat\"]) "
   ]
  },
  {
   "cell_type": "code",
   "execution_count": 41,
   "metadata": {},
   "outputs": [],
   "source": [
    "# Lo que este fuera de la longitu y latitud maxima de CABA es outlier\n",
    "df_pred[\"lat_outlier\"] = df_pred.lat.apply(lambda x: 0 if (x < lat_min_max[0]) & (x > lat_min_max[1]) else 1)\n",
    "df_pred[\"lon_outlier\"] = df_pred.lon.apply(lambda x: 0 if (x < lon_min_max[0]) & (x > lon_min_max[1]) else 1)"
   ]
  },
  {
   "cell_type": "code",
   "execution_count": 42,
   "metadata": {},
   "outputs": [],
   "source": [
    "#Buscamos la longitud y latitud de los outliers según lo que vemos en el titulo de la publicación\n",
    "df_pred.loc[422,\"lat\"] = 34.628212\n",
    "df_pred.loc[873,\"lat\"] = 34.557626\n",
    "df_pred.loc[1055,\"lat\"] = 34.601223\n",
    "df_pred.loc[1057,\"lat\"] = 34.557626\n",
    "df_pred.loc[422,\"lon\"] = 58.426367\n",
    "df_pred.loc[873,\"lon\"] = 58.484324\n",
    "df_pred.loc[1055,\"lon\"] = 58.376599\n",
    "df_pred.loc[1057,\"lon\"] = 58.484324\n",
    "\n",
    "df_pred.loc[1057,\"lat\"] = 34.580921"
   ]
  },
  {
   "cell_type": "code",
   "execution_count": 43,
   "metadata": {},
   "outputs": [],
   "source": [
    "df_pred.drop(columns=[\"lat_outlier\",\"lon_outlier\"], inplace=True)"
   ]
  },
  {
   "cell_type": "markdown",
   "metadata": {},
   "source": [
    "## Barrios"
   ]
  },
  {
   "cell_type": "code",
   "execution_count": 44,
   "metadata": {},
   "outputs": [
    {
     "data": {
      "text/html": [
       "<div>\n",
       "<style scoped>\n",
       "    .dataframe tbody tr th:only-of-type {\n",
       "        vertical-align: middle;\n",
       "    }\n",
       "\n",
       "    .dataframe tbody tr th {\n",
       "        vertical-align: top;\n",
       "    }\n",
       "\n",
       "    .dataframe thead th {\n",
       "        text-align: right;\n",
       "    }\n",
       "</style>\n",
       "<table border=\"1\" class=\"dataframe\">\n",
       "  <thead>\n",
       "    <tr style=\"text-align: right;\">\n",
       "      <th></th>\n",
       "      <th>l3</th>\n",
       "      <th>title</th>\n",
       "    </tr>\n",
       "    <tr>\n",
       "      <th>id</th>\n",
       "      <th></th>\n",
       "      <th></th>\n",
       "    </tr>\n",
       "  </thead>\n",
       "  <tbody>\n",
       "    <tr>\n",
       "      <th>133</th>\n",
       "      <td>2 Ambientes</td>\n",
       "      <td>Avenida Coronel Niceto Vega 5100 - PH en Venta...</td>\n",
       "    </tr>\n",
       "    <tr>\n",
       "      <th>1010</th>\n",
       "      <td>GBA Norte</td>\n",
       "      <td>Melo Al 4000 - PH en Venta en Vicente López, V...</td>\n",
       "    </tr>\n",
       "  </tbody>\n",
       "</table>\n",
       "</div>"
      ],
      "text/plain": [
       "               l3                                              title\n",
       "id                                                                  \n",
       "133   2 Ambientes  Avenida Coronel Niceto Vega 5100 - PH en Venta...\n",
       "1010    GBA Norte  Melo Al 4000 - PH en Venta en Vicente López, V..."
      ]
     },
     "execution_count": 44,
     "metadata": {},
     "output_type": "execute_result"
    }
   ],
   "source": [
    "df_pred.loc[(df_pred.l3 == \"GBA Norte\") | (df_pred.l3 == \"2 Ambientes\"), [\"l3\",\"title\"]]"
   ]
  },
  {
   "cell_type": "markdown",
   "metadata": {},
   "source": [
    "Vemos que en el set de datos a predecir hay 2 registros que tienen valores atipicos en el barrio, asi que corregimos."
   ]
  },
  {
   "cell_type": "code",
   "execution_count": 45,
   "metadata": {},
   "outputs": [],
   "source": [
    "df_pred.loc[133,[\"l3\"]] = \"Palermo\"\n",
    "\n",
    "df_pred.loc[1010,[\"l3\"]] = \"Vicente López\""
   ]
  },
  {
   "cell_type": "markdown",
   "metadata": {},
   "source": [
    "## Precio y moneda"
   ]
  },
  {
   "cell_type": "code",
   "execution_count": 46,
   "metadata": {},
   "outputs": [],
   "source": [
    "df = df.loc[df[\"currency\"] == \"USD\"]\n",
    "\n",
    "df.drop(columns = [\"currency\"], inplace = True )"
   ]
  },
  {
   "cell_type": "markdown",
   "metadata": {},
   "source": [
    "## Tipo de propiedad"
   ]
  },
  {
   "cell_type": "code",
   "execution_count": 47,
   "metadata": {},
   "outputs": [],
   "source": [
    "df[\"property_type_check\"] = df.property_type.apply(lambda x: 1 if x in (\"Departamento\",\"PH\") else 0)\n",
    "\n",
    "df = df.loc[df[\"property_type_check\"] == 1]\n",
    "\n",
    "df.drop(columns = \"property_type_check\", inplace = True)"
   ]
  },
  {
   "cell_type": "markdown",
   "metadata": {},
   "source": [
    "## Superficie total y cubierta"
   ]
  },
  {
   "cell_type": "code",
   "execution_count": 48,
   "metadata": {},
   "outputs": [],
   "source": [
    "df.loc[(df.surface_total < 0), [\"surface_total\"]] = abs(df.loc[(df.surface_total < 0), [\"surface_total\"]])\n",
    "df.loc[(df.surface_covered < 0), [\"surface_covered\"]] = abs(df.loc[(df.surface_covered < 0), [\"surface_covered\"]])"
   ]
  },
  {
   "cell_type": "markdown",
   "metadata": {},
   "source": [
    "## Elimino las columnas que no utilizo"
   ]
  },
  {
   "cell_type": "code",
   "execution_count": 49,
   "metadata": {},
   "outputs": [],
   "source": [
    "df.drop(columns = [\"ad_type\",\"l4\",\"l5\", \"l6\", \"created_on\",\"start_date\", \"end_date\",\"l1\",\"l2\",\"price_period\",\"operation_type\"], inplace = True )"
   ]
  },
  {
   "cell_type": "code",
   "execution_count": 50,
   "metadata": {},
   "outputs": [],
   "source": [
    "df.drop_duplicates(inplace = True)"
   ]
  },
  {
   "cell_type": "code",
   "execution_count": 51,
   "metadata": {},
   "outputs": [],
   "source": [
    "df_pred.drop(columns = [\"ad_type\",\"l4\",\"l5\", \"l6\", \"created_on\",\"start_date\", \"end_date\",\"l1\",\"l2\",\"price_period\",\"operation_type\",\"currency\",\"price_period\",\"services\"], inplace = True )\n",
    "#df_pred.drop(columns = [\"title\",\"description\",\"details\",\"additionals\"], inplace = True)"
   ]
  },
  {
   "cell_type": "markdown",
   "metadata": {
    "id": "i2jRJmQ-tD4Z"
   },
   "source": [
    "# Feature Engineering"
   ]
  },
  {
   "cell_type": "markdown",
   "metadata": {},
   "source": [
    "Uno los dos data frames"
   ]
  },
  {
   "cell_type": "code",
   "execution_count": 52,
   "metadata": {},
   "outputs": [],
   "source": [
    "df_total = pd.concat([df,df_pred], axis=0)"
   ]
  },
  {
   "cell_type": "markdown",
   "metadata": {},
   "source": [
    "## Dummies"
   ]
  },
  {
   "cell_type": "code",
   "execution_count": 53,
   "metadata": {},
   "outputs": [
    {
     "data": {
      "text/plain": [
       "Index(['l3', 'title', 'description', 'property_type', 'details',\n",
       "       'additionals'],\n",
       "      dtype='object')"
      ]
     },
     "execution_count": 53,
     "metadata": {},
     "output_type": "execute_result"
    }
   ],
   "source": [
    "df_total.select_dtypes(include = \"object\").columns"
   ]
  },
  {
   "cell_type": "code",
   "execution_count": 54,
   "metadata": {},
   "outputs": [],
   "source": [
    "df_total.drop(columns=['title', 'description', 'details','additionals'], inplace=True)"
   ]
  },
  {
   "cell_type": "code",
   "execution_count": 55,
   "metadata": {},
   "outputs": [],
   "source": [
    "df_total = pd.get_dummies(df_total, columns = [ \"property_type\"])"
   ]
  },
  {
   "cell_type": "markdown",
   "metadata": {},
   "source": [
    "## Dividimos los DF"
   ]
  },
  {
   "cell_type": "code",
   "execution_count": 56,
   "metadata": {},
   "outputs": [],
   "source": [
    "df = df_total[df_total.index.isin(df.index)]\n",
    "df_pred = df_total[df_total.index.isin(df_pred.index)]"
   ]
  },
  {
   "cell_type": "code",
   "execution_count": 57,
   "metadata": {},
   "outputs": [],
   "source": [
    "barrios = df_pred.l3.unique()\n",
    "\n",
    "df[\"barrio_ok\"] = df.l3.apply(lambda x: 1 if x in barrios else 0)\n",
    "\n",
    "df = df.loc[df[\"barrio_ok\"] == 1]\n",
    "\n",
    "df.drop(columns = \"barrio_ok\", inplace = True)"
   ]
  },
  {
   "cell_type": "code",
   "execution_count": 58,
   "metadata": {},
   "outputs": [
    {
     "data": {
      "text/plain": [
       "array(['Balvanera', 'Villa Urquiza', 'Palermo', 'Belgrano', 'Floresta',\n",
       "       'Villa Pueyrredon', 'Saavedra', 'Villa Devoto', 'San Nicolás',\n",
       "       'Chacarita', 'Villa Crespo', 'Boedo', 'Flores', 'Paternal', 'Boca',\n",
       "       'Recoleta', 'Caballito', 'Nuñez', 'Constitución', 'Colegiales',\n",
       "       'San Telmo', 'Monserrat', 'Puerto Madero', 'Villa del Parque',\n",
       "       'Almagro', 'Villa Ortuzar', 'Villa Lugano', 'San Cristobal',\n",
       "       'Barracas', 'Liniers', 'Mataderos', 'Villa Santa Rita',\n",
       "       'Parque Patricios', 'Parque Chas', 'Villa General Mitre', 'Retiro',\n",
       "       'Parque Avellaneda', 'Monte Castro', 'Parque Chacabuco',\n",
       "       'Villa Luro', 'Versalles', 'Coghlan', 'Vélez Sarsfield',\n",
       "       'Nueva Pompeya', 'Agronomía', 'Villa Real', 'Vicente López'],\n",
       "      dtype=object)"
      ]
     },
     "execution_count": 58,
     "metadata": {},
     "output_type": "execute_result"
    }
   ],
   "source": [
    "barrios"
   ]
  },
  {
   "cell_type": "markdown",
   "metadata": {},
   "source": [
    "# Modelización"
   ]
  },
  {
   "cell_type": "markdown",
   "metadata": {},
   "source": [
    "## Random Forest"
   ]
  },
  {
   "cell_type": "code",
   "execution_count": 66,
   "metadata": {},
   "outputs": [
    {
     "data": {
      "text/plain": [
       "Index([   1,    4,   60,   79,   92,  105,  136,  160,  218,  227,  232,  281,\n",
       "        329,  362,  546,  581,  609,  641,  644,  687,  689,  692,  770,  836,\n",
       "        871,  890,  914,  938,  952,  982, 1040, 1062, 1077, 1083],\n",
       "      dtype='object', name='id')"
      ]
     },
     "execution_count": 66,
     "metadata": {},
     "output_type": "execute_result"
    }
   ],
   "source": [
    "X_pred = df_pred.loc[df_pred.l3 == \"Balvanera\"][df_pred.columns.drop(\"l3\")]\n",
    "\n",
    "df_temp[\"id\"] = X_pred.index"
   ]
  },
  {
   "cell_type": "code",
   "execution_count": null,
   "metadata": {},
   "outputs": [],
   "source": [
    "df_respuestas = pd.DataFrame()\n",
    "\n",
    "df_temp = pd.DataFrame()\n",
    "\n",
    "X_pred = df_pred.loc[df_pred.l3 == \"Balvanera\"][df_pred.columns.drop(\"l3\")]\n",
    "\n",
    "df_temp[\"id\"] = X_pred.index\n",
    "\n",
    "df_respuestas = pd.concat([df_respuestas , df_temp], axis=0)\n"
   ]
  },
  {
   "cell_type": "code",
   "execution_count": null,
   "metadata": {
    "id": "PoAhfAjlr-rp"
   },
   "outputs": [],
   "source": [
    "i = 0\n",
    "\n",
    "barrios_null = []\n",
    "\n",
    "for barrio in barrios:\n",
    "\n",
    "    try:\n",
    "\n",
    "        X = df.loc[df.l3 == barrio][df.columns.drop(['price',\"l3\"])]\n",
    "        y = df.loc[df.l3 == barrio,\"price\"]\n",
    "\n",
    "        X_train, X_test, y_train, y_test = sk.model_selection.train_test_split(X, y, test_size=0.2, random_state=42, shuffle=True)\n",
    "\n",
    "        print(f\"---------------------------------- {barrio} ----------------------------------------\")\n",
    "        for n_estimators in [50, 100, 500]:\n",
    "\n",
    "            for max_depth in [3, 5, 10]:     \n",
    "\n",
    "\n",
    "               reg = sk.ensemble.RandomForestRegressor(n_estimators=n_estimators, max_depth=max_depth, n_jobs=-1, random_state=42)\n",
    "\n",
    "               # Entrenamos el modelo\n",
    "               reg.fit(X_train, y_train)\n",
    "               # Predecimos\n",
    "               y_pred = reg.predict(X_test)\n",
    "               # Medimos la performance de la predicción\n",
    "               score = sk.metrics.mean_squared_error(y_test, y_pred,squared=False)\n",
    "\n",
    "               print(f\"n_{n_estimators} | max_depth:{max_depth} | score: {score} \")\n",
    "\n",
    "        print(\"------------------------------------------------------------------------------------\")\n",
    "        i=+1\n",
    "\n",
    "    except:\n",
    "\n",
    "        barrios_null.append(barrio[i])\n",
    "        \n",
    "        i=+1"
   ]
  },
  {
   "cell_type": "markdown",
   "metadata": {
    "id": "sqVkTPzj3kV0"
   },
   "source": [
    "## Predicción para Kaggle\n"
   ]
  },
  {
   "cell_type": "code",
   "execution_count": 58,
   "metadata": {
    "id": "81dOh5WvAPMa"
   },
   "outputs": [],
   "source": [
    "# genero un df resultados para concatenar las respuesta y despues ordenarlo para la solucion final\n",
    "df_respuestas = pd.DataFrame()\n",
    "\n",
    "for barrio in barrios:\n",
    "\n",
    "    df_temp = pd.DataFrame()\n",
    "\n",
    "    if barrio in barrios_null:\n",
    "        \n",
    "        X = df[df.columns.drop(['price',\"l3\"])]\n",
    "        y = df[\"price\"]\n",
    "        X_pred = df_pred.loc[df_pred.l3 == barrio][df_pred.columns.drop(\"l3\")]\n",
    "\n",
    "        df_temp[\"id\"] = X_pred.index    \n",
    "\n",
    "        n_estimators = 500\n",
    "        max_depth = 55\n",
    "\n",
    "        # Entrenamiento\n",
    "        reg = sk.ensemble.RandomForestRegressor(n_estimators=n_estimators, max_depth=max_depth, random_state=42, n_jobs=-1)\n",
    "\n",
    "        # Entrenamos el modelo\n",
    "        reg.fit(X, y)\n",
    "\n",
    "        # predicción\n",
    "        df_temp[\"price\"] = reg.predict(X_pred)   \n",
    "\n",
    "        df_respuestas = pd.concat([df_respuestas , df_temp], axis=0)        \n",
    "\n",
    "    else:\n",
    "\n",
    "        X = df.loc[df.l3 == barrio][df.columns.drop(['price',\"l3\"])]\n",
    "        y = df.loc[df.l3 == barrio,\"price\"]\n",
    "        X_pred = df_pred.loc[df_pred.l3 == barrio][df_pred.columns.drop(\"l3\")]\n",
    "\n",
    "        df_temp[\"id\"] = X_pred.index\n",
    "\n",
    "        # los mejores hiperparámetros encontrados antes\n",
    "        n_estimators = 500\n",
    "        max_depth = 55\n",
    "\n",
    "        # Entrenamiento\n",
    "        reg = sk.ensemble.RandomForestRegressor(n_estimators=n_estimators, max_depth=max_depth, random_state=42, n_jobs=-1)\n",
    "\n",
    "        # Entrenamos el modelo\n",
    "        reg.fit(X, y)\n",
    "\n",
    "        # predicción\n",
    "        df_temp[\"price\"] = reg.predict(X_pred)\n",
    "\n",
    "        df_respuestas = pd.concat([df_respuestas , df_temp], axis=0) \n",
    "        "
   ]
  },
  {
   "cell_type": "code",
   "execution_count": 59,
   "metadata": {
    "id": "mU9iV6cuBwKB"
   },
   "outputs": [],
   "source": [
    "# Grabo la solución\n",
    "df_pred[[\"price\"]].to_csv(\"solucion.csv\")"
   ]
  },
  {
   "cell_type": "code",
   "execution_count": 54,
   "metadata": {},
   "outputs": [],
   "source": [
    "importances = reg.feature_importances_\n",
    "\n",
    "sorted_indices = np.argsort(importances)[::-1]"
   ]
  },
  {
   "cell_type": "code",
   "execution_count": 55,
   "metadata": {},
   "outputs": [
    {
     "data": {
      "image/png": "[encoded data removed]",
      "text/plain": [
       "<Figure size 1440x720 with 1 Axes>"
      ]
     },
     "metadata": {
      "needs_background": "light"
     },
     "output_type": "display_data"
    }
   ],
   "source": [
    "f,a = plt.subplots(figsize=(20,10))\n",
    "plt.title('Feature Importance')\n",
    "plt.bar(range(X_train.shape[1]), importances[sorted_indices], align='center')\n",
    "plt.xticks(range(X_train.shape[1]), X_train.columns[sorted_indices], rotation=90)\n",
    "plt.tight_layout()\n",
    "plt.show()"
   ]
  }
 ],
 "metadata": {
  "colab": {
   "collapsed_sections": [
    "sqVkTPzj3kV0"
   ],
   "name": "TP individual.ipynb",
   "provenance": []
  },
  "kernelspec": {
   "display_name": "Python 3.10.4 ('properati-lzHRr2__-py3.10')",
   "language": "python",
   "name": "python3"
  },
  "language_info": {
   "codemirror_mode": {
    "name": "ipython",
    "version": 3
   },
   "file_extension": ".py",
   "mimetype": "text/x-python",
   "name": "python",
   "nbconvert_exporter": "python",
   "pygments_lexer": "ipython3",
   "version": "3.10.4"
  },
  "vscode": {
   "interpreter": {
    "hash": "4e22757b696a195dce1cdb975f20abb896211a0c41025a1e3da18b0be7b7b16b"
   }
  }
 },
 "nbformat": 4,
 "nbformat_minor": 1
}
